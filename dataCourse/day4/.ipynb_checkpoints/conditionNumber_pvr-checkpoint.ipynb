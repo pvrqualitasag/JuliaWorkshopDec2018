{
 "cells": [
  {
   "cell_type": "markdown",
   "metadata": {},
   "source": [
    "Latex Macros:\n",
    "$$\n",
    "\\newcommand{\\E}{\\text{E}}\n",
    "\\newcommand{\\mbf}{\\mathbf}\n",
    "\\newcommand{\\bs}{\\boldsymbol}\n",
    "\\newcommand{\\Cov}{\\text{Cov}}\n",
    "\\newcommand{\\Var}{\\text{Var}}\n",
    "\\newcommand{\\Cov}{\\text{Cov}}\n",
    "\\newcommand{\\A}[1]{\\mathbf{A}_{#1}}\n",
    "\\newcommand{\\Ai}[1]{\\mathbf{A}^{#1}}\n",
    "$$"
   ]
  },
  {
   "cell_type": "code",
   "execution_count": 1,
   "metadata": {},
   "outputs": [
    {
     "data": {
      "application/javascript": [
       "    MathJax.Hub.Config({\n",
       "      TeX: { equationNumbers: { autoNumber: \"AMS\" } }\n",
       "    });\n",
       "    MathJax.Hub.Queue( \n",
       "        [\"resetEquationNumbers\",MathJax.InputJax.TeX], \n",
       "        [\"PreProcess\",MathJax.Hub], \n",
       "        [\"Reprocess\",MathJax.Hub] \n",
       "    );\n"
      ]
     },
     "metadata": {},
     "output_type": "display_data"
    }
   ],
   "source": [
    "macro javascript_str(s) display(\"text/javascript\", s); end\n",
    "javascript\"\"\"\n",
    "    MathJax.Hub.Config({\n",
    "      TeX: { equationNumbers: { autoNumber: \"AMS\" } }\n",
    "    });\n",
    "    MathJax.Hub.Queue( \n",
    "        [\"resetEquationNumbers\",MathJax.InputJax.TeX], \n",
    "        [\"PreProcess\",MathJax.Hub], \n",
    "        [\"Reprocess\",MathJax.Hub] \n",
    "    );\n",
    "\"\"\""
   ]
  },
  {
   "cell_type": "markdown",
   "metadata": {},
   "source": [
    "# Condition numbers of the MME corresponding to the marker-effects and breeding-value models"
   ]
  },
  {
   "cell_type": "markdown",
   "metadata": {},
   "source": [
    "Consider the following marker effects model (MEM):\n",
    "\n",
    "\\begin{equation}\n",
    "\\mathbf{y} = \\mathbf{1}\\mu + \\mathbf{X}\\bs{\\alpha} + \\mathbf{e},\n",
    "\\end{equation}\n",
    "where $\\mathbf{X}$ is a matrix of marker covariates, $\\bs{\\alpha}$ a vector marker effects that are assumed to be random with null means and covariance matrix $\\mathbf{I}\\sigma^2_{\\alpha}$, and $\\mathbf{e}$ is a vector of residuals with null means and covariance matrix $\\mathbf{I}\\sigma^2_e$. The When genotype data are complete, the  coefficient matrix of the MME corresponding to this model is:\n"
   ]
  },
  {
   "cell_type": "markdown",
   "metadata": {},
   "source": [
    "\\begin{equation}\n",
    "\\label{MMEMM}\n",
    "\\begin{bmatrix}\n",
    "\\mathbf{1}'\\mathbf{1} & \\mathbf{1}'\\mathbf{X} \\\\\n",
    "\\mathbf{X}'\\mathbf{1} & \\mathbf{X}'\\mathbf{X} + \\mathbf{I}\\lambda\n",
    "\\end{bmatrix},\n",
    "\\end{equation}\n",
    "where $\\lambda = \\frac{\\sigma^2_e}{\\sigma^2_{\\alpha}}$. The equivalent breeding-value model (BVM) is:"
   ]
  },
  {
   "cell_type": "markdown",
   "metadata": {},
   "source": [
    "\\begin{equation}\n",
    "\\mathbf{y} = \\mathbf{1}\\mu + \\mathbf{g} + \\mathbf{e},\n",
    "\\end{equation}\n",
    "\n",
    "where $\\mathbf{g} = \\mathbf{X}\\bs{\\alpha}$, which has null expectation and covariance matrix $\\mathbf{X}\\mathbf{X}'\\sigma^2_{\\alpha}$. The coefficient matrix of the MME corresponding this model is:"
   ]
  },
  {
   "cell_type": "markdown",
   "metadata": {},
   "source": [
    "\\begin{equation}\n",
    "\\label{MMEBVMSingular}\n",
    "\\begin{bmatrix}\n",
    "\\mathbf{1}'\\mathbf{1} & \\mathbf{1}'\\\\\n",
    "\\mathbf{1} &  \\mathbf{I} + (\\mathbf{X}\\mathbf{X}')^{-1} \\lambda\n",
    "\\end{bmatrix}\n",
    "\\end{equation}"
   ]
  },
  {
   "cell_type": "markdown",
   "metadata": {},
   "source": [
    "When the marker covariates are centered, the $n\\times n$ matrix \n",
    "$\\mathbf{X}\\mathbf{X}'$ is singular even when $n<p$. Thus, MME are modified as:\n",
    "\n",
    "\\begin{equation}\n",
    "\\label{MMEBVM}\n",
    "\\begin{bmatrix}\n",
    "\\mathbf{1}'\\mathbf{1} & \\mathbf{1}'\\\\\n",
    "\\mathbf{1} &  \\mathbf{I} + (\\mathbf{X}\\mathbf{X}' \\frac{1}{\\lambda} + \\mathbf{I} \\times \\delta)^{-1} \n",
    "\\end{bmatrix}.\n",
    "\\end{equation}"
   ]
  },
  {
   "cell_type": "markdown",
   "metadata": {},
   "source": [
    "A small numerical example is used below to find an appropriate value for $\\delta$"
   ]
  },
  {
   "cell_type": "code",
   "execution_count": 25,
   "metadata": {},
   "outputs": [
    {
     "data": {
      "text/plain": [
       "Identity (generic function with 1 method)"
      ]
     },
     "execution_count": 25,
     "metadata": {},
     "output_type": "execute_result"
    }
   ],
   "source": [
    "using Distributions, LinearAlgebra\n",
    "Identity(n) = Matrix(I,n,n)"
   ]
  },
  {
   "cell_type": "markdown",
   "metadata": {},
   "source": [
    "### Simulate $\\mathbf{X}$ and $\\mathbf{y}$ "
   ]
  },
  {
   "cell_type": "code",
   "execution_count": 444,
   "metadata": {},
   "outputs": [],
   "source": [
    "n,p = 5, 10\n",
    "varAlpha = 1\n",
    "pq       = 0.25\n",
    "varGen   = 2pq*varAlpha*p\n",
    "varRes   = varGen\n",
    "λ        = varRes/varAlpha\n",
    "X = rand(Binomial(2,0.5), n,p)\n",
    "α = randn(p)\n",
    "y = X*α + randn(n)*sqrt(varRes);"
   ]
  },
  {
   "cell_type": "markdown",
   "metadata": {},
   "source": [
    "### Centering $\\mathbf{X}$"
   ]
  },
  {
   "cell_type": "code",
   "execution_count": 445,
   "metadata": {},
   "outputs": [],
   "source": [
    "meanX = mean(X,dims=1)\n",
    "X = X .- meanX;"
   ]
  },
  {
   "cell_type": "markdown",
   "metadata": {},
   "source": [
    "### MME for the marker-effects model "
   ]
  },
  {
   "cell_type": "markdown",
   "metadata": {},
   "source": [
    "\\begin{equation*}\n",
    "\\begin{bmatrix}\n",
    "\\mathbf{1}'\\mathbf{1} & \\mathbf{1}'\\mathbf{X} \\\\\n",
    "\\mathbf{X}'\\mathbf{1} & \\mathbf{X}'\\mathbf{X} + \\mathbf{I}\\lambda\n",
    "\\end{bmatrix}\n",
    "\\end{equation*}"
   ]
  },
  {
   "cell_type": "code",
   "execution_count": 446,
   "metadata": {},
   "outputs": [],
   "source": [
    "J = ones(n)\n",
    "lhsMEM = [J'J   J'X\n",
    "          X'J   X'X + Identity(p)*λ]\n",
    "rhsMEM = [J'y; X'y]\n",
    "solMEM = inv(lhsMEM)*rhsMEM\n",
    "ebvMEM = [J X]*solMEM;"
   ]
  },
  {
   "cell_type": "markdown",
   "metadata": {},
   "source": [
    "### MME for the breeding-value model"
   ]
  },
  {
   "cell_type": "markdown",
   "metadata": {},
   "source": [
    "\\begin{equation*}\n",
    "\\begin{bmatrix}\n",
    "\\mathbf{1}'\\mathbf{1} & \\mathbf{1}'\\\\\n",
    "\\mathbf{1} &  \\mathbf{I} + (\\mathbf{X}\\mathbf{X}' \\frac{1}{\\lambda} + \\mathbf{I} \\times \\delta)^{-1} \n",
    "\\end{bmatrix}\n",
    "\\end{equation*}"
   ]
  },
  {
   "cell_type": "code",
   "execution_count": 447,
   "metadata": {},
   "outputs": [],
   "source": [
    "lhsBVM = [J'J  J'\n",
    "          J    Identity(n) + inv(X*X'/λ+ Identity(n)*0.05)]   \n",
    "rhsBVM = [J'y;   y]\n",
    "solBVM = inv(lhsBVM)*rhsBVM\n",
    "ebvBVM = [J Identity(n)]*solBVM;"
   ]
  },
  {
   "cell_type": "markdown",
   "metadata": {},
   "source": [
    "### Predictions from the two models with $\\delta=0.05$ "
   ]
  },
  {
   "cell_type": "code",
   "execution_count": 448,
   "metadata": {},
   "outputs": [
    {
     "data": {
      "text/plain": [
       "5×2 Array{Float64,2}:\n",
       " -2.28  -2.27\n",
       " -1.6   -1.69\n",
       " -0.36  -0.3 \n",
       " -0.59  -0.59\n",
       "  0.22   0.24"
      ]
     },
     "execution_count": 448,
     "metadata": {},
     "output_type": "execute_result"
    }
   ],
   "source": [
    "round.([ebvMEM ebvBVM],digits=2)"
   ]
  },
  {
   "cell_type": "markdown",
   "metadata": {},
   "source": [
    "### Predictions from the two models with $\\delta=0.005$ "
   ]
  },
  {
   "cell_type": "code",
   "execution_count": 449,
   "metadata": {},
   "outputs": [],
   "source": [
    "lhsBVM = [J'J  J'\n",
    "          J    Identity(n) + inv(X*X'/λ+ Identity(n)*0.005)]   \n",
    "rhsBVM = [J'y;   y]\n",
    "solBVM = inv(lhsBVM)*rhsBVM\n",
    "ebvBVM = [J Identity(n)]*solBVM;"
   ]
  },
  {
   "cell_type": "code",
   "execution_count": 450,
   "metadata": {},
   "outputs": [
    {
     "data": {
      "text/plain": [
       "5×2 Array{Float64,2}:\n",
       " -2.28  -2.28\n",
       " -1.6   -1.61\n",
       " -0.36  -0.35\n",
       " -0.59  -0.59\n",
       "  0.22   0.22"
      ]
     },
     "execution_count": 450,
     "metadata": {},
     "output_type": "execute_result"
    }
   ],
   "source": [
    "round.([ebvMEM ebvBVM],digits=2)"
   ]
  },
  {
   "cell_type": "markdown",
   "metadata": {},
   "source": [
    "### Predictions from the two models with $\\delta=0.0005$ "
   ]
  },
  {
   "cell_type": "code",
   "execution_count": 460,
   "metadata": {},
   "outputs": [],
   "source": [
    "lhsBVM = [J'J  J'\n",
    "          J    Identity(n) + inv(X*X'/λ+ Identity(n)*0.0005)]   \n",
    "rhsBVM = [J'y;   y]\n",
    "solBVM = inv(lhsBVM)*rhsBVM\n",
    "ebvBVM = [J Identity(n)]*solBVM;"
   ]
  },
  {
   "cell_type": "code",
   "execution_count": 461,
   "metadata": {},
   "outputs": [
    {
     "data": {
      "text/plain": [
       "5×2 Array{Float64,2}:\n",
       " -2.28  -2.28\n",
       " -1.6   -1.6 \n",
       " -0.36  -0.36\n",
       " -0.59  -0.59\n",
       "  0.22   0.22"
      ]
     },
     "execution_count": 461,
     "metadata": {},
     "output_type": "execute_result"
    }
   ],
   "source": [
    "round.([ebvMEM ebvBVM],digits=2)"
   ]
  },
  {
   "cell_type": "markdown",
   "metadata": {},
   "source": [
    "When $\\delta=0.0005$, predictions from (\\ref{MMEBVM}) agree with the exact predictions up to two decimal places.  "
   ]
  },
  {
   "cell_type": "markdown",
   "metadata": {},
   "source": [
    "### Condition numbers for MEM and BVM (X is centered)"
   ]
  },
  {
   "cell_type": "markdown",
   "metadata": {},
   "source": [
    "Condition numbers are calculated below for MEM and BVM assuming $\\sigma^2_e = 25$ and $\\sigma^2_{\\alpha}=1.0$. "
   ]
  },
  {
   "cell_type": "code",
   "execution_count": 21,
   "metadata": {},
   "outputs": [
    {
     "data": {
      "text/plain": [
       "condNMEMBVM (generic function with 1 method)"
      ]
     },
     "execution_count": 21,
     "metadata": {},
     "output_type": "execute_result"
    }
   ],
   "source": [
    "function condNMEMBVM(n,p,λ)\n",
    "    X = rand(Binomial(2,0.5), n,p)\n",
    "    meanX = mean(X,dims=1)\n",
    "    X = X .- meanX\n",
    "    J = ones(n)\n",
    "    mmeMM = [J'J       J'X\n",
    "             X'J   X'X + Identity(p)*λ]\n",
    "    mmeAM = [J'J   J'\n",
    "             J     Identity(n) + inv(X*X'/λ + Identity(n)*0.0005)]      \n",
    "    return n, cond(mmeMM), cond(mmeAM)\n",
    "end    "
   ]
  },
  {
   "cell_type": "code",
   "execution_count": 23,
   "metadata": {},
   "outputs": [
    {
     "data": {
      "text/plain": [
       "25.0"
      ]
     },
     "execution_count": 23,
     "metadata": {},
     "output_type": "execute_result"
    }
   ],
   "source": [
    "p = 50\n",
    "varAlpha = 1\n",
    "pq       = 0.25\n",
    "varGen   = 2pq*varAlpha*p\n",
    "varRes   = varGen\n",
    "λ        = varRes/varAlpha"
   ]
  },
  {
   "cell_type": "code",
   "execution_count": 26,
   "metadata": {},
   "outputs": [],
   "source": [
    "res = [condNMEMBVM(n,50,λ) for n in [5,10,20,40,50,100,500,1000,2000]]\n",
    "resMatC = [i[j] for i in res, j=1:3];"
   ]
  },
  {
   "cell_type": "code",
   "execution_count": 454,
   "metadata": {},
   "outputs": [
    {
     "name": "stdout",
     "output_type": "stream",
     "text": [
      " ----------------------\n",
      "    n     MEM    BVM\n",
      " ----------------------\n",
      "    5    11.29  1115.31\n",
      "   10     6.83  1269.23\n",
      "   20     3.96  1369.73\n",
      "   40     4.88  1591.26\n",
      "   50     4.60  1566.13\n",
      "  100     5.21  1686.20\n",
      "  500     3.56  1888.08\n",
      " 1000     2.93  1934.13\n",
      " 2000     2.68  2007.30\n"
     ]
    }
   ],
   "source": [
    "println(\" ----------------------\")\n",
    "println(\"    n     MEM    BVM\")\n",
    "println(\" ----------------------\")\n",
    "for i in res\n",
    "    @printf(\"%5d %8.2f %8.2f\\n\", i[1], i[2], i[3])\n",
    "end"
   ]
  },
  {
   "cell_type": "markdown",
   "metadata": {},
   "source": [
    "The condition number for the MEM tends to improve with $n$, but the opposite was true for the BVM. \n",
    "This behavior in the condition of the MME for the MEM is expected because the $p\\times p$ matrix \n",
    "$\\mathbf{X}'\\mathbf{X}$ is singular when $n<p$ and, in this case, the MME for the MEM is non-singular\n",
    "only because $\\bs{\\alpha}$ is considered random and $\\mathbf{I}\\lambda$ is added to \n",
    "$\\mathbf{X}'\\mathbf{X}$. As $n$ gets large so does the rank of $\\mathbf{X}'\\mathbf{X}$ until it \n",
    "becomes full rank, and\n",
    "as a result the condition of the MME improves. On the other hand, the $n\\times n$ matrix \n",
    "$\\mathbf{X}\\mathbf{X}'$ has rank $n-1$ when $n<p$, and it would have full rank if the covariates were \n",
    "not centered. However, as $n$ gets larger than $p$, the MME for the BVM grows in size, but the\n",
    "rank cannot be greater than $p$. Thus, the MME has to be modified as in (\\ref{MMEBVM}). The condition\n",
    "of this MME is inversely related to $\\delta$. However, if $\\delta$ is chosen to be too large, the \n",
    "predictions are not a good  approximation of the exact BLUPs. As $n$ grows, more diagonals of\n",
    "$\\mathbf{X}\\mathbf{X}'$ have to be approximated and the condition of the MME deteriorates. "
   ]
  },
  {
   "cell_type": "markdown",
   "metadata": {},
   "source": [
    "### Condition numbers for MEM and BVM (X is not centered)"
   ]
  },
  {
   "cell_type": "code",
   "execution_count": 455,
   "metadata": {},
   "outputs": [
    {
     "data": {
      "text/plain": [
       "condNMEMBVMNC (generic function with 1 method)"
      ]
     },
     "execution_count": 455,
     "metadata": {},
     "output_type": "execute_result"
    }
   ],
   "source": [
    "function condNMEMBVMNC(n,p)\n",
    "    X = rand(Binomial(2,0.5), n,p)\n",
    "    J = ones(n)\n",
    "    mmeMM = [J'J       J'X\n",
    "             X'J   X'X + Identity(p)*λ]\n",
    "    mmeAM = [J'J   J'\n",
    "             J     Identity(n) + inv(X*X'/λ + Identity(n)*0.0005)]     \n",
    "    return n, cond(mmeMM), cond(mmeAM)\n",
    "end    "
   ]
  },
  {
   "cell_type": "code",
   "execution_count": 456,
   "metadata": {},
   "outputs": [
    {
     "name": "stdout",
     "output_type": "stream",
     "text": [
      " -----------------------\n",
      "    n     MEM    BVM\n",
      " -----------------------\n",
      "    5  2572.81    344.65\n",
      "   10  4411.17    946.65\n",
      "   20  7191.82   3059.78\n",
      "   40 10091.16   7810.73\n",
      "   50  9924.63 173882.51\n",
      "  100  7533.99 284687.59\n",
      "  500  6164.13 230832.54\n",
      " 1000  5000.21 192642.28\n",
      " 2000  5439.89 206850.65\n"
     ]
    }
   ],
   "source": [
    "res = [condNMEMBVMNC(n,50) for n in [5,10,20,40,50,100,500,1000,2000]]\n",
    "resMatNC = [i[j] for i in res, j=1:3];\n",
    "println(\" -----------------------\")\n",
    "println(\"    n     MEM    BVM\")\n",
    "println(\" -----------------------\")\n",
    "for i in res\n",
    "    @printf(\"%5d %8.2f %9.2f\\n\", i[1], i[2], i[3])\n",
    "end"
   ]
  },
  {
   "cell_type": "markdown",
   "metadata": {},
   "source": [
    "Clearly, centering the marker covariates is important for both models. In SSMM, the covariates should be centered both before and after imputing the missing covariates. Failing to center all the covariates after the missing genotypes have been imputed may result in poorly conditioned MME. \n"
   ]
  },
  {
   "cell_type": "markdown",
   "metadata": {},
   "source": [
    "### Creating LaTex tables"
   ]
  },
  {
   "cell_type": "code",
   "execution_count": 16,
   "metadata": {},
   "outputs": [
    {
     "data": {
      "text/plain": [
       "latexTable (generic function with 3 methods)"
      ]
     },
     "execution_count": 16,
     "metadata": {},
     "output_type": "execute_result"
    }
   ],
   "source": [
    "function latexTable(A;\n",
    "    fileName::AbstractString = \"\",\n",
    "    colLabels = \"\",\n",
    "    rowLabels = \"\"\n",
    "    )\n",
    "    if fileName == \"\"\n",
    "        outFile = stdout\n",
    "    else\n",
    "        outFile = open(fileName, \"w\")\n",
    "    end\n",
    "    rows, cols = size(A)\n",
    "    println(outFile,\"\\\\begin{center}\")\n",
    "    print(outFile,\"\\\\begin{tabular}{\",)\n",
    "    if rowLabels!=\"\"\n",
    "        print(outFile,\"l\") \n",
    "    end      \n",
    "    for j=1:cols\n",
    "        print(outFile,\"r\")\n",
    "    end\n",
    "    println(outFile,\"}\\\\hline\")\n",
    "    if colLabels!=\"\"\n",
    "        nCol = length(colLabels)\n",
    "        for j = 1:(nCol-1)\n",
    "            print(outFile,colLabels[j],\" & \")\n",
    "        end\n",
    "        print(outFile,colLabels[nCol],\" \\\\\\\\ \\\\hline  \\n\")\n",
    "    end\n",
    "    for i =1:rows\n",
    "        if rowLabels!=\"\"\n",
    "            print(outFile,rowLabels[i],\" & \")\n",
    "        end\n",
    "        for j = 1:(cols-1)\n",
    "            print(outFile,A[i,j])\n",
    "            print(outFile,\" & \")\n",
    "        end\n",
    "        print(outFile,A[i,cols],\" \\\\\\\\ \\n\")\n",
    "    end\n",
    "    println(outFile,\"\\\\hline\")\n",
    "    println(outFile,\"\\\\end{tabular}\")\n",
    "    println(outFile,\"\\\\end{center}\")\n",
    "    if fileName != \"\"\n",
    "        close(outFile)\n",
    "    end\n",
    "end"
   ]
  },
  {
   "cell_type": "code",
   "execution_count": 457,
   "metadata": {},
   "outputs": [
    {
     "name": "stdout",
     "output_type": "stream",
     "text": [
      "\\begin{center}\n",
      "\\begin{tabular}{rrr}\\hline\n",
      "$n$ & MEM & BVM \\\\ \\hline  \n",
      "5 & 13.81 & 1276.43 \\\\ \n",
      "10 & 6.53 & 1235.04 \\\\ \n",
      "20 & 4.22 & 1408.31 \\\\ \n",
      "40 & 3.91 & 1489.56 \\\\ \n",
      "50 & 4.56 & 1561.98 \\\\ \n",
      "100 & 5.48 & 1691.89 \\\\ \n",
      "500 & 3.23 & 1892.73 \\\\ \n",
      "1000 & 2.95 & 1934.65 \\\\ \n",
      "2000 & 2.65 & 2007.26 \\\\ \n",
      "\\hline\n",
      "\\end{tabular}\n",
      "\\end{center}\n"
     ]
    }
   ],
   "source": [
    "latexTable([resMatC[:,1] round.(resMat[:,2:3],digits=2)],colLabels=[\"\\$n\\$\", \"MEM\", \"BVM\"])"
   ]
  },
  {
   "cell_type": "code",
   "execution_count": 458,
   "metadata": {},
   "outputs": [
    {
     "name": "stdout",
     "output_type": "stream",
     "text": [
      "\\begin{center}\n",
      "\\begin{tabular}{rrr}\\hline\n",
      "$n$ & MEM & BVM \\\\ \\hline  \n",
      "5 & 2572.81 & 344.65 \\\\ \n",
      "10 & 4411.17 & 946.65 \\\\ \n",
      "20 & 7191.82 & 3059.78 \\\\ \n",
      "40 & 10091.16 & 7810.73 \\\\ \n",
      "50 & 9924.63 & 173882.51 \\\\ \n",
      "100 & 7533.99 & 284687.59 \\\\ \n",
      "500 & 6164.13 & 230832.54 \\\\ \n",
      "1000 & 5000.21 & 192642.28 \\\\ \n",
      "2000 & 5439.89 & 206850.65 \\\\ \n",
      "\\hline\n",
      "\\end{tabular}\n",
      "\\end{center}\n"
     ]
    }
   ],
   "source": [
    "latexTable([resMatNC[:,1] round.(resMatNC[:,2:3],digits=2)],colLabels=[\"\\$n\\$\", \"MEM\", \"BVM\"])"
   ]
  },
  {
   "cell_type": "code",
   "execution_count": 46,
   "metadata": {},
   "outputs": [
    {
     "name": "stdout",
     "output_type": "stream",
     "text": [
      "\\begin{center}\n",
      "\\begin{tabular}{rrrrr}\\hline\n",
      "1.07 & -0.96 & 0.28 & 1.49 & -1.02 \\\\ \n",
      "-0.12 & -1.21 & -0.17 & 0.15 & 0.56 \\\\ \n",
      "-0.04 & -0.32 & 1.88 & -0.95 & 1.48 \\\\ \n",
      "\\hline\n",
      "\\end{tabular}\n",
      "\\end{center}\n"
     ]
    }
   ],
   "source": [
    "B = round.(randn(3,5),digits=2)\n",
    "latexTable(B)"
   ]
  }
 ],
 "metadata": {
  "kernelspec": {
   "display_name": "Julia 1.0.0",
   "language": "julia",
   "name": "julia-1.0"
  },
  "language_info": {
   "file_extension": ".jl",
   "mimetype": "application/julia",
   "name": "julia",
   "version": "1.0.0"
  }
 },
 "nbformat": 4,
 "nbformat_minor": 2
}
