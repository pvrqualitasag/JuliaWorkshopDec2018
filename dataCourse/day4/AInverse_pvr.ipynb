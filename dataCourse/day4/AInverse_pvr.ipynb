{
 "cells": [
  {
   "cell_type": "markdown",
   "metadata": {
    "slideshow": {
     "slide_type": "-"
    }
   },
   "source": [
    "$$\n",
    "\\newcommand{\\E}{\\text{E}}\n",
    "\\newcommand{\\mbf}{\\mathbf}\n",
    "\\newcommand{\\bs}{\\boldsymbol}\n",
    "\\newcommand{\\Var}{\\text{Var}}\n",
    "\\newcommand{\\Cov}{\\text{Cov}}\n",
    "\\newcommand{\\e}{\\frac{1}{\\sigma^2_e}}\n",
    "\\newcommand{\\f}{\\frac{1}{\\sigma^2_{\\alpha}}}\n",
    "$$"
   ]
  },
  {
   "cell_type": "markdown",
   "metadata": {
    "slideshow": {
     "slide_type": "slide"
    }
   },
   "source": [
    "# Algorithm to invert a positive definite matrix\n",
    "\n",
    "# Rohan L Fernando\n",
    "\n",
    "# December 6, 2018\n"
   ]
  },
  {
   "cell_type": "markdown",
   "metadata": {
    "slideshow": {
     "slide_type": "slide"
    }
   },
   "source": [
    "- Suppose $\\mbf{A}$ is a positive definite variance-covariance matrix"
   ]
  },
  {
   "cell_type": "markdown",
   "metadata": {
    "slideshow": {
     "slide_type": "fragment"
    }
   },
   "source": [
    "- Can write:\n",
    "\\begin{align*}\n",
    "    \\begin{bmatrix}\n",
    "    \\mbf{A}_{11} & \\mbf{A}_{12} \\\\\n",
    "    \\mbf{A}_{21} & \\mbf{A}_{22}\n",
    "    \\end{bmatrix}\n",
    "    &= \\begin{bmatrix}\n",
    "    \\mbf{A}_{11}         & \\mbf{A}_{11}\\mbf{L} \\\\\n",
    "    \\mbf{L}'\\mbf{A}_{11} & \\mbf{L}'\\mbf{A}_{11}\\mbf{L} + \\mbf{R} \n",
    "      \\end{bmatrix}\\\\\n",
    "\\end{align*}"
   ]
  },
  {
   "cell_type": "markdown",
   "metadata": {
    "slideshow": {
     "slide_type": "fragment"
    }
   },
   "source": [
    "-  $\\mbf{L} = \\mbf{A}_{11}^{-1}\\mbf{A}_{12}$\n",
    "\n",
    "-  $\\mbf{R} = \\mbf{A}_{22} - \\mbf{L}'\\mbf{A}_{11}\\mbf{L}$"
   ]
  },
  {
   "cell_type": "markdown",
   "metadata": {},
   "source": [
    "### Numerical demonstration of above identity"
   ]
  },
  {
   "cell_type": "markdown",
   "metadata": {},
   "source": [
    "#### First construct PD $\\mbf{A}$ matrix:"
   ]
  },
  {
   "cell_type": "code",
   "execution_count": 1,
   "metadata": {},
   "outputs": [
    {
     "data": {
      "text/plain": [
       "10×5 Array{Int64,2}:\n",
       " 1  0  0  0  1\n",
       " 1  1  0  0  0\n",
       " 0  1  1  1  0\n",
       " 1  0  1  0  0\n",
       " 0  1  0  0  1\n",
       " 0  1  1  1  1\n",
       " 1  0  0  0  0\n",
       " 1  1  0  0  1\n",
       " 0  1  0  0  1\n",
       " 1  1  0  1  0"
      ]
     },
     "execution_count": 1,
     "metadata": {},
     "output_type": "execute_result"
    }
   ],
   "source": [
    "using Distributions, LinearAlgebra\n",
    "X = rand(Binomial(),10,5)"
   ]
  },
  {
   "cell_type": "code",
   "execution_count": 2,
   "metadata": {},
   "outputs": [
    {
     "data": {
      "text/plain": [
       "5×5 Array{Int64,2}:\n",
       " 6  3  1  1  2\n",
       " 3  7  2  3  4\n",
       " 1  2  3  2  1\n",
       " 1  3  2  3  1\n",
       " 2  4  1  1  5"
      ]
     },
     "execution_count": 2,
     "metadata": {},
     "output_type": "execute_result"
    }
   ],
   "source": [
    "A = X'X"
   ]
  },
  {
   "cell_type": "code",
   "execution_count": 3,
   "metadata": {},
   "outputs": [
    {
     "data": {
      "text/plain": [
       "3×3 Array{Int64,2}:\n",
       " 3  2  1\n",
       " 2  3  1\n",
       " 1  1  5"
      ]
     },
     "execution_count": 3,
     "metadata": {},
     "output_type": "execute_result"
    }
   ],
   "source": [
    "s1 = 1:2\n",
    "s2 = 3:5\n",
    "A11 = A[s1,s1]\n",
    "A12 = A[s1,s2]\n",
    "A21 = A[s2,s1]\n",
    "A22 = A[s2,s2]"
   ]
  },
  {
   "cell_type": "markdown",
   "metadata": {},
   "source": [
    "Show that $\\mbf{A}_{12}$ can be written as $\\mbf{A}_{11}\\mbf{L}$"
   ]
  },
  {
   "cell_type": "code",
   "execution_count": 4,
   "metadata": {},
   "outputs": [
    {
     "data": {
      "text/plain": [
       "2×3 Array{Float64,2}:\n",
       " -0.0  -0.0  -0.0\n",
       " -0.0  -0.0  -0.0"
      ]
     },
     "execution_count": 4,
     "metadata": {},
     "output_type": "execute_result"
    }
   ],
   "source": [
    "A11i = inv(A11)\n",
    "L = A11i*A12\n",
    "round.(A11*L - A12,digits=3)"
   ]
  },
  {
   "cell_type": "markdown",
   "metadata": {},
   "source": [
    "In fact, any $2\\times 1$ vector $\\mbf{b}$ can be written as:"
   ]
  },
  {
   "cell_type": "markdown",
   "metadata": {},
   "source": [
    "$\\mbf{A}\\mbf{x} = \\mbf{b}$"
   ]
  },
  {
   "cell_type": "markdown",
   "metadata": {},
   "source": [
    "#### Numerical demonstration and adding the difference"
   ]
  },
  {
   "cell_type": "code",
   "execution_count": 7,
   "metadata": {},
   "outputs": [
    {
     "data": {
      "text/plain": [
       "2×3 Array{Float64,2}:\n",
       " -0.915042  -0.915042  0.0\n",
       "  1.57086    1.57086   0.0"
      ]
     },
     "execution_count": 7,
     "metadata": {},
     "output_type": "execute_result"
    }
   ],
   "source": [
    "b = randn(2)\n",
    "x = A11i*b\n",
    "[A11*x b round.(b-A11*x, digits=4)]"
   ]
  },
  {
   "cell_type": "markdown",
   "metadata": {},
   "source": [
    "So, can write \n",
    "\\begin{align*}\n",
    "\\begin{bmatrix}\n",
    "    \\mbf{A}_{11} & \\mbf{A}_{12} \n",
    "\\end{bmatrix}\n",
    "&= \\mbf{A}_{11}\\begin{bmatrix}\n",
    "                   \\mbf{I} & \\mbf{L} \n",
    "                \\end{bmatrix}\\\\\n",
    "&= \\begin{bmatrix}\n",
    "   \\mbf{A}_{11} & \\mbf{A}_{11}\\mbf{L} \n",
    "                \\end{bmatrix},\n",
    "\\end{align*}\n",
    "which is the first row-block of $\\mbf{A}$."
   ]
  },
  {
   "cell_type": "markdown",
   "metadata": {},
   "source": [
    "But, because $\\mbf{A}_{21} = \\mbf{A}'_{12}$, $\\mbf{A}_{21}$ can be written as $\\mbf{A}_{21} = \\mbf{L}'\\mbf{A}_{11}$. "
   ]
  },
  {
   "cell_type": "markdown",
   "metadata": {},
   "source": [
    "#### Verifying numerically:"
   ]
  },
  {
   "cell_type": "code",
   "execution_count": 8,
   "metadata": {},
   "outputs": [
    {
     "data": {
      "text/plain": [
       "3×2 Array{Float64,2}:\n",
       " -0.0  -0.0\n",
       " -0.0  -0.0\n",
       " -0.0  -0.0"
      ]
     },
     "execution_count": 8,
     "metadata": {},
     "output_type": "execute_result"
    }
   ],
   "source": [
    "round.(L'A11 - A21)"
   ]
  },
  {
   "cell_type": "markdown",
   "metadata": {},
   "source": [
    "So, the matrix:"
   ]
  },
  {
   "cell_type": "markdown",
   "metadata": {},
   "source": [
    "$$ \n",
    "\\mbf{B} = \n",
    "\\begin{bmatrix}\n",
    "   \\mbf{I} \\\\\n",
    "   \\mbf{L}'\n",
    "\\end{bmatrix}\n",
    "\\mbf{A}_{11}\\begin{bmatrix}\n",
    "                   \\mbf{I} & \\mbf{L} \n",
    "                \\end{bmatrix}\n",
    "=\n",
    "\\begin{bmatrix}\n",
    "    \\mbf{A}_{11}         & \\mbf{A}_{11}\\mbf{L} \\\\\n",
    "    \\mbf{L}'\\mbf{A}_{11} & \\mbf{L}'\\mbf{A}_{11}\\mbf{L}\n",
    "      \\end{bmatrix}\n",
    "$$"
   ]
  },
  {
   "cell_type": "markdown",
   "metadata": {},
   "source": [
    "differs from $\\mbf{A}$ only in that $\\mbf{A}_{22}$ may not be equal to $\\mbf{L}'\\mbf{A}_{11}\\mbf{L}$. Can show that $\\mbf{B}$ is not positive definite, but $\\mbf{A}$ is positive definite. "
   ]
  },
  {
   "cell_type": "code",
   "execution_count": 9,
   "metadata": {},
   "outputs": [
    {
     "data": {
      "text/plain": [
       "5×5 Array{Float64,2}:\n",
       " 6.0  3.0  1.0       1.0       2.0    \n",
       " 3.0  7.0  2.0       3.0       4.0    \n",
       " 1.0  2.0  0.575758  0.848485  1.15152\n",
       " 1.0  3.0  0.848485  1.30303   1.69697\n",
       " 2.0  4.0  1.15152   1.69697   2.30303"
      ]
     },
     "execution_count": 9,
     "metadata": {},
     "output_type": "execute_result"
    }
   ],
   "source": [
    "Identity(n) = Matrix(I,n,n)\n",
    "x = rand(5)\n",
    "B =  [Identity(2)\n",
    "      L'          ] *A11 *[Identity(2) L]"
   ]
  },
  {
   "cell_type": "markdown",
   "metadata": {},
   "source": [
    "### Note\n",
    "In matrix B, the second column block is a linear combination of the first column block. Multiplication of the first column block times L is the second column block. Hence already from that, we can see that B cannot be positive definite which is shown in addition with finding a quadratic form $y^TBy$ that is $0$, even for $y \\ne 0$. "
   ]
  },
  {
   "cell_type": "code",
   "execution_count": 12,
   "metadata": {},
   "outputs": [
    {
     "data": {
      "text/plain": [
       "5-element Array{Float64,1}:\n",
       "  0.030303030303030276\n",
       "  0.2727272727272727  \n",
       " -1.0                 \n",
       "  0.0                 \n",
       "  0.0                 "
      ]
     },
     "execution_count": 12,
     "metadata": {},
     "output_type": "execute_result"
    }
   ],
   "source": [
    "y = [L[:,1]\n",
    "     -1\n",
    "      0\n",
    "      0\n",
    "    ]"
   ]
  },
  {
   "cell_type": "code",
   "execution_count": 13,
   "metadata": {},
   "outputs": [
    {
     "data": {
      "text/plain": [
       "5-element Array{Float64,1}:\n",
       " 0.0\n",
       " 0.0\n",
       " 0.0\n",
       " 0.0\n",
       " 0.0"
      ]
     },
     "execution_count": 13,
     "metadata": {},
     "output_type": "execute_result"
    }
   ],
   "source": [
    "B*y"
   ]
  },
  {
   "cell_type": "code",
   "execution_count": 14,
   "metadata": {},
   "outputs": [
    {
     "data": {
      "text/plain": [
       "5-element Array{Float64,1}:\n",
       " -1.1102230246251565e-16\n",
       " -1.6653345369377348e-16\n",
       " -4.163336342344337e-17 \n",
       "  1.8735013540549517e-16\n",
       "  0.0                   "
      ]
     },
     "execution_count": 14,
     "metadata": {},
     "output_type": "execute_result"
    }
   ],
   "source": [
    "y = [L[:,2]\n",
    "       0\n",
    "      -1\n",
    "       0\n",
    "    ]\n",
    "B*y"
   ]
  },
  {
   "cell_type": "code",
   "execution_count": 15,
   "metadata": {},
   "outputs": [
    {
     "data": {
      "text/plain": [
       "-2.561082659078486e-16"
      ]
     },
     "execution_count": 15,
     "metadata": {},
     "output_type": "execute_result"
    }
   ],
   "source": [
    "y'B*y"
   ]
  },
  {
   "cell_type": "markdown",
   "metadata": {},
   "source": [
    "Can write $\\mbf{A}$ as "
   ]
  },
  {
   "cell_type": "markdown",
   "metadata": {
    "slideshow": {
     "slide_type": "fragment"
    }
   },
   "source": [
    "\\begin{align*}\n",
    "   \\begin{bmatrix}\n",
    "    \\mbf{A}_{11} & \\mbf{A}_{12} \\\\\n",
    "    \\mbf{A}_{21} & \\mbf{A}_{22}\n",
    "    \\end{bmatrix}\n",
    "    &= \\begin{bmatrix}\n",
    "   \\mbf{I} \\\\\n",
    "   \\mbf{L}'\n",
    "\\end{bmatrix}\n",
    "\\mbf{A}_{11}\\begin{bmatrix}\n",
    "                \\mbf{I} & \\mbf{L} \n",
    "             \\end{bmatrix}\n",
    "+\n",
    "\\begin{bmatrix}\n",
    "   \\mbf{0} \\\\\n",
    "   \\mbf{I}\n",
    "\\end{bmatrix}\n",
    "\\mbf{R}\\begin{bmatrix}\n",
    "              \\mbf{0} & \\mbf{I} \n",
    "        \\end{bmatrix}\\\\\n",
    "    &= \n",
    "    \\begin{bmatrix}\n",
    "     \\mbf{I} & \\mbf{0} \\\\\n",
    "     \\mbf{L}' & \\mbf{I}\n",
    "    \\end{bmatrix}\n",
    "    \\begin{bmatrix}\n",
    "     \\mbf{A}_{11} & \\mbf{0} \\\\\n",
    "     \\mbf{0}      & \\mbf{R}\n",
    "    \\end{bmatrix}\n",
    "        \\begin{bmatrix}\n",
    "     \\mbf{I} & \\mbf{L} \\\\\n",
    "     \\mbf{0} & \\mbf{I}\n",
    "    \\end{bmatrix}\\\\\n",
    "    &= \\mbf{PVP}'\n",
    "\\end{align*}"
   ]
  },
  {
   "cell_type": "markdown",
   "metadata": {
    "slideshow": {
     "slide_type": "fragment"
    }
   },
   "source": [
    "So, \n",
    "$$\n",
    "\\mbf{A}^{-1} = (\\mbf{P}')^{-1}\\mbf{V}^{-1}\\mbf{P}^{-1}\n",
    "$$"
   ]
  },
  {
   "cell_type": "markdown",
   "metadata": {
    "slideshow": {
     "slide_type": "slide"
    }
   },
   "source": [
    "## Inverse of $\\mbf{A}$\n",
    "\\begin{align*}\n",
    "   \\begin{bmatrix}\n",
    "    \\mbf{A}^{11} & \\mbf{A}^{12} \\\\\n",
    "    \\mbf{A}^{21} & \\mbf{A}^{22}\n",
    "    \\end{bmatrix}\n",
    "    &= (\\mbf{P}')^{-1}\\mbf{V}^{-1}\\mbf{P}^{-1}\\\\\n",
    "    &= \n",
    "    \\begin{bmatrix}\n",
    "     \\mbf{I} & -\\mbf{L} \\\\\n",
    "     \\mbf{0} & \\mbf{I}\n",
    "    \\end{bmatrix}\n",
    "    \\begin{bmatrix}\n",
    "     \\mbf{A}_{11}^{-1} & \\mbf{0} \\\\\n",
    "     \\mbf{0}      & \\mbf{R}^{-1}\n",
    "    \\end{bmatrix}\n",
    "        \\begin{bmatrix}\n",
    "     \\mbf{I} & \\mbf{0} \\\\\n",
    "     -\\mbf{L}' & \\mbf{I}\n",
    "    \\end{bmatrix} \\\\\n",
    "    &= \n",
    "    \\begin{bmatrix}\n",
    "     \\mbf{I}\\\\\n",
    "     \\mbf{0}\n",
    "    \\end{bmatrix}\n",
    "     \\mbf{A}_{11}^{-1}\n",
    "    \\begin{bmatrix}\n",
    "     \\mbf{I} & \\mbf{0}\n",
    "    \\end{bmatrix}\n",
    "    +\n",
    "    \\begin{bmatrix}\n",
    "     -\\mbf{L}\\\\\n",
    "     \\mbf{I}\n",
    "    \\end{bmatrix}\n",
    "    \\mbf{R}^{-1}\n",
    "    \\begin{bmatrix}\n",
    "     -\\mbf{L}' & \\mbf{I}\n",
    "    \\end{bmatrix}   \n",
    "    \\end{align*}\n",
    "    "
   ]
  },
  {
   "cell_type": "markdown",
   "metadata": {
    "slideshow": {
     "slide_type": "fragment"
    }
   },
   "source": [
    "\\begin{align*}\n",
    "&=\n",
    "   \\begin{bmatrix}\n",
    "    \\mbf{A}_{11}^{-1} & \\mbf{0} \\\\\n",
    "    \\mbf{0}      & \\mbf{0}\n",
    "    \\end{bmatrix}\n",
    "+\n",
    "   \\begin{bmatrix}\n",
    "    \\mbf{L}\\mbf{R}^{-1}\\mbf{L}' & -\\mbf{L}\\mbf{R}^{-1} \\\\\n",
    "    -\\mbf{R}^{-1}\\mbf{L}'       & \\mbf{R}^{-1}\n",
    "    \\end{bmatrix}\n",
    "\\end{align*}    "
   ]
  },
  {
   "cell_type": "markdown",
   "metadata": {},
   "source": [
    "### Inverse of P\n",
    "Assume that the matrix $P$ can be written as\n",
    "\n",
    "\\begin{align*}\n",
    " P = \\left[\n",
    "    \\begin{array}{lr}\n",
    "     \\mbf{I} & \\mbf{0} \\\\\n",
    "     \\mbf{L}' & \\mbf{I}\n",
    "    \\end{array}\n",
    " \\right]    \n",
    "\\end{align*}"
   ]
  },
  {
   "cell_type": "markdown",
   "metadata": {},
   "source": [
    "Then $P^{-1}$ can be written as\n",
    "\n",
    "\\begin{align*}\n",
    " P^{-1} = \\left[\n",
    "    \\begin{array}{lr}\n",
    "     \\mbf{I} & \\mbf{0} \\\\\n",
    "     -\\mbf{L}' & \\mbf{I}\n",
    "    \\end{array}\n",
    " \\right]    \n",
    "\\end{align*}\n"
   ]
  },
  {
   "cell_type": "markdown",
   "metadata": {},
   "source": [
    "**Proof**:\n",
    "\n",
    "\\begin{align*}\n",
    "P^{-1}P &= \\left[\n",
    "    \\begin{array}{lr}\n",
    "     \\mbf{I} & \\mbf{0} \\\\\n",
    "     -\\mbf{L}' & \\mbf{I}\n",
    "    \\end{array}\n",
    " \\right] \n",
    " \\left[\n",
    "    \\begin{array}{lr}\n",
    "     \\mbf{I} & \\mbf{0} \\\\\n",
    "     \\mbf{L}' & \\mbf{I}\n",
    "    \\end{array}\n",
    " \\right]   \n",
    " =  \\left[\n",
    "    \\begin{array}{lr}\n",
    "     \\mbf{I} & \\mbf{0} \\\\\n",
    "     \\mbf{0} & \\mbf{I}\n",
    "    \\end{array}\n",
    " \\right]   \n",
    "\\end{align*}"
   ]
  },
  {
   "cell_type": "markdown",
   "metadata": {
    "slideshow": {
     "slide_type": "slide"
    }
   },
   "source": [
    "## Inverse Function"
   ]
  },
  {
   "cell_type": "code",
   "execution_count": 20,
   "metadata": {
    "slideshow": {
     "slide_type": "fragment"
    }
   },
   "outputs": [
    {
     "data": {
      "text/plain": [
       "invA (generic function with 1 method)"
      ]
     },
     "execution_count": 20,
     "metadata": {},
     "output_type": "execute_result"
    }
   ],
   "source": [
    "function invA(A)\n",
    "    n = size(A,1)\n",
    "    if n==1\n",
    "        return 1/A[1,1]\n",
    "    else\n",
    "        s1 = 1:n-1\n",
    "        s2 = n\n",
    "        A11 = A[s1,s1]\n",
    "        A11i = invA(A11)\n",
    "        A12 = A[s1,s2]\n",
    "        A22 = A[s2,s2]\n",
    "        L = A11i*A12\n",
    "        R = A22 - L'A11*L\n",
    "        Ri = 1/R[1,1]\n",
    "        Ai = [A11i .+ (Ri.* L*L') -Ri.*L\n",
    "              -Ri.*L'             Ri.*1]\n",
    "        return Ai\n",
    "   end\n",
    "end"
   ]
  },
  {
   "cell_type": "markdown",
   "metadata": {
    "slideshow": {
     "slide_type": "slide"
    }
   },
   "source": [
    "## Numerical Example"
   ]
  },
  {
   "cell_type": "code",
   "execution_count": 21,
   "metadata": {
    "slideshow": {
     "slide_type": "fragment"
    }
   },
   "outputs": [
    {
     "data": {
      "text/plain": [
       "3×3 Array{Int64,2}:\n",
       " 46  56   72\n",
       " 56  69   89\n",
       " 72  89  115"
      ]
     },
     "execution_count": 21,
     "metadata": {},
     "output_type": "execute_result"
    }
   ],
   "source": [
    "X = [1 2 3\n",
    "     3 4 5\n",
    "     6 7 9]\n",
    "A = X'X"
   ]
  },
  {
   "cell_type": "code",
   "execution_count": 22,
   "metadata": {
    "slideshow": {
     "slide_type": "fragment"
    }
   },
   "outputs": [
    {
     "data": {
      "text/plain": [
       "3×3 Array{Float64,2}:\n",
       "  3.5   -8.0    4.0\n",
       " -8.0   26.5  -15.5\n",
       "  4.0  -15.5    9.5"
      ]
     },
     "execution_count": 22,
     "metadata": {},
     "output_type": "execute_result"
    }
   ],
   "source": [
    "# Julia inverse function\n",
    "inv(A)"
   ]
  },
  {
   "cell_type": "code",
   "execution_count": 23,
   "metadata": {
    "slideshow": {
     "slide_type": "fragment"
    }
   },
   "outputs": [
    {
     "data": {
      "text/plain": [
       "3×3 Array{Float64,2}:\n",
       "  3.5   -8.0    4.0\n",
       " -8.0   26.5  -15.5\n",
       "  4.0  -15.5    9.5"
      ]
     },
     "execution_count": 23,
     "metadata": {},
     "output_type": "execute_result"
    }
   ],
   "source": [
    "# Our inverse function\n",
    "invA(A)"
   ]
  },
  {
   "cell_type": "code",
   "execution_count": 24,
   "metadata": {},
   "outputs": [
    {
     "data": {
      "text/plain": [
       "3×3 Array{Float64,2}:\n",
       "  0.0  -0.0   0.0\n",
       " -0.0   0.0  -0.0\n",
       "  0.0  -0.0   0.0"
      ]
     },
     "execution_count": 24,
     "metadata": {},
     "output_type": "execute_result"
    }
   ],
   "source": [
    "### # compare results of both functions\n",
    "round.(inv(A) - invA(A))"
   ]
  },
  {
   "cell_type": "markdown",
   "metadata": {
    "slideshow": {
     "slide_type": "slide"
    }
   },
   "source": [
    "## Additive Relationship Matrix: $\\mbf{A}$\n",
    "\n",
    "- $a_{ij}$ is two times the kinship probability ($F_{ij}$) that randomly sampled alleles from $i$ and $j$ are IBD"
   ]
  },
  {
   "cell_type": "markdown",
   "metadata": {
    "slideshow": {
     "slide_type": "fragment"
    }
   },
   "source": [
    "- Homologous alleles are IBD if they can be traced to the same ancestral allele in a founder"
   ]
  },
  {
   "cell_type": "markdown",
   "metadata": {
    "slideshow": {
     "slide_type": "fragment"
    }
   },
   "source": [
    "- Thus, two different alleles in founders are not IBD"
   ]
  },
  {
   "cell_type": "markdown",
   "metadata": {
    "slideshow": {
     "slide_type": "fragment"
    }
   },
   "source": [
    "- Homologous alleles are randomly inherited one from each of the parents $m_i$ and and $f_i$ of $i$"
   ]
  },
  {
   "cell_type": "markdown",
   "metadata": {
    "slideshow": {
     "slide_type": "fragment"
    }
   },
   "source": [
    "- If $j$ is not a descendant of $i$, the genetic relationship of $j$ with $i$ is entirely through the parents of $j$"
   ]
  },
  {
   "cell_type": "markdown",
   "metadata": {
    "slideshow": {
     "slide_type": "fragment"
    }
   },
   "source": [
    "Thus,\n",
    "$$\n",
    "F_{ij} = \\frac{1}{2}(F_{jm_i} + F_{jf_i})\n",
    "$$\n",
    "\n",
    "and \n",
    "\n",
    "$$\n",
    "F_{ii} = \\frac{1}{2}(1 + F_{m_if_i})\n",
    "$$"
   ]
  },
  {
   "cell_type": "markdown",
   "metadata": {
    "slideshow": {
     "slide_type": "subslide"
    }
   },
   "source": [
    "Similarly,\n",
    "$$\n",
    "a_{ij} = \\frac{1}{2}(a_{jm_i} + a_{jf_i})\n",
    "$$\n",
    "\n",
    "and \n",
    "\n",
    "$$\n",
    "a_{ii} = \\frac{1}{2}(2 + a_{m_if_i})\n",
    "$$"
   ]
  },
  {
   "cell_type": "markdown",
   "metadata": {
    "slideshow": {
     "slide_type": "slide"
    }
   },
   "source": [
    "## Tabular Method to Compute $\\mbf{A}$\n",
    "\n",
    "- Number individuals such that parents preced offspring"
   ]
  },
  {
   "cell_type": "markdown",
   "metadata": {
    "slideshow": {
     "slide_type": "fragment"
    }
   },
   "source": [
    "- For founders, enter 1 on diagonal and 0 on off-diagonals"
   ]
  },
  {
   "cell_type": "markdown",
   "metadata": {
    "slideshow": {
     "slide_type": "fragment"
    }
   },
   "source": [
    "- For non-founder $i$ calculate row elements 1 to $i-1$ as the average of the parental row elements"
   ]
  },
  {
   "cell_type": "markdown",
   "metadata": {
    "slideshow": {
     "slide_type": "fragment"
    }
   },
   "source": [
    "- Set diagonal element $i$ to $\\frac{1}{2}(1 + a_{m_if_i})$"
   ]
  },
  {
   "cell_type": "markdown",
   "metadata": {
    "slideshow": {
     "slide_type": "fragment"
    }
   },
   "source": [
    "- Fill columns by symmetry."
   ]
  },
  {
   "cell_type": "markdown",
   "metadata": {
    "slideshow": {
     "slide_type": "fragment"
    }
   },
   "source": [
    "In matrix notation:\n",
    "\n",
    "$$\n",
    "\\mbf{A}_i = \n",
    "\\begin{bmatrix}\n",
    "    \\mbf{A}_{i-1}           & \\mbf{A}_{i-1}\\mbf{q}_i \\\\\n",
    "    \\mbf{q}'_i\\mbf{A}_{i-1} & \\frac{1}{2}(2 + a_{m_if_i})\n",
    "      \\end{bmatrix}\n",
    "$$"
   ]
  },
  {
   "cell_type": "markdown",
   "metadata": {
    "slideshow": {
     "slide_type": "fragment"
    }
   },
   "source": [
    "where $mbf{q}_i$ has only two non-zero elements that are equal to 0.5 at positions corresponding to $m_i$ and $f_i$."
   ]
  },
  {
   "cell_type": "markdown",
   "metadata": {
    "slideshow": {
     "slide_type": "subslide"
    }
   },
   "source": [
    "So,\n",
    "$$\n",
    "\\mbf{A}_i^{-1}=\n",
    "   \\begin{bmatrix}\n",
    "    \\mbf{A}_{i-1}^{-1} & \\mbf{0} \\\\\n",
    "    \\mbf{0}      & \\mbf{0}\n",
    "    \\end{bmatrix}\n",
    "+\n",
    "    \\begin{bmatrix}\n",
    "     -\\mbf{q}_i\\\\\n",
    "          1\n",
    "    \\end{bmatrix}\n",
    "    \\mbf{a}^{ii}\n",
    "    \\begin{bmatrix}\n",
    "     -\\mbf{q}'_i & 1\n",
    "    \\end{bmatrix}\n",
    "$$  \n",
    "\n",
    "where $a^{ii} = (a_{ii} - \\mbf{q}'_i\\mbf{A}_{i-1}\\mbf{q}_i)^{-1}$"
   ]
  },
  {
   "cell_type": "markdown",
   "metadata": {
    "slideshow": {
     "slide_type": "subslide"
    }
   },
   "source": [
    "## Algorithm\n",
    "\n",
    "- Set $\\mbf{A}^{-1} = \\mbf{0}$"
   ]
  },
  {
   "cell_type": "markdown",
   "metadata": {
    "slideshow": {
     "slide_type": "fragment"
    }
   },
   "source": [
    "- Compute $a^{ii}$ for all animals"
   ]
  },
  {
   "cell_type": "markdown",
   "metadata": {
    "slideshow": {
     "slide_type": "fragment"
    }
   },
   "source": [
    "- For each animal add to $\\mbf{A}^{-1}$\n",
    "\n",
    "   - $a^{ii}$ to (i,i)\n",
    "   - -1/2$a^{ii}$ to $(i,f_i)$, $(f_i,i)$,$(i,m_i)$,$(m_i,i)$\n",
    "   - 1/4$a^{ii}$ to $(f_i,f_i)$, $(f_i,m_i)$,$(m_i,f_i)$,$(m_i,m_i)$"
   ]
  },
  {
   "cell_type": "markdown",
   "metadata": {
    "slideshow": {
     "slide_type": "slide"
    }
   },
   "source": [
    "## Numerical Example"
   ]
  },
  {
   "cell_type": "markdown",
   "metadata": {
    "slideshow": {
     "slide_type": "fragment"
    }
   },
   "source": [
    "Pedigree:\n",
    "$$\n",
    "\\begin{matrix}\n",
    "i & f & m\\\\\n",
    "1 & 0 & 0\\\\\n",
    "2 & 0 & 0\\\\\n",
    "3 & 1 & 2\\\\\n",
    "4 & 1 & 2\\\\\n",
    "5 & 3 & 4\n",
    "\\end{matrix}\n",
    "$$"
   ]
  },
  {
   "cell_type": "markdown",
   "metadata": {},
   "source": [
    "Because the first two individuals are founders, their relationship matrix will be $A2$ which is a $2\\times 2$ identity matrix."
   ]
  },
  {
   "cell_type": "code",
   "execution_count": 25,
   "metadata": {
    "slideshow": {
     "slide_type": "fragment"
    }
   },
   "outputs": [
    {
     "data": {
      "text/plain": [
       "2×2 Array{Int64,2}:\n",
       " 1  0\n",
       " 0  1"
      ]
     },
     "execution_count": 25,
     "metadata": {},
     "output_type": "execute_result"
    }
   ],
   "source": [
    "A2 = [1 0\n",
    "      0 1]"
   ]
  },
  {
   "cell_type": "markdown",
   "metadata": {},
   "source": [
    "Now we are adding the row and column and the diagonal element for animal 3. Note that animal 3 has parents 1 and 2, hence $q$ is a two element vector with each element is $.5$ and `amf` is the relationship between the parents."
   ]
  },
  {
   "cell_type": "code",
   "execution_count": 57,
   "metadata": {},
   "outputs": [
    {
     "data": {
      "text/plain": [
       "2-element Array{Float64,1}:\n",
       " 0.5\n",
       " 0.5"
      ]
     },
     "execution_count": 57,
     "metadata": {},
     "output_type": "execute_result"
    }
   ],
   "source": [
    "q   = [0.5, 0.5]"
   ]
  },
  {
   "cell_type": "code",
   "execution_count": 58,
   "metadata": {},
   "outputs": [
    {
     "data": {
      "text/plain": [
       "5×5 Array{Float64,2}:\n",
       " 1.0  0.0  0.5   0.5   0.5 \n",
       " 0.0  1.0  0.5   0.5   0.5 \n",
       " 0.5  0.5  1.0   0.5   0.75\n",
       " 0.5  0.5  0.5   1.0   0.75\n",
       " 0.5  0.5  0.75  0.75  1.25"
      ]
     },
     "execution_count": 58,
     "metadata": {},
     "output_type": "execute_result"
    }
   ],
   "source": [
    "A"
   ]
  },
  {
   "cell_type": "code",
   "execution_count": 26,
   "metadata": {
    "slideshow": {
     "slide_type": "fragment"
    }
   },
   "outputs": [
    {
     "data": {
      "text/plain": [
       "3×3 Array{Float64,2}:\n",
       " 1.0  0.0  0.5\n",
       " 0.0  1.0  0.5\n",
       " 0.5  0.5  1.0"
      ]
     },
     "execution_count": 26,
     "metadata": {},
     "output_type": "execute_result"
    }
   ],
   "source": [
    "q   = [0.5, 0.5]\n",
    "amf = A2[1,2]\n",
    "A3 = [A2    A2*q\n",
    "      q'A2  1 + 0.5amf   ]"
   ]
  },
  {
   "cell_type": "code",
   "execution_count": 27,
   "metadata": {
    "slideshow": {
     "slide_type": "subslide"
    }
   },
   "outputs": [
    {
     "data": {
      "text/plain": [
       "4×4 Array{Float64,2}:\n",
       " 1.0  0.0  0.5  0.5\n",
       " 0.0  1.0  0.5  0.5\n",
       " 0.5  0.5  1.0  0.5\n",
       " 0.5  0.5  0.5  1.0"
      ]
     },
     "execution_count": 27,
     "metadata": {},
     "output_type": "execute_result"
    }
   ],
   "source": [
    "q   = [0.5, 0.5, 0]\n",
    "amf = A3[1,2]\n",
    "A4 = [A3    A3*q\n",
    "      q'A3  1 + 0.5amf   ]"
   ]
  },
  {
   "cell_type": "code",
   "execution_count": 28,
   "metadata": {
    "scrolled": true,
    "slideshow": {
     "slide_type": "fragment"
    }
   },
   "outputs": [
    {
     "data": {
      "text/plain": [
       "5×5 Array{Float64,2}:\n",
       " 1.0  0.0  0.5   0.5   0.5 \n",
       " 0.0  1.0  0.5   0.5   0.5 \n",
       " 0.5  0.5  1.0   0.5   0.75\n",
       " 0.5  0.5  0.5   1.0   0.75\n",
       " 0.5  0.5  0.75  0.75  1.25"
      ]
     },
     "execution_count": 28,
     "metadata": {},
     "output_type": "execute_result"
    }
   ],
   "source": [
    "q   = [0, 0, 0.5, 0.5]\n",
    "amf = A4[3,4]\n",
    "A5 = [A4    A4*q\n",
    "      q'A4  1 + 0.5amf   ]\n",
    "A = A5"
   ]
  },
  {
   "cell_type": "markdown",
   "metadata": {
    "slideshow": {
     "slide_type": "slide"
    }
   },
   "source": [
    "## A Inverse"
   ]
  },
  {
   "cell_type": "code",
   "execution_count": 29,
   "metadata": {
    "slideshow": {
     "slide_type": "fragment"
    }
   },
   "outputs": [
    {
     "data": {
      "text/plain": [
       "2×2 Array{Float64,2}:\n",
       " 1.0  0.0\n",
       " 0.0  1.0"
      ]
     },
     "execution_count": 29,
     "metadata": {},
     "output_type": "execute_result"
    }
   ],
   "source": [
    "using LinearAlgebra\n",
    "A2i = Matrix(1.0I, 2,2)"
   ]
  },
  {
   "cell_type": "code",
   "execution_count": 30,
   "metadata": {
    "scrolled": true,
    "slideshow": {
     "slide_type": "fragment"
    }
   },
   "outputs": [
    {
     "data": {
      "text/plain": [
       "3×3 Array{Float64,2}:\n",
       "  1.5   0.5  -1.0\n",
       "  0.5   1.5  -1.0\n",
       " -1.0  -1.0   2.0"
      ]
     },
     "execution_count": 30,
     "metadata": {},
     "output_type": "execute_result"
    }
   ],
   "source": [
    "q = [0.5, 0.5]\n",
    "a33i = 1/(A[3,3] - q'A2*q)\n",
    "A3i  = [A2i zero(q)\n",
    "        zero(q')   0] + [-q; 1]*[-q' 1].*a33i"
   ]
  },
  {
   "cell_type": "code",
   "execution_count": 41,
   "metadata": {},
   "outputs": [
    {
     "data": {
      "text/plain": [
       "2-element Array{Float64,1}:\n",
       " 0.0\n",
       " 0.0"
      ]
     },
     "execution_count": 41,
     "metadata": {},
     "output_type": "execute_result"
    }
   ],
   "source": [
    "### # what is zero(q)\n",
    "q\n",
    "zero(q) # creates a matrix with same dimension of q with all elements = 0\n"
   ]
  },
  {
   "cell_type": "code",
   "execution_count": 42,
   "metadata": {
    "slideshow": {
     "slide_type": "fragment"
    }
   },
   "outputs": [
    {
     "data": {
      "text/plain": [
       "3×3 Array{Float64,2}:\n",
       "  1.5   0.5  -1.0\n",
       "  0.5   1.5  -1.0\n",
       " -1.0  -1.0   2.0"
      ]
     },
     "execution_count": 42,
     "metadata": {},
     "output_type": "execute_result"
    }
   ],
   "source": [
    "inv(A[1:3,1:3])"
   ]
  },
  {
   "cell_type": "code",
   "execution_count": 43,
   "metadata": {
    "slideshow": {
     "slide_type": "subslide"
    }
   },
   "outputs": [
    {
     "data": {
      "text/plain": [
       "4×4 Array{Float64,2}:\n",
       "  2.0   1.0  -1.0  -1.0\n",
       "  1.0   2.0  -1.0  -1.0\n",
       " -1.0  -1.0   2.0   0.0\n",
       " -1.0  -1.0   0.0   2.0"
      ]
     },
     "execution_count": 43,
     "metadata": {},
     "output_type": "execute_result"
    }
   ],
   "source": [
    "q    = [0.5, 0.5, 0]\n",
    "a44i = 1/(A[4,4] - q'A3*q)\n",
    "A4i  = [A3i zero(q)\n",
    "        zero(q')   0] + [-q; 1]*[-q' 1].*a44i"
   ]
  },
  {
   "cell_type": "code",
   "execution_count": 44,
   "metadata": {
    "slideshow": {
     "slide_type": "fragment"
    }
   },
   "outputs": [
    {
     "data": {
      "text/plain": [
       "4×4 Array{Float64,2}:\n",
       "  2.0   1.0  -1.0  -1.0\n",
       "  1.0   2.0  -1.0  -1.0\n",
       " -1.0  -1.0   2.0  -0.0\n",
       " -1.0  -1.0   0.0   2.0"
      ]
     },
     "execution_count": 44,
     "metadata": {},
     "output_type": "execute_result"
    }
   ],
   "source": [
    "inv(A[1:4,1:4])"
   ]
  },
  {
   "cell_type": "code",
   "execution_count": 45,
   "metadata": {
    "slideshow": {
     "slide_type": "subslide"
    }
   },
   "outputs": [
    {
     "data": {
      "text/plain": [
       "5×5 Array{Float64,2}:\n",
       "  0.0   0.0   0.0    0.0   -0.0\n",
       "  0.0   0.0   0.0    0.0   -0.0\n",
       "  0.0   0.0   0.25   0.25  -0.5\n",
       "  0.0   0.0   0.25   0.25  -0.5\n",
       " -0.0  -0.0  -0.5   -0.5    1.0"
      ]
     },
     "execution_count": 45,
     "metadata": {},
     "output_type": "execute_result"
    }
   ],
   "source": [
    "q    = [0, 0, 0.5, 0.5]\n",
    "[-q; 1]*[-q' 1]\n"
   ]
  },
  {
   "cell_type": "code",
   "execution_count": 46,
   "metadata": {
    "scrolled": true,
    "slideshow": {
     "slide_type": "fragment"
    }
   },
   "outputs": [
    {
     "data": {
      "text/plain": [
       "5×5 Array{Float64,2}:\n",
       "  2.0   1.0  -1.0  -1.0   0.0\n",
       "  1.0   2.0  -1.0  -1.0   0.0\n",
       " -1.0  -1.0   2.5   0.5  -1.0\n",
       " -1.0  -1.0   0.5   2.5  -1.0\n",
       "  0.0   0.0  -1.0  -1.0   2.0"
      ]
     },
     "execution_count": 46,
     "metadata": {},
     "output_type": "execute_result"
    }
   ],
   "source": [
    "a55i = 1/(A[5,5] - q'A4*q)\n",
    "A5i  = [A4i zero(q)\n",
    "        zero(q')   0] + [-q; 1]*[-q' 1].*a55i"
   ]
  },
  {
   "cell_type": "code",
   "execution_count": 47,
   "metadata": {
    "slideshow": {
     "slide_type": "fragment"
    }
   },
   "outputs": [
    {
     "data": {
      "text/plain": [
       "5×5 Array{Float64,2}:\n",
       "  2.0   1.0  -1.0  -1.0  -0.0\n",
       "  1.0   2.0  -1.0  -1.0  -0.0\n",
       " -1.0  -1.0   2.5   0.5  -1.0\n",
       " -1.0  -1.0   0.5   2.5  -1.0\n",
       "  0.0   0.0  -1.0  -1.0   2.0"
      ]
     },
     "execution_count": 47,
     "metadata": {},
     "output_type": "execute_result"
    }
   ],
   "source": [
    "inv(A)"
   ]
  },
  {
   "cell_type": "code",
   "execution_count": 48,
   "metadata": {
    "slideshow": {
     "slide_type": "skip"
    }
   },
   "outputs": [
    {
     "name": "stderr",
     "output_type": "stream",
     "text": [
      "[NbConvertApp] Converting notebook AInverse.ipynb to slides\n",
      "[NbConvertApp] Writing 306689 bytes to AInverse.slides.html\n"
     ]
    }
   ],
   "source": [
    "# conversion of nb to slides\n",
    "#; jupyter nbconvert --to slides AInverse.ipynb"
   ]
  },
  {
   "cell_type": "code",
   "execution_count": 56,
   "metadata": {},
   "outputs": [
    {
     "data": {
      "text/plain": [
       "2×2 Array{Int64,2}:\n",
       " 1  1\n",
       " 1  1"
      ]
     },
     "execution_count": 56,
     "metadata": {},
     "output_type": "execute_result"
    }
   ],
   "source": [
    "### # similarly with matrices of all $1$\n",
    "q = [1 2;3 4]\n",
    "#ones(q)\n",
    "#one(q)\n",
    "one.(q)\n"
   ]
  },
  {
   "cell_type": "markdown",
   "metadata": {},
   "source": [
    "## Exercise: Convert Recursive Function For Matrix Inversion Into Iterative Function"
   ]
  },
  {
   "cell_type": "code",
   "execution_count": 111,
   "metadata": {},
   "outputs": [
    {
     "data": {
      "text/plain": [
       "recAinv (generic function with 1 method)"
      ]
     },
     "execution_count": 111,
     "metadata": {},
     "output_type": "execute_result"
    }
   ],
   "source": [
    "function recAinv(A)\n",
    "    ### # get the number of rows of A\n",
    "    nrowA = size(A, 1)\n",
    "    ### # do the first element\n",
    "    AinvResult = 1/A[1,1]\n",
    "    ### # loop over rows in A starting in row 2\n",
    "    for i=2:nrowA\n",
    "        \n",
    "        ### # for the following rows\n",
    "        q = A[1:(i-1),i] \n",
    "        aii = 1/(A[i,i] - q'A[1:(i-1),1:(i-1)]*q)\n",
    "        AinvResult = [AinvResult zero(q)\n",
    "                      zero(q')        0] + [-q; 1]*[-q' 1].*aii\n",
    "    end\n",
    "    return AinvResult\n",
    "end\n",
    "\n"
   ]
  },
  {
   "cell_type": "markdown",
   "metadata": {},
   "source": [
    "Testing the function with the above given matrices leads to"
   ]
  },
  {
   "cell_type": "code",
   "execution_count": 112,
   "metadata": {},
   "outputs": [
    {
     "data": {
      "text/plain": [
       "5×5 Array{Float64,2}:\n",
       " 1.0  0.0  0.5   0.5   0.5 \n",
       " 0.0  1.0  0.5   0.5   0.5 \n",
       " 0.5  0.5  1.0   0.5   0.75\n",
       " 0.5  0.5  0.5   1.0   0.75\n",
       " 0.5  0.5  0.75  0.75  1.25"
      ]
     },
     "execution_count": 112,
     "metadata": {},
     "output_type": "execute_result"
    }
   ],
   "source": [
    "A"
   ]
  },
  {
   "cell_type": "code",
   "execution_count": 113,
   "metadata": {},
   "outputs": [
    {
     "data": {
      "text/plain": [
       "5×5 Array{Float64,2}:\n",
       "  0.397436  -0.602564  -2.15385    1.84615    0.205128\n",
       " -0.602564   0.397436  -2.15385    1.84615    0.205128\n",
       " -2.15385   -2.15385    0.769231   1.76923    0.307692\n",
       "  1.84615    1.84615    1.76923   -4.23077    0.307692\n",
       "  0.205128   0.205128   0.307692   0.307692  -0.410256"
      ]
     },
     "execution_count": 113,
     "metadata": {},
     "output_type": "execute_result"
    }
   ],
   "source": [
    "AinvRec = recAinv(A)"
   ]
  },
  {
   "cell_type": "code",
   "execution_count": 92,
   "metadata": {},
   "outputs": [
    {
     "data": {
      "text/plain": [
       "5×5 Array{Float64,2}:\n",
       "  2.0   1.0  -1.0  -1.0  -0.0\n",
       "  1.0   2.0  -1.0  -1.0  -0.0\n",
       " -1.0  -1.0   2.5   0.5  -1.0\n",
       " -1.0  -1.0   0.5   2.5  -1.0\n",
       "  0.0   0.0  -1.0  -1.0   2.0"
      ]
     },
     "execution_count": 92,
     "metadata": {},
     "output_type": "execute_result"
    }
   ],
   "source": [
    "inv(A)"
   ]
  },
  {
   "cell_type": "code",
   "execution_count": null,
   "metadata": {},
   "outputs": [],
   "source": []
  },
  {
   "cell_type": "markdown",
   "metadata": {},
   "source": [
    "## Unrolling to Debug\n",
    "Frist get a smaller matrix and unroll the function\n",
    "\n",
    "Start with 2x2\n"
   ]
  },
  {
   "cell_type": "code",
   "execution_count": 114,
   "metadata": {},
   "outputs": [
    {
     "data": {
      "text/plain": [
       "2×2 Array{Float64,2}:\n",
       " 1.0  0.0\n",
       " 0.0  1.0"
      ]
     },
     "execution_count": 114,
     "metadata": {},
     "output_type": "execute_result"
    }
   ],
   "source": [
    "testA2 = copy(A[1:2,1:2])"
   ]
  },
  {
   "cell_type": "code",
   "execution_count": 115,
   "metadata": {},
   "outputs": [
    {
     "data": {
      "text/plain": [
       "2×2 Array{Float64,2}:\n",
       " 0.0  0.0\n",
       " 0.0  0.0"
      ]
     },
     "execution_count": 115,
     "metadata": {},
     "output_type": "execute_result"
    }
   ],
   "source": [
    "AinvResult = zero(testA2)"
   ]
  },
  {
   "cell_type": "code",
   "execution_count": 116,
   "metadata": {},
   "outputs": [
    {
     "data": {
      "text/plain": [
       "2"
      ]
     },
     "execution_count": 116,
     "metadata": {},
     "output_type": "execute_result"
    }
   ],
   "source": [
    "nrowA = size(testA2, 1)"
   ]
  },
  {
   "cell_type": "code",
   "execution_count": 117,
   "metadata": {},
   "outputs": [
    {
     "data": {
      "text/plain": [
       "1.0"
      ]
     },
     "execution_count": 117,
     "metadata": {},
     "output_type": "execute_result"
    }
   ],
   "source": [
    "AinvResult[1,1] = 1/testA2[1,1]"
   ]
  },
  {
   "cell_type": "code",
   "execution_count": 118,
   "metadata": {},
   "outputs": [
    {
     "data": {
      "text/plain": [
       "2"
      ]
     },
     "execution_count": 118,
     "metadata": {},
     "output_type": "execute_result"
    }
   ],
   "source": [
    "i=2"
   ]
  },
  {
   "cell_type": "code",
   "execution_count": 119,
   "metadata": {},
   "outputs": [
    {
     "data": {
      "text/plain": [
       "1-element Array{Float64,1}:\n",
       " 0.0"
      ]
     },
     "execution_count": 119,
     "metadata": {},
     "output_type": "execute_result"
    }
   ],
   "source": [
    "q = testA2[1:(i-1),i] "
   ]
  },
  {
   "cell_type": "code",
   "execution_count": 120,
   "metadata": {},
   "outputs": [
    {
     "data": {
      "text/plain": [
       "1.0"
      ]
     },
     "execution_count": 120,
     "metadata": {},
     "output_type": "execute_result"
    }
   ],
   "source": [
    "aii = 1/(testA2[i,i] - q'testA2[(i-1),(i-1)]*q)"
   ]
  },
  {
   "cell_type": "code",
   "execution_count": 121,
   "metadata": {},
   "outputs": [
    {
     "data": {
      "text/plain": [
       "2×2 Array{Float64,2}:\n",
       " 1.0  0.0\n",
       " 0.0  0.0"
      ]
     },
     "execution_count": 121,
     "metadata": {},
     "output_type": "execute_result"
    }
   ],
   "source": [
    "AinvResult[(1:i),(1:i)]\n"
   ]
  },
  {
   "cell_type": "code",
   "execution_count": 122,
   "metadata": {},
   "outputs": [
    {
     "data": {
      "text/plain": [
       "2×2 Array{Float64,2}:\n",
       "  0.0  -0.0\n",
       " -0.0   1.0"
      ]
     },
     "execution_count": 122,
     "metadata": {},
     "output_type": "execute_result"
    }
   ],
   "source": [
    "[-q; 1]*[-q' 1].*aii"
   ]
  },
  {
   "cell_type": "code",
   "execution_count": 123,
   "metadata": {},
   "outputs": [
    {
     "data": {
      "text/plain": [
       "2×2 Array{Float64,2}:\n",
       " 1.0  0.0\n",
       " 0.0  1.0"
      ]
     },
     "execution_count": 123,
     "metadata": {},
     "output_type": "execute_result"
    }
   ],
   "source": [
    "AinvResult[(1:i),(1:i)] = AinvResult[(1:i),(1:i)] + [-q; 1]*[-q' 1].*aii"
   ]
  },
  {
   "cell_type": "markdown",
   "metadata": {},
   "source": [
    "Continue with 3x3"
   ]
  },
  {
   "cell_type": "code",
   "execution_count": 124,
   "metadata": {},
   "outputs": [
    {
     "data": {
      "text/plain": [
       "3×3 Array{Float64,2}:\n",
       " 1.0  0.0  0.5\n",
       " 0.0  1.0  0.5\n",
       " 0.5  0.5  1.0"
      ]
     },
     "execution_count": 124,
     "metadata": {},
     "output_type": "execute_result"
    }
   ],
   "source": [
    "testA3 = copy(A[1:3,1:3])"
   ]
  },
  {
   "cell_type": "code",
   "execution_count": 125,
   "metadata": {},
   "outputs": [
    {
     "data": {
      "text/plain": [
       "3×3 Array{Float64,2}:\n",
       " 0.0  0.0  0.0\n",
       " 0.0  0.0  0.0\n",
       " 0.0  0.0  0.0"
      ]
     },
     "execution_count": 125,
     "metadata": {},
     "output_type": "execute_result"
    }
   ],
   "source": [
    "AinvResult = zero(testA3)"
   ]
  },
  {
   "cell_type": "code",
   "execution_count": 126,
   "metadata": {},
   "outputs": [
    {
     "data": {
      "text/plain": [
       "3"
      ]
     },
     "execution_count": 126,
     "metadata": {},
     "output_type": "execute_result"
    }
   ],
   "source": [
    "nrowA = size(testA3, 1)"
   ]
  },
  {
   "cell_type": "code",
   "execution_count": 127,
   "metadata": {},
   "outputs": [
    {
     "data": {
      "text/plain": [
       "1.0"
      ]
     },
     "execution_count": 127,
     "metadata": {},
     "output_type": "execute_result"
    }
   ],
   "source": [
    "AinvResult[1,1] = 1/testA3[1,1]"
   ]
  },
  {
   "cell_type": "code",
   "execution_count": 128,
   "metadata": {},
   "outputs": [
    {
     "data": {
      "text/plain": [
       "2"
      ]
     },
     "execution_count": 128,
     "metadata": {},
     "output_type": "execute_result"
    }
   ],
   "source": [
    "i=2"
   ]
  },
  {
   "cell_type": "code",
   "execution_count": 129,
   "metadata": {},
   "outputs": [
    {
     "data": {
      "text/plain": [
       "1-element Array{Float64,1}:\n",
       " 0.0"
      ]
     },
     "execution_count": 129,
     "metadata": {},
     "output_type": "execute_result"
    }
   ],
   "source": [
    "q = A[1:(i-1),i]"
   ]
  },
  {
   "cell_type": "code",
   "execution_count": 131,
   "metadata": {},
   "outputs": [
    {
     "data": {
      "text/plain": [
       "1.0"
      ]
     },
     "execution_count": 131,
     "metadata": {},
     "output_type": "execute_result"
    }
   ],
   "source": [
    "aii = 1/(A[i,i] - q'A[1:(i-1),1:(i-1)]*q)"
   ]
  },
  {
   "cell_type": "code",
   "execution_count": 132,
   "metadata": {},
   "outputs": [
    {
     "data": {
      "text/plain": [
       "2×2 Array{Float64,2}:\n",
       " 1.0  0.0\n",
       " 0.0  1.0"
      ]
     },
     "execution_count": 132,
     "metadata": {},
     "output_type": "execute_result"
    }
   ],
   "source": [
    "AinvResult[(1:i),(1:i)] = AinvResult[(1:i),(1:i)] + [-q; 1]*[-q' 1].*aii"
   ]
  },
  {
   "cell_type": "code",
   "execution_count": 133,
   "metadata": {},
   "outputs": [
    {
     "data": {
      "text/plain": [
       "3"
      ]
     },
     "execution_count": 133,
     "metadata": {},
     "output_type": "execute_result"
    }
   ],
   "source": [
    "i=3"
   ]
  },
  {
   "cell_type": "code",
   "execution_count": 134,
   "metadata": {},
   "outputs": [
    {
     "data": {
      "text/plain": [
       "2-element Array{Float64,1}:\n",
       " 0.5\n",
       " 0.5"
      ]
     },
     "execution_count": 134,
     "metadata": {},
     "output_type": "execute_result"
    }
   ],
   "source": [
    "q = A[1:(i-1),i]"
   ]
  },
  {
   "cell_type": "code",
   "execution_count": 135,
   "metadata": {},
   "outputs": [
    {
     "data": {
      "text/plain": [
       "2.0"
      ]
     },
     "execution_count": 135,
     "metadata": {},
     "output_type": "execute_result"
    }
   ],
   "source": [
    "aii = 1/(A[i,i] - q'A[1:(i-1),1:(i-1)]*q)"
   ]
  },
  {
   "cell_type": "code",
   "execution_count": 136,
   "metadata": {},
   "outputs": [
    {
     "data": {
      "text/plain": [
       "3×3 Array{Float64,2}:\n",
       "  1.5   0.5  -1.0\n",
       "  0.5   1.5  -1.0\n",
       " -1.0  -1.0   2.0"
      ]
     },
     "execution_count": 136,
     "metadata": {},
     "output_type": "execute_result"
    }
   ],
   "source": [
    "AinvResult[(1:i),(1:i)] = AinvResult[(1:i),(1:i)] + [-q; 1]*[-q' 1].*aii"
   ]
  },
  {
   "cell_type": "code",
   "execution_count": 137,
   "metadata": {},
   "outputs": [
    {
     "data": {
      "text/plain": [
       "3×3 Array{Float64,2}:\n",
       " 1.0  0.0  0.0\n",
       " 0.0  1.0  0.0\n",
       " 0.0  0.0  1.0"
      ]
     },
     "execution_count": 137,
     "metadata": {},
     "output_type": "execute_result"
    }
   ],
   "source": [
    "AinvResult * testA3"
   ]
  },
  {
   "cell_type": "markdown",
   "metadata": {},
   "source": [
    "Continue with 4x4"
   ]
  },
  {
   "cell_type": "code",
   "execution_count": 138,
   "metadata": {},
   "outputs": [
    {
     "data": {
      "text/plain": [
       "4×4 Array{Float64,2}:\n",
       " 1.0  0.0  0.5  0.5\n",
       " 0.0  1.0  0.5  0.5\n",
       " 0.5  0.5  1.0  0.5\n",
       " 0.5  0.5  0.5  1.0"
      ]
     },
     "execution_count": 138,
     "metadata": {},
     "output_type": "execute_result"
    }
   ],
   "source": [
    "testA4 = A[1:4,1:4]"
   ]
  },
  {
   "cell_type": "code",
   "execution_count": 139,
   "metadata": {},
   "outputs": [
    {
     "data": {
      "text/plain": [
       "4"
      ]
     },
     "execution_count": 139,
     "metadata": {},
     "output_type": "execute_result"
    }
   ],
   "source": [
    "nrowA = size(testA4, 1)"
   ]
  },
  {
   "cell_type": "code",
   "execution_count": 140,
   "metadata": {},
   "outputs": [
    {
     "data": {
      "text/plain": [
       "1.0"
      ]
     },
     "execution_count": 140,
     "metadata": {},
     "output_type": "execute_result"
    }
   ],
   "source": [
    "AinvResult[1,1] = 1/A[1,1]"
   ]
  },
  {
   "cell_type": "code",
   "execution_count": 141,
   "metadata": {},
   "outputs": [
    {
     "data": {
      "text/plain": [
       "2"
      ]
     },
     "execution_count": 141,
     "metadata": {},
     "output_type": "execute_result"
    }
   ],
   "source": [
    "i=2"
   ]
  },
  {
   "cell_type": "code",
   "execution_count": 142,
   "metadata": {},
   "outputs": [
    {
     "data": {
      "text/plain": [
       "1-element Array{Float64,1}:\n",
       " 0.0"
      ]
     },
     "execution_count": 142,
     "metadata": {},
     "output_type": "execute_result"
    }
   ],
   "source": [
    "q = testA4[1:(i-1),i]"
   ]
  },
  {
   "cell_type": "code",
   "execution_count": 143,
   "metadata": {},
   "outputs": [
    {
     "data": {
      "text/plain": [
       "2×2 Array{Float64,2}:\n",
       " 1.0  0.5\n",
       " 0.5  2.5"
      ]
     },
     "execution_count": 143,
     "metadata": {},
     "output_type": "execute_result"
    }
   ],
   "source": [
    "aii = 1/(testA4[i,i] - q'testA4[1:(i-1),1:(i-1)]*q)\n",
    "        AinvResult[(1:i),(1:i)] = AinvResult[(1:i),(1:i)] + [-q; 1]*[-q' 1].*aii"
   ]
  },
  {
   "cell_type": "code",
   "execution_count": 144,
   "metadata": {},
   "outputs": [
    {
     "data": {
      "text/plain": [
       "3"
      ]
     },
     "execution_count": 144,
     "metadata": {},
     "output_type": "execute_result"
    }
   ],
   "source": [
    "i=3"
   ]
  },
  {
   "cell_type": "code",
   "execution_count": 145,
   "metadata": {},
   "outputs": [
    {
     "data": {
      "text/plain": [
       "2-element Array{Float64,1}:\n",
       " 0.5\n",
       " 0.5"
      ]
     },
     "execution_count": 145,
     "metadata": {},
     "output_type": "execute_result"
    }
   ],
   "source": [
    "q = testA4[1:(i-1),i] "
   ]
  },
  {
   "cell_type": "code",
   "execution_count": 146,
   "metadata": {},
   "outputs": [
    {
     "data": {
      "text/plain": [
       "2.0"
      ]
     },
     "execution_count": 146,
     "metadata": {},
     "output_type": "execute_result"
    }
   ],
   "source": [
    "aii = 1/(A[i,i] - q'A[1:(i-1),1:(i-1)]*q)"
   ]
  },
  {
   "cell_type": "code",
   "execution_count": 147,
   "metadata": {},
   "outputs": [
    {
     "data": {
      "text/plain": [
       "3×3 Array{Float64,2}:\n",
       "  1.5   1.0  -2.0\n",
       "  1.0   3.0  -2.0\n",
       " -2.0  -2.0   4.0"
      ]
     },
     "execution_count": 147,
     "metadata": {},
     "output_type": "execute_result"
    }
   ],
   "source": [
    "AinvResult[(1:i),(1:i)] = AinvResult[(1:i),(1:i)] + [-q; 1]*[-q' 1].*aii"
   ]
  },
  {
   "cell_type": "code",
   "execution_count": 148,
   "metadata": {},
   "outputs": [
    {
     "data": {
      "text/plain": [
       "4"
      ]
     },
     "execution_count": 148,
     "metadata": {},
     "output_type": "execute_result"
    }
   ],
   "source": [
    "i=4"
   ]
  },
  {
   "cell_type": "code",
   "execution_count": 149,
   "metadata": {},
   "outputs": [
    {
     "data": {
      "text/plain": [
       "3-element Array{Float64,1}:\n",
       " 0.5\n",
       " 0.5\n",
       " 0.5"
      ]
     },
     "execution_count": 149,
     "metadata": {},
     "output_type": "execute_result"
    }
   ],
   "source": [
    "q = testA4[1:(i-1),i] "
   ]
  },
  {
   "cell_type": "code",
   "execution_count": 150,
   "metadata": {},
   "outputs": [
    {
     "data": {
      "text/plain": [
       "-4.0"
      ]
     },
     "execution_count": 150,
     "metadata": {},
     "output_type": "execute_result"
    }
   ],
   "source": [
    "aii = 1/(A[i,i] - q'A[1:(i-1),1:(i-1)]*q)"
   ]
  },
  {
   "cell_type": "code",
   "execution_count": 152,
   "metadata": {},
   "outputs": [
    {
     "data": {
      "text/plain": [
       "4×4 Array{Float64,2}:\n",
       "  0.5   0.0  -3.0   2.0\n",
       "  0.0   2.0  -3.0   2.0\n",
       " -3.0  -3.0   3.0   2.0\n",
       "  2.0   2.0   2.0  -4.0"
      ]
     },
     "execution_count": 152,
     "metadata": {},
     "output_type": "execute_result"
    }
   ],
   "source": [
    "AinvResult = [AinvResult zero(q)\n",
    "                      zero(q')        0] + [-q; 1]*[-q' 1].*aii"
   ]
  },
  {
   "cell_type": "code",
   "execution_count": 109,
   "metadata": {},
   "outputs": [
    {
     "data": {
      "text/plain": [
       "4×4 Array{Float64,2}:\n",
       "  0.5  -0.5  -0.5   1.0\n",
       " -0.5   0.5  -0.5   1.0\n",
       " -1.0  -1.0   0.0   2.0\n",
       "  1.0   1.0   0.5  -1.0"
      ]
     },
     "execution_count": 109,
     "metadata": {},
     "output_type": "execute_result"
    }
   ],
   "source": [
    "testA4 * AinvResult"
   ]
  },
  {
   "cell_type": "code",
   "execution_count": null,
   "metadata": {},
   "outputs": [],
   "source": []
  }
 ],
 "metadata": {
  "celltoolbar": "Slideshow",
  "kernelspec": {
   "display_name": "Julia 1.0.0",
   "language": "julia",
   "name": "julia-1.0"
  },
  "language_info": {
   "file_extension": ".jl",
   "mimetype": "application/julia",
   "name": "julia",
   "version": "1.0.0"
  }
 },
 "nbformat": 4,
 "nbformat_minor": 2
}
