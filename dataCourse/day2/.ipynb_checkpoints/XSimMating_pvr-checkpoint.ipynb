{
 "cells": [
  {
   "cell_type": "markdown",
   "metadata": {},
   "source": [
    "# Simulating genomic data in a 'plant breeding' context"
   ]
  },
  {
   "cell_type": "code",
   "execution_count": 1,
   "metadata": {},
   "outputs": [],
   "source": [
    "#using Pkg\n",
    "#Pkg.rm(\"XSim\")"
   ]
  },
  {
   "cell_type": "code",
   "execution_count": 2,
   "metadata": {},
   "outputs": [],
   "source": [
    "#Pkg.add(PackageSpec(name=\"XSim\", rev=\"master\"))"
   ]
  },
  {
   "cell_type": "code",
   "execution_count": 3,
   "metadata": {
    "scrolled": true
   },
   "outputs": [],
   "source": [
    "using XSim, DelimitedFiles, Distributions"
   ]
  },
  {
   "cell_type": "markdown",
   "metadata": {},
   "source": [
    "### Defining the genome and reading a real marker catalogue"
   ]
  },
  {
   "cell_type": "code",
   "execution_count": 4,
   "metadata": {},
   "outputs": [
    {
     "data": {
      "text/plain": [
       "2-element Array{Array{Float64,1},1}:\n",
       " [4.83e-6, 1.329e-5, 2.863e-5, 4.975e-5, 5.266e-5, 0.0001074, 0.0001404, 0.0001939, 0.00022, 0.0002716  …  1.607, 1.608, 1.608, 1.608, 1.609, 1.609, 1.61, 1.61, 1.61, 1.611]    \n",
       " [4.032e-5, 4.066e-5, 5.46e-5, 5.816e-5, 6.075e-5, 6.748e-5, 0.0001557, 0.0001713, 0.0002177, 0.0002378  …  1.403, 1.403, 1.404, 1.404, 1.405, 1.406, 1.406, 1.406, 1.406, 1.407]"
      ]
     },
     "execution_count": 4,
     "metadata": {},
     "output_type": "execute_result"
    }
   ],
   "source": [
    "mutRate    = 0.0\n",
    "numChr     = 2\n",
    "nLoci      = 6096\n",
    "chrLength  = [1.62;1.41]\n",
    "numLoci    = [3339;2757]\n",
    "mutationRate = 0.0\n",
    "myData = readdlm(\"markerCatalogue4JuliaChrom1-2\", ' ', Any, '\\n', header=false)\n",
    "mp1 = Float64.(myData[1,1:numLoci[1]])\n",
    "mp2 = Float64.(myData[2,1:numLoci[2]])\n",
    "mapPos = [mp1, mp2]\n",
    "mapPos"
   ]
  },
  {
   "cell_type": "code",
   "execution_count": 7,
   "metadata": {},
   "outputs": [],
   "source": [
    "### # the following genefrequencies are not used, because real\n",
    "### #  data is used, but build_genome() requires an array of arrays\n",
    "genefreq1   = fill(0.5,numLoci[1])\n",
    "genefreq2 = fill(0.5,numLoci[2])\n",
    "geneFreq = [genefreq1, genefreq2];"
   ]
  },
  {
   "cell_type": "code",
   "execution_count": 8,
   "metadata": {},
   "outputs": [
    {
     "data": {
      "text/plain": [
       "2-element Array{Array{Int64,1},1}:\n",
       " [29, 360, 479, 585, 659, 1021, 1567, 1671, 1797, 1907, 2270, 2288, 2464, 2795, 2908, 3040, 3168]\n",
       " [113, 254, 452, 527, 557, 798, 955, 1068, 1654, 1836, 1845, 1961, 2128, 2309, 2677]             "
      ]
     },
     "execution_count": 8,
     "metadata": {},
     "output_type": "execute_result"
    }
   ],
   "source": [
    "### # indices of qtl positions\n",
    "idx = rand(numLoci[1]).>0.995  # you want 0.5% to be QTL, i.e about 17 QTL\n",
    "qtlIndex1 = collect(1:numLoci[1])[idx]\n",
    "idx = rand(numLoci[2]).>0.995  # you want 0.5%% to be QTL, i.e about 14 QTL\n",
    "qtlIndex2 = collect(1:numLoci[2])[idx]\n",
    "qtlIndex = [qtlIndex1, qtlIndex2]"
   ]
  },
  {
   "cell_type": "code",
   "execution_count": 9,
   "metadata": {},
   "outputs": [
    {
     "name": "stdout",
     "output_type": "stream",
     "text": [
      "Number of QTL on chromosome 1: 17\n",
      "Number of QTL on chromosome 2: 15\n"
     ]
    }
   ],
   "source": [
    "line = 0\n",
    "numQTL = 0\n",
    "\n",
    "for i in qtlIndex\n",
    "    line +=1\n",
    "    println(\"Number of QTL on chromosome $line: \", length(i))\n",
    "    numQTL += 1\n",
    "end\n",
    "\n",
    "qtlEffect1 = randn(length(qtlIndex1))/sqrt(0.5*numQTL)\n",
    "qtlEffect2 = randn(length(qtlIndex2))/sqrt(0.5*numQTL)\n",
    "qtlEffect = [qtlEffect1, qtlEffect2];"
   ]
  },
  {
   "cell_type": "markdown",
   "metadata": {},
   "source": [
    "### Building the genome\n",
    "Passing  arrays for chrLength, numLoci and arrays of arrays for mapPos, geneFreq, qtlIndex, qtlEffect\n",
    "i.e. using the most flexible version of build_genome"
   ]
  },
  {
   "cell_type": "code",
   "execution_count": null,
   "metadata": {},
   "outputs": [],
   "source": [
    "build_genome(numChr,chrLength,numLoci,geneFreq, mapPos, qtlIndex, qtlEffect, mutationRate)"
   ]
  },
  {
   "cell_type": "markdown",
   "metadata": {},
   "source": [
    "where \n",
    "\n",
    "* numChr: number of chromosomes\n",
    "* chrLength: array of length numChr with the length of each chromosome\n",
    "* numLoci: array of length numChr with the number of loci on each chromosome\n",
    "* geneFreq: array of arrays with gene frequencies which are not used here, because locus data is read from a file\n",
    "* mapPos: position of markers on chromosome read from file\n",
    "* qtlIndex: indeces of loci where qtl are found\n",
    "* qtlEffect: array of arrays of qtl-effects\n",
    "* mutationRate: rate of mutation"
   ]
  },
  {
   "cell_type": "markdown",
   "metadata": {},
   "source": [
    "### Sampling founder individuals from a file with 1326 genotyped individuals\n",
    "Note that the genotype data for two chromosomes on the file is phased. You may have to use FImpute or some similar software for phasing. You may read less individuals form the data file than it contains, but not more."
   ]
  },
  {
   "cell_type": "code",
   "execution_count": null,
   "metadata": {},
   "outputs": [],
   "source": [
    "popSizeFounder = 1326\n",
    "basePop = sampleFounders(popSizeFounder, \"reformattedMarkerDataChrom1-2\");"
   ]
  },
  {
   "cell_type": "markdown",
   "metadata": {},
   "source": [
    "Splitting the founder individuals into tow cohorts of equal size"
   ]
  },
  {
   "cell_type": "code",
   "execution_count": null,
   "metadata": {},
   "outputs": [],
   "source": [
    "basePopMales = XSim.Cohort(Array{XSim.Animal,1}(undef,0),Array{Int64,2}(undef,0,0))\n",
    "basePopMales.animalCohort = basePop.animalCohort[1:663];"
   ]
  },
  {
   "cell_type": "code",
   "execution_count": null,
   "metadata": {},
   "outputs": [],
   "source": [
    "basePopFemales = XSim.Cohort(Array{XSim.Animal,1}(undef,0),Array{Int64,2}(undef,0,0))\n",
    "basePopFemales.animalCohort = basePop.animalCohort[664:1326];"
   ]
  },
  {
   "cell_type": "markdown",
   "metadata": {},
   "source": [
    "Although not used here, animals and cohorts belong to breeds, and the breed coposition can be set for cohorts and is inferered thereafter from the mating strategy"
   ]
  },
  {
   "cell_type": "code",
   "execution_count": null,
   "metadata": {
    "scrolled": true
   },
   "outputs": [],
   "source": [
    "XSim.setBreedComp(basePop,[1.0])\n",
    "XSim.setBreedComp(basePopMales,[1.0])\n",
    "XSim.setBreedComp(basePopFemales,[1.0]);"
   ]
  },
  {
   "cell_type": "markdown",
   "metadata": {},
   "source": [
    "Removing output files form a previous run, then creating 5'000 DH lines from an initial crossing of the two base populations"
   ]
  },
  {
   "cell_type": "code",
   "execution_count": null,
   "metadata": {},
   "outputs": [],
   "source": [
    "outputFileName = \"JuliaPlants\"\n",
    "run(`\\rm -f $outputFileName.ped`)\n",
    "run(`\\rm -f $outputFileName.phe`)\n",
    "run(`\\rm -f $outputFileName.brc`)\n",
    "run(`\\rm -f $outputFileName.gen`)\n",
    "\n",
    "numOffspring = 500\n",
    "DHBaseLines1 = XSim.sampleDHLines(basePopMales, basePopFemales, numOffspring)\n",
    "DHBaseLines2 = XSim.sampleDHLines(basePopMales, basePopFemales, numOffspring);"
   ]
  },
  {
   "cell_type": "markdown",
   "metadata": {},
   "source": [
    "Lets look at the mean and variance of the genotypic values of our 5000 DH-lines in DHBaseline1 and DHBaseline2.  "
   ]
  },
  {
   "cell_type": "code",
   "execution_count": null,
   "metadata": {
    "scrolled": true
   },
   "outputs": [],
   "source": [
    "var(getOurGenVals(DHBaseLines1))"
   ]
  },
  {
   "cell_type": "code",
   "execution_count": null,
   "metadata": {},
   "outputs": [],
   "source": [
    "var(getOurGenVals(DHBaseLines2))"
   ]
  },
  {
   "cell_type": "code",
   "execution_count": null,
   "metadata": {},
   "outputs": [],
   "source": [
    "mean(getOurGenVals(DHBaseLines1))"
   ]
  },
  {
   "cell_type": "code",
   "execution_count": null,
   "metadata": {},
   "outputs": [],
   "source": [
    "mean(getOurGenVals(DHBaseLines2))"
   ]
  },
  {
   "cell_type": "markdown",
   "metadata": {},
   "source": [
    "Let us specify  the residual variance to simulate phenotypic values, note that getOurPhenVals() is actually setting all individuals phenotypic values in the cohort that is passed as an argument."
   ]
  },
  {
   "cell_type": "code",
   "execution_count": null,
   "metadata": {},
   "outputs": [],
   "source": [
    "resVar = 5\n",
    "XSim.setResidualVariance(resVar)"
   ]
  },
  {
   "cell_type": "code",
   "execution_count": null,
   "metadata": {},
   "outputs": [],
   "source": [
    "var(getOurPhenVals(DHBaseLines1,resVar))"
   ]
  },
  {
   "cell_type": "code",
   "execution_count": null,
   "metadata": {},
   "outputs": [],
   "source": [
    "var(getOurPhenVals(DHBaseLines2,resVar))"
   ]
  },
  {
   "cell_type": "code",
   "execution_count": null,
   "metadata": {},
   "outputs": [],
   "source": [
    "outputFileName"
   ]
  },
  {
   "cell_type": "markdown",
   "metadata": {},
   "source": [
    "Now lets output the data to the files. Note that outputPedigree() is not only outputting the pedigree, but also the phenotypes and gentoypes, look at the files that got generated!"
   ]
  },
  {
   "cell_type": "code",
   "execution_count": null,
   "metadata": {
    "scrolled": true
   },
   "outputs": [],
   "source": [
    "outputPedigree(DHBaseLines1,outputFileName);\n",
    "outputPedigree(DHBaseLines2,outputFileName);"
   ]
  },
  {
   "cell_type": "markdown",
   "metadata": {},
   "source": [
    "Sampling each 2500 male and female parents from DHBaseline1 at random and producing one offspring each. Sampling of parents is done with replacement. Note that sampleRan() is sampling 50% female and 50% male offspring, we are concatenating them into a single cohort. Note further, that we are using the same population to sample male and female parents from, so sex is ignored and we might even end up cloning an individual. Furthermore, after this step of random mating, our DH-Lines are not double haploids anymore. With the parameter numGen that is passed as an argument to sampleRan(), we are determining the number of generations of random mating. The variable 'gen' is used to store the actual numer of generation the simualtion currently is at."
   ]
  },
  {
   "cell_type": "code",
   "execution_count": null,
   "metadata": {},
   "outputs": [],
   "source": [
    "DHLine1_H1 = XSim.Cohort(Array{XSim.Animal,1}(undef,0),Array{Int64,2}(undef,0,0)) \n",
    "DHLine1_H1m = XSim.Cohort(Array{XSim.Animal,1}(undef,0),Array{Int64,2}(undef,0,0)) \n",
    "DHLine1_H1f = XSim.Cohort(Array{XSim.Animal,1}(undef,0),Array{Int64,2}(undef,0,0))\n",
    "numOffspring = 2500\n",
    "numGen = 1\n",
    "gen = 1\n",
    "output = true\n",
    "DHLine1_H1m, DHLine1_H1f, gen = sampleRan(numOffspring, numGen, DHBaseLines1, DHBaseLines1, fileName=outputFileName)\n",
    "DHLine1_H1 = concatCohorts(DHLine1_H1m, DHLine1_H1f);"
   ]
  },
  {
   "cell_type": "markdown",
   "metadata": {},
   "source": [
    "Now we are repeating the same random mating for DHBaseline2"
   ]
  },
  {
   "cell_type": "code",
   "execution_count": null,
   "metadata": {},
   "outputs": [],
   "source": [
    "DHLine2_H1 = XSim.Cohort(Array{XSim.Animal,1}(undef,0),Array{Int64,2}(undef,0,0)) \n",
    "DHLine2_H1m = XSim.Cohort(Array{XSim.Animal,1}(undef,0),Array{Int64,2}(undef,0,0)) \n",
    "DHLine2_H1f = XSim.Cohort(Array{XSim.Animal,1}(undef,0),Array{Int64,2}(undef,0,0))\n",
    "numOffspring = 2500\n",
    "numGen = 1\n",
    "gen = 1\n",
    "output = true\n",
    "DHLine2_H1m, DHLine2_H1f, gen = sampleRan(numOffspring, numGen, DHBaseLines2, DHBaseLines2, fileName=outputFileName)\n",
    "DHLine2_H1 = concatCohorts(DHLine2_H1m, DHLine2_H1f);"
   ]
  },
  {
   "cell_type": "markdown",
   "metadata": {},
   "source": [
    "We know now how to generate double haploid lines and how to do random mating. Next let's do phenotypic selection. As before we are declaring the male and female cohorts to hold the offspring that are going to be generated. We will be generation 1000 offspring based on 100 phenotypically best male and female parents. Again we will be selecting the phenotypically best 100 parents from the same population that was generated in the previous step (DHLine1_H1)."
   ]
  },
  {
   "cell_type": "code",
   "execution_count": null,
   "metadata": {},
   "outputs": [],
   "source": [
    "DHLine1_H2 = XSim.Cohort(Array{XSim.Animal,1}(undef,0),Array{Int64,2}(undef,0,0)) \n",
    "DHLine1_H2m = XSim.Cohort(Array{XSim.Animal,1}(undef,0),Array{Int64,2}(undef,0,0)) \n",
    "DHLine1_H2f = XSim.Cohort(Array{XSim.Animal,1}(undef,0),Array{Int64,2}(undef,0,0))\n",
    "numMaleParents = 100\n",
    "numFemaleParents = 100\n",
    "numOffspring = 1000\n",
    "numGen = 1\n",
    "DHLine1_H2m, DHLine1_H2f, gen = sampleSel(numOffspring, numMaleParents, numFemaleParents, numGen, \n",
    "                                    DHLine1_H1, DHLine1_H1, XSim.common.varRes, gen=gen,\n",
    "                                    fileName=outputFileName, direction=1);\n",
    "DHLine1_H2 = concatCohorts(DHLine1_H2m, DHLine1_H2f);"
   ]
  },
  {
   "cell_type": "markdown",
   "metadata": {},
   "source": [
    "As before, we are applying mass selection also to the other population in the same way as was done above for DHLine_H1 now for DHLine_H2"
   ]
  },
  {
   "cell_type": "code",
   "execution_count": null,
   "metadata": {
    "scrolled": true
   },
   "outputs": [],
   "source": [
    "DHLine2_H2 = XSim.Cohort(Array{XSim.Animal,1}(undef,0),Array{Int64,2}(undef,0,0)) \n",
    "DHLine2_H2m = XSim.Cohort(Array{XSim.Animal,1}(undef,0),Array{Int64,2}(undef,0,0)) \n",
    "DHLine2_H2f = XSim.Cohort(Array{XSim.Animal,1}(undef,0),Array{Int64,2}(undef,0,0))\n",
    "numMaleParents = 100\n",
    "numFemaleParents = 100\n",
    "numOffspring = 1000\n",
    "numGen = 1\n",
    "DHLine2_H2m, DHLine2_H2f, gen = sampleSel(numOffspring, numMaleParents, numFemaleParents, numGen, \n",
    "                                    DHLine2_H1, DHLine2_H1, XSim.common.varRes, gen=gen,\n",
    "                                    fileName=outputFileName, direction=1);\n",
    "DHLine2_H2 = concatCohorts(DHLine2_H2m, DHLine2_H2f);"
   ]
  },
  {
   "cell_type": "markdown",
   "metadata": {},
   "source": [
    "After random mating and phentoypic selection, let us apply selection based on BLUP, i.e. breeding values. For this purpose, we need to read the pedigree and phenotpyic files that were produced sampleRan() and sampleSel() as well as outputPedigree() above. First, let's read the phenotypic data into a dataframe."
   ]
  },
  {
   "cell_type": "code",
   "execution_count": null,
   "metadata": {},
   "outputs": [],
   "source": [
    "using DataFrames\n",
    "# BLUP selection\n",
    "phenofile = outputFileName*\".phe\"\n",
    "colNames = [:Animal;:y;:bv]\n",
    "#dfPhen = CSV.read(phenofile,delim = ' ',header=false,names=colNames)\n",
    "dfPhen = readtable(phenofile, separator=' ', header=false)\n",
    "names!(dfPhen, colNames)\n",
    "dfPhen[:1] = string.(dfPhen[:1])\n",
    "dfPhen"
   ]
  },
  {
   "cell_type": "markdown",
   "metadata": {},
   "source": [
    "Now, we read the pedigree in to a dataframe, reformat it, write is out again such that it can finally be read by the get_pedigree() method. This should be fixed in future releases...."
   ]
  },
  {
   "cell_type": "code",
   "execution_count": null,
   "metadata": {},
   "outputs": [],
   "source": [
    "pedfile   = outputFileName*\".ped\"\n",
    "dfPed = readtable(pedfile,separator = ' ', header = false)"
   ]
  },
  {
   "cell_type": "code",
   "execution_count": null,
   "metadata": {},
   "outputs": [],
   "source": [
    "using CSV\n",
    "pedfile = outputFileName*\".pedReformatted\"\n",
    "CSV.write(pedfile, dfPed, delim=';',header=[\"ind\",\"sire\" , \"dam\"])"
   ]
  },
  {
   "cell_type": "code",
   "execution_count": null,
   "metadata": {
    "scrolled": true
   },
   "outputs": [],
   "source": [
    "ped = XSim.get_pedigree(pedfile,separator=';');"
   ]
  },
  {
   "cell_type": "markdown",
   "metadata": {},
   "source": [
    "After having read phenotypes and genotypes, we can now set the genetic variance that shall be used in BLUP, define the model for analysis, setup the mixed model equations and solve them. "
   ]
  },
  {
   "cell_type": "code",
   "execution_count": null,
   "metadata": {},
   "outputs": [],
   "source": [
    "varGen = 5\n",
    "mme = XSim.build_model(\"y = intercept + Animal\",resVar)\n",
    "XSim.set_random(mme,\"Animal\",ped,varGen)\n",
    "out = XSim.solve(mme,dfPhen,solver=\"GaussSeidel\",printout_frequency=40)"
   ]
  },
  {
   "cell_type": "markdown",
   "metadata": {},
   "source": [
    "Now all our indiviudals have estimated genotypic values, with the method putEBV() we are transferring them to the indiviudals that we would like to select to become the parents of the next generation. In our case, these would be the cohorts DHLine1_H2 and DHLine2_H2"
   ]
  },
  {
   "cell_type": "code",
   "execution_count": null,
   "metadata": {
    "scrolled": false
   },
   "outputs": [],
   "source": [
    "# transfer BLUP-EBV to animals\n",
    "XSim.putEBV(DHLine1_H2,ped,mme,out)\n",
    "XSim.putEBV(DHLine2_H2,ped,mme,out)"
   ]
  },
  {
   "cell_type": "code",
   "execution_count": null,
   "metadata": {},
   "outputs": [],
   "source": [
    "DHLine1_H2_sorted = XSim.Cohort(Array{XSim.Animal}(undef,0),Array{Int64}(undef,0,0))\n",
    "DHLine2_H2_sorted  = XSim.Cohort(Array{XSim.Animal}(undef,0),Array{Int64}(undef,0,0))\n",
    "DHLine1_H3  = XSim.Cohort(Array{XSim.Animal}(undef,0),Array{Int64}(undef,0,0))\n",
    "DHLine2_H3  = XSim.Cohort(Array{XSim.Animal}(undef,0),Array{Int64}(undef,0,0))\n",
    "direction = 1.0\n",
    "numMaleParents = 50\n",
    "numFemaleParents = 50\n",
    "numOffspring = 500\n",
    "numGen = 1"
   ]
  },
  {
   "cell_type": "markdown",
   "metadata": {},
   "source": [
    "After having declared empty cohorts for the offspring of the next generation, we are creating a y vector with the animals EBVs in the direction we want to select on (e.g. if low values arefavourable, direction should be -1.0). Then EBVs are sorted and the best number of parents are selected to be passed as parents to sampleChildren()"
   ]
  },
  {
   "cell_type": "code",
   "execution_count": null,
   "metadata": {},
   "outputs": [],
   "source": [
    "println(\"Generation $gen : sampling children by BLUP\")\n",
    "y = direction*[animal.ebv for animal in DHLine1_H2.animalCohort]\n",
    "DHLine1_H2_sorted.animalCohort = DHLine1_H2.animalCohort[sortperm(y)][(end-numMaleParents+1):end]\n",
    "y = direction*[animal.ebv for animal in DHLine2_H2.animalCohort]\n",
    "DHLine2_H2_sorted.animalCohort = DHLine2_H2.animalCohort[sortperm(y)][(end-numFemaleParents+1):end]\n",
    "DHLine1_H3 = XSim.sampleChildren(DHLine1_H2_sorted,DHLine1_H2_sorted,numOffspring)\n",
    "DHLine2_H3 = XSim.sampleChildren(DHLine2_H2_sorted,DHLine2_H2_sorted,numOffspring)\n",
    "outputPedigree(DHLine1_H3,outputFileName)\n",
    "outputPedigree(DHLine2_H3,outputFileName)\n",
    "gen+=1"
   ]
  },
  {
   "cell_type": "markdown",
   "metadata": {},
   "source": [
    "Finally, we are producing each 250 double haploid lines again, from the offspring of the BLUP selected parents "
   ]
  },
  {
   "cell_type": "code",
   "execution_count": null,
   "metadata": {},
   "outputs": [],
   "source": [
    "println(\"Producing DHLines again....\")\n",
    "DHLine1_4  = XSim.Cohort(Array{XSim.Animal}(undef,0),Array{Int64}(undef,0,0))\n",
    "DHLine2_4  = XSim.Cohort(Array{XSim.Animal}(undef,0),Array{Int64}(undef,0,0))\n",
    "\n",
    "numOffspring = 250\n",
    "DHLine1_4 = XSim.sampleDHLines(DHLine1_H3, DHLine1_H3, numOffspring)\n",
    "DHLine2_4 = XSim.sampleDHLines(DHLine2_H3, DHLine2_H3, numOffspring);\n",
    "     \n"
   ]
  },
  {
   "cell_type": "code",
   "execution_count": null,
   "metadata": {},
   "outputs": [],
   "source": [
    "outputPedigree(DHLine1_4,outputFileName);\n",
    "outputPedigree(DHLine2_4,outputFileName);"
   ]
  },
  {
   "cell_type": "markdown",
   "metadata": {},
   "source": [
    "The final step is crossing the two DHLines again to produce hybrids...."
   ]
  },
  {
   "cell_type": "code",
   "execution_count": null,
   "metadata": {},
   "outputs": [],
   "source": [
    "println(\"Producing hybrids now....\")\n",
    "H1 = XSim.Cohort(Array{XSim.Animal,1}(undef,0),Array{Int64,2}(undef,0,0)) \n",
    "H1m = XSim.Cohort(Array{XSim.Animal,1}(undef,0),Array{Int64,2}(undef,0,0)) \n",
    "H1f = XSim.Cohort(Array{XSim.Animal,1}(undef,0),Array{Int64,2}(undef,0,0))\n",
    "numOffspring = 250\n",
    "numGen = 1\n",
    "gen = 1\n",
    "output = true\n",
    "H1m, H1f, gen = sampleRan(numOffspring, numGen, DHLine1_4, DHLine2_4, fileName=outputFileName)\n",
    "H1 = concatCohorts(DHLine2_H1m, DHLine2_H1f);\n"
   ]
  },
  {
   "cell_type": "markdown",
   "metadata": {},
   "source": [
    "Of course the 'breeding program' outlined here is not reflecting a real situation but rahter shows you the tools XSim has to do simulations. You should be able to modify the above code to better reflect a real situation. Also you may modify XSim's methodsto better reflect the situation you need to cope with. Note that all data simulated is written to the files with the name <outputFileName> that you declared above. so You should be able to look at selection response, genetic trend across generation etc."
   ]
  },
  {
   "cell_type": "code",
   "execution_count": null,
   "metadata": {},
   "outputs": [],
   "source": []
  }
 ],
 "metadata": {
  "kernelspec": {
   "display_name": "Julia 1.0.0",
   "language": "julia",
   "name": "julia-1.0"
  },
  "language_info": {
   "file_extension": ".jl",
   "mimetype": "application/julia",
   "name": "julia",
   "version": "1.0.0"
  }
 },
 "nbformat": 4,
 "nbformat_minor": 2
}
