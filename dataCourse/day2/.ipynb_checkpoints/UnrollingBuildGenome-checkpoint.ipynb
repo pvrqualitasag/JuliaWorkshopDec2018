{
 "cells": [
  {
   "cell_type": "markdown",
   "metadata": {},
   "source": [
    "## Unrolling Function `build_genome`\n",
    "The basic version of the function `build_genome` is found on github in XSim.jl/src/XSim.jl. Here, we try to unroll the function body to understand what is happening inside of the function."
   ]
  },
  {
   "cell_type": "code",
   "execution_count": 1,
   "metadata": {},
   "outputs": [],
   "source": [
    "using XSim, DelimitedFiles, Distributions"
   ]
  },
  {
   "cell_type": "markdown",
   "metadata": {},
   "source": [
    "### Initialisation of Function Arguments\n",
    "The first step is to initialize the function argument."
   ]
  },
  {
   "cell_type": "code",
   "execution_count": 2,
   "metadata": {},
   "outputs": [
    {
     "data": {
      "text/plain": [
       "2-element Array{Array{Float64,1},1}:\n",
       " [4.83e-6, 1.329e-5, 2.863e-5, 4.975e-5, 5.266e-5, 0.0001074, 0.0001404, 0.0001939, 0.00022, 0.0002716  …  1.607, 1.608, 1.608, 1.608, 1.609, 1.609, 1.61, 1.61, 1.61, 1.611]    \n",
       " [4.032e-5, 4.066e-5, 5.46e-5, 5.816e-5, 6.075e-5, 6.748e-5, 0.0001557, 0.0001713, 0.0002177, 0.0002378  …  1.403, 1.403, 1.404, 1.404, 1.405, 1.406, 1.406, 1.406, 1.406, 1.407]"
      ]
     },
     "execution_count": 2,
     "metadata": {},
     "output_type": "execute_result"
    }
   ],
   "source": [
    "### # number of chromosomes\n",
    "numChr     = 2\n",
    "### # number of loci\n",
    "nLoci      = 6096\n",
    "### # genetic length of each chromosome\n",
    "chrLength  = [1.62;1.41]\n",
    "### # number of loci on each chromosome\n",
    "numLoci    = [3339;2757]\n",
    "### # mutation rate\n",
    "mutationRate = 0.0\n",
    "### # read the genetic loci from a file\n",
    "myData = readdlm(\"markerCatalogue4JuliaChrom1-2\", ' ', Any, '\\n', header=false)\n",
    "### # convert read positions to floating point numbers\n",
    "mp1 = Float64.(myData[1,1:numLoci[1]])\n",
    "mp2 = Float64.(myData[2,1:numLoci[2]])\n",
    "### # combining map positions into an array of arrays\n",
    "mapPos = [mp1, mp2]\n",
    "mapPos"
   ]
  },
  {
   "cell_type": "markdown",
   "metadata": {},
   "source": [
    "Gene frequencies are assigned here, such that they can be passed eventually to the `build_genome()` function. But they will not be used, because the genetic loci information will be based on the data read from the file."
   ]
  },
  {
   "cell_type": "code",
   "execution_count": 3,
   "metadata": {},
   "outputs": [],
   "source": [
    "### # the following genefrequencies are not used, because real\n",
    "### #  data is used, but build_genome() requires an array of arrays\n",
    "genefreq1   = fill(0.5,numLoci[1])\n",
    "genefreq2 = fill(0.5,numLoci[2])\n",
    "geneFreq = [genefreq1, genefreq2];"
   ]
  },
  {
   "cell_type": "markdown",
   "metadata": {},
   "source": [
    "From the number of loci, a random sample is declared as QTL."
   ]
  },
  {
   "cell_type": "code",
   "execution_count": 4,
   "metadata": {},
   "outputs": [
    {
     "data": {
      "text/plain": [
       "2-element Array{Array{Int64,1},1}:\n",
       " [364, 610, 785, 824, 960, 1159, 1721, 1905, 1987, 2631, 2633, 2829, 2941, 3245]\n",
       " [128, 228, 253, 264, 497, 672, 1420, 1509, 1938, 1996, 2154, 2317, 2385]       "
      ]
     },
     "execution_count": 4,
     "metadata": {},
     "output_type": "execute_result"
    }
   ],
   "source": [
    "### # indices of qtl positions\n",
    "idx = rand(numLoci[1]).>0.995  # you want 0.5% to be QTL, i.e about 17 QTL\n",
    "qtlIndex1 = collect(1:numLoci[1])[idx]\n",
    "idx = rand(numLoci[2]).>0.995  # you want 0.5%% to be QTL, i.e about 14 QTL\n",
    "qtlIndex2 = collect(1:numLoci[2])[idx]\n",
    "qtlIndex = [qtlIndex1, qtlIndex2]"
   ]
  },
  {
   "cell_type": "markdown",
   "metadata": {},
   "source": [
    "The QTL-effects are generated from a normal distribution."
   ]
  },
  {
   "cell_type": "code",
   "execution_count": 5,
   "metadata": {},
   "outputs": [
    {
     "name": "stdout",
     "output_type": "stream",
     "text": [
      "Number of QTL on chromosome 1: 14\n",
      "Number of QTL on chromosome 2: 13\n"
     ]
    }
   ],
   "source": [
    "line = 0\n",
    "numQTL = 0\n",
    "\n",
    "for i in qtlIndex\n",
    "    line +=1\n",
    "    println(\"Number of QTL on chromosome $line: \", length(i))\n",
    "    numQTL += 1\n",
    "end\n",
    "\n",
    "qtlEffect1 = randn(length(qtlIndex1))/sqrt(0.5*numQTL)\n",
    "qtlEffect2 = randn(length(qtlIndex2))/sqrt(0.5*numQTL)\n",
    "qtlEffect = [qtlEffect1, qtlEffect2];"
   ]
  },
  {
   "cell_type": "markdown",
   "metadata": {},
   "source": [
    "\n",
    "Now all components are ready and we can step into the function body."
   ]
  },
  {
   "cell_type": "code",
   "execution_count": 6,
   "metadata": {},
   "outputs": [],
   "source": [
    "#build_genome(numChr,chrLength,numLoci,geneFreq, mapPos, qtlIndex, qtlEffect, mutationRate)\n",
    "nChromosome = numChr\n",
    "chromosome_length = chrLength\n",
    "nLoci = numLoci\n",
    "gene_frequency = geneFreq\n",
    "map_position = mapPos\n",
    "qtl_index = qtlIndex\n",
    "qtl_effect = qtlEffect\n",
    "mutation_rate = mutationRate\n",
    "genotypeErrorRate=0.0;\n"
   ]
  },
  {
   "cell_type": "markdown",
   "metadata": {},
   "source": [
    "The following statements are copied from the function body. We first have to define the required types."
   ]
  },
  {
   "cell_type": "code",
   "execution_count": 9,
   "metadata": {},
   "outputs": [],
   "source": [
    "mutable struct LocusInfo\n",
    "    map_pos::Float64\n",
    "    allele_freq::Array\n",
    "    QTL::Bool\n",
    "    QTL_effect::Float64\n",
    "end\n",
    "\n",
    "mutable struct ChromosomeInfo\n",
    "    chrLength::Float64\n",
    "    numLoci::Int64\n",
    "    mapPos::Array{Float64,1}\n",
    "    loci::Array{LocusInfo,1}\n",
    "end"
   ]
  },
  {
   "cell_type": "code",
   "execution_count": 10,
   "metadata": {},
   "outputs": [],
   "source": [
    "### # initialize\n",
    "QTL_index  = Array{Int64}(undef, 0)  #for whole genome\n",
    "QTL_effect = Array{Float64}(undef, 0)#for whole genome\n",
    "chr        = Array{ChromosomeInfo}(undef, 0)#for whole genome\n",
    "\n",
    "startlocus= 0; #locus index on whole genome"
   ]
  },
  {
   "cell_type": "code",
   "execution_count": 12,
   "metadata": {},
   "outputs": [],
   "source": [
    "### # unroll loop over chromosomes\n",
    "#for j in 1:nChromosome\n",
    "j=1\n",
    "locus_array = Array{LocusInfo}(undef, nLoci[j]);\n",
    "\n",
    "#end"
   ]
  },
  {
   "cell_type": "code",
   "execution_count": 14,
   "metadata": {},
   "outputs": [
    {
     "data": {
      "text/plain": [
       "LocusInfo(4.83e-6, [0.5, 0.5], false, 0.0)"
      ]
     },
     "execution_count": 14,
     "metadata": {},
     "output_type": "execute_result"
    }
   ],
   "source": [
    "### # unroll loop over loci\n",
    "# for i in 1:nLoci[j]\n",
    "i=1\n",
    "        if map_position[j][i]>=chromosome_length[j]\n",
    "          error(\"Map posion is not on the chromosome (map position >= chromosome length)\")\n",
    "        end\n",
    "        pos = map_position[j][i]\n",
    "        locus_array[i] = LocusInfo(pos,[gene_frequency[j][i],1-gene_frequency[j][i]],false,0.0)\n",
    "#end"
   ]
  },
  {
   "cell_type": "code",
   "execution_count": 15,
   "metadata": {},
   "outputs": [
    {
     "data": {
      "text/plain": [
       "LocusInfo(1.329e-5, [0.5, 0.5], false, 0.0)"
      ]
     },
     "execution_count": 15,
     "metadata": {},
     "output_type": "execute_result"
    }
   ],
   "source": [
    "i=2\n",
    "        if map_position[j][i]>=chromosome_length[j]\n",
    "          error(\"Map posion is not on the chromosome (map position >= chromosome length)\")\n",
    "        end\n",
    "        pos = map_position[j][i]\n",
    "        locus_array[i] = LocusInfo(pos,[gene_frequency[j][i],1-gene_frequency[j][i]],false,0.0)"
   ]
  },
  {
   "cell_type": "markdown",
   "metadata": {},
   "source": [
    "These assignments are done for all loci on the current chromosome."
   ]
  },
  {
   "cell_type": "markdown",
   "metadata": {},
   "source": [
    "For all QTL, the required settings are done in the LocusInfo objects. Then all LocusInfo objects are collected into a ChromosomeInfo object. \n",
    "\n",
    "At the end the following items are collected into a GenomeInfo object. \n",
    "\n",
    "* chr: array of ChromosomeInfo\n",
    "* nChromosome: number of chromosomes\n",
    "* mutation_rate: mutation rate\n",
    "* genotypeErrorRate: error rate\n",
    "* QTL_index: array of indices indicating which loci are qtl\n",
    "* QTL_effect: array of qtl effects\n"
   ]
  },
  {
   "cell_type": "markdown",
   "metadata": {},
   "source": [
    "At the bottom of the function `build_genome()` the GenomeInfo object is assigned to myCommon.G and an empty array of founder animals is assigned to myCommon.founders. This animal array will most likely be filled with any of the founder sampling methods. "
   ]
  },
  {
   "cell_type": "code",
   "execution_count": null,
   "metadata": {},
   "outputs": [],
   "source": []
  }
 ],
 "metadata": {
  "kernelspec": {
   "display_name": "Julia 1.0.0",
   "language": "julia",
   "name": "julia-1.0"
  },
  "language_info": {
   "file_extension": ".jl",
   "mimetype": "application/julia",
   "name": "julia",
   "version": "1.0.0"
  }
 },
 "nbformat": 4,
 "nbformat_minor": 2
}
