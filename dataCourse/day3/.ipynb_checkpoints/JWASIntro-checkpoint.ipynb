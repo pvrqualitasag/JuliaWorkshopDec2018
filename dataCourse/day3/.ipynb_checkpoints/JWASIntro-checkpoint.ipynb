{
 "cells": [
  {
   "cell_type": "markdown",
   "metadata": {},
   "source": [
    "# Introduction to JWAS"
   ]
  },
  {
   "cell_type": "markdown",
   "metadata": {},
   "source": [
    "* JWAS is a package for Bayesian mixed linear model analyses\n",
    "\n",
    "* Can accommodate: \n",
    "\n",
    "    * breeding value models (animal models)\n",
    "    * maternal effects\n",
    "    * multiple traits\n",
    "    * SNP effects\n",
    "    \n",
    "* Non-SNP random effects are assumed to be normallly distributed  \n",
    "* SNP effects can be normal (RR-BLUP), t-distributed (BayesA), mixed (BayesB and BayesC), or Laplace (Bayesian LASSO) \n",
    "* Inference based on MCMC samples \n"
   ]
  },
  {
   "cell_type": "markdown",
   "metadata": {},
   "source": [
    "## Non-SNP part of the model: examples "
   ]
  },
  {
   "cell_type": "markdown",
   "metadata": {},
   "source": [
    "### Single-trait models "
   ]
  },
  {
   "cell_type": "markdown",
   "metadata": {},
   "source": [
    "### Data"
   ]
  },
  {
   "cell_type": "code",
   "execution_count": 1,
   "metadata": {},
   "outputs": [
    {
     "data": {
      "text/html": [
       "<table class=\"data-frame\"><thead><tr><th></th><th>Line</th><th>Age</th><th>Height</th></tr><tr><th></th><th>Int64⍰</th><th>Int64⍰</th><th>Float64⍰</th></tr></thead><tbody><p>6 rows × 3 columns</p><tr><th>1</th><td>1</td><td>20</td><td>20.0</td></tr><tr><th>2</th><td>1</td><td>19</td><td>21.1</td></tr><tr><th>3</th><td>2</td><td>21</td><td>15.9</td></tr><tr><th>4</th><td>2</td><td>20</td><td>13.7</td></tr><tr><th>5</th><td>3</td><td>18</td><td>18.4</td></tr><tr><th>6</th><td>3</td><td>20</td><td>22.0</td></tr></tbody></table>"
      ],
      "text/latex": [
       "\\begin{tabular}{r|ccc}\n",
       "\t& Line & Age & Height\\\\\n",
       "\t\\hline\n",
       "\t1 & 1 & 20 & 20.0 \\\\\n",
       "\t2 & 1 & 19 & 21.1 \\\\\n",
       "\t3 & 2 & 21 & 15.9 \\\\\n",
       "\t4 & 2 & 20 & 13.7 \\\\\n",
       "\t5 & 3 & 18 & 18.4 \\\\\n",
       "\t6 & 3 & 20 & 22.0 \\\\\n",
       "\\end{tabular}\n"
      ],
      "text/plain": [
       "6×3 DataFrame\n",
       "│ Row │ Line   │ Age    │ Height   │\n",
       "│     │ \u001b[90mInt64⍰\u001b[39m │ \u001b[90mInt64⍰\u001b[39m │ \u001b[90mFloat64⍰\u001b[39m │\n",
       "├─────┼────────┼────────┼──────────┤\n",
       "│ 1   │ 1      │ 20     │ 20.0     │\n",
       "│ 2   │ 1      │ 19     │ 21.1     │\n",
       "│ 3   │ 2      │ 21     │ 15.9     │\n",
       "│ 4   │ 2      │ 20     │ 13.7     │\n",
       "│ 5   │ 3      │ 18     │ 18.4     │\n",
       "│ 6   │ 3      │ 20     │ 22.0     │"
      ]
     },
     "execution_count": 1,
     "metadata": {},
     "output_type": "execute_result"
    }
   ],
   "source": [
    "using CSV, DataFrames, Statistics\n",
    "data1 = CSV.read(\"singleTraitEx.phen\")"
   ]
  },
  {
   "cell_type": "markdown",
   "metadata": {},
   "source": [
    "### One-way model "
   ]
  },
  {
   "cell_type": "code",
   "execution_count": 2,
   "metadata": {},
   "outputs": [],
   "source": [
    "using JWAS, JWAS.Datasets"
   ]
  },
  {
   "cell_type": "code",
   "execution_count": 3,
   "metadata": {},
   "outputs": [],
   "source": [
    "varRes = 10.0\n",
    "model1 = build_model(\"Height = intercept + Line\", varRes);"
   ]
  },
  {
   "cell_type": "code",
   "execution_count": 4,
   "metadata": {},
   "outputs": [
    {
     "name": "stdout",
     "output_type": "stream",
     "text": [
      "search: \u001b[0m\u001b[1mr\u001b[22m\u001b[0m\u001b[1mu\u001b[22m\u001b[0m\u001b[1mn\u001b[22m\u001b[0m\u001b[1mM\u001b[22m\u001b[0m\u001b[1mC\u001b[22m\u001b[0m\u001b[1mM\u001b[22m\u001b[0m\u001b[1mC\u001b[22m\n",
      "\n"
     ]
    },
    {
     "data": {
      "text/latex": [
       "\\begin{verbatim}\n",
       "runMCMC(mme,df;Pi=0.0,estimatePi=false,chain_length=1000,burnin = 0,starting_value=false,printout_frequency=100,\n",
       "missing_phenotypes=false,constraint=false,methods=\"conventional (no markers)\",output_samples_frequency::Int64 = 0,\n",
       "printout_model_info=true,outputEBV=false)\n",
       "\\end{verbatim}\n",
       "Run MCMC (marker information included or not) with sampling of variance components.\n",
       "\n",
       "\\begin{itemize}\n",
       "\\item available \\textbf{methods} include \"conventional (no markers)\", \"RR-BLUP\", \"BayesB\", \"BayesC\".\n",
       "\n",
       "\n",
       "\\item save MCMC samples every \\textbf{output\\emph{samples}frequency} iterations to files \\textbf{output\\_file} defaulting to \\texttt{MCMC\\_samples}.\n",
       "\n",
       "\n",
       "\\item the first \\textbf{burnin} iterations are discarded at the beginning of an MCMC run\n",
       "\n",
       "\n",
       "\\item \\textbf{Pi} for single-trait analyses is a number; \\textbf{Pi} for multi-trait analyses is a dictionary such as \\texttt{Pi=Dict([1.0; 1.0]=>0.7,[1.0; 0.0]=>0.1,[0.0; 1.0]=>0.1,[0.0; 0.0]=>0.1)},\n",
       "\n",
       "\\begin{itemize}\n",
       "\\item if Pi (Π) is not provided in multi-trait analysis, it will be generated assuming all markers have effects on all traits.\n",
       "\n",
       "\\end{itemize}\n",
       "\n",
       "\\item \\textbf{starting\\_value} can be provided as a vector for all location parameteres except marker effects.\n",
       "\n",
       "\n",
       "\\item print out the monte carlo mean in REPL with \\textbf{printout\\_frequency}\n",
       "\n",
       "\n",
       "\\item \\textbf{constraint}=true if constrain residual covariances between traits to be zeros.\n",
       "\n",
       "\n",
       "\\item Individual EBVs are returned if \\textbf{outputEBV}=true.\n",
       "\n",
       "\\end{itemize}\n"
      ],
      "text/markdown": [
       "```\n",
       "runMCMC(mme,df;Pi=0.0,estimatePi=false,chain_length=1000,burnin = 0,starting_value=false,printout_frequency=100,\n",
       "missing_phenotypes=false,constraint=false,methods=\"conventional (no markers)\",output_samples_frequency::Int64 = 0,\n",
       "printout_model_info=true,outputEBV=false)\n",
       "```\n",
       "\n",
       "Run MCMC (marker information included or not) with sampling of variance components.\n",
       "\n",
       "  * available **methods** include \"conventional (no markers)\", \"RR-BLUP\", \"BayesB\", \"BayesC\".\n",
       "  * save MCMC samples every **output*samples*frequency** iterations to files **output_file** defaulting to `MCMC_samples`.\n",
       "  * the first **burnin** iterations are discarded at the beginning of an MCMC run\n",
       "  * **Pi** for single-trait analyses is a number; **Pi** for multi-trait analyses is a dictionary such as `Pi=Dict([1.0; 1.0]=>0.7,[1.0; 0.0]=>0.1,[0.0; 1.0]=>0.1,[0.0; 0.0]=>0.1)`,\n",
       "\n",
       "      * if Pi (Π) is not provided in multi-trait analysis, it will be generated assuming all markers have effects on all traits.\n",
       "  * **starting_value** can be provided as a vector for all location parameteres except marker effects.\n",
       "  * print out the monte carlo mean in REPL with **printout_frequency**\n",
       "  * **constraint**=true if constrain residual covariances between traits to be zeros.\n",
       "  * Individual EBVs are returned if **outputEBV**=true.\n"
      ],
      "text/plain": [
       "\u001b[36m  runMCMC(mme,df;Pi=0.0,estimatePi=false,chain_length=1000,burnin = 0,starting_value=false,printout_frequency=100,\u001b[39m\n",
       "\u001b[36m  missing_phenotypes=false,constraint=false,methods=\"conventional (no markers)\",output_samples_frequency::Int64 = 0,\u001b[39m\n",
       "\u001b[36m  printout_model_info=true,outputEBV=false)\u001b[39m\n",
       "\n",
       "  Run MCMC (marker information included or not) with sampling of variance\n",
       "  components.\n",
       "\n",
       "    •    available \u001b[1mmethods\u001b[22m include \"conventional (no markers)\", \"RR-BLUP\",\n",
       "        \"BayesB\", \"BayesC\".\n",
       "\n",
       "    •    save MCMC samples every \u001b[1moutput\u001b[4msamples\u001b[24mfrequency\u001b[22m iterations to files\n",
       "        \u001b[1moutput_file\u001b[22m defaulting to \u001b[36mMCMC_samples\u001b[39m.\n",
       "\n",
       "    •    the first \u001b[1mburnin\u001b[22m iterations are discarded at the beginning of an\n",
       "        MCMC run\n",
       "\n",
       "    •    \u001b[1mPi\u001b[22m for single-trait analyses is a number; \u001b[1mPi\u001b[22m for multi-trait\n",
       "        analyses is a dictionary such as \u001b[36mPi=Dict([1.0; 1.0]=>0.7,[1.0;\n",
       "        0.0]=>0.1,[0.0; 1.0]=>0.1,[0.0; 0.0]=>0.1)\u001b[39m,\n",
       "      \n",
       "          •    if Pi (Π) is not provided in multi-trait analysis, it\n",
       "              will be generated assuming all markers have effects on\n",
       "              all traits.\n",
       "\n",
       "    •    \u001b[1mstarting_value\u001b[22m can be provided as a vector for all location\n",
       "        parameteres except marker effects.\n",
       "\n",
       "    •    print out the monte carlo mean in REPL with \u001b[1mprintout_frequency\u001b[22m\n",
       "\n",
       "    •    \u001b[1mconstraint\u001b[22m=true if constrain residual covariances between traits\n",
       "        to be zeros.\n",
       "\n",
       "    •    Individual EBVs are returned if \u001b[1moutputEBV\u001b[22m=true."
      ]
     },
     "execution_count": 4,
     "metadata": {},
     "output_type": "execute_result"
    }
   ],
   "source": [
    "?runMCMC"
   ]
  },
  {
   "cell_type": "code",
   "execution_count": 5,
   "metadata": {},
   "outputs": [
    {
     "name": "stdout",
     "output_type": "stream",
     "text": [
      "A Linear Mixed Model was build using model equations:\n",
      "\n",
      "Height = intercept + Line\n",
      "\n",
      "Model Information:\n",
      "\n",
      "Term            C/F          F/R            nLevels\n",
      "intercept       factor       fixed                1\n",
      "Line            factor       fixed                3\n",
      "\n",
      "MCMC Information:\n",
      "\n",
      "methods                        conventional (no markers)\n",
      "chain_length                                    500\n",
      "burnin                                            0\n",
      "starting_value                                false\n",
      "printout_frequency                              501\n",
      "output_samples_frequency                        100\n",
      "constraint                                    false\n",
      "missing_phenotypes                            false\n",
      "update_priors_frequency                           0\n",
      "\n",
      "Hyper-parameters Information: \n",
      "\n",
      "residual variances:                          10.000\n",
      "\n",
      "Degree of freedom for hyper-parameters:\n",
      "\n",
      "residual variances:                           4.000\n",
      "iid random effect variances:                  4.000\n",
      "\n",
      "\n",
      "\n",
      "\u001b[32mThe file MCMC_samples_residual_variance.txt is created to save MCMC samples for residual_variance.\u001b[39m\n"
     ]
    },
    {
     "name": "stderr",
     "output_type": "stream",
     "text": [
      "\u001b[32mrunning MCMC for conventional (no markers)...100%|██████| Time: 0:00:01\u001b[39m\n"
     ]
    }
   ],
   "source": [
    "runMCMC(model1,data1,chain_length=500,output_samples_frequency=100);"
   ]
  },
  {
   "cell_type": "code",
   "execution_count": 6,
   "metadata": {
    "scrolled": true
   },
   "outputs": [
    {
     "data": {
      "text/plain": [
       "6×4 SparseArrays.SparseMatrixCSC{Float64,Int64} with 12 stored entries:\n",
       "  [1, 1]  =  1.0\n",
       "  [2, 1]  =  1.0\n",
       "  [3, 1]  =  1.0\n",
       "  [4, 1]  =  1.0\n",
       "  [5, 1]  =  1.0\n",
       "  [6, 1]  =  1.0\n",
       "  [1, 2]  =  1.0\n",
       "  [2, 2]  =  1.0\n",
       "  [3, 3]  =  1.0\n",
       "  [4, 3]  =  1.0\n",
       "  [5, 4]  =  1.0\n",
       "  [6, 4]  =  1.0"
      ]
     },
     "execution_count": 6,
     "metadata": {},
     "output_type": "execute_result"
    }
   ],
   "source": [
    "model1.X"
   ]
  },
  {
   "cell_type": "code",
   "execution_count": 7,
   "metadata": {
    "scrolled": true
   },
   "outputs": [
    {
     "data": {
      "text/plain": [
       "6×4 Array{Float64,2}:\n",
       " 1.0  1.0  0.0  0.0\n",
       " 1.0  1.0  0.0  0.0\n",
       " 1.0  0.0  1.0  0.0\n",
       " 1.0  0.0  1.0  0.0\n",
       " 1.0  0.0  0.0  1.0\n",
       " 1.0  0.0  0.0  1.0"
      ]
     },
     "execution_count": 7,
     "metadata": {},
     "output_type": "execute_result"
    }
   ],
   "source": [
    "Matrix(model1.X)"
   ]
  },
  {
   "cell_type": "code",
   "execution_count": 8,
   "metadata": {},
   "outputs": [
    {
     "data": {
      "text/plain": [
       "4-element Array{AbstractString,1}:\n",
       " \"1:intercept : intercept\"\n",
       " \"1:Line : 1\"             \n",
       " \"1:Line : 2\"             \n",
       " \"1:Line : 3\"             "
      ]
     },
     "execution_count": 8,
     "metadata": {},
     "output_type": "execute_result"
    }
   ],
   "source": [
    "JWAS.getNames(model1)"
   ]
  },
  {
   "cell_type": "markdown",
   "metadata": {},
   "source": [
    "### One-way model without intercept"
   ]
  },
  {
   "cell_type": "code",
   "execution_count": 9,
   "metadata": {},
   "outputs": [],
   "source": [
    "varRes = 10.0\n",
    "model1 = build_model(\"Height = Line\", varRes);"
   ]
  },
  {
   "cell_type": "code",
   "execution_count": 10,
   "metadata": {},
   "outputs": [
    {
     "name": "stdout",
     "output_type": "stream",
     "text": [
      "A Linear Mixed Model was build using model equations:\n",
      "\n",
      "Height = Line\n",
      "\n",
      "Model Information:\n",
      "\n",
      "Term            C/F          F/R            nLevels\n",
      "Line            factor       fixed                3\n",
      "\n",
      "MCMC Information:\n",
      "\n",
      "methods                        conventional (no markers)\n",
      "chain_length                                    500\n",
      "burnin                                            0\n",
      "starting_value                                false\n",
      "printout_frequency                              501\n",
      "output_samples_frequency                          0\n",
      "constraint                                    false\n",
      "missing_phenotypes                            false\n",
      "update_priors_frequency                           0\n",
      "\n",
      "Hyper-parameters Information: \n",
      "\n",
      "residual variances:                          10.000\n",
      "\n",
      "Degree of freedom for hyper-parameters:\n",
      "\n",
      "residual variances:                           4.000\n",
      "iid random effect variances:                  4.000\n",
      "\n",
      "\n",
      "\n"
     ]
    }
   ],
   "source": [
    "runMCMC(model1,data1,chain_length=500,output_samples_frequency=0);"
   ]
  },
  {
   "cell_type": "code",
   "execution_count": 11,
   "metadata": {},
   "outputs": [
    {
     "data": {
      "text/plain": [
       "3-element Array{AbstractString,1}:\n",
       " \"1:Line : 1\"\n",
       " \"1:Line : 2\"\n",
       " \"1:Line : 3\""
      ]
     },
     "execution_count": 11,
     "metadata": {},
     "output_type": "execute_result"
    }
   ],
   "source": [
    "JWAS.getNames(model1)"
   ]
  },
  {
   "cell_type": "code",
   "execution_count": 12,
   "metadata": {},
   "outputs": [
    {
     "data": {
      "text/plain": [
       "6×3 Array{Float64,2}:\n",
       " 1.0  0.0  0.0\n",
       " 1.0  0.0  0.0\n",
       " 0.0  1.0  0.0\n",
       " 0.0  1.0  0.0\n",
       " 0.0  0.0  1.0\n",
       " 0.0  0.0  1.0"
      ]
     },
     "execution_count": 12,
     "metadata": {},
     "output_type": "execute_result"
    }
   ],
   "source": [
    "Matrix(model1.X)"
   ]
  },
  {
   "cell_type": "markdown",
   "metadata": {},
   "source": [
    "### Model with covariate"
   ]
  },
  {
   "cell_type": "code",
   "execution_count": 13,
   "metadata": {},
   "outputs": [],
   "source": [
    "varRes = 10.0\n",
    "model1 = build_model(\"Height = intercept + Line + Age\", varRes)\n",
    "set_covariate(model1,\"Age\");"
   ]
  },
  {
   "cell_type": "code",
   "execution_count": 14,
   "metadata": {},
   "outputs": [
    {
     "name": "stdout",
     "output_type": "stream",
     "text": [
      "A Linear Mixed Model was build using model equations:\n",
      "\n",
      "Height = intercept + Line + Age\n",
      "\n",
      "Model Information:\n",
      "\n",
      "Term            C/F          F/R            nLevels\n",
      "intercept       factor       fixed                1\n",
      "Line            factor       fixed                3\n",
      "Age             covariate    fixed                1\n",
      "\n",
      "MCMC Information:\n",
      "\n",
      "methods                        conventional (no markers)\n",
      "chain_length                                    500\n",
      "burnin                                            0\n",
      "starting_value                                false\n",
      "printout_frequency                              501\n",
      "output_samples_frequency                          0\n",
      "constraint                                    false\n",
      "missing_phenotypes                            false\n",
      "update_priors_frequency                           0\n",
      "\n",
      "Hyper-parameters Information: \n",
      "\n",
      "residual variances:                          10.000\n",
      "\n",
      "Degree of freedom for hyper-parameters:\n",
      "\n",
      "residual variances:                           4.000\n",
      "iid random effect variances:                  4.000\n",
      "\n",
      "\n",
      "\n"
     ]
    }
   ],
   "source": [
    "runMCMC(model1,data1,chain_length=500,output_samples_frequency=0);"
   ]
  },
  {
   "cell_type": "markdown",
   "metadata": {},
   "source": [
    "#### This model has a common slope"
   ]
  },
  {
   "cell_type": "code",
   "execution_count": 15,
   "metadata": {},
   "outputs": [
    {
     "data": {
      "text/plain": [
       "5-element Array{AbstractString,1}:\n",
       " \"1:intercept : intercept\"\n",
       " \"1:Line : 1\"             \n",
       " \"1:Line : 2\"             \n",
       " \"1:Line : 3\"             \n",
       " \"1:Age : Age\"            "
      ]
     },
     "execution_count": 15,
     "metadata": {},
     "output_type": "execute_result"
    }
   ],
   "source": [
    "JWAS.getNames(model1)"
   ]
  },
  {
   "cell_type": "code",
   "execution_count": 16,
   "metadata": {
    "scrolled": false
   },
   "outputs": [
    {
     "data": {
      "text/plain": [
       "6×5 Array{Float64,2}:\n",
       " 1.0  1.0  0.0  0.0  20.0\n",
       " 1.0  1.0  0.0  0.0  19.0\n",
       " 1.0  0.0  1.0  0.0  21.0\n",
       " 1.0  0.0  1.0  0.0  20.0\n",
       " 1.0  0.0  0.0  1.0  18.0\n",
       " 1.0  0.0  0.0  1.0  20.0"
      ]
     },
     "execution_count": 16,
     "metadata": {},
     "output_type": "execute_result"
    }
   ],
   "source": [
    "Matrix(model1.X)"
   ]
  },
  {
   "cell_type": "markdown",
   "metadata": {},
   "source": [
    "### Model with Age by Line"
   ]
  },
  {
   "cell_type": "code",
   "execution_count": 17,
   "metadata": {},
   "outputs": [],
   "source": [
    "varRes = 10.0\n",
    "model1 = build_model(\"Height = intercept + Line + Line*Age\", varRes)\n",
    "set_covariate(model1,\"Age\");"
   ]
  },
  {
   "cell_type": "code",
   "execution_count": 18,
   "metadata": {},
   "outputs": [
    {
     "name": "stdout",
     "output_type": "stream",
     "text": [
      "A Linear Mixed Model was build using model equations:\n",
      "\n",
      "Height = intercept + Line + Line*Age\n",
      "\n",
      "Model Information:\n",
      "\n",
      "Term            C/F          F/R            nLevels\n",
      "intercept       factor       fixed                1\n",
      "Line            factor       fixed                3\n",
      "Line*Age        interaction  fixed                3\n",
      "\n",
      "MCMC Information:\n",
      "\n",
      "methods                        conventional (no markers)\n",
      "chain_length                                    500\n",
      "burnin                                            0\n",
      "starting_value                                false\n",
      "printout_frequency                              501\n",
      "output_samples_frequency                          0\n",
      "constraint                                    false\n",
      "missing_phenotypes                            false\n",
      "update_priors_frequency                           0\n",
      "\n",
      "Hyper-parameters Information: \n",
      "\n",
      "residual variances:                          10.000\n",
      "\n",
      "Degree of freedom for hyper-parameters:\n",
      "\n",
      "residual variances:                           4.000\n",
      "iid random effect variances:                  4.000\n",
      "\n",
      "\n",
      "\n"
     ]
    }
   ],
   "source": [
    "runMCMC(model1,data1,chain_length=500,output_samples_frequency=0);"
   ]
  },
  {
   "cell_type": "markdown",
   "metadata": {},
   "source": [
    "#### This model has line-specific slopes"
   ]
  },
  {
   "cell_type": "code",
   "execution_count": 19,
   "metadata": {},
   "outputs": [
    {
     "data": {
      "text/plain": [
       "7-element Array{AbstractString,1}:\n",
       " \"1:intercept : intercept\"\n",
       " \"1:Line : 1\"             \n",
       " \"1:Line : 2\"             \n",
       " \"1:Line : 3\"             \n",
       " \"1:Line*Age : 1 * Age\"   \n",
       " \"1:Line*Age : 2 * Age\"   \n",
       " \"1:Line*Age : 3 * Age\"   "
      ]
     },
     "execution_count": 19,
     "metadata": {},
     "output_type": "execute_result"
    }
   ],
   "source": [
    "JWAS.getNames(model1)"
   ]
  },
  {
   "cell_type": "code",
   "execution_count": 20,
   "metadata": {
    "scrolled": true
   },
   "outputs": [
    {
     "data": {
      "text/plain": [
       "6×7 Array{Float64,2}:\n",
       " 1.0  1.0  0.0  0.0  20.0   0.0   0.0\n",
       " 1.0  1.0  0.0  0.0  19.0   0.0   0.0\n",
       " 1.0  0.0  1.0  0.0   0.0  21.0   0.0\n",
       " 1.0  0.0  1.0  0.0   0.0  20.0   0.0\n",
       " 1.0  0.0  0.0  1.0   0.0   0.0  18.0\n",
       " 1.0  0.0  0.0  1.0   0.0   0.0  20.0"
      ]
     },
     "execution_count": 20,
     "metadata": {},
     "output_type": "execute_result"
    }
   ],
   "source": [
    "Matrix(model1.X)"
   ]
  },
  {
   "cell_type": "markdown",
   "metadata": {},
   "source": [
    "#### Model with Age by Line and common intercept"
   ]
  },
  {
   "cell_type": "code",
   "execution_count": 21,
   "metadata": {},
   "outputs": [],
   "source": [
    "varRes = 10.0\n",
    "model1 = build_model(\"Height = intercept + Line*Age\", varRes)\n",
    "set_covariate(model1,\"Age\");"
   ]
  },
  {
   "cell_type": "code",
   "execution_count": 22,
   "metadata": {},
   "outputs": [
    {
     "name": "stdout",
     "output_type": "stream",
     "text": [
      "A Linear Mixed Model was build using model equations:\n",
      "\n",
      "Height = intercept + Line*Age\n",
      "\n",
      "Model Information:\n",
      "\n",
      "Term            C/F          F/R            nLevels\n",
      "intercept       factor       fixed                1\n",
      "Line*Age        interaction  fixed                3\n",
      "\n",
      "MCMC Information:\n",
      "\n",
      "methods                        conventional (no markers)\n",
      "chain_length                                    500\n",
      "burnin                                            0\n",
      "starting_value                                false\n",
      "printout_frequency                              501\n",
      "output_samples_frequency                          0\n",
      "constraint                                    false\n",
      "missing_phenotypes                            false\n",
      "update_priors_frequency                           0\n",
      "\n",
      "Hyper-parameters Information: \n",
      "\n",
      "residual variances:                          10.000\n",
      "\n",
      "Degree of freedom for hyper-parameters:\n",
      "\n",
      "residual variances:                           4.000\n",
      "iid random effect variances:                  4.000\n",
      "\n",
      "\n",
      "\n"
     ]
    }
   ],
   "source": [
    "runMCMC(model1,data1,chain_length=500,output_samples_frequency=0);"
   ]
  },
  {
   "cell_type": "markdown",
   "metadata": {},
   "source": [
    "#### This model has common intercept and line-specific slopes"
   ]
  },
  {
   "cell_type": "code",
   "execution_count": 23,
   "metadata": {},
   "outputs": [
    {
     "data": {
      "text/plain": [
       "4-element Array{AbstractString,1}:\n",
       " \"1:intercept : intercept\"\n",
       " \"1:Line*Age : 1 * Age\"   \n",
       " \"1:Line*Age : 2 * Age\"   \n",
       " \"1:Line*Age : 3 * Age\"   "
      ]
     },
     "execution_count": 23,
     "metadata": {},
     "output_type": "execute_result"
    }
   ],
   "source": [
    "JWAS.getNames(model1)"
   ]
  },
  {
   "cell_type": "code",
   "execution_count": 24,
   "metadata": {
    "scrolled": false
   },
   "outputs": [
    {
     "data": {
      "text/plain": [
       "6×4 Array{Float64,2}:\n",
       " 1.0  20.0   0.0   0.0\n",
       " 1.0  19.0   0.0   0.0\n",
       " 1.0   0.0  21.0   0.0\n",
       " 1.0   0.0  20.0   0.0\n",
       " 1.0   0.0   0.0  18.0\n",
       " 1.0   0.0   0.0  20.0"
      ]
     },
     "execution_count": 24,
     "metadata": {},
     "output_type": "execute_result"
    }
   ],
   "source": [
    "Matrix(model1.X)"
   ]
  },
  {
   "cell_type": "markdown",
   "metadata": {},
   "source": [
    "## Two-trait models"
   ]
  },
  {
   "cell_type": "markdown",
   "metadata": {},
   "source": [
    "### Data"
   ]
  },
  {
   "cell_type": "code",
   "execution_count": 25,
   "metadata": {
    "scrolled": true
   },
   "outputs": [
    {
     "data": {
      "text/html": [
       "<table class=\"data-frame\"><thead><tr><th></th><th>Line</th><th>Age</th><th>y1</th><th>y2</th></tr><tr><th></th><th>Int64⍰</th><th>Int64⍰</th><th>Float64⍰</th><th>Float64⍰</th></tr></thead><tbody><p>6 rows × 4 columns</p><tr><th>1</th><td>1</td><td>20</td><td>20.0</td><td>6.2</td></tr><tr><th>2</th><td>1</td><td>19</td><td>21.1</td><td>5.9</td></tr><tr><th>3</th><td>2</td><td>21</td><td>15.9</td><td>10.0</td></tr><tr><th>4</th><td>2</td><td>20</td><td>13.7</td><td>8.2</td></tr><tr><th>5</th><td>3</td><td>18</td><td>18.4</td><td>9.6</td></tr><tr><th>6</th><td>3</td><td>20</td><td>22.0</td><td>11.0</td></tr></tbody></table>"
      ],
      "text/latex": [
       "\\begin{tabular}{r|cccc}\n",
       "\t& Line & Age & y1 & y2\\\\\n",
       "\t\\hline\n",
       "\t1 & 1 & 20 & 20.0 & 6.2 \\\\\n",
       "\t2 & 1 & 19 & 21.1 & 5.9 \\\\\n",
       "\t3 & 2 & 21 & 15.9 & 10.0 \\\\\n",
       "\t4 & 2 & 20 & 13.7 & 8.2 \\\\\n",
       "\t5 & 3 & 18 & 18.4 & 9.6 \\\\\n",
       "\t6 & 3 & 20 & 22.0 & 11.0 \\\\\n",
       "\\end{tabular}\n"
      ],
      "text/plain": [
       "6×4 DataFrame\n",
       "│ Row │ Line   │ Age    │ y1       │ y2       │\n",
       "│     │ \u001b[90mInt64⍰\u001b[39m │ \u001b[90mInt64⍰\u001b[39m │ \u001b[90mFloat64⍰\u001b[39m │ \u001b[90mFloat64⍰\u001b[39m │\n",
       "├─────┼────────┼────────┼──────────┼──────────┤\n",
       "│ 1   │ 1      │ 20     │ 20.0     │ 6.2      │\n",
       "│ 2   │ 1      │ 19     │ 21.1     │ 5.9      │\n",
       "│ 3   │ 2      │ 21     │ 15.9     │ 10.0     │\n",
       "│ 4   │ 2      │ 20     │ 13.7     │ 8.2      │\n",
       "│ 5   │ 3      │ 18     │ 18.4     │ 9.6      │\n",
       "│ 6   │ 3      │ 20     │ 22.0     │ 11.0     │"
      ]
     },
     "execution_count": 25,
     "metadata": {},
     "output_type": "execute_result"
    }
   ],
   "source": [
    "data2 = CSV.read(\"twoTraitEx.phen\")"
   ]
  },
  {
   "cell_type": "code",
   "execution_count": 26,
   "metadata": {},
   "outputs": [
    {
     "data": {
      "text/html": [
       "<table class=\"data-frame\"><thead><tr><th></th><th>y1</th><th>y2</th></tr><tr><th></th><th>Float64⍰</th><th>Float64⍰</th></tr></thead><tbody><p>6 rows × 2 columns</p><tr><th>1</th><td>20.0</td><td>6.2</td></tr><tr><th>2</th><td>21.1</td><td>5.9</td></tr><tr><th>3</th><td>15.9</td><td>10.0</td></tr><tr><th>4</th><td>13.7</td><td>8.2</td></tr><tr><th>5</th><td>18.4</td><td>9.6</td></tr><tr><th>6</th><td>22.0</td><td>11.0</td></tr></tbody></table>"
      ],
      "text/latex": [
       "\\begin{tabular}{r|cc}\n",
       "\t& y1 & y2\\\\\n",
       "\t\\hline\n",
       "\t1 & 20.0 & 6.2 \\\\\n",
       "\t2 & 21.1 & 5.9 \\\\\n",
       "\t3 & 15.9 & 10.0 \\\\\n",
       "\t4 & 13.7 & 8.2 \\\\\n",
       "\t5 & 18.4 & 9.6 \\\\\n",
       "\t6 & 22.0 & 11.0 \\\\\n",
       "\\end{tabular}\n"
      ],
      "text/plain": [
       "6×2 DataFrame\n",
       "│ Row │ y1       │ y2       │\n",
       "│     │ \u001b[90mFloat64⍰\u001b[39m │ \u001b[90mFloat64⍰\u001b[39m │\n",
       "├─────┼──────────┼──────────┤\n",
       "│ 1   │ 20.0     │ 6.2      │\n",
       "│ 2   │ 21.1     │ 5.9      │\n",
       "│ 3   │ 15.9     │ 10.0     │\n",
       "│ 4   │ 13.7     │ 8.2      │\n",
       "│ 5   │ 18.4     │ 9.6      │\n",
       "│ 6   │ 22.0     │ 11.0     │"
      ]
     },
     "execution_count": 26,
     "metadata": {},
     "output_type": "execute_result"
    }
   ],
   "source": [
    "data2[3:4]"
   ]
  },
  {
   "cell_type": "code",
   "execution_count": 27,
   "metadata": {},
   "outputs": [
    {
     "data": {
      "text/plain": [
       "6×2 Array{Union{Missing, Float64},2}:\n",
       " 20.0   6.2\n",
       " 21.1   5.9\n",
       " 15.9  10.0\n",
       " 13.7   8.2\n",
       " 18.4   9.6\n",
       " 22.0  11.0"
      ]
     },
     "execution_count": 27,
     "metadata": {},
     "output_type": "execute_result"
    }
   ],
   "source": [
    "Matrix(data2[3:4])"
   ]
  },
  {
   "cell_type": "code",
   "execution_count": 28,
   "metadata": {},
   "outputs": [
    {
     "data": {
      "text/plain": [
       "2×2 Array{Float64,2}:\n",
       " 10.2137    -0.805667\n",
       " -0.805667   4.36967 "
      ]
     },
     "execution_count": 28,
     "metadata": {},
     "output_type": "execute_result"
    }
   ],
   "source": [
    "cov(Matrix(data2[3:4]))"
   ]
  },
  {
   "cell_type": "markdown",
   "metadata": {},
   "source": [
    "### Two-trait model Age by Line for trait 1"
   ]
  },
  {
   "cell_type": "code",
   "execution_count": 29,
   "metadata": {},
   "outputs": [],
   "source": [
    "modelEquation = \"y1 = intercept + Line + Line*Age\n",
    "                 y2 = intercept + Line\"\n",
    "varRes = [10.0 -1.0\n",
    "     -1.0  5.0]\n",
    "model2 = build_model(modelEquation,varRes)\n",
    "set_covariate(model2,\"Age\");"
   ]
  },
  {
   "cell_type": "code",
   "execution_count": 30,
   "metadata": {},
   "outputs": [
    {
     "name": "stdout",
     "output_type": "stream",
     "text": [
      "A Linear Mixed Model was build using model equations:\n",
      "\n",
      "y1 = intercept + Line + Line*Age\n",
      "y2 = intercept + Line\n",
      "\n",
      "Model Information:\n",
      "\n",
      "Term            C/F          F/R            nLevels\n",
      "intercept       factor       fixed                1\n",
      "Line            factor       fixed                3\n",
      "Line*Age        interaction  fixed                3\n",
      "\n",
      "MCMC Information:\n",
      "\n",
      "methods                        conventional (no markers)\n",
      "chain_length                                    500\n",
      "burnin                                            0\n",
      "starting_value                                false\n",
      "printout_frequency                              501\n",
      "output_samples_frequency                          0\n",
      "constraint                                    false\n",
      "missing_phenotypes                            false\n",
      "update_priors_frequency                           0\n",
      "\n",
      "Hyper-parameters Information: \n",
      "\n",
      "residual variances:           \n",
      " 10.0  -1.0\n",
      " -1.0   5.0\n",
      "\n",
      "Degree of freedom for hyper-parameters:\n",
      "\n",
      "residual variances:                           4.000\n",
      "iid random effect variances:                  4.000\n",
      "\n",
      "\n",
      "\n"
     ]
    },
    {
     "name": "stderr",
     "output_type": "stream",
     "text": [
      "\r",
      "\u001b[32mrunning MCMC for conventional (no markers)...  0%|      |  ETA: 0:05:12\u001b[39m\r",
      "\u001b[32mrunning MCMC for conventional (no markers)...100%|██████| Time: 0:00:01\u001b[39m\n"
     ]
    }
   ],
   "source": [
    "out = runMCMC(model2,data2,chain_length=500,output_samples_frequency=0);"
   ]
  },
  {
   "cell_type": "code",
   "execution_count": 31,
   "metadata": {},
   "outputs": [
    {
     "data": {
      "text/plain": [
       "11-element Array{AbstractString,1}:\n",
       " \"1:intercept : intercept\"\n",
       " \"1:Line : 1\"             \n",
       " \"1:Line : 2\"             \n",
       " \"1:Line : 3\"             \n",
       " \"1:Line*Age : 1 * Age\"   \n",
       " \"1:Line*Age : 2 * Age\"   \n",
       " \"1:Line*Age : 3 * Age\"   \n",
       " \"2:intercept : intercept\"\n",
       " \"2:Line : 1\"             \n",
       " \"2:Line : 2\"             \n",
       " \"2:Line : 3\"             "
      ]
     },
     "execution_count": 31,
     "metadata": {},
     "output_type": "execute_result"
    }
   ],
   "source": [
    "JWAS.getNames(model2)"
   ]
  },
  {
   "cell_type": "code",
   "execution_count": 32,
   "metadata": {},
   "outputs": [
    {
     "data": {
      "text/plain": [
       "12×11 Array{Float64,2}:\n",
       " 1.0  1.0  0.0  0.0  20.0   0.0   0.0  0.0  0.0  0.0  0.0\n",
       " 1.0  1.0  0.0  0.0  19.0   0.0   0.0  0.0  0.0  0.0  0.0\n",
       " 1.0  0.0  1.0  0.0   0.0  21.0   0.0  0.0  0.0  0.0  0.0\n",
       " 1.0  0.0  1.0  0.0   0.0  20.0   0.0  0.0  0.0  0.0  0.0\n",
       " 1.0  0.0  0.0  1.0   0.0   0.0  18.0  0.0  0.0  0.0  0.0\n",
       " 1.0  0.0  0.0  1.0   0.0   0.0  20.0  0.0  0.0  0.0  0.0\n",
       " 0.0  0.0  0.0  0.0   0.0   0.0   0.0  1.0  1.0  0.0  0.0\n",
       " 0.0  0.0  0.0  0.0   0.0   0.0   0.0  1.0  1.0  0.0  0.0\n",
       " 0.0  0.0  0.0  0.0   0.0   0.0   0.0  1.0  0.0  1.0  0.0\n",
       " 0.0  0.0  0.0  0.0   0.0   0.0   0.0  1.0  0.0  1.0  0.0\n",
       " 0.0  0.0  0.0  0.0   0.0   0.0   0.0  1.0  0.0  0.0  1.0\n",
       " 0.0  0.0  0.0  0.0   0.0   0.0   0.0  1.0  0.0  0.0  1.0"
      ]
     },
     "execution_count": 32,
     "metadata": {},
     "output_type": "execute_result"
    }
   ],
   "source": [
    "Matrix(model2.X)"
   ]
  },
  {
   "cell_type": "markdown",
   "metadata": {},
   "source": [
    "### Breeding value models"
   ]
  },
  {
   "cell_type": "code",
   "execution_count": 33,
   "metadata": {
    "scrolled": false
   },
   "outputs": [
    {
     "data": {
      "text/html": [
       "<table class=\"data-frame\"><thead><tr><th></th><th>Ind</th><th>Mat</th><th>y1</th><th>y2</th></tr><tr><th></th><th>Int64⍰</th><th>Int64⍰</th><th>Float64⍰</th><th>Float64⍰</th></tr></thead><tbody><p>5 rows × 4 columns</p><tr><th>1</th><td>1</td><td>0</td><td>10.0</td><td>11.0</td></tr><tr><th>2</th><td>2</td><td>0</td><td>9.7</td><td>12.0</td></tr><tr><th>3</th><td>3</td><td>2</td><td>8.9</td><td>11.9</td></tr><tr><th>4</th><td>4</td><td>2</td><td>9.7</td><td>10.8</td></tr><tr><th>5</th><td>5</td><td>4</td><td>8.8</td><td>11.9</td></tr></tbody></table>"
      ],
      "text/latex": [
       "\\begin{tabular}{r|cccc}\n",
       "\t& Ind & Mat & y1 & y2\\\\\n",
       "\t\\hline\n",
       "\t1 & 1 & 0 & 10.0 & 11.0 \\\\\n",
       "\t2 & 2 & 0 & 9.7 & 12.0 \\\\\n",
       "\t3 & 3 & 2 & 8.9 & 11.9 \\\\\n",
       "\t4 & 4 & 2 & 9.7 & 10.8 \\\\\n",
       "\t5 & 5 & 4 & 8.8 & 11.9 \\\\\n",
       "\\end{tabular}\n"
      ],
      "text/plain": [
       "5×4 DataFrame\n",
       "│ Row │ Ind    │ Mat    │ y1       │ y2       │\n",
       "│     │ \u001b[90mInt64⍰\u001b[39m │ \u001b[90mInt64⍰\u001b[39m │ \u001b[90mFloat64⍰\u001b[39m │ \u001b[90mFloat64⍰\u001b[39m │\n",
       "├─────┼────────┼────────┼──────────┼──────────┤\n",
       "│ 1   │ 1      │ 0      │ 10.0     │ 11.0     │\n",
       "│ 2   │ 2      │ 0      │ 9.7      │ 12.0     │\n",
       "│ 3   │ 3      │ 2      │ 8.9      │ 11.9     │\n",
       "│ 4   │ 4      │ 2      │ 9.7      │ 10.8     │\n",
       "│ 5   │ 5      │ 4      │ 8.8      │ 11.9     │"
      ]
     },
     "execution_count": 33,
     "metadata": {},
     "output_type": "execute_result"
    }
   ],
   "source": [
    "data3 = CSV.read(\"twoTraitMaternal.phen\")"
   ]
  },
  {
   "cell_type": "code",
   "execution_count": 34,
   "metadata": {},
   "outputs": [
    {
     "name": "stdout",
     "output_type": "stream",
     "text": [
      "Finished!\n"
     ]
    },
    {
     "name": "stderr",
     "output_type": "stream",
     "text": [
      "\r",
      "\u001b[32mcalculating inbreeding...  20%|█████                    |  ETA: 0:00:01\u001b[39m\r",
      "\u001b[32mcalculating inbreeding... 100%|█████████████████████████| Time: 0:00:00\u001b[39m\n"
     ]
    }
   ],
   "source": [
    "pedigree   = get_pedigree(\"pedFile\",separator=\",\",header=false);"
   ]
  },
  {
   "cell_type": "code",
   "execution_count": 35,
   "metadata": {},
   "outputs": [
    {
     "data": {
      "text/plain": [
       "2×2 Array{Float64,2}:\n",
       "  2.8   -0.74 \n",
       " -0.74   0.287"
      ]
     },
     "execution_count": 35,
     "metadata": {},
     "output_type": "execute_result"
    }
   ],
   "source": [
    "varRes = cov(Matrix(data3[2:3]))"
   ]
  },
  {
   "cell_type": "code",
   "execution_count": 36,
   "metadata": {},
   "outputs": [],
   "source": [
    "varGen = [1.0 0.0 0.0\n",
    "          0.0 0.1 0.0\n",
    "          0.0 0.0 0.2];"
   ]
  },
  {
   "cell_type": "code",
   "execution_count": 37,
   "metadata": {},
   "outputs": [
    {
     "name": "stdout",
     "output_type": "stream",
     "text": [
      "\u001b[31mMat is not found in model equation 2.\u001b[39m\n"
     ]
    }
   ],
   "source": [
    "modelEq3 = \"y1 = intercept + Ind + Mat\n",
    "            y2 = intercept + Ind\"\n",
    "model3   = build_model(modelEq3,varRes)\n",
    "set_random(model3,\"Ind Mat\",pedigree,varGen)"
   ]
  },
  {
   "cell_type": "markdown",
   "metadata": {},
   "source": [
    "Can see below how \"Ind\" and \"Mat\" are ordered"
   ]
  },
  {
   "cell_type": "code",
   "execution_count": 38,
   "metadata": {},
   "outputs": [
    {
     "data": {
      "text/plain": [
       "3-element Array{Any,1}:\n",
       " \"1:Ind\"\n",
       " \"2:Ind\"\n",
       " \"1:Mat\""
      ]
     },
     "execution_count": 38,
     "metadata": {},
     "output_type": "execute_result"
    }
   ],
   "source": [
    "model3.pedTrmVec"
   ]
  },
  {
   "cell_type": "code",
   "execution_count": 39,
   "metadata": {
    "scrolled": false
   },
   "outputs": [
    {
     "name": "stdout",
     "output_type": "stream",
     "text": [
      "A Linear Mixed Model was build using model equations:\n",
      "\n",
      "y1 = intercept + Ind + Mat\n",
      "y2 = intercept + Ind\n",
      "\n",
      "Model Information:\n",
      "\n",
      "Term            C/F          F/R            nLevels\n",
      "intercept       factor       fixed                1\n",
      "Ind             factor       random               5\n",
      "Mat             factor       random               5\n",
      "\n",
      "MCMC Information:\n",
      "\n",
      "methods                        conventional (no markers)\n",
      "chain_length                                    500\n",
      "burnin                                            0\n",
      "starting_value                                false\n",
      "printout_frequency                              501\n",
      "output_samples_frequency                          0\n",
      "constraint                                    false\n",
      "missing_phenotypes                            false\n",
      "update_priors_frequency                           0\n",
      "\n",
      "Hyper-parameters Information: \n",
      "\n",
      "residual variances:           \n",
      "  2.8   -0.74 \n",
      " -0.74   0.287\n",
      "genetic variances (polygenic):\n",
      " 1.0  0.0  0.0\n",
      " 0.0  0.1  0.0\n",
      " 0.0  0.0  0.2\n",
      "\n",
      "Degree of freedom for hyper-parameters:\n",
      "\n",
      "residual variances:                           4.000\n",
      "iid random effect variances:                  4.000\n",
      "polygenic effect variances:                   4.000\n",
      "\n",
      "\n",
      "\n"
     ]
    },
    {
     "name": "stderr",
     "output_type": "stream",
     "text": [
      "\u001b[32mrunning MCMC for conventional (no markers)...100%|██████| Time: 0:00:00\u001b[39m\n"
     ]
    }
   ],
   "source": [
    " out3 = runMCMC(model3,data3,chain_length=500,output_samples_frequency=0);"
   ]
  },
  {
   "cell_type": "code",
   "execution_count": 40,
   "metadata": {},
   "outputs": [
    {
     "data": {
      "text/plain": [
       "17-element Array{AbstractString,1}:\n",
       " \"1:intercept : intercept\"\n",
       " \"1:Ind : 1\"              \n",
       " \"1:Ind : 2\"              \n",
       " \"1:Ind : 4\"              \n",
       " \"1:Ind : 3\"              \n",
       " \"1:Ind : 5\"              \n",
       " \"1:Mat : 1\"              \n",
       " \"1:Mat : 2\"              \n",
       " \"1:Mat : 4\"              \n",
       " \"1:Mat : 3\"              \n",
       " \"1:Mat : 5\"              \n",
       " \"2:intercept : intercept\"\n",
       " \"2:Ind : 1\"              \n",
       " \"2:Ind : 2\"              \n",
       " \"2:Ind : 4\"              \n",
       " \"2:Ind : 3\"              \n",
       " \"2:Ind : 5\"              "
      ]
     },
     "execution_count": 40,
     "metadata": {},
     "output_type": "execute_result"
    }
   ],
   "source": [
    "JWAS.getNames(model3)"
   ]
  },
  {
   "cell_type": "code",
   "execution_count": 41,
   "metadata": {},
   "outputs": [
    {
     "ename": "UndefVarError",
     "evalue": "UndefVarError: res not defined",
     "output_type": "error",
     "traceback": [
      "UndefVarError: res not defined",
      "",
      "Stacktrace:",
      " [1] top-level scope at In[41]:1"
     ]
    }
   ],
   "source": [
    "out3[res[2]]"
   ]
  },
  {
   "cell_type": "markdown",
   "metadata": {},
   "source": [
    "<div class=\"span5 alert alert-success\">\n",
    " <font size=\"5\" face=\"Georgia\">Univariate Linear Mixed Model (Genomic data)</font> \n",
    "</div>"
   ]
  },
  {
   "cell_type": "code",
   "execution_count": 42,
   "metadata": {},
   "outputs": [
    {
     "name": "stdout",
     "output_type": "stream",
     "text": [
      "Finished!\n"
     ]
    }
   ],
   "source": [
    "phenofile  = Datasets.dataset(\"example\",\"phenotypes.txt\")\n",
    "pedfile    = Datasets.dataset(\"example\",\"pedigree.txt\")\n",
    "genofile   = Datasets.dataset(\"example\",\"genotypes.txt\")\n",
    "\n",
    "phenotypes = CSV.read(phenofile,delim = ',',header=true)\n",
    "pedigree   = get_pedigree(pedfile,separator=\",\",header=true);"
   ]
  },
  {
   "cell_type": "code",
   "execution_count": 43,
   "metadata": {
    "scrolled": false
   },
   "outputs": [
    {
     "name": "stderr",
     "output_type": "stream",
     "text": [
      "┌ Warning: `head(df::AbstractDataFrame)` is deprecated, use `first(df, 6)` instead.\n",
      "│   caller = top-level scope at In[43]:1\n",
      "└ @ Core In[43]:1\n"
     ]
    },
    {
     "data": {
      "text/html": [
       "<table class=\"data-frame\"><thead><tr><th></th><th>ID</th><th>y1</th><th>y2</th><th>y3</th><th>x1</th><th>x2</th><th>x3</th><th>dam</th></tr><tr><th></th><th>String⍰</th><th>Float64⍰</th><th>Float64⍰</th><th>Float64⍰</th><th>Float64⍰</th><th>Int64⍰</th><th>String⍰</th><th>String⍰</th></tr></thead><tbody><p>5 rows × 8 columns</p><tr><th>1</th><td>a1</td><td>-0.06</td><td>3.58</td><td>-1.18</td><td>0.9</td><td>2</td><td>m</td><td>0</td></tr><tr><th>2</th><td>a3</td><td>-2.07</td><td>3.19</td><td>0.73</td><td>0.7</td><td>2</td><td>f</td><td>0</td></tr><tr><th>3</th><td>a4</td><td>-2.63</td><td>6.97</td><td>-0.83</td><td>0.6</td><td>1</td><td>m</td><td>a2</td></tr><tr><th>4</th><td>a5</td><td>2.31</td><td>3.5</td><td>-1.52</td><td>0.4</td><td>2</td><td>m</td><td>a2</td></tr><tr><th>5</th><td>a6</td><td>0.93</td><td>4.87</td><td>-0.01</td><td>5.0</td><td>2</td><td>f</td><td>a3</td></tr></tbody></table>"
      ],
      "text/latex": [
       "\\begin{tabular}{r|cccccccc}\n",
       "\t& ID & y1 & y2 & y3 & x1 & x2 & x3 & dam\\\\\n",
       "\t\\hline\n",
       "\t1 & a1 & -0.06 & 3.58 & -1.18 & 0.9 & 2 & m & 0 \\\\\n",
       "\t2 & a3 & -2.07 & 3.19 & 0.73 & 0.7 & 2 & f & 0 \\\\\n",
       "\t3 & a4 & -2.63 & 6.97 & -0.83 & 0.6 & 1 & m & a2 \\\\\n",
       "\t4 & a5 & 2.31 & 3.5 & -1.52 & 0.4 & 2 & m & a2 \\\\\n",
       "\t5 & a6 & 0.93 & 4.87 & -0.01 & 5.0 & 2 & f & a3 \\\\\n",
       "\\end{tabular}\n"
      ],
      "text/plain": [
       "5×8 DataFrame. Omitted printing of 1 columns\n",
       "│ Row │ ID      │ y1       │ y2       │ y3       │ x1       │ x2     │ x3      │\n",
       "│     │ \u001b[90mString⍰\u001b[39m │ \u001b[90mFloat64⍰\u001b[39m │ \u001b[90mFloat64⍰\u001b[39m │ \u001b[90mFloat64⍰\u001b[39m │ \u001b[90mFloat64⍰\u001b[39m │ \u001b[90mInt64⍰\u001b[39m │ \u001b[90mString⍰\u001b[39m │\n",
       "├─────┼─────────┼──────────┼──────────┼──────────┼──────────┼────────┼─────────┤\n",
       "│ 1   │ a1      │ -0.06    │ 3.58     │ -1.18    │ 0.9      │ 2      │ m       │\n",
       "│ 2   │ a3      │ -2.07    │ 3.19     │ 0.73     │ 0.7      │ 2      │ f       │\n",
       "│ 3   │ a4      │ -2.63    │ 6.97     │ -0.83    │ 0.6      │ 1      │ m       │\n",
       "│ 4   │ a5      │ 2.31     │ 3.5      │ -1.52    │ 0.4      │ 2      │ m       │\n",
       "│ 5   │ a6      │ 0.93     │ 4.87     │ -0.01    │ 5.0      │ 2      │ f       │"
      ]
     },
     "execution_count": 43,
     "metadata": {},
     "output_type": "execute_result"
    }
   ],
   "source": [
    "head(phenotypes)"
   ]
  },
  {
   "cell_type": "code",
   "execution_count": 44,
   "metadata": {},
   "outputs": [],
   "source": [
    "model_equation1  =\"y1 = intercept + x1*x3 + x2 + x3 + ID + dam\";"
   ]
  },
  {
   "cell_type": "code",
   "execution_count": 45,
   "metadata": {},
   "outputs": [],
   "source": [
    "R      = 1.0\n",
    "model1 = build_model(model_equation1,R);"
   ]
  },
  {
   "cell_type": "code",
   "execution_count": 46,
   "metadata": {},
   "outputs": [],
   "source": [
    "set_covariate(model1,\"x1\");"
   ]
  },
  {
   "cell_type": "code",
   "execution_count": 47,
   "metadata": {},
   "outputs": [],
   "source": [
    "G1 = 1.0\n",
    "G2 = [1.0 0.5\n",
    "      0.5 1.0]\n",
    "set_random(model1,\"x2\",G1);\n",
    "set_random(model1,\"ID dam\",pedigree,G2);"
   ]
  },
  {
   "cell_type": "markdown",
   "metadata": {},
   "source": [
    "#### Adding SNP effects to the model"
   ]
  },
  {
   "cell_type": "code",
   "execution_count": 48,
   "metadata": {},
   "outputs": [
    {
     "name": "stderr",
     "output_type": "stream",
     "text": [
      "┌ Warning: readtable is deprecated, use CSV.read from the CSV package instead\n",
      "│   caller = ip:0x0\n",
      "└ @ Core :-1\n"
     ]
    },
    {
     "name": "stdout",
     "output_type": "stream",
     "text": [
      "5 markers on 7 individuals were added.\n"
     ]
    }
   ],
   "source": [
    "G3 =1.0\n",
    "add_genotypes(model1,genofile,G3,separator=',');"
   ]
  },
  {
   "cell_type": "markdown",
   "metadata": {},
   "source": [
    "Can ask for samples of non-SNP effects:"
   ]
  },
  {
   "cell_type": "code",
   "execution_count": 49,
   "metadata": {},
   "outputs": [],
   "source": [
    "outputMCMCsamples(model1,\"x2\")"
   ]
  },
  {
   "cell_type": "code",
   "execution_count": 50,
   "metadata": {},
   "outputs": [
    {
     "name": "stdout",
     "output_type": "stream",
     "text": [
      "\n",
      "The prior for marker effects variance is calculated from the genetic variance and π. The mean of the prior for the marker effects variance is: 0.492462\n",
      "\n",
      "\n",
      "A Linear Mixed Model was build using model equations:\n",
      "\n",
      "y1 = intercept + x1*x3 + x2 + x3 + ID + dam\n",
      "\n",
      "Model Information:\n",
      "\n",
      "Term            C/F          F/R            nLevels\n",
      "intercept       factor       fixed                1\n",
      "x1*x3           interaction  fixed                2\n",
      "x2              factor       random               2\n",
      "x3              factor       fixed                2\n",
      "ID              factor       random              12\n",
      "dam             factor       random              12\n",
      "\n",
      "MCMC Information:\n",
      "\n",
      "methods                                      BayesC\n",
      "chain_length                                   5000\n",
      "burnin                                            0\n",
      "estimatePi                                     true\n",
      "starting_value                                false\n",
      "printout_frequency                             5001\n",
      "output_samples_frequency                        100\n",
      "constraint                                    false\n",
      "missing_phenotypes                            false\n",
      "update_priors_frequency                           0\n",
      "\n",
      "Hyper-parameters Information: \n",
      "\n",
      "random effect variances (x2):                 [1.0]\n",
      "residual variances:                           1.000\n",
      "genetic variances (polygenic):\n",
      "                                 [1.0 0.5; 0.5 1.0]\n",
      "genetic variances (genomic):                  0.492\n",
      "marker effect variances:                      0.492\n",
      "π                                               0.0\n",
      "\n",
      "Degree of freedom for hyper-parameters:\n",
      "\n",
      "residual variances:                           4.000\n",
      "iid random effect variances:                  4.000\n",
      "polygenic effect variances:                   4.000\n",
      "marker effect variances:                      4.000\n",
      "\n",
      "\n",
      "\n",
      "\u001b[31mThe file MCMC_samples_residual_variance.txt already exists!!! It is overwritten by the new output.\u001b[39m\n",
      "\u001b[32mThe file MCMC_samples_polygenic_effects_variance.txt is created to save MCMC samples for polygenic_effects_variance.\u001b[39m\n",
      "\u001b[32mThe file MCMC_samples_marker_effects_y1.txt is created to save MCMC samples for marker_effects_y1.\u001b[39m\n",
      "\u001b[32mThe file MCMC_samples_marker_effects_variances.txt is created to save MCMC samples for marker_effects_variances.\u001b[39m\n",
      "\u001b[32mThe file MCMC_samples_pi.txt is created to save MCMC samples for pi.\u001b[39m\n",
      "\u001b[32mThe file MCMC_samples_x2_variances.txt is created to save MCMC samples for x2_variances.\u001b[39m\n"
     ]
    },
    {
     "name": "stderr",
     "output_type": "stream",
     "text": [
      "\u001b[32mrunning MCMC for BayesC...100%|█████████████████████████| Time: 0:00:01\u001b[39m\n"
     ]
    }
   ],
   "source": [
    "out1=runMCMC(model1,phenotypes,methods=\"BayesC\",estimatePi=true,chain_length=5000,output_samples_frequency=100);"
   ]
  },
  {
   "cell_type": "markdown",
   "metadata": {},
   "source": [
    "<button type=\"button\" class=\"btn btn-lg btn-primary\">Check Results</button> "
   ]
  },
  {
   "cell_type": "code",
   "execution_count": 51,
   "metadata": {},
   "outputs": [
    {
     "data": {
      "text/plain": [
       "Base.KeySet for a Dict{Any,Any} with 7 entries. Keys:\n",
       "  \"Posterior mean of polygenic effects covariance matrix\"\n",
       "  \"EBV_y1\"\n",
       "  \"Posterior mean of marker effects\"\n",
       "  \"Posterior mean of residual variance\"\n",
       "  \"Posterior mean of marker effects variance\"\n",
       "  \"Posterior mean of location parameters\"\n",
       "  \"Posterior mean of Pi\""
      ]
     },
     "execution_count": 51,
     "metadata": {},
     "output_type": "execute_result"
    }
   ],
   "source": [
    "keys(out1)"
   ]
  },
  {
   "cell_type": "code",
   "execution_count": 52,
   "metadata": {},
   "outputs": [
    {
     "data": {
      "text/plain": [
       "0.47192420369315996"
      ]
     },
     "execution_count": 52,
     "metadata": {},
     "output_type": "execute_result"
    }
   ],
   "source": [
    "out1[\"Posterior mean of Pi\"]"
   ]
  }
 ],
 "metadata": {
  "anaconda-cloud": {},
  "kernelspec": {
   "display_name": "Julia 1.0.0",
   "language": "julia",
   "name": "julia-1.0"
  },
  "language_info": {
   "file_extension": ".jl",
   "mimetype": "application/julia",
   "name": "julia",
   "version": "1.0.0"
  }
 },
 "nbformat": 4,
 "nbformat_minor": 2
}
