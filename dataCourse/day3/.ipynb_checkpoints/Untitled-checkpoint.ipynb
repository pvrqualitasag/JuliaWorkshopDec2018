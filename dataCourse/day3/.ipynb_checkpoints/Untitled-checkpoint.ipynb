{
 "cells": [
  {
   "cell_type": "markdown",
   "metadata": {},
   "source": [
    "## Simulation Of Marker Data For Hypothesis Testing Using XSim"
   ]
  },
  {
   "cell_type": "markdown",
   "metadata": {},
   "source": [
    "In `hypothesisTestBayesABC` different methods are compared for inferring the difference between the least favorable and the most favorable genotype. For more background and explanaition, please have a look at the notebook directly.\n",
    "\n",
    "The approach taken in here is based on the notebooks about `XSim` used on day2. "
   ]
  }
 ],
 "metadata": {
  "kernelspec": {
   "display_name": "Julia 1.0.0",
   "language": "julia",
   "name": "julia-1.0"
  },
  "language_info": {
   "file_extension": ".jl",
   "mimetype": "application/julia",
   "name": "julia",
   "version": "1.0.0"
  }
 },
 "nbformat": 4,
 "nbformat_minor": 2
}
