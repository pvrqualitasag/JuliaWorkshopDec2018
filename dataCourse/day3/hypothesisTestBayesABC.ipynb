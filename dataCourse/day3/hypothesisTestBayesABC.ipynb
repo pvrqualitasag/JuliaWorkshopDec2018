{
 "cells": [
  {
   "cell_type": "markdown",
   "metadata": {},
   "source": [
    "Latex Macros:\n",
    "$$\n",
    "\\newcommand{\\E}{\\text{E}}\n",
    "\\newcommand{\\mbf}{\\mathbf}\n",
    "\\newcommand{\\bs}{\\boldsymbol}\n",
    "\\newcommand{\\Cov}{\\text{Cov}}\n",
    "\\newcommand{\\Var}{\\text{Var}}\n",
    "\\newcommand{\\Cov}{\\text{Cov}}\n",
    "\\newcommand{\\A}[1]{\\mathbf{A}_{#1}}\n",
    "\\newcommand{\\Ai}[1]{\\mathbf{A}^{#1}}\n",
    "$$"
   ]
  },
  {
   "cell_type": "markdown",
   "metadata": {},
   "source": [
    "# Inference on difference beteween the most favorable and least unfavorable genotypic values  "
   ]
  },
  {
   "cell_type": "markdown",
   "metadata": {},
   "source": [
    "Consider the model:\n",
    "$$\n",
    "\\mbf{y} = \\mbf{1}\\bs{\\mu} + \\mbf{M}\\bs{\\alpha} + \\mbf{e},\n",
    "$$"
   ]
  },
  {
   "cell_type": "markdown",
   "metadata": {},
   "source": [
    "where $\\mbf{M}$ is a matrix of SNP covariates coded as 0, 1 or 2 (number of copies of the \"A\" allele). At locus $j$, if the \"A\" allele is favorable, $\\alpha_j$ is positive, and if it is unfavorable,$\\alpha_j$ is negative. So, if locus $j$ is favorable, the difference between the favorable and unfavorable homozygotes will be $2 \\times \\alpha_j$. On the other hand, if locus $j$ is unfavorable, this difference becomes $2\\times -\\alpha_j$. Thus, at an arbitrary locus, the difference between the favorable and unfavorable homozygotes is $2 \\times |\\alpha_j|$, and across all the loci, the difference between the most favorable and least favorable genotypic values is:"
   ]
  },
  {
   "cell_type": "markdown",
   "metadata": {},
   "source": [
    "$$\n",
    "D = 2\\sum_j |\\alpha_j|.\n",
    "$$"
   ]
  },
  {
   "cell_type": "markdown",
   "metadata": {},
   "source": [
    "But, as the $\\bs{\\alpha}$ is not observed, $D$ can be estimated as\n",
    "$$\n",
    "D = 2\\sum_j |\\hat{\\alpha}_j|.\n",
    "$$"
   ]
  },
  {
   "cell_type": "markdown",
   "metadata": {},
   "source": [
    "Below are results from several estimators of $\\bs{\\alpha}$. "
   ]
  },
  {
   "cell_type": "code",
   "execution_count": 4,
   "metadata": {},
   "outputs": [],
   "source": [
    "using Statistics, Distributions, JWAS, LinearAlgebra, Printf, Plots, CSV, DataFrames\n",
    "using Random"
   ]
  },
  {
   "cell_type": "markdown",
   "metadata": {},
   "source": [
    "Here is a simple way to define a function:"
   ]
  },
  {
   "cell_type": "code",
   "execution_count": 6,
   "metadata": {},
   "outputs": [
    {
     "data": {
      "text/plain": [
       "Identity (generic function with 1 method)"
      ]
     },
     "execution_count": 6,
     "metadata": {},
     "output_type": "execute_result"
    }
   ],
   "source": [
    "Identity(n) = Matrix(I,n,n)"
   ]
  },
  {
   "cell_type": "code",
   "execution_count": 12,
   "metadata": {},
   "outputs": [
    {
     "data": {
      "text/plain": [
       "getEstimates (generic function with 1 method)"
      ]
     },
     "execution_count": 12,
     "metadata": {},
     "output_type": "execute_result"
    }
   ],
   "source": [
    "function getEstimates(X,mmei,xpxi,probNull, Vg, Ve)\n",
    "    n,p = size(X)\n",
    "    pNull = Int(probNull*p)\n",
    "    pNonNull = p - pNull\n",
    "    Valpha = 2Vg/p\n",
    "    α = [randn(pNonNull)*sqrt(Valpha); zeros(pNull)]\n",
    "    y = X*α + randn(n) .* sqrt(Ve)\n",
    "    data = DataFrame([string.(1:n) y])\n",
    "    names!(data,[:ind, :y])\n",
    "    \n",
    "    model = build_model(\"y = intercept\", Ve)\n",
    "    add_genotypes(model,\"genotypes\", Vg; G_is_marker_variance=false, separator=',',header=false)\n",
    "    \n",
    "    ### Bayes A ###\n",
    "    outputA = runMCMC(model,data;\n",
    "                Pi                  = 0.0,\n",
    "                burnin              = 1000,\n",
    "                chain_length        = 11000,\n",
    "                starting_value      = false,\n",
    "                missing_phenotypes  = false,\n",
    "                constraint          = false,\n",
    "                estimatePi          = false,\n",
    "                estimate_variance   = true,\n",
    "                methods             = \"BayesB\",\n",
    "                printout_frequency  = 5_000,\n",
    "                printout_model_info = false,\n",
    "                output_samples_frequency = 0,\n",
    "                update_priors_frequency=0,\n",
    "                #parameters for single-step analysis\n",
    "                single_step_analysis= false,\n",
    "                pedigree            = false,\n",
    "                #output\n",
    "                #Genomic Prediction\n",
    "                outputEBV               = false,\n",
    "                output_genetic_variance = true,\n",
    "                output_residual_variance= true,\n",
    "                output_heritability     = false\n",
    "    )\n",
    "    \n",
    "    ### Bayes BPi ###\n",
    "    model = build_model(\"y = intercept\", Ve)\n",
    "    add_genotypes(model,\"genotypes\", Vg; G_is_marker_variance=false, separator=',',header=false)\n",
    "    outputB = runMCMC(model,data;\n",
    "                Pi                  = 0.5,\n",
    "                burnin              = 1000,\n",
    "                chain_length        = 11000,\n",
    "                starting_value      = false,\n",
    "                missing_phenotypes  = false,\n",
    "                constraint          = false,\n",
    "                estimatePi          = true,\n",
    "                estimate_variance   = true,\n",
    "                methods             = \"BayesB\",\n",
    "                printout_frequency  = 5_000,\n",
    "                printout_model_info = false,\n",
    "                output_samples_frequency = 0,\n",
    "                update_priors_frequency=0,\n",
    "                #parameters for single-step analysis\n",
    "                single_step_analysis= false,\n",
    "                pedigree            = false,\n",
    "                #output\n",
    "                #Genomic Prediction\n",
    "                outputEBV               = false,\n",
    "                output_genetic_variance = true,\n",
    "                output_residual_variance= true,\n",
    "                output_heritability     = false\n",
    "    )\n",
    "    \n",
    "    ### Bayes CPi ###\n",
    "    model = build_model(\"y = intercept\", Ve)\n",
    "    add_genotypes(model,\"genotypes\", Vg; G_is_marker_variance=false, separator=',',header=false)\n",
    "    outputC = runMCMC(model,data;\n",
    "                Pi                  = 0.5,\n",
    "                burnin              = 1000,\n",
    "                chain_length        = 11000,\n",
    "                starting_value      = false,\n",
    "                missing_phenotypes  = false,\n",
    "                constraint          = false,\n",
    "                estimatePi          = true,\n",
    "                estimate_variance   = true,\n",
    "                methods             = \"BayesC\",\n",
    "                printout_frequency  = 5_000,\n",
    "                printout_model_info = false,\n",
    "                output_samples_frequency = 0,\n",
    "                update_priors_frequency=0,\n",
    "                #parameters for single-step analysis\n",
    "                single_step_analysis= false,\n",
    "                pedigree            = false,\n",
    "                #output\n",
    "                #Genomic Prediction\n",
    "                outputEBV               = false,\n",
    "                output_genetic_variance = true,\n",
    "                output_residual_variance= true,\n",
    "                output_heritability     = false\n",
    "    )\n",
    "    rhs = X'y\n",
    "    ### RR-BLUP ###\n",
    "    blup = mmei*rhs\n",
    "    \n",
    "    ### OLS ###\n",
    "    ols  = xpxi*rhs\n",
    "    \n",
    "    bayesa = outputA[\"Posterior mean of marker effects\"]\n",
    "    bayesb = outputB[\"Posterior mean of marker effects\"]\n",
    "    bayesc = outputC[\"Posterior mean of marker effects\"]\n",
    "    trueMean   = 2*sum(abs.(α))\n",
    "    bayesaMean = 2*sum(abs.(bayesa))\n",
    "    bayesbMean = 2*sum(abs.(bayesb))\n",
    "    bayescMean = 2*sum(abs.(bayesc))\n",
    "    blupMean   = 2*sum(abs.(blup))\n",
    "    olsMean    = 2*sum(abs.(ols))    \n",
    "    return trueMean,bayesaMean,bayesbMean,bayescMean,blupMean,olsMean\n",
    "end"
   ]
  },
  {
   "cell_type": "markdown",
   "metadata": {},
   "source": [
    "### Comparison of BayesA, BayesB, BayesCPi, RR-BLUP and OLS with Sample size n = 100 and number p = 20 of markers and $\\pi = 0.75$"
   ]
  },
  {
   "cell_type": "code",
   "execution_count": 13,
   "metadata": {
    "jupyter": {
     "source_hidden": true
    },
    "scrolled": true
   },
   "outputs": [
    {
     "name": "stdout",
     "output_type": "stream",
     "text": [
      "20 markers on 100 individuals were added.\n",
      "\n",
      "The prior for marker effects variance is calculated from the genetic variance and π. The mean of the prior for the marker effects variance is: 2.008254\n",
      "\n",
      "\n",
      "\n",
      "Posterior means at iteration: 5000\n",
      "Residual variance: 9.123002\n",
      "\n",
      "Posterior means at iteration: 10000\n",
      "Residual variance: 9.159126\n"
     ]
    },
    {
     "name": "stderr",
     "output_type": "stream",
     "text": [
      "\r",
      "\u001b[32mrunning MCMC for BayesB... 50%|█████████████            |  ETA: 0:00:00\u001b[39m"
     ]
    },
    {
     "name": "stdout",
     "output_type": "stream",
     "text": [
      "20 markers on 100 individuals were added.\n",
      "\n",
      "The prior for marker effects variance is calculated from the genetic variance and π. The mean of the prior for the marker effects variance is: 4.016508\n",
      "\n",
      "\n"
     ]
    },
    {
     "name": "stderr",
     "output_type": "stream",
     "text": [
      "\r",
      "\u001b[32mrunning MCMC for BayesB...100%|█████████████████████████|  ETA: 0:00:00\u001b[39m\r",
      "\u001b[32mrunning MCMC for BayesB...100%|█████████████████████████| Time: 0:00:00\u001b[39m\n"
     ]
    },
    {
     "name": "stdout",
     "output_type": "stream",
     "text": [
      "\n",
      "Posterior means at iteration: 5000\n",
      "Residual variance: 9.561396\n",
      "π: 0.758\n"
     ]
    },
    {
     "name": "stderr",
     "output_type": "stream",
     "text": [
      "\r",
      "\u001b[32mrunning MCMC for BayesB... 38%|█████████                |  ETA: 0:00:00\u001b[39m"
     ]
    },
    {
     "name": "stdout",
     "output_type": "stream",
     "text": [
      "\n",
      "Posterior means at iteration: 10000\n",
      "Residual variance: 9.569168\n",
      "π: 0.757\n",
      "20 markers on 100 individuals were added.\n",
      "\n",
      "The prior for marker effects variance is calculated from the genetic variance and π. The mean of the prior for the marker effects variance is: 4.016508\n",
      "\n",
      "\n"
     ]
    },
    {
     "name": "stderr",
     "output_type": "stream",
     "text": [
      "\r",
      "\u001b[32mrunning MCMC for BayesB... 79%|████████████████████     |  ETA: 0:00:00\u001b[39m\r",
      "\u001b[32mrunning MCMC for BayesB...100%|█████████████████████████| Time: 0:00:00\u001b[39m\n"
     ]
    },
    {
     "name": "stdout",
     "output_type": "stream",
     "text": [
      "\n",
      "Posterior means at iteration: 5000\n",
      "Residual variance: 9.544372\n",
      "Marker effects variance: 2.084202\n",
      "π: 0.713\n",
      "\n",
      "Posterior means at iteration: 10000\n",
      "Residual variance: 9.532483\n",
      "Marker effects variance: 2.069716\n",
      "π: 0.715\n"
     ]
    },
    {
     "name": "stderr",
     "output_type": "stream",
     "text": [
      "\u001b[32mrunning MCMC for BayesC...100%|█████████████████████████| Time: 0:00:00\u001b[39m\n"
     ]
    },
    {
     "name": "stdout",
     "output_type": "stream",
     "text": [
      "20 markers on 100 individuals were added.\n",
      "\n",
      "The prior for marker effects variance is calculated from the genetic variance and π. The mean of the prior for the marker effects variance is: 2.008254\n",
      "\n",
      "\n",
      "\n",
      "Posterior means at iteration: 5000\n",
      "Residual variance: 10.390647\n",
      "\n",
      "Posterior means at iteration: 10000\n",
      "Residual variance: 10.418682\n",
      "20 markers on 100 individuals were added.\n",
      "\n"
     ]
    },
    {
     "name": "stderr",
     "output_type": "stream",
     "text": [
      "\r",
      "\u001b[32mrunning MCMC for BayesB... 57%|██████████████           |  ETA: 0:00:00\u001b[39m\r",
      "\u001b[32mrunning MCMC for BayesB...100%|█████████████████████████| Time: 0:00:00\u001b[39m\n"
     ]
    },
    {
     "name": "stdout",
     "output_type": "stream",
     "text": [
      "The prior for marker effects variance is calculated from the genetic variance and π. The mean of the prior for the marker effects variance is: 4.016508\n",
      "\n",
      "\n",
      "\n",
      "Posterior means at iteration: 5000\n",
      "Residual variance: 11.150424\n",
      "π: 0.529\n"
     ]
    },
    {
     "name": "stderr",
     "output_type": "stream",
     "text": [
      "\r",
      "\u001b[32mrunning MCMC for BayesB... 35%|█████████                |  ETA: 0:00:00\u001b[39m"
     ]
    },
    {
     "name": "stdout",
     "output_type": "stream",
     "text": [
      "\n",
      "Posterior means at iteration: 10000\n",
      "Residual variance: 11.120316\n",
      "π: 0.523\n"
     ]
    },
    {
     "name": "stderr",
     "output_type": "stream",
     "text": [
      "\r",
      "\u001b[32mrunning MCMC for BayesB... 79%|████████████████████     |  ETA: 0:00:00\u001b[39m"
     ]
    },
    {
     "name": "stdout",
     "output_type": "stream",
     "text": [
      "20 markers on 100 individuals were added.\n",
      "\n",
      "The prior for marker effects variance is calculated from the genetic variance and π. The mean of the prior for the marker effects variance is: 4.016508\n",
      "\n",
      "\n"
     ]
    },
    {
     "name": "stderr",
     "output_type": "stream",
     "text": [
      "\r",
      "\u001b[32mrunning MCMC for BayesB... 94%|████████████████████████ |  ETA: 0:00:00\u001b[39m\r",
      "\u001b[32mrunning MCMC for BayesB...100%|█████████████████████████| Time: 0:00:00\u001b[39m\n"
     ]
    },
    {
     "name": "stdout",
     "output_type": "stream",
     "text": [
      "\n",
      "Posterior means at iteration: 5000\n",
      "Residual variance: 11.258497\n",
      "Marker effects variance: 2.55177\n",
      "π: 0.526\n"
     ]
    },
    {
     "name": "stderr",
     "output_type": "stream",
     "text": [
      "\r",
      "\u001b[32mrunning MCMC for BayesC... 48%|████████████             |  ETA: 0:00:00\u001b[39m"
     ]
    },
    {
     "name": "stdout",
     "output_type": "stream",
     "text": [
      "\n",
      "Posterior means at iteration: 10000\n",
      "Residual variance: 11.188824\n",
      "Marker effects variance: 2.507532\n",
      "π: 0.517\n",
      "20 markers on 100 individuals were added.\n",
      "\n",
      "The prior for marker effects variance is calculated from the genetic variance and π. The mean of the prior for the marker effects variance is: 2.008254\n",
      "\n",
      "\n"
     ]
    },
    {
     "name": "stderr",
     "output_type": "stream",
     "text": [
      "\r",
      "\u001b[32mrunning MCMC for BayesC... 91%|███████████████████████  |  ETA: 0:00:00\u001b[39m\r",
      "\u001b[32mrunning MCMC for BayesC...100%|█████████████████████████| Time: 0:00:00\u001b[39m\n"
     ]
    },
    {
     "name": "stdout",
     "output_type": "stream",
     "text": [
      "\n",
      "Posterior means at iteration: 5000\n",
      "Residual variance: 7.877234\n"
     ]
    },
    {
     "name": "stderr",
     "output_type": "stream",
     "text": [
      "\r",
      "\u001b[32mrunning MCMC for BayesB... 39%|██████████               |  ETA: 0:00:00\u001b[39m"
     ]
    },
    {
     "name": "stdout",
     "output_type": "stream",
     "text": [
      "\n",
      "Posterior means at iteration: 10000\n",
      "Residual variance: 7.875437\n"
     ]
    },
    {
     "name": "stderr",
     "output_type": "stream",
     "text": [
      "\r",
      "\u001b[32mrunning MCMC for BayesB... 71%|██████████████████       |  ETA: 0:00:00\u001b[39m"
     ]
    },
    {
     "name": "stdout",
     "output_type": "stream",
     "text": [
      "20 markers on 100 individuals were added.\n",
      "\n",
      "The prior for marker effects variance is calculated from the genetic variance and π. The mean of the prior for the marker effects variance is: 4.016508\n",
      "\n",
      "\n"
     ]
    },
    {
     "name": "stderr",
     "output_type": "stream",
     "text": [
      "\r",
      "\u001b[32mrunning MCMC for BayesB... 96%|████████████████████████ |  ETA: 0:00:00\u001b[39m\r",
      "\u001b[32mrunning MCMC for BayesB...100%|█████████████████████████| Time: 0:00:00\u001b[39m\n"
     ]
    },
    {
     "name": "stdout",
     "output_type": "stream",
     "text": [
      "\n",
      "Posterior means at iteration: 5000\n",
      "Residual variance: 8.043869\n",
      "π: 0.587\n"
     ]
    },
    {
     "name": "stderr",
     "output_type": "stream",
     "text": [
      "\r",
      "\u001b[32mrunning MCMC for BayesB... 44%|███████████              |  ETA: 0:00:00\u001b[39m"
     ]
    },
    {
     "name": "stdout",
     "output_type": "stream",
     "text": [
      "\n",
      "Posterior means at iteration: 10000\n",
      "Residual variance: 8.022383\n",
      "π: 0.586\n",
      "20 markers on 100 individuals were added.\n",
      "\n",
      "The prior for marker effects variance is calculated from the genetic variance and π. The mean of the prior for the marker effects variance is: 4.016508\n",
      "\n",
      "\n"
     ]
    },
    {
     "name": "stderr",
     "output_type": "stream",
     "text": [
      "\r",
      "\u001b[32mrunning MCMC for BayesB... 80%|████████████████████     |  ETA: 0:00:00\u001b[39m\r",
      "\u001b[32mrunning MCMC for BayesB...100%|█████████████████████████| Time: 0:00:00\u001b[39m\n"
     ]
    },
    {
     "name": "stdout",
     "output_type": "stream",
     "text": [
      "\n",
      "Posterior means at iteration: 5000\n",
      "Residual variance: 7.997284\n",
      "Marker effects variance: 1.951234\n",
      "π: 0.535\n",
      "\n",
      "Posterior means at iteration: 10000\n",
      "Residual variance: 7.989075\n",
      "Marker effects variance: 1.946712\n",
      "π: 0.54\n"
     ]
    },
    {
     "name": "stderr",
     "output_type": "stream",
     "text": [
      "\r",
      "\u001b[32mrunning MCMC for BayesC... 59%|███████████████          |  ETA: 0:00:00\u001b[39m"
     ]
    },
    {
     "name": "stdout",
     "output_type": "stream",
     "text": [
      "20 markers on 100 individuals were added.\n",
      "\n",
      "The prior for marker effects variance is calculated from the genetic variance and π. The mean of the prior for the marker effects variance is: 2.008254\n",
      "\n",
      "\n"
     ]
    },
    {
     "name": "stderr",
     "output_type": "stream",
     "text": [
      "\r",
      "\u001b[32mrunning MCMC for BayesC...100%|█████████████████████████| Time: 0:00:00\u001b[39m\n"
     ]
    },
    {
     "name": "stdout",
     "output_type": "stream",
     "text": [
      "\n",
      "Posterior means at iteration: 5000\n",
      "Residual variance: 10.207077\n"
     ]
    },
    {
     "name": "stderr",
     "output_type": "stream",
     "text": [
      "\r",
      "\u001b[32mrunning MCMC for BayesB... 39%|██████████               |  ETA: 0:00:00\u001b[39m"
     ]
    },
    {
     "name": "stdout",
     "output_type": "stream",
     "text": [
      "\n",
      "Posterior means at iteration: 10000\n",
      "Residual variance: 10.220303\n",
      "20 markers on 100 individuals were added.\n",
      "\n",
      "The prior for marker effects variance is calculated from the genetic variance and π. The mean of the prior for the marker effects variance is: 4.016508\n",
      "\n",
      "\n"
     ]
    },
    {
     "name": "stderr",
     "output_type": "stream",
     "text": [
      "\r",
      "\u001b[32mrunning MCMC for BayesB... 77%|███████████████████      |  ETA: 0:00:00\u001b[39m\r",
      "\u001b[32mrunning MCMC for BayesB...100%|█████████████████████████| Time: 0:00:00\u001b[39m\n"
     ]
    },
    {
     "name": "stdout",
     "output_type": "stream",
     "text": [
      "\n",
      "Posterior means at iteration: 5000\n",
      "Residual variance: 10.586347\n",
      "π: 0.779\n",
      "\n",
      "Posterior means at iteration: 10000\n",
      "Residual variance: 10.568654\n",
      "π: 0.777\n"
     ]
    },
    {
     "name": "stderr",
     "output_type": "stream",
     "text": [
      "\r",
      "\u001b[32mrunning MCMC for BayesB... 45%|███████████              |  ETA: 0:00:00\u001b[39m"
     ]
    },
    {
     "name": "stdout",
     "output_type": "stream",
     "text": [
      "20 markers on 100 individuals were added.\n",
      "\n",
      "The prior for marker effects variance is calculated from the genetic variance and π. The mean of the prior for the marker effects variance is: 4.016508\n",
      "\n",
      "\n",
      "\n",
      "Posterior means at iteration: 5000\n",
      "Residual variance: 10.454319\n",
      "Marker effects variance: 1.967087\n",
      "π: 0.716\n"
     ]
    },
    {
     "name": "stderr",
     "output_type": "stream",
     "text": [
      "\r",
      "\u001b[32mrunning MCMC for BayesB... 96%|████████████████████████ |  ETA: 0:00:00\u001b[39m\r",
      "\u001b[32mrunning MCMC for BayesB...100%|█████████████████████████| Time: 0:00:00\u001b[39m\n"
     ]
    },
    {
     "name": "stdout",
     "output_type": "stream",
     "text": [
      "\n",
      "Posterior means at iteration: 10000\n",
      "Residual variance: 10.45568\n",
      "Marker effects variance: 2.042876\n",
      "π: 0.731\n",
      "20 markers on 100 individuals were added.\n",
      "\n",
      "The prior for marker effects variance is calculated from the genetic variance and π. The mean of the prior for the marker effects variance is: 2.008254\n",
      "\n",
      "\n"
     ]
    },
    {
     "name": "stderr",
     "output_type": "stream",
     "text": [
      "\r",
      "\u001b[32mrunning MCMC for BayesC... 73%|██████████████████       |  ETA: 0:00:00\u001b[39m\r",
      "\u001b[32mrunning MCMC for BayesC...100%|█████████████████████████| Time: 0:00:00\u001b[39m\n"
     ]
    },
    {
     "name": "stdout",
     "output_type": "stream",
     "text": [
      "\n",
      "Posterior means at iteration: 5000\n",
      "Residual variance: 9.281065\n",
      "\n",
      "Posterior means at iteration: 10000\n",
      "Residual variance: 9.268883\n"
     ]
    },
    {
     "name": "stderr",
     "output_type": "stream",
     "text": [
      "\r",
      "\u001b[32mrunning MCMC for BayesB... 58%|███████████████          |  ETA: 0:00:00\u001b[39m"
     ]
    },
    {
     "name": "stdout",
     "output_type": "stream",
     "text": [
      "20 markers on 100 individuals were added.\n",
      "\n",
      "The prior for marker effects variance is calculated from the genetic variance and π. The mean of the prior for the marker effects variance is: 4.016508\n",
      "\n",
      "\n"
     ]
    },
    {
     "name": "stderr",
     "output_type": "stream",
     "text": [
      "\r",
      "\u001b[32mrunning MCMC for BayesB...100%|█████████████████████████| Time: 0:00:00\u001b[39m\n"
     ]
    },
    {
     "name": "stdout",
     "output_type": "stream",
     "text": [
      "\n",
      "Posterior means at iteration: 5000\n",
      "Residual variance: 8.972401\n",
      "π: 0.758\n"
     ]
    },
    {
     "name": "stderr",
     "output_type": "stream",
     "text": [
      "\r",
      "\u001b[32mrunning MCMC for BayesB... 45%|███████████              |  ETA: 0:00:00\u001b[39m"
     ]
    },
    {
     "name": "stdout",
     "output_type": "stream",
     "text": [
      "\n",
      "Posterior means at iteration: 10000\n",
      "Residual variance: 8.976419\n",
      "π: 0.756\n",
      "20 markers on 100 individuals were added.\n",
      "\n",
      "The prior for marker effects variance is calculated from the genetic variance and π. The mean of the prior for the marker effects variance is: 4.016508\n",
      "\n",
      "\n"
     ]
    },
    {
     "name": "stderr",
     "output_type": "stream",
     "text": [
      "\r",
      "\u001b[32mrunning MCMC for BayesB... 89%|██████████████████████   |  ETA: 0:00:00\u001b[39m\r",
      "\u001b[32mrunning MCMC for BayesB...100%|█████████████████████████| Time: 0:00:00\u001b[39m\n"
     ]
    },
    {
     "name": "stdout",
     "output_type": "stream",
     "text": [
      "\n",
      "Posterior means at iteration: 5000\n",
      "Residual variance: 9.003642\n",
      "Marker effects variance: 2.894812\n",
      "π: 0.761\n",
      "\n",
      "Posterior means at iteration: 10000\n",
      "Residual variance: 9.000188\n",
      "Marker effects variance: 2.929879\n",
      "π: 0.757\n"
     ]
    },
    {
     "name": "stderr",
     "output_type": "stream",
     "text": [
      "\r",
      "\u001b[32mrunning MCMC for BayesC... 60%|███████████████          |  ETA: 0:00:00\u001b[39m\r",
      "\u001b[32mrunning MCMC for BayesC...100%|█████████████████████████| Time: 0:00:00\u001b[39m\n"
     ]
    },
    {
     "name": "stdout",
     "output_type": "stream",
     "text": [
      "20 markers on 100 individuals were added.\n",
      "\n",
      "The prior for marker effects variance is calculated from the genetic variance and π. The mean of the prior for the marker effects variance is: 2.008254\n",
      "\n",
      "\n",
      "\n",
      "Posterior means at iteration: 5000\n",
      "Residual variance: 12.218617\n",
      "\n",
      "Posterior means at iteration: 10000\n",
      "Residual variance: 12.194897\n",
      "20 markers on 100 individuals were added.\n",
      "\n",
      "The prior for marker effects variance is calculated from the genetic variance and π. The mean of the prior for the marker effects variance is: 4.016508\n",
      "\n",
      "\n"
     ]
    },
    {
     "name": "stderr",
     "output_type": "stream",
     "text": [
      "\r",
      "\u001b[32mrunning MCMC for BayesB... 53%|█████████████            |  ETA: 0:00:00\u001b[39m\r",
      "\u001b[32mrunning MCMC for BayesB...100%|█████████████████████████| Time: 0:00:00\u001b[39m\n"
     ]
    },
    {
     "name": "stdout",
     "output_type": "stream",
     "text": [
      "\n",
      "Posterior means at iteration: 5000\n",
      "Residual variance: 11.67793\n",
      "π: 0.832\n",
      "\n",
      "Posterior means at iteration: 10000\n",
      "Residual variance: 11.659472\n",
      "π: 0.832\n"
     ]
    },
    {
     "name": "stderr",
     "output_type": "stream",
     "text": [
      "\r",
      "\u001b[32mrunning MCMC for BayesB... 59%|███████████████          |  ETA: 0:00:00\u001b[39m"
     ]
    },
    {
     "name": "stdout",
     "output_type": "stream",
     "text": [
      "20 markers on 100 individuals were added.\n",
      "\n",
      "The prior for marker effects variance is calculated from the genetic variance and π. The mean of the prior for the marker effects variance is: 4.016508\n",
      "\n",
      "\n",
      "\n",
      "Posterior means at iteration: 5000\n",
      "Residual variance: 11.611678\n",
      "Marker effects variance: 4.423937\n",
      "π: 0.848\n"
     ]
    },
    {
     "name": "stderr",
     "output_type": "stream",
     "text": [
      "\r",
      "\u001b[32mrunning MCMC for BayesB...100%|█████████████████████████| Time: 0:00:00\u001b[39m\n"
     ]
    },
    {
     "name": "stdout",
     "output_type": "stream",
     "text": [
      "\n",
      "Posterior means at iteration: 10000\n",
      "Residual variance: 11.620577\n",
      "Marker effects variance: 4.487703\n",
      "π: 0.848\n",
      "20 markers on 100 individuals were added.\n",
      "\n",
      "The prior for marker effects variance is calculated from the genetic variance and π. The mean of the prior for the marker effects variance is: 2.008254\n",
      "\n",
      "\n"
     ]
    },
    {
     "name": "stderr",
     "output_type": "stream",
     "text": [
      "\r",
      "\u001b[32mrunning MCMC for BayesC... 81%|████████████████████     |  ETA: 0:00:00\u001b[39m\r",
      "\u001b[32mrunning MCMC for BayesC...100%|█████████████████████████| Time: 0:00:00\u001b[39m\n"
     ]
    },
    {
     "name": "stdout",
     "output_type": "stream",
     "text": [
      "\n",
      "Posterior means at iteration: 5000\n",
      "Residual variance: 8.142436\n",
      "\n",
      "Posterior means at iteration: 10000\n",
      "Residual variance: 8.162113\n"
     ]
    },
    {
     "name": "stderr",
     "output_type": "stream",
     "text": [
      "\r",
      "\u001b[32mrunning MCMC for BayesB... 58%|██████████████           |  ETA: 0:00:00\u001b[39m"
     ]
    },
    {
     "name": "stdout",
     "output_type": "stream",
     "text": [
      "20 markers on 100 individuals were added.\n",
      "\n",
      "The prior for marker effects variance is calculated from the genetic variance and π. The mean of the prior for the marker effects variance is: 4.016508\n",
      "\n",
      "\n"
     ]
    },
    {
     "name": "stderr",
     "output_type": "stream",
     "text": [
      "\r",
      "\u001b[32mrunning MCMC for BayesB...100%|█████████████████████████| Time: 0:00:00\u001b[39m\n"
     ]
    },
    {
     "name": "stdout",
     "output_type": "stream",
     "text": [
      "\n",
      "Posterior means at iteration: 5000\n",
      "Residual variance: 8.350537\n",
      "π: 0.9\n",
      "\n",
      "Posterior means at iteration: 10000\n",
      "Residual variance: 8.339127\n",
      "π: 0.9\n"
     ]
    },
    {
     "name": "stderr",
     "output_type": "stream",
     "text": [
      "\r",
      "\u001b[32mrunning MCMC for BayesB... 52%|█████████████            |  ETA: 0:00:00\u001b[39m"
     ]
    },
    {
     "name": "stdout",
     "output_type": "stream",
     "text": [
      "20 markers on 100 individuals were added.\n",
      "\n",
      "The prior for marker effects variance is calculated from the genetic variance and π. The mean of the prior for the marker effects variance is: 4.016508\n",
      "\n",
      "\n",
      "\n",
      "Posterior means at iteration: 5000\n",
      "Residual variance: 8.377858\n",
      "Marker effects variance: 3.106569\n",
      "π: 0.903\n"
     ]
    },
    {
     "name": "stderr",
     "output_type": "stream",
     "text": [
      "\r",
      "\u001b[32mrunning MCMC for BayesB...100%|█████████████████████████| Time: 0:00:00\u001b[39m\n"
     ]
    },
    {
     "name": "stdout",
     "output_type": "stream",
     "text": [
      "\n",
      "Posterior means at iteration: 10000\n",
      "Residual variance: 8.354371\n",
      "Marker effects variance: 2.984656\n",
      "π: 0.894\n",
      "20 markers on 100 individuals were added.\n",
      "\n",
      "The prior for marker effects variance is calculated from the genetic variance and π. The mean of the prior for the marker effects variance is: 2.008254\n",
      "\n",
      "\n"
     ]
    },
    {
     "name": "stderr",
     "output_type": "stream",
     "text": [
      "\r",
      "\u001b[32mrunning MCMC for BayesC... 67%|█████████████████        |  ETA: 0:00:00\u001b[39m\r",
      "\u001b[32mrunning MCMC for BayesC...100%|█████████████████████████| Time: 0:00:00\u001b[39m\n"
     ]
    },
    {
     "name": "stdout",
     "output_type": "stream",
     "text": [
      "\n",
      "Posterior means at iteration: 5000\n",
      "Residual variance: 8.613665\n"
     ]
    },
    {
     "name": "stderr",
     "output_type": "stream",
     "text": [
      "\r",
      "\u001b[32mrunning MCMC for BayesB... 55%|██████████████           |  ETA: 0:00:00\u001b[39m"
     ]
    },
    {
     "name": "stdout",
     "output_type": "stream",
     "text": [
      "\n",
      "Posterior means at iteration: 10000\n",
      "Residual variance: 8.599173\n",
      "20 markers on 100 individuals were added.\n",
      "\n",
      "The prior for marker effects variance is calculated from the genetic variance and π. The mean of the prior for the marker effects variance is: 4.016508\n",
      "\n",
      "\n"
     ]
    },
    {
     "name": "stderr",
     "output_type": "stream",
     "text": [
      "\r",
      "\u001b[32mrunning MCMC for BayesB... 97%|████████████████████████ |  ETA: 0:00:00\u001b[39m\r",
      "\u001b[32mrunning MCMC for BayesB...100%|█████████████████████████| Time: 0:00:00\u001b[39m\n"
     ]
    },
    {
     "name": "stdout",
     "output_type": "stream",
     "text": [
      "\n",
      "Posterior means at iteration: 5000\n",
      "Residual variance: 9.155\n",
      "π: 0.764\n",
      "\n",
      "Posterior means at iteration: 10000\n",
      "Residual variance: 9.150268\n",
      "π: 0.761\n"
     ]
    },
    {
     "name": "stderr",
     "output_type": "stream",
     "text": [
      "\r",
      "\u001b[32mrunning MCMC for BayesB... 52%|█████████████            |  ETA: 0:00:00\u001b[39m"
     ]
    },
    {
     "name": "stdout",
     "output_type": "stream",
     "text": [
      "20 markers on 100 individuals were added.\n",
      "\n",
      "The prior for marker effects variance is calculated from the genetic variance and π. The mean of the prior for the marker effects variance is: 4.016508\n",
      "\n",
      "\n",
      "\n",
      "Posterior means at iteration: 5000\n",
      "Residual variance: 9.067504\n",
      "Marker effects variance: 1.916575\n",
      "π: 0.707\n"
     ]
    },
    {
     "name": "stderr",
     "output_type": "stream",
     "text": [
      "\r",
      "\u001b[32mrunning MCMC for BayesB...100%|█████████████████████████| Time: 0:00:00\u001b[39m\n"
     ]
    },
    {
     "name": "stdout",
     "output_type": "stream",
     "text": [
      "\n",
      "Posterior means at iteration: 10000\n",
      "Residual variance: 9.070347\n",
      "Marker effects variance: 1.89813\n",
      "π: 0.701\n",
      "20 markers on 100 individuals were added.\n",
      "\n",
      "The prior for marker effects variance is calculated from the genetic variance and π. The mean of the prior for the marker effects variance is: 2.008254\n",
      "\n",
      "\n"
     ]
    },
    {
     "name": "stderr",
     "output_type": "stream",
     "text": [
      "\r",
      "\u001b[32mrunning MCMC for BayesC... 74%|██████████████████       |  ETA: 0:00:00\u001b[39m\r",
      "\u001b[32mrunning MCMC for BayesC...100%|█████████████████████████| Time: 0:00:00\u001b[39m\n"
     ]
    },
    {
     "name": "stdout",
     "output_type": "stream",
     "text": [
      "\n",
      "Posterior means at iteration: 5000\n",
      "Residual variance: 10.838099\n",
      "\n",
      "Posterior means at iteration: 10000\n",
      "Residual variance: 10.860114\n"
     ]
    },
    {
     "name": "stderr",
     "output_type": "stream",
     "text": [
      "\r",
      "\u001b[32mrunning MCMC for BayesB... 60%|███████████████          |  ETA: 0:00:00\u001b[39m"
     ]
    },
    {
     "name": "stdout",
     "output_type": "stream",
     "text": [
      "20 markers on 100 individuals were added.\n",
      "\n",
      "The prior for marker effects variance is calculated from the genetic variance and π. The mean of the prior for the marker effects variance is: 4.016508\n",
      "\n",
      "\n"
     ]
    },
    {
     "name": "stderr",
     "output_type": "stream",
     "text": [
      "\r",
      "\u001b[32mrunning MCMC for BayesB...100%|█████████████████████████| Time: 0:00:00\u001b[39m\n"
     ]
    },
    {
     "name": "stdout",
     "output_type": "stream",
     "text": [
      "\n",
      "Posterior means at iteration: 5000\n",
      "Residual variance: 11.036653\n",
      "π: 0.597\n",
      "\n",
      "Posterior means at iteration: 10000\n",
      "Residual variance: 11.041212\n",
      "π: 0.594\n"
     ]
    },
    {
     "name": "stderr",
     "output_type": "stream",
     "text": [
      "\r",
      "\u001b[32mrunning MCMC for BayesB... 50%|█████████████            |  ETA: 0:00:00\u001b[39m"
     ]
    },
    {
     "name": "stdout",
     "output_type": "stream",
     "text": [
      "20 markers on 100 individuals were added.\n",
      "\n",
      "The prior for marker effects variance is calculated from the genetic variance and π. The mean of the prior for the marker effects variance is: 4.016508\n",
      "\n",
      "\n",
      "\n",
      "Posterior means at iteration: 5000\n",
      "Residual variance: 11.03541\n",
      "Marker effects variance: 2.857887\n",
      "π: 0.607\n"
     ]
    },
    {
     "name": "stderr",
     "output_type": "stream",
     "text": [
      "\r",
      "\u001b[32mrunning MCMC for BayesB...100%|█████████████████████████| Time: 0:00:00\u001b[39m\n"
     ]
    },
    {
     "name": "stdout",
     "output_type": "stream",
     "text": [
      "\n",
      "Posterior means at iteration: 10000\n",
      "Residual variance: 11.052384\n",
      "Marker effects variance: 2.828471\n",
      "π: 0.602\n",
      "20 markers on 100 individuals were added.\n",
      "\n",
      "The prior for marker effects variance is calculated from the genetic variance and π. The mean of the prior for the marker effects variance is: 2.008254\n",
      "\n",
      "\n"
     ]
    },
    {
     "name": "stderr",
     "output_type": "stream",
     "text": [
      "\r",
      "\u001b[32mrunning MCMC for BayesC... 74%|███████████████████      |  ETA: 0:00:00\u001b[39m\r",
      "\u001b[32mrunning MCMC for BayesC...100%|█████████████████████████| Time: 0:00:00\u001b[39m\n"
     ]
    },
    {
     "name": "stdout",
     "output_type": "stream",
     "text": [
      "\n",
      "Posterior means at iteration: 5000\n",
      "Residual variance: 10.0544\n"
     ]
    },
    {
     "name": "stderr",
     "output_type": "stream",
     "text": [
      "\r",
      "\u001b[32mrunning MCMC for BayesB... 53%|█████████████            |  ETA: 0:00:00\u001b[39m"
     ]
    },
    {
     "name": "stdout",
     "output_type": "stream",
     "text": [
      "\n",
      "Posterior means at iteration: 10000\n",
      "Residual variance: 10.059551\n",
      "20 markers on 100 individuals were added.\n",
      "\n",
      "The prior for marker effects variance is calculated from the genetic variance and π. The mean of the prior for the marker effects variance is: 4.016508\n",
      "\n",
      "\n"
     ]
    },
    {
     "name": "stderr",
     "output_type": "stream",
     "text": [
      "\r",
      "\u001b[32mrunning MCMC for BayesB...100%|█████████████████████████| Time: 0:00:00\u001b[39m\n"
     ]
    },
    {
     "name": "stdout",
     "output_type": "stream",
     "text": [
      "\n",
      "Posterior means at iteration: 5000\n",
      "Residual variance: 10.475731\n",
      "π: 0.558\n"
     ]
    },
    {
     "name": "stderr",
     "output_type": "stream",
     "text": [
      "\r",
      "\u001b[32mrunning MCMC for BayesB... 51%|█████████████            |  ETA: 0:00:00\u001b[39m"
     ]
    },
    {
     "name": "stdout",
     "output_type": "stream",
     "text": [
      "\n",
      "Posterior means at iteration: 10000\n",
      "Residual variance: 10.461225\n",
      "π: 0.555\n",
      "20 markers on 100 individuals were added.\n",
      "\n",
      "The prior for marker effects variance is calculated from the genetic variance and π. The mean of the prior for the marker effects variance is: 4.016508\n",
      "\n",
      "\n"
     ]
    },
    {
     "name": "stderr",
     "output_type": "stream",
     "text": [
      "\r",
      "\u001b[32mrunning MCMC for BayesB... 97%|████████████████████████ |  ETA: 0:00:00\u001b[39m\r",
      "\u001b[32mrunning MCMC for BayesB...100%|█████████████████████████| Time: 0:00:00\u001b[39m\n"
     ]
    },
    {
     "name": "stdout",
     "output_type": "stream",
     "text": [
      "\n",
      "Posterior means at iteration: 5000\n",
      "Residual variance: 10.388396\n",
      "Marker effects variance: 2.444797\n",
      "π: 0.521\n",
      "\n",
      "Posterior means at iteration: 10000\n",
      "Residual variance: 10.429283\n",
      "Marker effects variance: 2.393263\n",
      "π: 0.521\n",
      "20 markers on 100 individuals were added.\n",
      "\n",
      "The prior for marker effects variance is calculated from the genetic variance and π. The mean of the prior for the marker effects variance is: 2.008254\n",
      "\n",
      "\n"
     ]
    },
    {
     "name": "stderr",
     "output_type": "stream",
     "text": [
      "\r",
      "\u001b[32mrunning MCMC for BayesC... 69%|█████████████████        |  ETA: 0:00:00\u001b[39m\r",
      "\u001b[32mrunning MCMC for BayesC...100%|█████████████████████████| Time: 0:00:00\u001b[39m\n"
     ]
    },
    {
     "name": "stdout",
     "output_type": "stream",
     "text": [
      "\n",
      "Posterior means at iteration: 5000\n",
      "Residual variance: 8.403179\n",
      "\n",
      "Posterior means at iteration: 10000\n",
      "Residual variance: 8.379554\n"
     ]
    },
    {
     "name": "stderr",
     "output_type": "stream",
     "text": [
      "\r",
      "\u001b[32mrunning MCMC for BayesB... 55%|██████████████           |  ETA: 0:00:00\u001b[39m"
     ]
    },
    {
     "name": "stdout",
     "output_type": "stream",
     "text": [
      "20 markers on 100 individuals were added.\n",
      "\n",
      "The prior for marker effects variance is calculated from the genetic variance and π. The mean of the prior for the marker effects variance is: 4.016508\n",
      "\n",
      "\n"
     ]
    },
    {
     "name": "stderr",
     "output_type": "stream",
     "text": [
      "\r",
      "\u001b[32mrunning MCMC for BayesB...100%|█████████████████████████| Time: 0:00:00\u001b[39m\n"
     ]
    },
    {
     "name": "stdout",
     "output_type": "stream",
     "text": [
      "\n",
      "Posterior means at iteration: 5000\n",
      "Residual variance: 8.327226\n",
      "π: 0.648\n",
      "\n",
      "Posterior means at iteration: 10000\n",
      "Residual variance: "
     ]
    },
    {
     "name": "stderr",
     "output_type": "stream",
     "text": [
      "\r",
      "\u001b[32mrunning MCMC for BayesB... 49%|████████████             |  ETA: 0:00:00\u001b[39m"
     ]
    },
    {
     "name": "stdout",
     "output_type": "stream",
     "text": [
      "8.33134\n",
      "π: 0.65\n",
      "20 markers on 100 individuals were added.\n",
      "\n",
      "The prior for marker effects variance is calculated from the genetic variance and π. The mean of the prior for the marker effects variance is: 4.016508\n",
      "\n",
      "\n"
     ]
    },
    {
     "name": "stderr",
     "output_type": "stream",
     "text": [
      "\r",
      "\u001b[32mrunning MCMC for BayesB... 95%|████████████████████████ |  ETA: 0:00:00\u001b[39m\r",
      "\u001b[32mrunning MCMC for BayesB...100%|█████████████████████████| Time: 0:00:00\u001b[39m\n"
     ]
    },
    {
     "name": "stdout",
     "output_type": "stream",
     "text": [
      "\n",
      "Posterior means at iteration: 5000\n",
      "Residual variance: 8.375452\n",
      "Marker effects variance: 2.57321\n",
      "π: 0.641\n"
     ]
    },
    {
     "name": "stderr",
     "output_type": "stream",
     "text": [
      "\r",
      "\u001b[32mrunning MCMC for BayesC... 54%|█████████████            |  ETA: 0:00:00\u001b[39m"
     ]
    },
    {
     "name": "stdout",
     "output_type": "stream",
     "text": [
      "\n",
      "Posterior means at iteration: 10000\n",
      "Residual variance: 8.355145\n",
      "Marker effects variance: 2.614994\n",
      "π: 0.648\n",
      "20 markers on 100 individuals were added.\n",
      "\n",
      "The prior for marker effects variance is calculated from the genetic variance and π. The mean of the prior for the marker effects variance is: 2.008254\n",
      "\n",
      "\n"
     ]
    },
    {
     "name": "stderr",
     "output_type": "stream",
     "text": [
      "\r",
      "\u001b[32mrunning MCMC for BayesC... 93%|███████████████████████  |  ETA: 0:00:00\u001b[39m\r",
      "\u001b[32mrunning MCMC for BayesC...100%|█████████████████████████| Time: 0:00:00\u001b[39m\n"
     ]
    },
    {
     "name": "stdout",
     "output_type": "stream",
     "text": [
      "\n",
      "Posterior means at iteration: 5000\n",
      "Residual variance: 9.316754\n"
     ]
    },
    {
     "name": "stderr",
     "output_type": "stream",
     "text": [
      "\u001b[32mrunning MCMC for BayesB... 58%|██████████████           |  ETA: 0:00:00\u001b[39m"
     ]
    },
    {
     "name": "stdout",
     "output_type": "stream",
     "text": [
      "\n",
      "Posterior means at iteration: 10000\n",
      "Residual variance: 9.301012\n",
      "20 markers on 100 individuals were added.\n",
      "\n",
      "The prior for marker effects variance is calculated from the genetic variance and π. The mean of the prior for the marker effects variance is: 4.016508\n",
      "\n",
      "\n"
     ]
    },
    {
     "name": "stderr",
     "output_type": "stream",
     "text": [
      "\r",
      "\u001b[32mrunning MCMC for BayesB... 88%|██████████████████████   |  ETA: 0:00:00\u001b[39m\r",
      "\u001b[32mrunning MCMC for BayesB...100%|█████████████████████████| Time: 0:00:00\u001b[39m\n"
     ]
    },
    {
     "name": "stdout",
     "output_type": "stream",
     "text": [
      "\n",
      "Posterior means at iteration: 5000\n",
      "Residual variance: 9.432957\n",
      "π: 0.799\n"
     ]
    },
    {
     "name": "stderr",
     "output_type": "stream",
     "text": [
      "\r",
      "\u001b[32mrunning MCMC for BayesB... 46%|███████████              |  ETA: 0:00:00\u001b[39m"
     ]
    },
    {
     "name": "stdout",
     "output_type": "stream",
     "text": [
      "\n",
      "Posterior means at iteration: 10000\n",
      "Residual variance: 9.458954\n",
      "π: 0.803\n",
      "20 markers on 100 individuals were added.\n",
      "\n",
      "The prior for marker effects variance is calculated from the genetic variance and π. The mean of the prior for the marker effects variance is: 4.016508\n",
      "\n",
      "\n"
     ]
    },
    {
     "name": "stderr",
     "output_type": "stream",
     "text": [
      "\r",
      "\u001b[32mrunning MCMC for BayesB... 89%|██████████████████████   |  ETA: 0:00:00\u001b[39m\r",
      "\u001b[32mrunning MCMC for BayesB...100%|█████████████████████████| Time: 0:00:00\u001b[39m\n"
     ]
    },
    {
     "name": "stdout",
     "output_type": "stream",
     "text": [
      "\n",
      "Posterior means at iteration: 5000\n",
      "Residual variance: 9.488221\n",
      "Marker effects variance: 2.279323\n",
      "π: 0.774\n",
      "\n",
      "Posterior means at iteration: 10000\n",
      "Residual variance: 9.44196\n",
      "Marker effects variance: 2.285974\n",
      "π: 0.777\n",
      "20 markers on 100 individuals were added.\n",
      "\n",
      "The prior for marker effects variance is calculated from the genetic variance and π. The mean of the prior for the marker effects variance is: 2.008254\n",
      "\n",
      "\n"
     ]
    },
    {
     "name": "stderr",
     "output_type": "stream",
     "text": [
      "\r",
      "\u001b[32mrunning MCMC for BayesC... 58%|███████████████          |  ETA: 0:00:00\u001b[39m\r",
      "\u001b[32mrunning MCMC for BayesC...100%|█████████████████████████| Time: 0:00:00\u001b[39m\n"
     ]
    },
    {
     "name": "stdout",
     "output_type": "stream",
     "text": [
      "\n",
      "Posterior means at iteration: 5000\n",
      "Residual variance: 10.361272\n"
     ]
    },
    {
     "name": "stderr",
     "output_type": "stream",
     "text": [
      "\r",
      "\u001b[32mrunning MCMC for BayesB... 53%|█████████████            |  ETA: 0:00:00\u001b[39m"
     ]
    },
    {
     "name": "stdout",
     "output_type": "stream",
     "text": [
      "\n",
      "Posterior means at iteration: 10000\n",
      "Residual variance: 10.361869\n",
      "20 markers on 100 individuals were added.\n",
      "\n",
      "The prior for marker effects variance is calculated from the genetic variance and π. The mean of the prior for the marker effects variance is: 4.016508\n",
      "\n",
      "\n"
     ]
    },
    {
     "name": "stderr",
     "output_type": "stream",
     "text": [
      "\r",
      "\u001b[32mrunning MCMC for BayesB... 97%|████████████████████████ |  ETA: 0:00:00\u001b[39m\r",
      "\u001b[32mrunning MCMC for BayesB...100%|█████████████████████████| Time: 0:00:00\u001b[39m\n"
     ]
    },
    {
     "name": "stdout",
     "output_type": "stream",
     "text": [
      "\n",
      "Posterior means at iteration: 5000\n",
      "Residual variance: 10.703533\n",
      "π: 0.646\n"
     ]
    },
    {
     "name": "stderr",
     "output_type": "stream",
     "text": [
      "\r",
      "\u001b[32mrunning MCMC for BayesB... 40%|██████████               |  ETA: 0:00:00\u001b[39m"
     ]
    },
    {
     "name": "stdout",
     "output_type": "stream",
     "text": [
      "\n",
      "Posterior means at iteration: 10000\n",
      "Residual variance: 10.68782\n",
      "π: 0.646\n",
      "20 markers on 100 individuals were added.\n",
      "\n",
      "The prior for marker effects variance is calculated from the genetic variance and π. The mean of the prior for the marker effects variance is: 4.016508\n",
      "\n",
      "\n"
     ]
    },
    {
     "name": "stderr",
     "output_type": "stream",
     "text": [
      "\r",
      "\u001b[32mrunning MCMC for BayesB... 90%|███████████████████████  |  ETA: 0:00:00\u001b[39m\r",
      "\u001b[32mrunning MCMC for BayesB...100%|█████████████████████████| Time: 0:00:00\u001b[39m\n"
     ]
    },
    {
     "name": "stdout",
     "output_type": "stream",
     "text": [
      "\n",
      "Posterior means at iteration: 5000\n",
      "Residual variance: 10.70373\n",
      "Marker effects variance: 2.437669\n",
      "π: 0.62\n",
      "\n",
      "Posterior means at iteration: 10000\n",
      "Residual variance: 10.706637\n",
      "Marker effects variance: 2.47254\n",
      "π: 0.628\n",
      "20 markers on 100 individuals were added.\n",
      "\n",
      "The prior for marker effects variance is calculated from the genetic variance and π. The mean of the prior for the marker effects variance is: 2.008254\n",
      "\n",
      "\n"
     ]
    },
    {
     "name": "stderr",
     "output_type": "stream",
     "text": [
      "\r",
      "\u001b[32mrunning MCMC for BayesC... 68%|█████████████████        |  ETA: 0:00:00\u001b[39m\r",
      "\u001b[32mrunning MCMC for BayesC...100%|█████████████████████████| Time: 0:00:00\u001b[39m\n"
     ]
    },
    {
     "name": "stdout",
     "output_type": "stream",
     "text": [
      "\n",
      "Posterior means at iteration: 5000\n",
      "Residual variance: 11.335762\n"
     ]
    },
    {
     "name": "stderr",
     "output_type": "stream",
     "text": [
      "\r",
      "\u001b[32mrunning MCMC for BayesB... 55%|██████████████           |  ETA: 0:00:00\u001b[39m"
     ]
    },
    {
     "name": "stdout",
     "output_type": "stream",
     "text": [
      "\n",
      "Posterior means at iteration: 10000\n",
      "Residual variance: 11.307293\n",
      "20 markers on 100 individuals were added.\n",
      "\n",
      "The prior for marker effects variance is calculated from the genetic variance and π. The mean of the prior for the marker effects variance is: 4.016508\n",
      "\n",
      "\n"
     ]
    },
    {
     "name": "stderr",
     "output_type": "stream",
     "text": [
      "\r",
      "\u001b[32mrunning MCMC for BayesB... 97%|████████████████████████ |  ETA: 0:00:00\u001b[39m\r",
      "\u001b[32mrunning MCMC for BayesB...100%|█████████████████████████| Time: 0:00:00\u001b[39m\n"
     ]
    },
    {
     "name": "stdout",
     "output_type": "stream",
     "text": [
      "\n",
      "Posterior means at iteration: 5000\n",
      "Residual variance: 11.107503\n",
      "π: 0.458\n"
     ]
    },
    {
     "name": "stderr",
     "output_type": "stream",
     "text": [
      "\r",
      "\u001b[32mrunning MCMC for BayesB... 52%|█████████████            |  ETA: 0:00:00\u001b[39m"
     ]
    },
    {
     "name": "stdout",
     "output_type": "stream",
     "text": [
      "\n",
      "Posterior means at iteration: 10000\n",
      "Residual variance: 11.051678\n",
      "π: 0.449\n",
      "20 markers on 100 individuals were added.\n",
      "\n",
      "The prior for marker effects variance is calculated from the genetic variance and π. The mean of the prior for the marker effects variance is: 4.016508\n",
      "\n",
      "\n"
     ]
    },
    {
     "name": "stderr",
     "output_type": "stream",
     "text": [
      "\r",
      "\u001b[32mrunning MCMC for BayesB...100%|█████████████████████████| Time: 0:00:00\u001b[39m\n"
     ]
    },
    {
     "name": "stdout",
     "output_type": "stream",
     "text": [
      "\n",
      "Posterior means at iteration: 5000\n",
      "Residual variance: 11.076576\n",
      "Marker effects variance: 2.135593\n",
      "π: 0.427\n",
      "\n",
      "Posterior means at iteration: 10000\n",
      "Residual variance: 11.085552\n",
      "Marker effects variance: 2.163226\n",
      "π: 0.429\n",
      "20 markers on 100 individuals were added.\n",
      "\n",
      "The prior for marker effects variance is calculated from the genetic variance and π. The mean of the prior for the marker effects variance is: 2.008254\n",
      "\n",
      "\n"
     ]
    },
    {
     "name": "stderr",
     "output_type": "stream",
     "text": [
      "\r",
      "\u001b[32mrunning MCMC for BayesC... 66%|█████████████████        |  ETA: 0:00:00\u001b[39m\r",
      "\u001b[32mrunning MCMC for BayesC...100%|█████████████████████████| Time: 0:00:00\u001b[39m\n"
     ]
    },
    {
     "name": "stdout",
     "output_type": "stream",
     "text": [
      "\n",
      "Posterior means at iteration: 5000\n",
      "Residual variance: 12.656201\n",
      "\n",
      "Posterior means at iteration: 10000\n",
      "Residual variance: 12.630669\n"
     ]
    },
    {
     "name": "stderr",
     "output_type": "stream",
     "text": [
      "\r",
      "\u001b[32mrunning MCMC for BayesB... 59%|███████████████          |  ETA: 0:00:00\u001b[39m"
     ]
    },
    {
     "name": "stdout",
     "output_type": "stream",
     "text": [
      "20 markers on 100 individuals were added.\n",
      "\n",
      "The prior for marker effects variance is calculated from the genetic variance and π. The mean of the prior for the marker effects variance is: 4.016508\n",
      "\n",
      "\n"
     ]
    },
    {
     "name": "stderr",
     "output_type": "stream",
     "text": [
      "\r",
      "\u001b[32mrunning MCMC for BayesB...100%|█████████████████████████| Time: 0:00:00\u001b[39m\n"
     ]
    },
    {
     "name": "stdout",
     "output_type": "stream",
     "text": [
      "\n",
      "Posterior means at iteration: 5000\n",
      "Residual variance: 12.251616\n",
      "π: 0.701\n",
      "\n",
      "Posterior means at iteration: 10000\n",
      "Residual variance: 12.255225\n",
      "π: 0.699\n"
     ]
    },
    {
     "name": "stderr",
     "output_type": "stream",
     "text": [
      "\r",
      "\u001b[32mrunning MCMC for BayesB... 55%|██████████████           |  ETA: 0:00:00\u001b[39m"
     ]
    },
    {
     "name": "stdout",
     "output_type": "stream",
     "text": [
      "20 markers on 100 individuals were added.\n",
      "\n",
      "The prior for marker effects variance is calculated from the genetic variance and π. The mean of the prior for the marker effects variance is: 4.016508\n",
      "\n",
      "\n",
      "\n",
      "Posterior means at iteration: 5000\n",
      "Residual variance: 12.246998\n",
      "Marker effects variance: 3.174946\n",
      "π: 0.71\n"
     ]
    },
    {
     "name": "stderr",
     "output_type": "stream",
     "text": [
      "\r",
      "\u001b[32mrunning MCMC for BayesB...100%|█████████████████████████| Time: 0:00:00\u001b[39m\n"
     ]
    },
    {
     "name": "stdout",
     "output_type": "stream",
     "text": [
      "\n",
      "Posterior means at iteration: 10000\n",
      "Residual variance: 12.270793\n",
      "Marker effects variance: 3.180758\n",
      "π: 0.711\n",
      "20 markers on 100 individuals were added.\n",
      "\n",
      "The prior for marker effects variance is calculated from the genetic variance and π. The mean of the prior for the marker effects variance is: 2.008254\n",
      "\n",
      "\n"
     ]
    },
    {
     "name": "stderr",
     "output_type": "stream",
     "text": [
      "\r",
      "\u001b[32mrunning MCMC for BayesC... 73%|██████████████████       |  ETA: 0:00:00\u001b[39m\r",
      "\u001b[32mrunning MCMC for BayesC...100%|█████████████████████████| Time: 0:00:00\u001b[39m\n"
     ]
    },
    {
     "name": "stdout",
     "output_type": "stream",
     "text": [
      "\n",
      "Posterior means at iteration: 5000\n",
      "Residual variance: 11.603764\n",
      "\n",
      "Posterior means at iteration: 10000\n",
      "Residual variance: 11.585538\n"
     ]
    },
    {
     "name": "stderr",
     "output_type": "stream",
     "text": [
      "\r",
      "\u001b[32mrunning MCMC for BayesB... 52%|█████████████            |  ETA: 0:00:00\u001b[39m"
     ]
    },
    {
     "name": "stdout",
     "output_type": "stream",
     "text": [
      "20 markers on 100 individuals were added.\n",
      "\n",
      "The prior for marker effects variance is calculated from the genetic variance and π. The mean of the prior for the marker effects variance is: 4.016508\n",
      "\n",
      "\n"
     ]
    },
    {
     "name": "stderr",
     "output_type": "stream",
     "text": [
      "\r",
      "\u001b[32mrunning MCMC for BayesB...100%|█████████████████████████| Time: 0:00:00\u001b[39m\n"
     ]
    },
    {
     "name": "stdout",
     "output_type": "stream",
     "text": [
      "\n",
      "Posterior means at iteration: 5000\n",
      "Residual variance: 11.993627\n",
      "π: 0.58\n"
     ]
    },
    {
     "name": "stderr",
     "output_type": "stream",
     "text": [
      "\r",
      "\u001b[32mrunning MCMC for BayesB... 22%|█████                    |  ETA: 0:00:00\u001b[39m"
     ]
    },
    {
     "name": "stdout",
     "output_type": "stream",
     "text": [
      "\n",
      "Posterior means at iteration: 10000\n",
      "Residual variance: 12.072804\n",
      "π: 0.576\n"
     ]
    },
    {
     "name": "stderr",
     "output_type": "stream",
     "text": [
      "\r",
      "\u001b[32mrunning MCMC for BayesB... 56%|██████████████           |  ETA: 0:00:00\u001b[39m"
     ]
    },
    {
     "name": "stdout",
     "output_type": "stream",
     "text": [
      "20 markers on 100 individuals were added.\n",
      "\n",
      "The prior for marker effects variance is calculated from the genetic variance and π. The mean of the prior for the marker effects variance is: 4.016508\n",
      "\n",
      "\n"
     ]
    },
    {
     "name": "stderr",
     "output_type": "stream",
     "text": [
      "\r",
      "\u001b[32mrunning MCMC for BayesB... 99%|█████████████████████████|  ETA: 0:00:00\u001b[39m\r",
      "\u001b[32mrunning MCMC for BayesB...100%|█████████████████████████| Time: 0:00:00\u001b[39m\n"
     ]
    },
    {
     "name": "stdout",
     "output_type": "stream",
     "text": [
      "\n",
      "Posterior means at iteration: 5000\n",
      "Residual variance: 12.164903\n",
      "Marker effects variance: 2.930088\n",
      "π: 0.588\n",
      "\n",
      "Posterior means at iteration: 10000\n",
      "Residual variance: 12.190181\n",
      "Marker effects variance: 2.905395\n",
      "π: 0.581\n"
     ]
    },
    {
     "name": "stderr",
     "output_type": "stream",
     "text": [
      "\r",
      "\u001b[32mrunning MCMC for BayesC... 51%|█████████████            |  ETA: 0:00:00\u001b[39m"
     ]
    },
    {
     "name": "stdout",
     "output_type": "stream",
     "text": [
      "20 markers on 100 individuals were added.\n",
      "\n",
      "The prior for marker effects variance is calculated from the genetic variance and π. The mean of the prior for the marker effects variance is: 2.008254\n",
      "\n",
      "\n"
     ]
    },
    {
     "name": "stderr",
     "output_type": "stream",
     "text": [
      "\r",
      "\u001b[32mrunning MCMC for BayesC...100%|█████████████████████████| Time: 0:00:00\u001b[39m\n"
     ]
    },
    {
     "name": "stdout",
     "output_type": "stream",
     "text": [
      "\n",
      "Posterior means at iteration: 5000\n",
      "Residual variance: 11.996617\n"
     ]
    },
    {
     "name": "stderr",
     "output_type": "stream",
     "text": [
      "\r",
      "\u001b[32mrunning MCMC for BayesB... 41%|██████████               |  ETA: 0:00:00\u001b[39m"
     ]
    },
    {
     "name": "stdout",
     "output_type": "stream",
     "text": [
      "\n",
      "Posterior means at iteration: 10000\n",
      "Residual variance: 11.955818\n",
      "20 markers on 100 individuals were added.\n",
      "\n",
      "The prior for marker effects variance is calculated from the genetic variance and π. The mean of the prior for the marker effects variance is: 4.016508\n",
      "\n",
      "\n"
     ]
    },
    {
     "name": "stderr",
     "output_type": "stream",
     "text": [
      "\r",
      "\u001b[32mrunning MCMC for BayesB... 81%|████████████████████     |  ETA: 0:00:00\u001b[39m\r",
      "\u001b[32mrunning MCMC for BayesB...100%|█████████████████████████| Time: 0:00:00\u001b[39m\n"
     ]
    },
    {
     "name": "stdout",
     "output_type": "stream",
     "text": [
      "\n",
      "Posterior means at iteration: 5000\n",
      "Residual variance: 12.344251\n",
      "π: 0.548\n"
     ]
    },
    {
     "name": "stderr",
     "output_type": "stream",
     "text": [
      "\r",
      "\u001b[32mrunning MCMC for BayesB... 47%|████████████             |  ETA: 0:00:00\u001b[39m"
     ]
    },
    {
     "name": "stdout",
     "output_type": "stream",
     "text": [
      "\n",
      "Posterior means at iteration: 10000\n",
      "Residual variance: 12.330835\n",
      "π: 0.551\n",
      "20 markers on 100 individuals were added.\n",
      "\n",
      "The prior for marker effects variance is calculated from the genetic variance and π. The mean of the prior for the marker effects variance is: 4.016508\n",
      "\n",
      "\n"
     ]
    },
    {
     "name": "stderr",
     "output_type": "stream",
     "text": [
      "\r",
      "\u001b[32mrunning MCMC for BayesB... 78%|███████████████████      |  ETA: 0:00:00\u001b[39m\r",
      "\u001b[32mrunning MCMC for BayesB...100%|█████████████████████████| Time: 0:00:00\u001b[39m\n"
     ]
    },
    {
     "name": "stdout",
     "output_type": "stream",
     "text": [
      "\n",
      "Posterior means at iteration: 5000\n",
      "Residual variance: 12.430437\n",
      "Marker effects variance: 2.738011\n",
      "π: 0.549\n",
      "\n",
      "Posterior means at iteration: 10000\n",
      "Residual variance: 12.416676\n",
      "Marker effects variance: 2.803211\n",
      "π: 0.56\n"
     ]
    },
    {
     "name": "stderr",
     "output_type": "stream",
     "text": [
      "\r",
      "\u001b[32mrunning MCMC for BayesC... 65%|████████████████         |  ETA: 0:00:00\u001b[39m\r",
      "\u001b[32mrunning MCMC for BayesC...100%|█████████████████████████| Time: 0:00:00\u001b[39m\n"
     ]
    },
    {
     "name": "stdout",
     "output_type": "stream",
     "text": [
      "20 markers on 100 individuals were added.\n",
      "\n",
      "The prior for marker effects variance is calculated from the genetic variance and π. The mean of the prior for the marker effects variance is: 2.008254\n",
      "\n",
      "\n",
      "\n",
      "Posterior means at iteration: 5000\n",
      "Residual variance: 8.662389\n",
      "\n",
      "Posterior means at iteration: 10000\n",
      "Residual variance: 8.667539\n"
     ]
    },
    {
     "name": "stderr",
     "output_type": "stream",
     "text": [
      "\r",
      "\u001b[32mrunning MCMC for BayesB... 47%|████████████             |  ETA: 0:00:00\u001b[39m"
     ]
    },
    {
     "name": "stdout",
     "output_type": "stream",
     "text": [
      "20 markers on 100 individuals were added.\n",
      "\n",
      "The prior for marker effects variance is calculated from the genetic variance and π. The mean of the prior for the marker effects variance is: 4.016508\n",
      "\n",
      "\n"
     ]
    },
    {
     "name": "stderr",
     "output_type": "stream",
     "text": [
      "\r",
      "\u001b[32mrunning MCMC for BayesB... 93%|███████████████████████  |  ETA: 0:00:00\u001b[39m\r",
      "\u001b[32mrunning MCMC for BayesB...100%|█████████████████████████| Time: 0:00:00\u001b[39m\n"
     ]
    },
    {
     "name": "stdout",
     "output_type": "stream",
     "text": [
      "\n",
      "Posterior means at iteration: 5000\n",
      "Residual variance: 8.5697\n",
      "π: 0.515\n",
      "\n",
      "Posterior means at iteration: 10000\n",
      "Residual variance: 8.563734\n",
      "π: 0.521\n"
     ]
    },
    {
     "name": "stderr",
     "output_type": "stream",
     "text": [
      "\r",
      "\u001b[32mrunning MCMC for BayesB... 51%|█████████████            |  ETA: 0:00:00\u001b[39m"
     ]
    },
    {
     "name": "stdout",
     "output_type": "stream",
     "text": [
      "20 markers on 100 individuals were added.\n",
      "\n",
      "The prior for marker effects variance is calculated from the genetic variance and π. The mean of the prior for the marker effects variance is: 4.016508\n",
      "\n",
      "\n",
      "\n",
      "Posterior means at iteration: 5000\n",
      "Residual variance: 8.617268\n",
      "Marker effects variance: 3.296647\n",
      "π: 0.553\n"
     ]
    },
    {
     "name": "stderr",
     "output_type": "stream",
     "text": [
      "\r",
      "\u001b[32mrunning MCMC for BayesB...100%|█████████████████████████| Time: 0:00:00\u001b[39m\n"
     ]
    },
    {
     "name": "stdout",
     "output_type": "stream",
     "text": [
      "\n",
      "Posterior means at iteration: 10000\n",
      "Residual variance: 8.621678\n",
      "Marker effects variance: 3.286367\n",
      "π: 0.554\n",
      "20 markers on 100 individuals were added.\n",
      "\n",
      "The prior for marker effects variance is calculated from the genetic variance and π. The mean of the prior for the marker effects variance is: 2.008254\n",
      "\n",
      "\n"
     ]
    },
    {
     "name": "stderr",
     "output_type": "stream",
     "text": [
      "\r",
      "\u001b[32mrunning MCMC for BayesC... 74%|██████████████████       |  ETA: 0:00:00\u001b[39m\r",
      "\u001b[32mrunning MCMC for BayesC...100%|█████████████████████████| Time: 0:00:00\u001b[39m\n"
     ]
    },
    {
     "name": "stdout",
     "output_type": "stream",
     "text": [
      "\n",
      "Posterior means at iteration: 5000\n",
      "Residual variance: 9.786438\n",
      "\n",
      "Posterior means at iteration: 10000\n",
      "Residual variance: 9.785409\n"
     ]
    },
    {
     "name": "stderr",
     "output_type": "stream",
     "text": [
      "\r",
      "\u001b[32mrunning MCMC for BayesB... 52%|█████████████            |  ETA: 0:00:00\u001b[39m"
     ]
    },
    {
     "name": "stdout",
     "output_type": "stream",
     "text": [
      "20 markers on 100 individuals were added.\n",
      "\n",
      "The prior for marker effects variance is calculated from the genetic variance and π. The mean of the prior for the marker effects variance is: 4.016508\n",
      "\n",
      "\n"
     ]
    },
    {
     "name": "stderr",
     "output_type": "stream",
     "text": [
      "\r",
      "\u001b[32mrunning MCMC for BayesB...100%|█████████████████████████| Time: 0:00:00\u001b[39m\n"
     ]
    },
    {
     "name": "stdout",
     "output_type": "stream",
     "text": [
      "\n",
      "Posterior means at iteration: 5000\n",
      "Residual variance: 10.131426\n",
      "π: 0.636\n"
     ]
    },
    {
     "name": "stderr",
     "output_type": "stream",
     "text": [
      "\r",
      "\u001b[32mrunning MCMC for BayesB... 35%|█████████                |  ETA: 0:00:00\u001b[39m"
     ]
    },
    {
     "name": "stdout",
     "output_type": "stream",
     "text": [
      "\n",
      "Posterior means at iteration: 10000\n",
      "Residual variance: 10.133122\n",
      "π: 0.634\n"
     ]
    },
    {
     "name": "stderr",
     "output_type": "stream",
     "text": [
      "\r",
      "\u001b[32mrunning MCMC for BayesB... 71%|██████████████████       |  ETA: 0:00:00\u001b[39m\r",
      "\u001b[32mrunning MCMC for BayesB...100%|█████████████████████████| Time: 0:00:00\u001b[39m\n"
     ]
    },
    {
     "name": "stdout",
     "output_type": "stream",
     "text": [
      "20 markers on 100 individuals were added.\n",
      "\n",
      "The prior for marker effects variance is calculated from the genetic variance and π. The mean of the prior for the marker effects variance is: 4.016508\n",
      "\n",
      "\n",
      "\n",
      "Posterior means at iteration: 5000\n",
      "Residual variance: 10.123069\n",
      "Marker effects variance: 1.824621\n",
      "π: 0.573\n"
     ]
    },
    {
     "name": "stderr",
     "output_type": "stream",
     "text": [
      "\r",
      "\u001b[32mrunning MCMC for BayesC... 55%|██████████████           |  ETA: 0:00:00\u001b[39m"
     ]
    },
    {
     "name": "stdout",
     "output_type": "stream",
     "text": [
      "\n",
      "Posterior means at iteration: 10000\n",
      "Residual variance: 10.091633\n",
      "Marker effects variance: 1.786353\n",
      "π: 0.565\n",
      "20 markers on 100 individuals were added.\n",
      "\n",
      "The prior for marker effects variance is calculated from the genetic variance and π. The mean of the prior for the marker effects variance is: 2.008254\n",
      "\n",
      "\n"
     ]
    },
    {
     "name": "stderr",
     "output_type": "stream",
     "text": [
      "\r",
      "\u001b[32mrunning MCMC for BayesC... 79%|████████████████████     |  ETA: 0:00:00\u001b[39m\r",
      "\u001b[32mrunning MCMC for BayesC...100%|█████████████████████████| Time: 0:00:00\u001b[39m\n"
     ]
    },
    {
     "name": "stdout",
     "output_type": "stream",
     "text": [
      "\n",
      "Posterior means at iteration: 5000\n",
      "Residual variance: 13.73405\n",
      "\n",
      "Posterior means at iteration: 10000\n",
      "Residual variance: 13.731405\n"
     ]
    },
    {
     "name": "stderr",
     "output_type": "stream",
     "text": [
      "\r",
      "\u001b[32mrunning MCMC for BayesB... 49%|████████████             |  ETA: 0:00:00\u001b[39m"
     ]
    },
    {
     "name": "stdout",
     "output_type": "stream",
     "text": [
      "20 markers on 100 individuals were added.\n",
      "\n",
      "The prior for marker effects variance is calculated from the genetic variance and π. The mean of the prior for the marker effects variance is: 4.016508\n",
      "\n",
      "\n"
     ]
    },
    {
     "name": "stderr",
     "output_type": "stream",
     "text": [
      "\r",
      "\u001b[32mrunning MCMC for BayesB... 97%|████████████████████████ |  ETA: 0:00:00\u001b[39m\r",
      "\u001b[32mrunning MCMC for BayesB...100%|█████████████████████████| Time: 0:00:00\u001b[39m\n"
     ]
    },
    {
     "name": "stdout",
     "output_type": "stream",
     "text": [
      "\n",
      "Posterior means at iteration: 5000\n",
      "Residual variance: 13.788703\n",
      "π: 0.699\n",
      "\n",
      "Posterior means at iteration: 10000\n",
      "Residual variance: 13.762382\n",
      "π: 0.7\n"
     ]
    },
    {
     "name": "stderr",
     "output_type": "stream",
     "text": [
      "\r",
      "\u001b[32mrunning MCMC for BayesB... 45%|███████████              |  ETA: 0:00:00\u001b[39m"
     ]
    },
    {
     "name": "stdout",
     "output_type": "stream",
     "text": [
      "20 markers on 100 individuals were added.\n",
      "\n",
      "The prior for marker effects variance is calculated from the genetic variance and π. The mean of the prior for the marker effects variance is: 4.016508\n",
      "\n",
      "\n"
     ]
    },
    {
     "name": "stderr",
     "output_type": "stream",
     "text": [
      "\r",
      "\u001b[32mrunning MCMC for BayesB... 96%|████████████████████████ |  ETA: 0:00:00\u001b[39m\r",
      "\u001b[32mrunning MCMC for BayesB...100%|█████████████████████████| Time: 0:00:00\u001b[39m\n"
     ]
    },
    {
     "name": "stdout",
     "output_type": "stream",
     "text": [
      "\n",
      "Posterior means at iteration: 5000\n",
      "Residual variance: 13.838162\n",
      "Marker effects variance: 2.702504\n",
      "π: 0.698\n",
      "\n",
      "Posterior means at iteration: 10000\n",
      "Residual variance: 13.815018\n",
      "Marker effects variance: 2.694731\n",
      "π: 0.694\n",
      "20 markers on 100 individuals were added.\n",
      "\n",
      "The prior for marker effects variance is calculated from the genetic variance and π. The mean of the prior for the marker effects variance is: 2.008254\n",
      "\n",
      "\n"
     ]
    },
    {
     "name": "stderr",
     "output_type": "stream",
     "text": [
      "\r",
      "\u001b[32mrunning MCMC for BayesC... 58%|██████████████           |  ETA: 0:00:00\u001b[39m\r",
      "\u001b[32mrunning MCMC for BayesC...100%|█████████████████████████| Time: 0:00:00\u001b[39m\n"
     ]
    },
    {
     "name": "stdout",
     "output_type": "stream",
     "text": [
      "\n",
      "Posterior means at iteration: 5000\n",
      "Residual variance: 11.570116\n",
      "\n",
      "Posterior means at iteration: 10000\n",
      "Residual variance: 11.596399\n"
     ]
    },
    {
     "name": "stderr",
     "output_type": "stream",
     "text": [
      "\r",
      "\u001b[32mrunning MCMC for BayesB... 43%|███████████              |  ETA: 0:00:00\u001b[39m"
     ]
    },
    {
     "name": "stdout",
     "output_type": "stream",
     "text": [
      "20 markers on 100 individuals were added.\n",
      "\n",
      "The prior for marker effects variance is calculated from the genetic variance and π. The mean of the prior for the marker effects variance is: 4.016508\n",
      "\n",
      "\n"
     ]
    },
    {
     "name": "stderr",
     "output_type": "stream",
     "text": [
      "\r",
      "\u001b[32mrunning MCMC for BayesB... 96%|████████████████████████ |  ETA: 0:00:00\u001b[39m\r",
      "\u001b[32mrunning MCMC for BayesB...100%|█████████████████████████| Time: 0:00:00\u001b[39m\n"
     ]
    },
    {
     "name": "stdout",
     "output_type": "stream",
     "text": [
      "\n",
      "Posterior means at iteration: 5000\n",
      "Residual variance: 11.331819\n",
      "π: 0.8\n"
     ]
    },
    {
     "name": "stderr",
     "output_type": "stream",
     "text": [
      "\r",
      "\u001b[32mrunning MCMC for BayesB... 45%|███████████              |  ETA: 0:00:00\u001b[39m"
     ]
    },
    {
     "name": "stdout",
     "output_type": "stream",
     "text": [
      "\n",
      "Posterior means at iteration: 10000\n",
      "Residual variance: 11.376748\n",
      "π: 0.808\n",
      "20 markers on 100 individuals were added.\n",
      "\n",
      "The prior for marker effects variance is calculated from the genetic variance and π. The mean of the prior for the marker effects variance is: 4.016508\n",
      "\n",
      "\n"
     ]
    },
    {
     "name": "stderr",
     "output_type": "stream",
     "text": [
      "\r",
      "\u001b[32mrunning MCMC for BayesB... 90%|███████████████████████  |  ETA: 0:00:00\u001b[39m\r",
      "\u001b[32mrunning MCMC for BayesB...100%|█████████████████████████| Time: 0:00:00\u001b[39m\n"
     ]
    },
    {
     "name": "stdout",
     "output_type": "stream",
     "text": [
      "\n",
      "Posterior means at iteration: 5000\n",
      "Residual variance: 11.442515\n",
      "Marker effects variance: 2.674301\n",
      "π: 0.804\n",
      "\n",
      "Posterior means at iteration: 10000\n",
      "Residual variance: 11.434662\n",
      "Marker effects variance: 2.699695\n",
      "π: 0.802\n",
      "20 markers on 100 individuals were added.\n",
      "\n",
      "The prior for marker effects variance is calculated from the genetic variance and π. The mean of the prior for the marker effects variance is: 2.008254\n",
      "\n",
      "\n"
     ]
    },
    {
     "name": "stderr",
     "output_type": "stream",
     "text": [
      "\r",
      "\u001b[32mrunning MCMC for BayesC... 70%|██████████████████       |  ETA: 0:00:00\u001b[39m\r",
      "\u001b[32mrunning MCMC for BayesC...100%|█████████████████████████| Time: 0:00:00\u001b[39m\n"
     ]
    },
    {
     "name": "stdout",
     "output_type": "stream",
     "text": [
      "\n",
      "Posterior means at iteration: 5000\n",
      "Residual variance: 9.424897\n"
     ]
    },
    {
     "name": "stderr",
     "output_type": "stream",
     "text": [
      "\r",
      "\u001b[32mrunning MCMC for BayesB... 33%|████████                 |  ETA: 0:00:00\u001b[39m"
     ]
    },
    {
     "name": "stdout",
     "output_type": "stream",
     "text": [
      "\n",
      "Posterior means at iteration: 10000\n",
      "Residual variance: 9.452109\n",
      "20 markers on 100 individuals were added.\n",
      "\n",
      "The prior for marker effects variance is calculated from the genetic variance and π. The mean of the prior for the marker effects variance is: 4.016508\n",
      "\n",
      "\n"
     ]
    },
    {
     "name": "stderr",
     "output_type": "stream",
     "text": [
      "\r",
      "\u001b[32mrunning MCMC for BayesB... 87%|██████████████████████   |  ETA: 0:00:00\u001b[39m\r",
      "\u001b[32mrunning MCMC for BayesB...100%|█████████████████████████| Time: 0:00:00\u001b[39m\n"
     ]
    },
    {
     "name": "stdout",
     "output_type": "stream",
     "text": [
      "\n",
      "Posterior means at iteration: 5000\n",
      "Residual variance: 10.065515\n",
      "π: 0.548\n"
     ]
    },
    {
     "name": "stderr",
     "output_type": "stream",
     "text": [
      "\r",
      "\u001b[32mrunning MCMC for BayesB... 50%|████████████             |  ETA: 0:00:00\u001b[39m"
     ]
    },
    {
     "name": "stdout",
     "output_type": "stream",
     "text": [
      "\n",
      "Posterior means at iteration: 10000\n",
      "Residual variance: 10.085046\n",
      "π: 0.547\n",
      "20 markers on 100 individuals were added.\n",
      "\n",
      "The prior for marker effects variance is calculated from the genetic variance and π. The mean of the prior for the marker effects variance is: 4.016508\n",
      "\n",
      "\n",
      "\n",
      "Posterior means at iteration: 5000\n",
      "Residual variance: 10.045466\n",
      "Marker effects variance: 2.196948\n",
      "π: 0.526\n"
     ]
    },
    {
     "name": "stderr",
     "output_type": "stream",
     "text": [
      "\r",
      "\u001b[32mrunning MCMC for BayesB...100%|█████████████████████████| Time: 0:00:00\u001b[39m\n"
     ]
    },
    {
     "name": "stdout",
     "output_type": "stream",
     "text": [
      "\n",
      "Posterior means at iteration: 10000\n",
      "Residual variance: 10.049799\n",
      "Marker effects variance: 2.203562\n",
      "π: 0.527\n",
      "20 markers on 100 individuals were added.\n",
      "\n",
      "The prior for marker effects variance is calculated from the genetic variance and π. The mean of the prior for the marker effects variance is: 2.008254\n",
      "\n",
      "\n"
     ]
    },
    {
     "name": "stderr",
     "output_type": "stream",
     "text": [
      "\r",
      "\u001b[32mrunning MCMC for BayesC... 71%|██████████████████       |  ETA: 0:00:00\u001b[39m\r",
      "\u001b[32mrunning MCMC for BayesC...100%|█████████████████████████| Time: 0:00:00\u001b[39m\n"
     ]
    },
    {
     "name": "stdout",
     "output_type": "stream",
     "text": [
      "\n",
      "Posterior means at iteration: 5000\n",
      "Residual variance: 10.361456\n"
     ]
    },
    {
     "name": "stderr",
     "output_type": "stream",
     "text": [
      "\r",
      "\u001b[32mrunning MCMC for BayesB... 48%|████████████             |  ETA: 0:00:00\u001b[39m"
     ]
    },
    {
     "name": "stdout",
     "output_type": "stream",
     "text": [
      "\n",
      "Posterior means at iteration: 10000\n",
      "Residual variance: 10.365519\n",
      "20 markers on 100 individuals were added.\n",
      "\n",
      "The prior for marker effects variance is calculated from the genetic variance and π. The mean of the prior for the marker effects variance is: 4.016508\n",
      "\n",
      "\n"
     ]
    },
    {
     "name": "stderr",
     "output_type": "stream",
     "text": [
      "\r",
      "\u001b[32mrunning MCMC for BayesB... 91%|███████████████████████  |  ETA: 0:00:00\u001b[39m\r",
      "\u001b[32mrunning MCMC for BayesB...100%|█████████████████████████| Time: 0:00:00\u001b[39m\n"
     ]
    },
    {
     "name": "stdout",
     "output_type": "stream",
     "text": [
      "\n",
      "Posterior means at iteration: 5000\n",
      "Residual variance: 9.937521\n",
      "π: 0.752\n"
     ]
    },
    {
     "name": "stderr",
     "output_type": "stream",
     "text": [
      "\r",
      "\u001b[32mrunning MCMC for BayesB... 36%|█████████                |  ETA: 0:00:00\u001b[39m"
     ]
    },
    {
     "name": "stdout",
     "output_type": "stream",
     "text": [
      "\n",
      "Posterior means at iteration: 10000\n",
      "Residual variance: 9.957631\n",
      "π: 0.755\n",
      "20 markers on 100 individuals were added.\n",
      "\n",
      "The prior for marker effects variance is calculated from the genetic variance and π. The mean of the prior for the marker effects variance is: 4.016508\n",
      "\n",
      "\n"
     ]
    },
    {
     "name": "stderr",
     "output_type": "stream",
     "text": [
      "\r",
      "\u001b[32mrunning MCMC for BayesB... 75%|███████████████████      |  ETA: 0:00:00\u001b[39m\r",
      "\u001b[32mrunning MCMC for BayesB...100%|█████████████████████████| Time: 0:00:00\u001b[39m\n"
     ]
    },
    {
     "name": "stdout",
     "output_type": "stream",
     "text": [
      "\n",
      "Posterior means at iteration: 5000\n",
      "Residual variance: 9.932179\n",
      "Marker effects variance: 4.195328\n",
      "π: 0.781\n"
     ]
    },
    {
     "name": "stderr",
     "output_type": "stream",
     "text": [
      "\r",
      "\u001b[32mrunning MCMC for BayesC... 35%|█████████                |  ETA: 0:00:00\u001b[39m"
     ]
    },
    {
     "name": "stdout",
     "output_type": "stream",
     "text": [
      "\n",
      "Posterior means at iteration: 10000\n",
      "Residual variance: 9.953262\n",
      "Marker effects variance: 4.129498\n",
      "π: 0.78\n",
      "20 markers on 100 individuals were added.\n",
      "\n",
      "The prior for marker effects variance is calculated from the genetic variance and π. The mean of the prior for the marker effects variance is: 2.008254\n",
      "\n",
      "\n"
     ]
    },
    {
     "name": "stderr",
     "output_type": "stream",
     "text": [
      "\r",
      "\u001b[32mrunning MCMC for BayesC... 85%|█████████████████████    |  ETA: 0:00:00\u001b[39m\r",
      "\u001b[32mrunning MCMC for BayesC...100%|█████████████████████████| Time: 0:00:00\u001b[39m\n"
     ]
    },
    {
     "name": "stdout",
     "output_type": "stream",
     "text": [
      "\n",
      "Posterior means at iteration: 5000\n",
      "Residual variance: 11.822318\n"
     ]
    },
    {
     "name": "stderr",
     "output_type": "stream",
     "text": [
      "\r",
      "\u001b[32mrunning MCMC for BayesB... 42%|██████████               |  ETA: 0:00:00\u001b[39m"
     ]
    },
    {
     "name": "stdout",
     "output_type": "stream",
     "text": [
      "\n",
      "Posterior means at iteration: 10000\n",
      "Residual variance: 11.823624\n",
      "20 markers on 100 individuals were added.\n",
      "\n",
      "The prior for marker effects variance is calculated from the genetic variance and π. The mean of the prior for the marker effects variance is: 4.016508\n",
      "\n",
      "\n"
     ]
    },
    {
     "name": "stderr",
     "output_type": "stream",
     "text": [
      "\r",
      "\u001b[32mrunning MCMC for BayesB... 78%|███████████████████      |  ETA: 0:00:00\u001b[39m\r",
      "\u001b[32mrunning MCMC for BayesB...100%|█████████████████████████| Time: 0:00:00\u001b[39m\n"
     ]
    },
    {
     "name": "stdout",
     "output_type": "stream",
     "text": [
      "\n",
      "Posterior means at iteration: 5000\n",
      "Residual variance: 11.880604\n",
      "π: 0.834\n"
     ]
    },
    {
     "name": "stderr",
     "output_type": "stream",
     "text": [
      "\r",
      "\u001b[32mrunning MCMC for BayesB... 53%|█████████████            |  ETA: 0:00:00\u001b[39m"
     ]
    },
    {
     "name": "stdout",
     "output_type": "stream",
     "text": [
      "\n",
      "Posterior means at iteration: 10000\n",
      "Residual variance: 11.837051\n",
      "π: 0.833\n",
      "20 markers on 100 individuals were added.\n",
      "\n",
      "The prior for marker effects variance is calculated from the genetic variance and π. The mean of the prior for the marker effects variance is: 4.016508\n",
      "\n",
      "\n"
     ]
    },
    {
     "name": "stderr",
     "output_type": "stream",
     "text": [
      "\r",
      "\u001b[32mrunning MCMC for BayesB... 96%|████████████████████████ |  ETA: 0:00:00\u001b[39m\r",
      "\u001b[32mrunning MCMC for BayesB...100%|█████████████████████████| Time: 0:00:00\u001b[39m\n"
     ]
    },
    {
     "name": "stdout",
     "output_type": "stream",
     "text": [
      "\n",
      "Posterior means at iteration: 5000\n",
      "Residual variance: 11.750403\n",
      "Marker effects variance: 2.393798\n",
      "π: 0.795\n",
      "\n",
      "Posterior means at iteration: 10000\n",
      "Residual variance: 11.814258\n",
      "Marker effects variance: 2.481497\n",
      "π: 0.812\n"
     ]
    },
    {
     "name": "stderr",
     "output_type": "stream",
     "text": [
      "\r",
      "\u001b[32mrunning MCMC for BayesC... 58%|███████████████          |  ETA: 0:00:00\u001b[39m"
     ]
    },
    {
     "name": "stdout",
     "output_type": "stream",
     "text": [
      "20 markers on 100 individuals were added.\n",
      "\n",
      "The prior for marker effects variance is calculated from the genetic variance and π. The mean of the prior for the marker effects variance is: 2.008254\n",
      "\n",
      "\n"
     ]
    },
    {
     "name": "stderr",
     "output_type": "stream",
     "text": [
      "\r",
      "\u001b[32mrunning MCMC for BayesC...100%|█████████████████████████| Time: 0:00:00\u001b[39m\n"
     ]
    },
    {
     "name": "stdout",
     "output_type": "stream",
     "text": [
      "\n",
      "Posterior means at iteration: 5000\n",
      "Residual variance: 11.889605\n"
     ]
    },
    {
     "name": "stderr",
     "output_type": "stream",
     "text": [
      "\r",
      "\u001b[32mrunning MCMC for BayesB... 45%|███████████              |  ETA: 0:00:00\u001b[39m"
     ]
    },
    {
     "name": "stdout",
     "output_type": "stream",
     "text": [
      "\n",
      "Posterior means at iteration: 10000\n",
      "Residual variance: 11.8765\n",
      "20 markers on 100 individuals were added.\n",
      "\n",
      "The prior for marker effects variance is calculated from the genetic variance and π. The mean of the prior for the marker effects variance is: 4.016508\n",
      "\n",
      "\n"
     ]
    },
    {
     "name": "stderr",
     "output_type": "stream",
     "text": [
      "\r",
      "\u001b[32mrunning MCMC for BayesB... 86%|█████████████████████    |  ETA: 0:00:00\u001b[39m\r",
      "\u001b[32mrunning MCMC for BayesB...100%|█████████████████████████| Time: 0:00:00\u001b[39m\n"
     ]
    },
    {
     "name": "stdout",
     "output_type": "stream",
     "text": [
      "\n",
      "Posterior means at iteration: 5000\n",
      "Residual variance: 11.547753\n",
      "π: 0.579\n"
     ]
    },
    {
     "name": "stderr",
     "output_type": "stream",
     "text": [
      "\u001b[32mrunning MCMC for BayesB... 66%|████████████████         |  ETA: 0:00:00\u001b[39m"
     ]
    },
    {
     "name": "stdout",
     "output_type": "stream",
     "text": [
      "\n",
      "Posterior means at iteration: 10000\n",
      "Residual variance: 11.570169\n",
      "π: 0.573\n",
      "20 markers on 100 individuals were added.\n",
      "\n",
      "The prior for marker effects variance is calculated from the genetic variance and π. The mean of the prior for the marker effects variance is: 4.016508\n",
      "\n",
      "\n",
      "\n",
      "Posterior means at iteration: 5000\n",
      "Residual variance: 11.546987\n",
      "Marker effects variance: 2.910386\n",
      "π: 0.584\n"
     ]
    },
    {
     "name": "stderr",
     "output_type": "stream",
     "text": [
      "\r",
      "\u001b[32mrunning MCMC for BayesB... 91%|███████████████████████  |  ETA: 0:00:00\u001b[39m\r",
      "\u001b[32mrunning MCMC for BayesB...100%|█████████████████████████| Time: 0:00:00\u001b[39m\n"
     ]
    },
    {
     "name": "stdout",
     "output_type": "stream",
     "text": [
      "\n",
      "Posterior means at iteration: 10000\n",
      "Residual variance: 11.545688\n",
      "Marker effects variance: 2.863709\n",
      "π: 0.578\n"
     ]
    },
    {
     "name": "stderr",
     "output_type": "stream",
     "text": [
      "\r",
      "\u001b[32mrunning MCMC for BayesC... 82%|█████████████████████    |  ETA: 0:00:00\u001b[39m\r",
      "\u001b[32mrunning MCMC for BayesC...100%|█████████████████████████| Time: 0:00:00\u001b[39m\n"
     ]
    }
   ],
   "source": [
    "n  = 100\n",
    "p  = 20\n",
    "probNull = 0.75\n",
    "\n",
    "N  = 25\n",
    "Vg = 20\n",
    "Ve = 10\n",
    "\n",
    "Random.seed!(1234)\n",
    "\n",
    "Valpha = Vg/p*2\n",
    "λ = Ve/Valpha\n",
    "X = rand(Binomial(2,0.5), n,p)\n",
    "mme = float(X'X + Identity(p)*λ)\n",
    "mmei = inv(mme)\n",
    "xpxi = inv(X'X)\n",
    "CSV.write(\"genotypes\",DataFrame([string.(1:n) X]), writeheader=false)\n",
    "\n",
    "resSim = [getEstimates(X,mmei,xpxi,probNull,Vg, Ve) for i=1:N]\n",
    "resMat = [row[i] for row in resSim, i=1:6]\n",
    "\n",
    "resMeans = mean(resMat,dims=1)\n",
    "resStd = std(resMat,dims=1)./N;"
   ]
  },
  {
   "cell_type": "code",
   "execution_count": 14,
   "metadata": {},
   "outputs": [
    {
     "name": "stdout",
     "output_type": "stream",
     "text": [
      "     True   BayesA BayesB BayesC RR-BLUP  OLS\n",
      "     12.01  20.01  12.52  12.44  21.48  24.66\n",
      "+/-   0.15   0.19   0.25   0.24   0.19   0.23\n"
     ]
    }
   ],
   "source": [
    "println(\"     True   BayesA BayesB BayesC RR-BLUP  OLS\")\n",
    "@printf(\"    %6.2f %6.2f %6.2f %6.2f %6.2f %6.2f\\n\", resMeans[1],resMeans[2],resMeans[3],resMeans[4],resMeans[5],resMeans[6] )\n",
    "@printf(\"+/- %6.2f %6.2f %6.2f %6.2f %6.2f %6.2f\\n\", resStd[1],resStd[2],resStd[3],resStd[4],resStd[5],resStd[6] )"
   ]
  },
  {
   "cell_type": "markdown",
   "metadata": {},
   "source": [
    "### Comparison of BayesA, BayesB, BayesCPi, RR-BLUP and OLS with Sample size n = 100 and number p = 1000 of markers and $\\pi=0.95$"
   ]
  },
  {
   "cell_type": "code",
   "execution_count": 15,
   "metadata": {
    "jupyter": {
     "outputs_hidden": true
    }
   },
   "outputs": [
    {
     "name": "stdout",
     "output_type": "stream",
     "text": [
      "1000 markers on 100 individuals were added.\n",
      "\n",
      "The prior for marker effects variance is calculated from the genetic variance and π. The mean of the prior for the marker effects variance is: 0.040202\n",
      "\n",
      "\n"
     ]
    },
    {
     "name": "stderr",
     "output_type": "stream",
     "text": [
      "\u001b[32mrunning MCMC for BayesB... 43%|███████████              |  ETA: 0:00:03\u001b[39m"
     ]
    },
    {
     "name": "stdout",
     "output_type": "stream",
     "text": [
      "\n",
      "Posterior means at iteration: 5000\n",
      "Residual variance: 2.397599\n"
     ]
    },
    {
     "name": "stderr",
     "output_type": "stream",
     "text": [
      "\u001b[32mrunning MCMC for BayesB... 88%|██████████████████████   |  ETA: 0:00:01\u001b[39m"
     ]
    },
    {
     "name": "stdout",
     "output_type": "stream",
     "text": [
      "\n",
      "Posterior means at iteration: 10000\n",
      "Residual variance: 2.360425\n"
     ]
    },
    {
     "name": "stderr",
     "output_type": "stream",
     "text": [
      "\u001b[32mrunning MCMC for BayesB... 97%|████████████████████████ |  ETA: 0:00:00\u001b[39m"
     ]
    },
    {
     "name": "stdout",
     "output_type": "stream",
     "text": [
      "1000 markers on 100 individuals were added."
     ]
    },
    {
     "name": "stderr",
     "output_type": "stream",
     "text": [
      "\r",
      "\u001b[32mrunning MCMC for BayesB...100%|█████████████████████████|  ETA: 0:00:00\u001b[39m\r",
      "\u001b[32mrunning MCMC for BayesB...100%|█████████████████████████| Time: 0:00:05\u001b[39m\n"
     ]
    },
    {
     "name": "stdout",
     "output_type": "stream",
     "text": [
      "\n",
      "\n",
      "The prior for marker effects variance is calculated from the genetic variance and π. The mean of the prior for the marker effects variance is: 0.080404\n",
      "\n",
      "\n"
     ]
    },
    {
     "name": "stderr",
     "output_type": "stream",
     "text": [
      "\u001b[32mrunning MCMC for BayesB... 41%|██████████               |  ETA: 0:00:02\u001b[39m"
     ]
    },
    {
     "name": "stdout",
     "output_type": "stream",
     "text": [
      "\n",
      "Posterior means at iteration: 5000\n",
      "Residual variance: 4.802957\n",
      "π: 0.762\n"
     ]
    },
    {
     "name": "stderr",
     "output_type": "stream",
     "text": [
      "\u001b[32mrunning MCMC for BayesB... 86%|██████████████████████   |  ETA: 0:00:01\u001b[39m"
     ]
    },
    {
     "name": "stdout",
     "output_type": "stream",
     "text": [
      "\n",
      "Posterior means at iteration: 10000\n",
      "Residual variance: 4.341654\n",
      "π: 0.739\n"
     ]
    },
    {
     "name": "stderr",
     "output_type": "stream",
     "text": [
      "\u001b[32mrunning MCMC for BayesB...100%|█████████████████████████| Time: 0:00:04\u001b[39m\n"
     ]
    },
    {
     "name": "stdout",
     "output_type": "stream",
     "text": [
      "1000 markers on 100 individuals were added.\n",
      "\n",
      "The prior for marker effects variance is calculated from the genetic variance and π. The mean of the prior for the marker effects variance is: 0.080404\n",
      "\n",
      "\n"
     ]
    },
    {
     "name": "stderr",
     "output_type": "stream",
     "text": [
      "\u001b[32mrunning MCMC for BayesC... 37%|█████████                |  ETA: 0:00:01\u001b[39m"
     ]
    },
    {
     "name": "stdout",
     "output_type": "stream",
     "text": [
      "\n",
      "Posterior means at iteration: 5000\n",
      "Residual variance: 4.919179\n",
      "Marker effects variance: 0.037499\n",
      "π: 0.499\n"
     ]
    },
    {
     "name": "stderr",
     "output_type": "stream",
     "text": [
      "\u001b[32mrunning MCMC for BayesC... 79%|████████████████████     |  ETA: 0:00:00\u001b[39m"
     ]
    },
    {
     "name": "stdout",
     "output_type": "stream",
     "text": [
      "\n",
      "Posterior means at iteration: 10000\n",
      "Residual variance: 5.220862\n",
      "Marker effects variance: 0.040942\n",
      "π: 0.598\n"
     ]
    },
    {
     "name": "stderr",
     "output_type": "stream",
     "text": [
      "\u001b[32mrunning MCMC for BayesC...100%|█████████████████████████| Time: 0:00:02\u001b[39m\n"
     ]
    },
    {
     "name": "stdout",
     "output_type": "stream",
     "text": [
      "1000 markers on 100 individuals were added.\n",
      "\n",
      "The prior for marker effects variance is calculated from the genetic variance and π. The mean of the prior for the marker effects variance is: 0.040202\n",
      "\n",
      "\n"
     ]
    },
    {
     "name": "stderr",
     "output_type": "stream",
     "text": [
      "\u001b[32mrunning MCMC for BayesB... 41%|██████████               |  ETA: 0:00:02\u001b[39m"
     ]
    },
    {
     "name": "stdout",
     "output_type": "stream",
     "text": [
      "\n",
      "Posterior means at iteration: 5000\n",
      "Residual variance: 2.536941\n"
     ]
    },
    {
     "name": "stderr",
     "output_type": "stream",
     "text": [
      "\u001b[32mrunning MCMC for BayesB... 87%|██████████████████████   |  ETA: 0:00:00\u001b[39m"
     ]
    },
    {
     "name": "stdout",
     "output_type": "stream",
     "text": [
      "\n",
      "Posterior means at iteration: 10000\n",
      "Residual variance: 2.527767\n"
     ]
    },
    {
     "name": "stderr",
     "output_type": "stream",
     "text": [
      "\u001b[32mrunning MCMC for BayesB...100%|█████████████████████████| Time: 0:00:04\u001b[39m\n"
     ]
    },
    {
     "name": "stdout",
     "output_type": "stream",
     "text": [
      "1000 markers on 100 individuals were added.\n",
      "\n",
      "The prior for marker effects variance is calculated from the genetic variance and π. The mean of the prior for the marker effects variance is: 0.080404\n",
      "\n",
      "\n"
     ]
    },
    {
     "name": "stderr",
     "output_type": "stream",
     "text": [
      "\u001b[32mrunning MCMC for BayesB... 42%|███████████              |  ETA: 0:00:02\u001b[39m"
     ]
    },
    {
     "name": "stdout",
     "output_type": "stream",
     "text": [
      "\n",
      "Posterior means at iteration: 5000\n",
      "Residual variance: 3.8527\n",
      "π: 0.702\n"
     ]
    },
    {
     "name": "stderr",
     "output_type": "stream",
     "text": [
      "\u001b[32mrunning MCMC for BayesB... 87%|██████████████████████   |  ETA: 0:00:01\u001b[39m"
     ]
    },
    {
     "name": "stdout",
     "output_type": "stream",
     "text": [
      "\n",
      "Posterior means at iteration: 10000\n",
      "Residual variance: 3.8007\n",
      "π: 0.701\n"
     ]
    },
    {
     "name": "stderr",
     "output_type": "stream",
     "text": [
      "\u001b[32mrunning MCMC for BayesB...100%|█████████████████████████| Time: 0:00:04\u001b[39m\n"
     ]
    },
    {
     "name": "stdout",
     "output_type": "stream",
     "text": [
      "1000 markers on 100 individuals were added.\n",
      "\n",
      "The prior for marker effects variance is calculated from the genetic variance and π. The mean of the prior for the marker effects variance is: 0.080404\n",
      "\n",
      "\n"
     ]
    },
    {
     "name": "stderr",
     "output_type": "stream",
     "text": [
      "\u001b[32mrunning MCMC for BayesC... 33%|████████                 |  ETA: 0:00:01\u001b[39m"
     ]
    },
    {
     "name": "stdout",
     "output_type": "stream",
     "text": [
      "\n",
      "Posterior means at iteration: 5000\n",
      "Residual variance: 5.309939\n",
      "Marker effects variance: 0.052709\n",
      "π: 0.676\n"
     ]
    },
    {
     "name": "stderr",
     "output_type": "stream",
     "text": [
      "\u001b[32mrunning MCMC for BayesC... 82%|████████████████████     |  ETA: 0:00:00\u001b[39m"
     ]
    },
    {
     "name": "stdout",
     "output_type": "stream",
     "text": [
      "\n",
      "Posterior means at iteration: 10000\n",
      "Residual variance: 5.625231\n",
      "Marker effects variance: 0.056885\n",
      "π: 0.715\n"
     ]
    },
    {
     "name": "stderr",
     "output_type": "stream",
     "text": [
      "\u001b[32mrunning MCMC for BayesC...100%|█████████████████████████| Time: 0:00:02\u001b[39m\n"
     ]
    },
    {
     "name": "stdout",
     "output_type": "stream",
     "text": [
      "1000 markers on 100 individuals were added.\n",
      "\n",
      "The prior for marker effects variance is calculated from the genetic variance and π. The mean of the prior for the marker effects variance is: 0.040202\n",
      "\n",
      "\n"
     ]
    },
    {
     "name": "stderr",
     "output_type": "stream",
     "text": [
      "\u001b[32mrunning MCMC for BayesB... 42%|███████████              |  ETA: 0:00:02\u001b[39m"
     ]
    },
    {
     "name": "stdout",
     "output_type": "stream",
     "text": [
      "\n",
      "Posterior means at iteration: 5000\n",
      "Residual variance: 2.85414\n"
     ]
    },
    {
     "name": "stderr",
     "output_type": "stream",
     "text": [
      "\u001b[32mrunning MCMC for BayesB... 88%|██████████████████████   |  ETA: 0:00:00\u001b[39m"
     ]
    },
    {
     "name": "stdout",
     "output_type": "stream",
     "text": [
      "\n",
      "Posterior means at iteration: 10000\n",
      "Residual variance: 2.875123\n"
     ]
    },
    {
     "name": "stderr",
     "output_type": "stream",
     "text": [
      "\u001b[32mrunning MCMC for BayesB...100%|█████████████████████████| Time: 0:00:03\u001b[39m\n"
     ]
    },
    {
     "name": "stdout",
     "output_type": "stream",
     "text": [
      "1000 markers on 100 individuals were added.\n",
      "\n",
      "The prior for marker effects variance is calculated from the genetic variance and π. The mean of the prior for the marker effects variance is: 0.080404\n",
      "\n",
      "\n"
     ]
    },
    {
     "name": "stderr",
     "output_type": "stream",
     "text": [
      "\u001b[32mrunning MCMC for BayesB... 41%|██████████               |  ETA: 0:00:03\u001b[39m"
     ]
    },
    {
     "name": "stdout",
     "output_type": "stream",
     "text": [
      "\n",
      "Posterior means at iteration: 5000\n",
      "Residual variance: 7.031068\n",
      "π: 0.746\n"
     ]
    },
    {
     "name": "stderr",
     "output_type": "stream",
     "text": [
      "\u001b[32mrunning MCMC for BayesB... 85%|█████████████████████    |  ETA: 0:00:01\u001b[39m"
     ]
    },
    {
     "name": "stdout",
     "output_type": "stream",
     "text": [
      "\n",
      "Posterior means at iteration: 10000\n",
      "Residual variance: 6.608369\n",
      "π: 0.726\n"
     ]
    },
    {
     "name": "stderr",
     "output_type": "stream",
     "text": [
      "\u001b[32mrunning MCMC for BayesB...100%|█████████████████████████| Time: 0:00:04\u001b[39m\n"
     ]
    },
    {
     "name": "stdout",
     "output_type": "stream",
     "text": [
      "1000 markers on 100 individuals were added.\n",
      "\n",
      "The prior for marker effects variance is calculated from the genetic variance and π. The mean of the prior for the marker effects variance is: 0.080404\n",
      "\n",
      "\n"
     ]
    },
    {
     "name": "stderr",
     "output_type": "stream",
     "text": [
      "\u001b[32mrunning MCMC for BayesC... 36%|█████████                |  ETA: 0:00:01\u001b[39m"
     ]
    },
    {
     "name": "stdout",
     "output_type": "stream",
     "text": [
      "\n",
      "Posterior means at iteration: 5000\n",
      "Residual variance: 7.588612\n",
      "Marker effects variance: 0.039968\n",
      "π: 0.57\n"
     ]
    },
    {
     "name": "stderr",
     "output_type": "stream",
     "text": [
      "\u001b[32mrunning MCMC for BayesC... 79%|████████████████████     |  ETA: 0:00:00\u001b[39m"
     ]
    },
    {
     "name": "stdout",
     "output_type": "stream",
     "text": [
      "\n",
      "Posterior means at iteration: 10000\n",
      "Residual variance: 7.810303\n",
      "Marker effects variance: 0.049132\n",
      "π: 0.638\n"
     ]
    },
    {
     "name": "stderr",
     "output_type": "stream",
     "text": [
      "\u001b[32mrunning MCMC for BayesC...100%|█████████████████████████| Time: 0:00:02\u001b[39m\n"
     ]
    },
    {
     "name": "stdout",
     "output_type": "stream",
     "text": [
      "1000 markers on 100 individuals were added.\n",
      "\n",
      "The prior for marker effects variance is calculated from the genetic variance and π. The mean of the prior for the marker effects variance is: 0.040202\n",
      "\n",
      "\n"
     ]
    },
    {
     "name": "stderr",
     "output_type": "stream",
     "text": [
      "\u001b[32mrunning MCMC for BayesB... 40%|██████████               |  ETA: 0:00:02\u001b[39m"
     ]
    },
    {
     "name": "stdout",
     "output_type": "stream",
     "text": [
      "\n",
      "Posterior means at iteration: 5000\n",
      "Residual variance: 3.148292\n"
     ]
    },
    {
     "name": "stderr",
     "output_type": "stream",
     "text": [
      "\u001b[32mrunning MCMC for BayesB... 87%|██████████████████████   |  ETA: 0:00:00\u001b[39m"
     ]
    },
    {
     "name": "stdout",
     "output_type": "stream",
     "text": [
      "\n",
      "Posterior means at iteration: 10000\n",
      "Residual variance: 3.02318\n"
     ]
    },
    {
     "name": "stderr",
     "output_type": "stream",
     "text": [
      "\u001b[32mrunning MCMC for BayesB...100%|█████████████████████████| Time: 0:00:04\u001b[39m\n"
     ]
    },
    {
     "name": "stdout",
     "output_type": "stream",
     "text": [
      "1000 markers on 100 individuals were added.\n",
      "\n",
      "The prior for marker effects variance is calculated from the genetic variance and π. The mean of the prior for the marker effects variance is: 0.080404\n",
      "\n",
      "\n"
     ]
    },
    {
     "name": "stderr",
     "output_type": "stream",
     "text": [
      "\u001b[32mrunning MCMC for BayesB... 42%|███████████              |  ETA: 0:00:02\u001b[39m"
     ]
    },
    {
     "name": "stdout",
     "output_type": "stream",
     "text": [
      "\n",
      "Posterior means at iteration: 5000\n",
      "Residual variance: 8.320069\n",
      "π: 0.797\n"
     ]
    },
    {
     "name": "stderr",
     "output_type": "stream",
     "text": [
      "\u001b[32mrunning MCMC for BayesB... 86%|█████████████████████    |  ETA: 0:00:01\u001b[39m"
     ]
    },
    {
     "name": "stdout",
     "output_type": "stream",
     "text": [
      "\n",
      "Posterior means at iteration: 10000\n",
      "Residual variance: 7.157118\n",
      "π: 0.743\n"
     ]
    },
    {
     "name": "stderr",
     "output_type": "stream",
     "text": [
      "\u001b[32mrunning MCMC for BayesB...100%|█████████████████████████| Time: 0:00:04\u001b[39m\n"
     ]
    },
    {
     "name": "stdout",
     "output_type": "stream",
     "text": [
      "1000 markers on 100 individuals were added.\n",
      "\n",
      "The prior for marker effects variance is calculated from the genetic variance and π. The mean of the prior for the marker effects variance is: 0.080404\n",
      "\n",
      "\n"
     ]
    },
    {
     "name": "stderr",
     "output_type": "stream",
     "text": [
      "\u001b[32mrunning MCMC for BayesC... 33%|████████                 |  ETA: 0:00:01\u001b[39m"
     ]
    },
    {
     "name": "stdout",
     "output_type": "stream",
     "text": [
      "\n",
      "Posterior means at iteration: 5000\n",
      "Residual variance: 7.238097\n",
      "Marker effects variance: 0.038861\n",
      "π: 0.498\n"
     ]
    },
    {
     "name": "stderr",
     "output_type": "stream",
     "text": [
      "\u001b[32mrunning MCMC for BayesC... 80%|████████████████████     |  ETA: 0:00:00\u001b[39m"
     ]
    },
    {
     "name": "stdout",
     "output_type": "stream",
     "text": [
      "\n",
      "Posterior means at iteration: 10000\n",
      "Residual variance: 8.579173\n",
      "Marker effects variance: 0.045311\n",
      "π: 0.623\n"
     ]
    },
    {
     "name": "stderr",
     "output_type": "stream",
     "text": [
      "\u001b[32mrunning MCMC for BayesC...100%|█████████████████████████| Time: 0:00:02\u001b[39m\n"
     ]
    },
    {
     "name": "stdout",
     "output_type": "stream",
     "text": [
      "1000 markers on 100 individuals were added.\n",
      "\n",
      "The prior for marker effects variance is calculated from the genetic variance and π. The mean of the prior for the marker effects variance is: 0.040202\n",
      "\n",
      "\n"
     ]
    },
    {
     "name": "stderr",
     "output_type": "stream",
     "text": [
      "\u001b[32mrunning MCMC for BayesB... 41%|██████████               |  ETA: 0:00:02\u001b[39m"
     ]
    },
    {
     "name": "stdout",
     "output_type": "stream",
     "text": [
      "\n",
      "Posterior means at iteration: 5000\n",
      "Residual variance: 2.361697\n"
     ]
    },
    {
     "name": "stderr",
     "output_type": "stream",
     "text": [
      "\u001b[32mrunning MCMC for BayesB... 87%|██████████████████████   |  ETA: 0:00:00\u001b[39m"
     ]
    },
    {
     "name": "stdout",
     "output_type": "stream",
     "text": [
      "\n",
      "Posterior means at iteration: 10000\n",
      "Residual variance: 2.382953\n"
     ]
    },
    {
     "name": "stderr",
     "output_type": "stream",
     "text": [
      "\u001b[32mrunning MCMC for BayesB...100%|█████████████████████████| Time: 0:00:04\u001b[39m\n"
     ]
    },
    {
     "name": "stdout",
     "output_type": "stream",
     "text": [
      "1000 markers on 100 individuals were added.\n",
      "\n",
      "The prior for marker effects variance is calculated from the genetic variance and π. The mean of the prior for the marker effects variance is: 0.080404\n",
      "\n",
      "\n"
     ]
    },
    {
     "name": "stderr",
     "output_type": "stream",
     "text": [
      "\u001b[32mrunning MCMC for BayesB... 42%|███████████              |  ETA: 0:00:02\u001b[39m"
     ]
    },
    {
     "name": "stdout",
     "output_type": "stream",
     "text": [
      "\n",
      "Posterior means at iteration: 5000\n",
      "Residual variance: 6.782126\n",
      "π: 0.9\n"
     ]
    },
    {
     "name": "stderr",
     "output_type": "stream",
     "text": [
      "\u001b[32mrunning MCMC for BayesB... 87%|██████████████████████   |  ETA: 0:00:00\u001b[39m"
     ]
    },
    {
     "name": "stdout",
     "output_type": "stream",
     "text": [
      "\n",
      "Posterior means at iteration: 10000\n",
      "Residual variance: 6.499442\n",
      "π: 0.883\n"
     ]
    },
    {
     "name": "stderr",
     "output_type": "stream",
     "text": [
      "\u001b[32mrunning MCMC for BayesB... 96%|████████████████████████ |  ETA: 0:00:00\u001b[39m"
     ]
    },
    {
     "name": "stdout",
     "output_type": "stream",
     "text": [
      "1000 markers on 100 individuals were added.\n",
      "\n",
      "The prior for marker effects variance is calculated from the genetic variance and π. The mean of the prior for the marker effects variance is: 0.080404\n",
      "\n",
      "\n"
     ]
    },
    {
     "name": "stderr",
     "output_type": "stream",
     "text": [
      "\u001b[32mrunning MCMC for BayesB...100%|█████████████████████████| Time: 0:00:04\u001b[39m\n",
      "\u001b[32mrunning MCMC for BayesC... 33%|████████                 |  ETA: 0:00:01\u001b[39m"
     ]
    },
    {
     "name": "stdout",
     "output_type": "stream",
     "text": [
      "\n",
      "Posterior means at iteration: 5000\n",
      "Residual variance: 6.934125\n",
      "Marker effects variance: 0.037716\n",
      "π: 0.822\n"
     ]
    },
    {
     "name": "stderr",
     "output_type": "stream",
     "text": [
      "\u001b[32mrunning MCMC for BayesC... 82%|█████████████████████    |  ETA: 0:00:00\u001b[39m"
     ]
    },
    {
     "name": "stdout",
     "output_type": "stream",
     "text": [
      "\n",
      "Posterior means at iteration: 10000\n",
      "Residual variance: 7.092824\n",
      "Marker effects variance: 0.039661\n",
      "π: 0.84\n"
     ]
    },
    {
     "name": "stderr",
     "output_type": "stream",
     "text": [
      "\u001b[32mrunning MCMC for BayesC...100%|█████████████████████████| Time: 0:00:01\u001b[39m\n"
     ]
    },
    {
     "name": "stdout",
     "output_type": "stream",
     "text": [
      "1000 markers on 100 individuals were added.\n",
      "\n",
      "The prior for marker effects variance is calculated from the genetic variance and π. The mean of the prior for the marker effects variance is: 0.040202\n",
      "\n",
      "\n"
     ]
    },
    {
     "name": "stderr",
     "output_type": "stream",
     "text": [
      "\u001b[32mrunning MCMC for BayesB... 42%|██████████               |  ETA: 0:00:02\u001b[39m"
     ]
    },
    {
     "name": "stdout",
     "output_type": "stream",
     "text": [
      "\n",
      "Posterior means at iteration: 5000\n",
      "Residual variance: 2.543386\n"
     ]
    },
    {
     "name": "stderr",
     "output_type": "stream",
     "text": [
      "\u001b[32mrunning MCMC for BayesB... 86%|██████████████████████   |  ETA: 0:00:00\u001b[39m"
     ]
    },
    {
     "name": "stdout",
     "output_type": "stream",
     "text": [
      "\n",
      "Posterior means at iteration: 10000\n",
      "Residual variance: 2.577266\n"
     ]
    },
    {
     "name": "stderr",
     "output_type": "stream",
     "text": [
      "\u001b[32mrunning MCMC for BayesB...100%|█████████████████████████| Time: 0:00:04\u001b[39m\n"
     ]
    },
    {
     "name": "stdout",
     "output_type": "stream",
     "text": [
      "1000 markers on 100 individuals were added.\n",
      "\n",
      "The prior for marker effects variance is calculated from the genetic variance and π. The mean of the prior for the marker effects variance is: 0.080404\n",
      "\n",
      "\n"
     ]
    },
    {
     "name": "stderr",
     "output_type": "stream",
     "text": [
      "\u001b[32mrunning MCMC for BayesB... 41%|██████████               |  ETA: 0:00:02\u001b[39m"
     ]
    },
    {
     "name": "stdout",
     "output_type": "stream",
     "text": [
      "\n",
      "Posterior means at iteration: 5000\n",
      "Residual variance: 5.893727\n",
      "π: 0.803\n"
     ]
    },
    {
     "name": "stderr",
     "output_type": "stream",
     "text": [
      "\u001b[32mrunning MCMC for BayesB... 87%|██████████████████████   |  ETA: 0:00:00\u001b[39m"
     ]
    },
    {
     "name": "stdout",
     "output_type": "stream",
     "text": [
      "\n",
      "Posterior means at iteration: 10000\n",
      "Residual variance: 5.872942\n",
      "π: 0.799\n"
     ]
    },
    {
     "name": "stderr",
     "output_type": "stream",
     "text": [
      "\u001b[32mrunning MCMC for BayesB...100%|█████████████████████████| Time: 0:00:04\u001b[39m\n"
     ]
    },
    {
     "name": "stdout",
     "output_type": "stream",
     "text": [
      "1000 markers on 100 individuals were added.\n",
      "\n",
      "The prior for marker effects variance is calculated from the genetic variance and π. The mean of the prior for the marker effects variance is: 0.080404\n",
      "\n",
      "\n"
     ]
    },
    {
     "name": "stderr",
     "output_type": "stream",
     "text": [
      "\u001b[32mrunning MCMC for BayesC... 35%|█████████                |  ETA: 0:00:01\u001b[39m"
     ]
    },
    {
     "name": "stdout",
     "output_type": "stream",
     "text": [
      "\n",
      "Posterior means at iteration: 5000\n",
      "Residual variance: 7.626154\n",
      "Marker effects variance: 0.051741\n",
      "π: 0.848\n"
     ]
    },
    {
     "name": "stderr",
     "output_type": "stream",
     "text": [
      "\u001b[32mrunning MCMC for BayesC... 81%|████████████████████     |  ETA: 0:00:00\u001b[39m"
     ]
    },
    {
     "name": "stdout",
     "output_type": "stream",
     "text": [
      "\n",
      "Posterior means at iteration: 10000\n",
      "Residual variance: 7.241074\n",
      "Marker effects variance: 0.04613\n",
      "π: 0.765\n"
     ]
    },
    {
     "name": "stderr",
     "output_type": "stream",
     "text": [
      "\u001b[32mrunning MCMC for BayesC...100%|█████████████████████████| Time: 0:00:01\u001b[39m\n"
     ]
    },
    {
     "name": "stdout",
     "output_type": "stream",
     "text": [
      "1000 markers on 100 individuals were added.\n",
      "\n",
      "The prior for marker effects variance is calculated from the genetic variance and π. The mean of the prior for the marker effects variance is: 0.040202\n",
      "\n",
      "\n"
     ]
    },
    {
     "name": "stderr",
     "output_type": "stream",
     "text": [
      "\u001b[32mrunning MCMC for BayesB... 41%|██████████               |  ETA: 0:00:02\u001b[39m"
     ]
    },
    {
     "name": "stdout",
     "output_type": "stream",
     "text": [
      "\n",
      "Posterior means at iteration: 5000\n",
      "Residual variance: 2.643673\n"
     ]
    },
    {
     "name": "stderr",
     "output_type": "stream",
     "text": [
      "\u001b[32mrunning MCMC for BayesB... 86%|██████████████████████   |  ETA: 0:00:00\u001b[39m"
     ]
    },
    {
     "name": "stdout",
     "output_type": "stream",
     "text": [
      "\n",
      "Posterior means at iteration: 10000\n",
      "Residual variance: 2.671796\n"
     ]
    },
    {
     "name": "stderr",
     "output_type": "stream",
     "text": [
      "\u001b[32mrunning MCMC for BayesB...100%|█████████████████████████| Time: 0:00:03\u001b[39m\n"
     ]
    },
    {
     "name": "stdout",
     "output_type": "stream",
     "text": [
      "1000 markers on 100 individuals were added.\n",
      "\n",
      "The prior for marker effects variance is calculated from the genetic variance and π. The mean of the prior for the marker effects variance is: 0.080404\n",
      "\n",
      "\n"
     ]
    },
    {
     "name": "stderr",
     "output_type": "stream",
     "text": [
      "\u001b[32mrunning MCMC for BayesB... 40%|██████████               |  ETA: 0:00:02\u001b[39m"
     ]
    },
    {
     "name": "stdout",
     "output_type": "stream",
     "text": [
      "\n",
      "Posterior means at iteration: 5000\n",
      "Residual variance: 6.044067\n",
      "π: 0.782\n"
     ]
    },
    {
     "name": "stderr",
     "output_type": "stream",
     "text": [
      "\u001b[32mrunning MCMC for BayesB... 87%|██████████████████████   |  ETA: 0:00:00\u001b[39m"
     ]
    },
    {
     "name": "stdout",
     "output_type": "stream",
     "text": [
      "\n",
      "Posterior means at iteration: 10000\n",
      "Residual variance: 6.287961\n",
      "π: 0.79\n"
     ]
    },
    {
     "name": "stderr",
     "output_type": "stream",
     "text": [
      "\u001b[32mrunning MCMC for BayesB...100%|█████████████████████████| Time: 0:00:03\u001b[39m\n"
     ]
    },
    {
     "name": "stdout",
     "output_type": "stream",
     "text": [
      "1000 markers on 100 individuals were added.\n",
      "\n",
      "The prior for marker effects variance is calculated from the genetic variance and π. The mean of the prior for the marker effects variance is: 0.080404\n",
      "\n",
      "\n"
     ]
    },
    {
     "name": "stderr",
     "output_type": "stream",
     "text": [
      "\u001b[32mrunning MCMC for BayesC... 39%|██████████               |  ETA: 0:00:01\u001b[39m"
     ]
    },
    {
     "name": "stdout",
     "output_type": "stream",
     "text": [
      "\n",
      "Posterior means at iteration: 5000\n",
      "Residual variance: 6.718468\n",
      "Marker effects variance: 0.033518\n",
      "π: 0.59\n"
     ]
    },
    {
     "name": "stderr",
     "output_type": "stream",
     "text": [
      "\u001b[32mrunning MCMC for BayesC... 79%|████████████████████     |  ETA: 0:00:00\u001b[39m"
     ]
    },
    {
     "name": "stdout",
     "output_type": "stream",
     "text": [
      "\n",
      "Posterior means at iteration: 10000\n",
      "Residual variance: 7.134271\n",
      "Marker effects variance: 0.036573\n",
      "π: 0.658\n"
     ]
    },
    {
     "name": "stderr",
     "output_type": "stream",
     "text": [
      "\u001b[32mrunning MCMC for BayesC...100%|█████████████████████████| Time: 0:00:02\u001b[39m\n"
     ]
    },
    {
     "name": "stdout",
     "output_type": "stream",
     "text": [
      "1000 markers on 100 individuals were added.\n",
      "\n",
      "The prior for marker effects variance is calculated from the genetic variance and π. The mean of the prior for the marker effects variance is: 0.040202\n",
      "\n",
      "\n"
     ]
    },
    {
     "name": "stderr",
     "output_type": "stream",
     "text": [
      "\u001b[32mrunning MCMC for BayesB... 42%|███████████              |  ETA: 0:00:02\u001b[39m"
     ]
    },
    {
     "name": "stdout",
     "output_type": "stream",
     "text": [
      "\n",
      "Posterior means at iteration: 5000\n",
      "Residual variance: 2.345998\n"
     ]
    },
    {
     "name": "stderr",
     "output_type": "stream",
     "text": [
      "\u001b[32mrunning MCMC for BayesB... 85%|█████████████████████    |  ETA: 0:00:01\u001b[39m"
     ]
    },
    {
     "name": "stdout",
     "output_type": "stream",
     "text": [
      "\n",
      "Posterior means at iteration: 10000\n",
      "Residual variance: 2.364612\n"
     ]
    },
    {
     "name": "stderr",
     "output_type": "stream",
     "text": [
      "\u001b[32mrunning MCMC for BayesB...100%|█████████████████████████| Time: 0:00:03\u001b[39m\n"
     ]
    },
    {
     "name": "stdout",
     "output_type": "stream",
     "text": [
      "1000 markers on 100 individuals were added.\n",
      "\n",
      "The prior for marker effects variance is calculated from the genetic variance and π. The mean of the prior for the marker effects variance is: 0.080404\n",
      "\n",
      "\n"
     ]
    },
    {
     "name": "stderr",
     "output_type": "stream",
     "text": [
      "\u001b[32mrunning MCMC for BayesB... 41%|██████████               |  ETA: 0:00:03\u001b[39m"
     ]
    },
    {
     "name": "stdout",
     "output_type": "stream",
     "text": [
      "\n",
      "Posterior means at iteration: 5000\n",
      "Residual variance: 4.867703\n",
      "π: 0.814\n"
     ]
    },
    {
     "name": "stderr",
     "output_type": "stream",
     "text": [
      "\u001b[32mrunning MCMC for BayesB... 86%|█████████████████████    |  ETA: 0:00:01\u001b[39m"
     ]
    },
    {
     "name": "stdout",
     "output_type": "stream",
     "text": [
      "\n",
      "Posterior means at iteration: 10000\n",
      "Residual variance: 5.070915\n",
      "π: 0.822\n"
     ]
    },
    {
     "name": "stderr",
     "output_type": "stream",
     "text": [
      "\u001b[32mrunning MCMC for BayesB...100%|█████████████████████████| Time: 0:00:05\u001b[39m\n"
     ]
    },
    {
     "name": "stdout",
     "output_type": "stream",
     "text": [
      "1000 markers on 100 individuals were added.\n",
      "\n",
      "The prior for marker effects variance is calculated from the genetic variance and π. The mean of the prior for the marker effects variance is: 0.080404\n",
      "\n",
      "\n"
     ]
    },
    {
     "name": "stderr",
     "output_type": "stream",
     "text": [
      "\u001b[32mrunning MCMC for BayesC... 37%|█████████                |  ETA: 0:00:01\u001b[39m"
     ]
    },
    {
     "name": "stdout",
     "output_type": "stream",
     "text": [
      "\n",
      "Posterior means at iteration: 5000\n",
      "Residual variance: 5.843513\n",
      "Marker effects variance: 0.039379\n",
      "π: 0.732\n"
     ]
    },
    {
     "name": "stderr",
     "output_type": "stream",
     "text": [
      "\u001b[32mrunning MCMC for BayesC... 84%|█████████████████████    |  ETA: 0:00:00\u001b[39m"
     ]
    },
    {
     "name": "stdout",
     "output_type": "stream",
     "text": [
      "\n",
      "Posterior means at iteration: 10000\n",
      "Residual variance: 6.377578\n",
      "Marker effects variance: 0.042931\n",
      "π: 0.784\n"
     ]
    },
    {
     "name": "stderr",
     "output_type": "stream",
     "text": [
      "\u001b[32mrunning MCMC for BayesC...100%|█████████████████████████| Time: 0:00:02\u001b[39m\n"
     ]
    },
    {
     "name": "stdout",
     "output_type": "stream",
     "text": [
      "1000 markers on 100 individuals were added.\n",
      "\n",
      "The prior for marker effects variance is calculated from the genetic variance and π. The mean of the prior for the marker effects variance is: 0.040202\n",
      "\n",
      "\n"
     ]
    },
    {
     "name": "stderr",
     "output_type": "stream",
     "text": [
      "\u001b[32mrunning MCMC for BayesB... 42%|███████████              |  ETA: 0:00:02\u001b[39m"
     ]
    },
    {
     "name": "stdout",
     "output_type": "stream",
     "text": [
      "\n",
      "Posterior means at iteration: 5000\n",
      "Residual variance: 2.678419\n"
     ]
    },
    {
     "name": "stderr",
     "output_type": "stream",
     "text": [
      "\u001b[32mrunning MCMC for BayesB... 86%|█████████████████████    |  ETA: 0:00:01\u001b[39m"
     ]
    },
    {
     "name": "stdout",
     "output_type": "stream",
     "text": [
      "\n",
      "Posterior means at iteration: 10000\n",
      "Residual variance: 2.683285\n"
     ]
    },
    {
     "name": "stderr",
     "output_type": "stream",
     "text": [
      "\u001b[32mrunning MCMC for BayesB...100%|█████████████████████████| Time: 0:00:04\u001b[39m\n"
     ]
    },
    {
     "name": "stdout",
     "output_type": "stream",
     "text": [
      "1000 markers on 100 individuals were added.\n",
      "\n",
      "The prior for marker effects variance is calculated from the genetic variance and π. The mean of the prior for the marker effects variance is: 0.080404\n",
      "\n",
      "\n"
     ]
    },
    {
     "name": "stderr",
     "output_type": "stream",
     "text": [
      "\u001b[32mrunning MCMC for BayesB... 42%|██████████               |  ETA: 0:00:02\u001b[39m"
     ]
    },
    {
     "name": "stdout",
     "output_type": "stream",
     "text": [
      "\n",
      "Posterior means at iteration: 5000\n",
      "Residual variance: 3.854722\n",
      "π: 0.615\n"
     ]
    },
    {
     "name": "stderr",
     "output_type": "stream",
     "text": [
      "\u001b[32mrunning MCMC for BayesB... 88%|██████████████████████   |  ETA: 0:00:00\u001b[39m"
     ]
    },
    {
     "name": "stdout",
     "output_type": "stream",
     "text": [
      "\n",
      "Posterior means at iteration: 10000\n",
      "Residual variance: 5.273694\n",
      "π: 0.693\n"
     ]
    },
    {
     "name": "stderr",
     "output_type": "stream",
     "text": [
      "\u001b[32mrunning MCMC for BayesB...100%|█████████████████████████| Time: 0:00:04\u001b[39m\n"
     ]
    },
    {
     "name": "stdout",
     "output_type": "stream",
     "text": [
      "1000 markers on 100 individuals were added.\n",
      "\n",
      "The prior for marker effects variance is calculated from the genetic variance and π. The mean of the prior for the marker effects variance is: 0.080404\n",
      "\n",
      "\n"
     ]
    },
    {
     "name": "stderr",
     "output_type": "stream",
     "text": [
      "\u001b[32mrunning MCMC for BayesC... 38%|██████████               |  ETA: 0:00:01\u001b[39m"
     ]
    },
    {
     "name": "stdout",
     "output_type": "stream",
     "text": [
      "\n",
      "Posterior means at iteration: 5000\n",
      "Residual variance: 6.590752\n",
      "Marker effects variance: 0.046694\n",
      "π: 0.648\n"
     ]
    },
    {
     "name": "stderr",
     "output_type": "stream",
     "text": [
      "\u001b[32mrunning MCMC for BayesC... 83%|█████████████████████    |  ETA: 0:00:00\u001b[39m"
     ]
    },
    {
     "name": "stdout",
     "output_type": "stream",
     "text": [
      "\n",
      "Posterior means at iteration: 10000\n",
      "Residual variance: 6.847783\n",
      "Marker effects variance: 0.043105\n",
      "π: 0.632\n"
     ]
    },
    {
     "name": "stderr",
     "output_type": "stream",
     "text": [
      "\u001b[32mrunning MCMC for BayesC...100%|█████████████████████████| Time: 0:00:02\u001b[39m\n"
     ]
    },
    {
     "name": "stdout",
     "output_type": "stream",
     "text": [
      "1000 markers on 100 individuals were added.\n",
      "\n",
      "The prior for marker effects variance is calculated from the genetic variance and π. The mean of the prior for the marker effects variance is: 0.040202\n",
      "\n",
      "\n"
     ]
    },
    {
     "name": "stderr",
     "output_type": "stream",
     "text": [
      "\u001b[32mrunning MCMC for BayesB... 43%|███████████              |  ETA: 0:00:03\u001b[39m"
     ]
    },
    {
     "name": "stdout",
     "output_type": "stream",
     "text": [
      "\n",
      "Posterior means at iteration: 5000\n",
      "Residual variance: 2.425245\n"
     ]
    },
    {
     "name": "stderr",
     "output_type": "stream",
     "text": [
      "\u001b[32mrunning MCMC for BayesB... 86%|██████████████████████   |  ETA: 0:00:01\u001b[39m"
     ]
    },
    {
     "name": "stdout",
     "output_type": "stream",
     "text": [
      "\n",
      "Posterior means at iteration: 10000\n",
      "Residual variance: 2.488742\n"
     ]
    },
    {
     "name": "stderr",
     "output_type": "stream",
     "text": [
      "\u001b[32mrunning MCMC for BayesB...100%|█████████████████████████| Time: 0:00:04\u001b[39m\n"
     ]
    },
    {
     "name": "stdout",
     "output_type": "stream",
     "text": [
      "1000 markers on 100 individuals were added.\n",
      "\n",
      "The prior for marker effects variance is calculated from the genetic variance and π. The mean of the prior for the marker effects variance is: 0.080404\n",
      "\n",
      "\n"
     ]
    },
    {
     "name": "stderr",
     "output_type": "stream",
     "text": [
      "\u001b[32mrunning MCMC for BayesB... 42%|██████████               |  ETA: 0:00:02\u001b[39m"
     ]
    },
    {
     "name": "stdout",
     "output_type": "stream",
     "text": [
      "\n",
      "Posterior means at iteration: 5000\n",
      "Residual variance: 4.923926\n",
      "π: 0.72\n"
     ]
    },
    {
     "name": "stderr",
     "output_type": "stream",
     "text": [
      "\u001b[32mrunning MCMC for BayesB... 87%|██████████████████████   |  ETA: 0:00:01\u001b[39m"
     ]
    },
    {
     "name": "stdout",
     "output_type": "stream",
     "text": [
      "\n",
      "Posterior means at iteration: 10000\n",
      "Residual variance: 4.664703\n",
      "π: 0.705\n"
     ]
    },
    {
     "name": "stderr",
     "output_type": "stream",
     "text": [
      "\u001b[32mrunning MCMC for BayesB...100%|█████████████████████████| Time: 0:00:04\u001b[39m\n"
     ]
    },
    {
     "name": "stdout",
     "output_type": "stream",
     "text": [
      "1000 markers on 100 individuals were added.\n",
      "\n",
      "The prior for marker effects variance is calculated from the genetic variance and π. The mean of the prior for the marker effects variance is: 0.080404\n",
      "\n",
      "\n"
     ]
    },
    {
     "name": "stderr",
     "output_type": "stream",
     "text": [
      "\u001b[32mrunning MCMC for BayesC... 34%|█████████                |  ETA: 0:00:01\u001b[39m"
     ]
    },
    {
     "name": "stdout",
     "output_type": "stream",
     "text": [
      "\n",
      "Posterior means at iteration: 5000\n",
      "Residual variance: 6.089987\n",
      "Marker effects variance: 0.04204\n",
      "π: 0.663\n"
     ]
    },
    {
     "name": "stderr",
     "output_type": "stream",
     "text": [
      "\u001b[32mrunning MCMC for BayesC... 84%|█████████████████████    |  ETA: 0:00:00\u001b[39m"
     ]
    },
    {
     "name": "stdout",
     "output_type": "stream",
     "text": [
      "\n",
      "Posterior means at iteration: 10000\n",
      "Residual variance: 6.127229\n",
      "Marker effects variance: 0.042688\n",
      "π: 0.62\n"
     ]
    },
    {
     "name": "stderr",
     "output_type": "stream",
     "text": [
      "\u001b[32mrunning MCMC for BayesC...100%|█████████████████████████| Time: 0:00:02\u001b[39m\n"
     ]
    },
    {
     "name": "stdout",
     "output_type": "stream",
     "text": [
      "1000 markers on 100 individuals were added.\n",
      "\n",
      "The prior for marker effects variance is calculated from the genetic variance and π. The mean of the prior for the marker effects variance is: 0.040202\n",
      "\n",
      "\n"
     ]
    },
    {
     "name": "stderr",
     "output_type": "stream",
     "text": [
      "\u001b[32mrunning MCMC for BayesB... 43%|███████████              |  ETA: 0:00:02\u001b[39m"
     ]
    },
    {
     "name": "stdout",
     "output_type": "stream",
     "text": [
      "\n",
      "Posterior means at iteration: 5000\n",
      "Residual variance: 2.513097\n"
     ]
    },
    {
     "name": "stderr",
     "output_type": "stream",
     "text": [
      "\u001b[32mrunning MCMC for BayesB... 88%|██████████████████████   |  ETA: 0:00:00\u001b[39m"
     ]
    },
    {
     "name": "stdout",
     "output_type": "stream",
     "text": [
      "\n",
      "Posterior means at iteration: 10000\n",
      "Residual variance: 2.478942\n"
     ]
    },
    {
     "name": "stderr",
     "output_type": "stream",
     "text": [
      "\u001b[32mrunning MCMC for BayesB...100%|█████████████████████████| Time: 0:00:04\u001b[39m\n"
     ]
    },
    {
     "name": "stdout",
     "output_type": "stream",
     "text": [
      "1000 markers on 100 individuals were added.\n",
      "\n",
      "The prior for marker effects variance is calculated from the genetic variance and π. The mean of the prior for the marker effects variance is: 0.080404\n",
      "\n",
      "\n"
     ]
    },
    {
     "name": "stderr",
     "output_type": "stream",
     "text": [
      "\u001b[32mrunning MCMC for BayesB... 41%|██████████               |  ETA: 0:00:03\u001b[39m"
     ]
    },
    {
     "name": "stdout",
     "output_type": "stream",
     "text": [
      "\n",
      "Posterior means at iteration: 5000\n",
      "Residual variance: 6.514803\n",
      "π: 0.819\n"
     ]
    },
    {
     "name": "stderr",
     "output_type": "stream",
     "text": [
      "\u001b[32mrunning MCMC for BayesB... 86%|█████████████████████    |  ETA: 0:00:01\u001b[39m"
     ]
    },
    {
     "name": "stdout",
     "output_type": "stream",
     "text": [
      "\n",
      "Posterior means at iteration: 10000\n",
      "Residual variance: 6.421288\n",
      "π: 0.815\n"
     ]
    },
    {
     "name": "stderr",
     "output_type": "stream",
     "text": [
      "\u001b[32mrunning MCMC for BayesB... 97%|████████████████████████ |  ETA: 0:00:00\u001b[39m"
     ]
    },
    {
     "name": "stdout",
     "output_type": "stream",
     "text": [
      "1000 markers on 100 individuals were added.\n",
      "\n",
      "The prior for marker effects variance is calculated from the genetic variance and π. The mean of the prior for the marker effects variance is: 0.080404\n",
      "\n",
      "\n"
     ]
    },
    {
     "name": "stderr",
     "output_type": "stream",
     "text": [
      "\u001b[32mrunning MCMC for BayesB...100%|█████████████████████████| Time: 0:00:04\u001b[39m\n",
      "\u001b[32mrunning MCMC for BayesC... 38%|██████████               |  ETA: 0:00:01\u001b[39m"
     ]
    },
    {
     "name": "stdout",
     "output_type": "stream",
     "text": [
      "\n",
      "Posterior means at iteration: 5000\n",
      "Residual variance: 6.905443\n",
      "Marker effects variance: 0.039658\n",
      "π: 0.662\n"
     ]
    },
    {
     "name": "stderr",
     "output_type": "stream",
     "text": [
      "\u001b[32mrunning MCMC for BayesC... 80%|████████████████████     |  ETA: 0:00:00\u001b[39m"
     ]
    },
    {
     "name": "stdout",
     "output_type": "stream",
     "text": [
      "\n",
      "Posterior means at iteration: 10000\n",
      "Residual variance: 7.584151\n",
      "Marker effects variance: 0.046582\n",
      "π: 0.775\n"
     ]
    },
    {
     "name": "stderr",
     "output_type": "stream",
     "text": [
      "\u001b[32mrunning MCMC for BayesC...100%|█████████████████████████| Time: 0:00:02\u001b[39m\n"
     ]
    },
    {
     "name": "stdout",
     "output_type": "stream",
     "text": [
      "1000 markers on 100 individuals were added.\n",
      "\n",
      "The prior for marker effects variance is calculated from the genetic variance and π. The mean of the prior for the marker effects variance is: 0.040202\n",
      "\n",
      "\n"
     ]
    },
    {
     "name": "stderr",
     "output_type": "stream",
     "text": [
      "\u001b[32mrunning MCMC for BayesB... 42%|███████████              |  ETA: 0:00:02\u001b[39m"
     ]
    },
    {
     "name": "stdout",
     "output_type": "stream",
     "text": [
      "\n",
      "Posterior means at iteration: 5000\n",
      "Residual variance: 2.425434\n"
     ]
    },
    {
     "name": "stderr",
     "output_type": "stream",
     "text": [
      "\u001b[32mrunning MCMC for BayesB... 86%|██████████████████████   |  ETA: 0:00:00\u001b[39m"
     ]
    },
    {
     "name": "stdout",
     "output_type": "stream",
     "text": [
      "\n",
      "Posterior means at iteration: 10000\n",
      "Residual variance: 2.370486\n"
     ]
    },
    {
     "name": "stderr",
     "output_type": "stream",
     "text": [
      "\u001b[32mrunning MCMC for BayesB...100%|█████████████████████████| Time: 0:00:03\u001b[39m\n"
     ]
    },
    {
     "name": "stdout",
     "output_type": "stream",
     "text": [
      "1000 markers on 100 individuals were added.\n",
      "\n",
      "The prior for marker effects variance is calculated from the genetic variance and π. The mean of the prior for the marker effects variance is: 0.080404\n",
      "\n",
      "\n"
     ]
    },
    {
     "name": "stderr",
     "output_type": "stream",
     "text": [
      "\u001b[32mrunning MCMC for BayesB... 40%|██████████               |  ETA: 0:00:02\u001b[39m"
     ]
    },
    {
     "name": "stdout",
     "output_type": "stream",
     "text": [
      "\n",
      "Posterior means at iteration: 5000\n",
      "Residual variance: 4.848312\n",
      "π: 0.814\n"
     ]
    },
    {
     "name": "stderr",
     "output_type": "stream",
     "text": [
      "\u001b[32mrunning MCMC for BayesB... 86%|██████████████████████   |  ETA: 0:00:00\u001b[39m"
     ]
    },
    {
     "name": "stdout",
     "output_type": "stream",
     "text": [
      "\n",
      "Posterior means at iteration: 10000\n",
      "Residual variance: 4.480756\n",
      "π: 0.789\n"
     ]
    },
    {
     "name": "stderr",
     "output_type": "stream",
     "text": [
      "\u001b[32mrunning MCMC for BayesB...100%|█████████████████████████| Time: 0:00:04\u001b[39m\n"
     ]
    },
    {
     "name": "stdout",
     "output_type": "stream",
     "text": [
      "1000 markers on 100 individuals were added.\n",
      "\n",
      "The prior for marker effects variance is calculated from the genetic variance and π. The mean of the prior for the marker effects variance is: 0.080404\n",
      "\n",
      "\n"
     ]
    },
    {
     "name": "stderr",
     "output_type": "stream",
     "text": [
      "\u001b[32mrunning MCMC for BayesC... 36%|█████████                |  ETA: 0:00:01\u001b[39m"
     ]
    },
    {
     "name": "stdout",
     "output_type": "stream",
     "text": [
      "\n",
      "Posterior means at iteration: 5000\n",
      "Residual variance: 5.798165\n",
      "Marker effects variance: 0.053393\n",
      "π: 0.775\n"
     ]
    },
    {
     "name": "stderr",
     "output_type": "stream",
     "text": [
      "\u001b[32mrunning MCMC for BayesC... 79%|████████████████████     |  ETA: 0:00:00\u001b[39m"
     ]
    },
    {
     "name": "stdout",
     "output_type": "stream",
     "text": [
      "\n",
      "Posterior means at iteration: 10000\n",
      "Residual variance: 5.717474\n",
      "Marker effects variance: 0.044597\n",
      "π: 0.755\n"
     ]
    },
    {
     "name": "stderr",
     "output_type": "stream",
     "text": [
      "\u001b[32mrunning MCMC for BayesC...100%|█████████████████████████| Time: 0:00:02\u001b[39m\n"
     ]
    },
    {
     "name": "stdout",
     "output_type": "stream",
     "text": [
      "1000 markers on 100 individuals were added.\n",
      "\n",
      "The prior for marker effects variance is calculated from the genetic variance and π. The mean of the prior for the marker effects variance is: 0.040202\n",
      "\n",
      "\n"
     ]
    },
    {
     "name": "stderr",
     "output_type": "stream",
     "text": [
      "\u001b[32mrunning MCMC for BayesB... 41%|██████████               |  ETA: 0:00:02\u001b[39m"
     ]
    },
    {
     "name": "stdout",
     "output_type": "stream",
     "text": [
      "\n",
      "Posterior means at iteration: 5000\n",
      "Residual variance: 2.524317\n"
     ]
    },
    {
     "name": "stderr",
     "output_type": "stream",
     "text": [
      "\u001b[32mrunning MCMC for BayesB... 87%|██████████████████████   |  ETA: 0:00:01\u001b[39m"
     ]
    },
    {
     "name": "stdout",
     "output_type": "stream",
     "text": [
      "\n",
      "Posterior means at iteration: 10000\n",
      "Residual variance: 2.521428\n"
     ]
    },
    {
     "name": "stderr",
     "output_type": "stream",
     "text": [
      "\u001b[32mrunning MCMC for BayesB...100%|█████████████████████████| Time: 0:00:04\u001b[39m\n"
     ]
    },
    {
     "name": "stdout",
     "output_type": "stream",
     "text": [
      "1000 markers on 100 individuals were added.\n",
      "\n",
      "The prior for marker effects variance is calculated from the genetic variance and π. The mean of the prior for the marker effects variance is: 0.080404\n",
      "\n",
      "\n"
     ]
    },
    {
     "name": "stderr",
     "output_type": "stream",
     "text": [
      "\u001b[32mrunning MCMC for BayesB... 41%|██████████               |  ETA: 0:00:02\u001b[39m"
     ]
    },
    {
     "name": "stdout",
     "output_type": "stream",
     "text": [
      "\n",
      "Posterior means at iteration: 5000\n",
      "Residual variance: 6.806302\n",
      "π: 0.855\n"
     ]
    },
    {
     "name": "stderr",
     "output_type": "stream",
     "text": [
      "\u001b[32mrunning MCMC for BayesB... 87%|██████████████████████   |  ETA: 0:00:01\u001b[39m"
     ]
    },
    {
     "name": "stdout",
     "output_type": "stream",
     "text": [
      "\n",
      "Posterior means at iteration: 10000\n",
      "Residual variance: 5.923726\n",
      "π: 0.815\n"
     ]
    },
    {
     "name": "stderr",
     "output_type": "stream",
     "text": [
      "\u001b[32mrunning MCMC for BayesB...100%|█████████████████████████| Time: 0:00:04\u001b[39m\n"
     ]
    },
    {
     "name": "stdout",
     "output_type": "stream",
     "text": [
      "1000 markers on 100 individuals were added.\n",
      "\n",
      "The prior for marker effects variance is calculated from the genetic variance and π. The mean of the prior for the marker effects variance is: 0.080404\n",
      "\n",
      "\n"
     ]
    },
    {
     "name": "stderr",
     "output_type": "stream",
     "text": [
      "\u001b[32mrunning MCMC for BayesC... 32%|████████                 |  ETA: 0:00:01\u001b[39m"
     ]
    },
    {
     "name": "stdout",
     "output_type": "stream",
     "text": [
      "\n",
      "Posterior means at iteration: 5000\n",
      "Residual variance: 7.820369\n",
      "Marker effects variance: 0.048653\n",
      "π: 0.779\n"
     ]
    },
    {
     "name": "stderr",
     "output_type": "stream",
     "text": [
      "\u001b[32mrunning MCMC for BayesC... 82%|█████████████████████    |  ETA: 0:00:00\u001b[39m"
     ]
    },
    {
     "name": "stdout",
     "output_type": "stream",
     "text": [
      "\n",
      "Posterior means at iteration: 10000\n",
      "Residual variance: 7.617832\n",
      "Marker effects variance: 0.04375\n",
      "π: 0.791\n"
     ]
    },
    {
     "name": "stderr",
     "output_type": "stream",
     "text": [
      "\u001b[32mrunning MCMC for BayesC...100%|█████████████████████████| Time: 0:00:01\u001b[39m\n"
     ]
    },
    {
     "name": "stdout",
     "output_type": "stream",
     "text": [
      "1000 markers on 100 individuals were added.\n",
      "\n",
      "The prior for marker effects variance is calculated from the genetic variance and π. The mean of the prior for the marker effects variance is: 0.040202\n",
      "\n",
      "\n"
     ]
    },
    {
     "name": "stderr",
     "output_type": "stream",
     "text": [
      "\u001b[32mrunning MCMC for BayesB... 41%|██████████               |  ETA: 0:00:02\u001b[39m"
     ]
    },
    {
     "name": "stdout",
     "output_type": "stream",
     "text": [
      "\n",
      "Posterior means at iteration: 5000\n",
      "Residual variance: 2.852816\n"
     ]
    },
    {
     "name": "stderr",
     "output_type": "stream",
     "text": [
      "\u001b[32mrunning MCMC for BayesB... 87%|██████████████████████   |  ETA: 0:00:00\u001b[39m"
     ]
    },
    {
     "name": "stdout",
     "output_type": "stream",
     "text": [
      "\n",
      "Posterior means at iteration: 10000\n",
      "Residual variance: 2.782222\n"
     ]
    },
    {
     "name": "stderr",
     "output_type": "stream",
     "text": [
      "\u001b[32mrunning MCMC for BayesB...100%|█████████████████████████| Time: 0:00:03\u001b[39m\n"
     ]
    },
    {
     "name": "stdout",
     "output_type": "stream",
     "text": [
      "1000 markers on 100 individuals were added.\n",
      "\n",
      "The prior for marker effects variance is calculated from the genetic variance and π. The mean of the prior for the marker effects variance is: 0.080404\n",
      "\n",
      "\n"
     ]
    },
    {
     "name": "stderr",
     "output_type": "stream",
     "text": [
      "\u001b[32mrunning MCMC for BayesB... 42%|███████████              |  ETA: 0:00:03\u001b[39m"
     ]
    },
    {
     "name": "stdout",
     "output_type": "stream",
     "text": [
      "\n",
      "Posterior means at iteration: 5000\n",
      "Residual variance: 5.499388\n",
      "π: 0.697\n"
     ]
    },
    {
     "name": "stderr",
     "output_type": "stream",
     "text": [
      "\u001b[32mrunning MCMC for BayesB... 87%|██████████████████████   |  ETA: 0:00:01\u001b[39m"
     ]
    },
    {
     "name": "stdout",
     "output_type": "stream",
     "text": [
      "\n",
      "Posterior means at iteration: 10000\n",
      "Residual variance: 5.933069\n",
      "π: 0.722\n"
     ]
    },
    {
     "name": "stderr",
     "output_type": "stream",
     "text": [
      "\u001b[32mrunning MCMC for BayesB...100%|█████████████████████████| Time: 0:00:05\u001b[39m\n"
     ]
    },
    {
     "name": "stdout",
     "output_type": "stream",
     "text": [
      "1000 markers on 100 individuals were added.\n",
      "\n",
      "The prior for marker effects variance is calculated from the genetic variance and π. The mean of the prior for the marker effects variance is: 0.080404\n",
      "\n",
      "\n"
     ]
    },
    {
     "name": "stderr",
     "output_type": "stream",
     "text": [
      "\u001b[32mrunning MCMC for BayesC... 38%|██████████               |  ETA: 0:00:01\u001b[39m"
     ]
    },
    {
     "name": "stdout",
     "output_type": "stream",
     "text": [
      "\n",
      "Posterior means at iteration: 5000\n",
      "Residual variance: 5.498144\n",
      "Marker effects variance: 0.025082\n",
      "π: 0.296\n"
     ]
    },
    {
     "name": "stderr",
     "output_type": "stream",
     "text": [
      "\u001b[32mrunning MCMC for BayesC... 82%|████████████████████     |  ETA: 0:00:00\u001b[39m"
     ]
    },
    {
     "name": "stdout",
     "output_type": "stream",
     "text": [
      "\n",
      "Posterior means at iteration: 10000\n",
      "Residual variance: 6.610621\n",
      "Marker effects variance: 0.035934\n",
      "π: 0.501\n"
     ]
    },
    {
     "name": "stderr",
     "output_type": "stream",
     "text": [
      "\u001b[32mrunning MCMC for BayesC...100%|█████████████████████████| Time: 0:00:02\u001b[39m\n"
     ]
    },
    {
     "name": "stdout",
     "output_type": "stream",
     "text": [
      "1000 markers on 100 individuals were added.\n",
      "\n",
      "The prior for marker effects variance is calculated from the genetic variance and π. The mean of the prior for the marker effects variance is: 0.040202\n",
      "\n",
      "\n"
     ]
    },
    {
     "name": "stderr",
     "output_type": "stream",
     "text": [
      "\u001b[32mrunning MCMC for BayesB... 41%|██████████               |  ETA: 0:00:02\u001b[39m"
     ]
    },
    {
     "name": "stdout",
     "output_type": "stream",
     "text": [
      "\n",
      "Posterior means at iteration: 5000\n",
      "Residual variance: 2.636299\n"
     ]
    },
    {
     "name": "stderr",
     "output_type": "stream",
     "text": [
      "\u001b[32mrunning MCMC for BayesB... 87%|██████████████████████   |  ETA: 0:00:00\u001b[39m"
     ]
    },
    {
     "name": "stdout",
     "output_type": "stream",
     "text": [
      "\n",
      "Posterior means at iteration: 10000\n",
      "Residual variance: 2.643087\n"
     ]
    },
    {
     "name": "stderr",
     "output_type": "stream",
     "text": [
      "\u001b[32mrunning MCMC for BayesB... 96%|████████████████████████ |  ETA: 0:00:00\u001b[39m"
     ]
    },
    {
     "name": "stdout",
     "output_type": "stream",
     "text": [
      "1000 markers on 100 individuals were added.\n",
      "\n",
      "The prior for marker effects variance is calculated from the genetic variance and π. The mean of the prior for the marker effects variance is: 0.080404\n",
      "\n",
      "\n"
     ]
    },
    {
     "name": "stderr",
     "output_type": "stream",
     "text": [
      "\u001b[32mrunning MCMC for BayesB...100%|█████████████████████████| Time: 0:00:03\u001b[39m\n",
      "\u001b[32mrunning MCMC for BayesB... 41%|██████████               |  ETA: 0:00:02\u001b[39m"
     ]
    },
    {
     "name": "stdout",
     "output_type": "stream",
     "text": [
      "\n",
      "Posterior means at iteration: 5000\n",
      "Residual variance: 5.132806\n",
      "π: 0.713\n"
     ]
    },
    {
     "name": "stderr",
     "output_type": "stream",
     "text": [
      "\u001b[32mrunning MCMC for BayesB... 88%|██████████████████████   |  ETA: 0:00:00\u001b[39m"
     ]
    },
    {
     "name": "stdout",
     "output_type": "stream",
     "text": [
      "\n",
      "Posterior means at iteration: 10000\n",
      "Residual variance: 4.936355\n",
      "π: 0.705\n"
     ]
    },
    {
     "name": "stderr",
     "output_type": "stream",
     "text": [
      "\u001b[32mrunning MCMC for BayesB...100%|█████████████████████████| Time: 0:00:04\u001b[39m\n"
     ]
    },
    {
     "name": "stdout",
     "output_type": "stream",
     "text": [
      "1000 markers on 100 individuals were added.\n",
      "\n",
      "The prior for marker effects variance is calculated from the genetic variance and π. The mean of the prior for the marker effects variance is: 0.080404\n",
      "\n",
      "\n"
     ]
    },
    {
     "name": "stderr",
     "output_type": "stream",
     "text": [
      "\u001b[32mrunning MCMC for BayesC... 39%|██████████               |  ETA: 0:00:01\u001b[39m"
     ]
    },
    {
     "name": "stdout",
     "output_type": "stream",
     "text": [
      "\n",
      "Posterior means at iteration: 5000\n",
      "Residual variance: 6.321496\n",
      "Marker effects variance: 0.047829\n",
      "π: 0.621\n"
     ]
    },
    {
     "name": "stderr",
     "output_type": "stream",
     "text": [
      "\u001b[32mrunning MCMC for BayesC... 83%|█████████████████████    |  ETA: 0:00:00\u001b[39m"
     ]
    },
    {
     "name": "stdout",
     "output_type": "stream",
     "text": [
      "\n",
      "Posterior means at iteration: 10000\n",
      "Residual variance: 6.367206\n",
      "Marker effects variance: 0.045397\n",
      "π: 0.631\n"
     ]
    },
    {
     "name": "stderr",
     "output_type": "stream",
     "text": [
      "\u001b[32mrunning MCMC for BayesC...100%|█████████████████████████| Time: 0:00:02\u001b[39m\n"
     ]
    },
    {
     "name": "stdout",
     "output_type": "stream",
     "text": [
      "1000 markers on 100 individuals were added.\n",
      "\n",
      "The prior for marker effects variance is calculated from the genetic variance and π. The mean of the prior for the marker effects variance is: 0.040202\n",
      "\n",
      "\n"
     ]
    },
    {
     "name": "stderr",
     "output_type": "stream",
     "text": [
      "\u001b[32mrunning MCMC for BayesB... 42%|██████████               |  ETA: 0:00:02\u001b[39m"
     ]
    },
    {
     "name": "stdout",
     "output_type": "stream",
     "text": [
      "\n",
      "Posterior means at iteration: 5000\n",
      "Residual variance: 2.24061\n"
     ]
    },
    {
     "name": "stderr",
     "output_type": "stream",
     "text": [
      "\u001b[32mrunning MCMC for BayesB... 87%|██████████████████████   |  ETA: 0:00:00\u001b[39m"
     ]
    },
    {
     "name": "stdout",
     "output_type": "stream",
     "text": [
      "\n",
      "Posterior means at iteration: 10000\n",
      "Residual variance: 2.223667\n"
     ]
    },
    {
     "name": "stderr",
     "output_type": "stream",
     "text": [
      "\u001b[32mrunning MCMC for BayesB...100%|█████████████████████████| Time: 0:00:04\u001b[39m\n"
     ]
    },
    {
     "name": "stdout",
     "output_type": "stream",
     "text": [
      "1000 markers on 100 individuals were added.\n",
      "\n",
      "The prior for marker effects variance is calculated from the genetic variance and π. The mean of the prior for the marker effects variance is: 0.080404\n",
      "\n",
      "\n"
     ]
    },
    {
     "name": "stderr",
     "output_type": "stream",
     "text": [
      "\u001b[32mrunning MCMC for BayesB... 43%|███████████              |  ETA: 0:00:02\u001b[39m"
     ]
    },
    {
     "name": "stdout",
     "output_type": "stream",
     "text": [
      "\n",
      "Posterior means at iteration: 5000\n",
      "Residual variance: 3.16281\n",
      "π: 0.728\n"
     ]
    },
    {
     "name": "stderr",
     "output_type": "stream",
     "text": [
      "\u001b[32mrunning MCMC for BayesB... 87%|██████████████████████   |  ETA: 0:00:00\u001b[39m"
     ]
    },
    {
     "name": "stdout",
     "output_type": "stream",
     "text": [
      "\n",
      "Posterior means at iteration: 10000\n",
      "Residual variance: 3.570573\n",
      "π: 0.753\n"
     ]
    },
    {
     "name": "stderr",
     "output_type": "stream",
     "text": [
      "\u001b[32mrunning MCMC for BayesB...100%|█████████████████████████| Time: 0:00:04\u001b[39m\n"
     ]
    },
    {
     "name": "stdout",
     "output_type": "stream",
     "text": [
      "1000 markers on 100 individuals were added.\n",
      "\n",
      "The prior for marker effects variance is calculated from the genetic variance and π. The mean of the prior for the marker effects variance is: 0.080404\n",
      "\n",
      "\n"
     ]
    },
    {
     "name": "stderr",
     "output_type": "stream",
     "text": [
      "\u001b[32mrunning MCMC for BayesC... 35%|█████████                |  ETA: 0:00:01\u001b[39m"
     ]
    },
    {
     "name": "stdout",
     "output_type": "stream",
     "text": [
      "\n",
      "Posterior means at iteration: 5000\n",
      "Residual variance: 3.480078\n",
      "Marker effects variance: 0.029163\n",
      "π: 0.481\n"
     ]
    },
    {
     "name": "stderr",
     "output_type": "stream",
     "text": [
      "\u001b[32mrunning MCMC for BayesC... 80%|████████████████████     |  ETA: 0:00:00\u001b[39m"
     ]
    },
    {
     "name": "stdout",
     "output_type": "stream",
     "text": [
      "\n",
      "Posterior means at iteration: 10000\n",
      "Residual variance: 3.745972\n",
      "Marker effects variance: 0.032332\n",
      "π: 0.537\n"
     ]
    },
    {
     "name": "stderr",
     "output_type": "stream",
     "text": [
      "\u001b[32mrunning MCMC for BayesC...100%|█████████████████████████| Time: 0:00:02\u001b[39m\n"
     ]
    },
    {
     "name": "stdout",
     "output_type": "stream",
     "text": [
      "1000 markers on 100 individuals were added.\n",
      "\n",
      "The prior for marker effects variance is calculated from the genetic variance and π. The mean of the prior for the marker effects variance is: 0.040202\n",
      "\n",
      "\n"
     ]
    },
    {
     "name": "stderr",
     "output_type": "stream",
     "text": [
      "\u001b[32mrunning MCMC for BayesB... 39%|██████████               |  ETA: 0:00:02\u001b[39m"
     ]
    },
    {
     "name": "stdout",
     "output_type": "stream",
     "text": [
      "\n",
      "Posterior means at iteration: 5000\n",
      "Residual variance: 2.165088\n"
     ]
    },
    {
     "name": "stderr",
     "output_type": "stream",
     "text": [
      "\u001b[32mrunning MCMC for BayesB... 85%|█████████████████████    |  ETA: 0:00:01\u001b[39m"
     ]
    },
    {
     "name": "stdout",
     "output_type": "stream",
     "text": [
      "\n",
      "Posterior means at iteration: 10000\n",
      "Residual variance: 2.178458\n"
     ]
    },
    {
     "name": "stderr",
     "output_type": "stream",
     "text": [
      "\u001b[32mrunning MCMC for BayesB...100%|█████████████████████████| Time: 0:00:04\u001b[39m\n"
     ]
    },
    {
     "name": "stdout",
     "output_type": "stream",
     "text": [
      "1000 markers on 100 individuals were added.\n",
      "\n",
      "The prior for marker effects variance is calculated from the genetic variance and π. The mean of the prior for the marker effects variance is: 0.080404\n",
      "\n",
      "\n"
     ]
    },
    {
     "name": "stderr",
     "output_type": "stream",
     "text": [
      "\u001b[32mrunning MCMC for BayesB... 41%|██████████               |  ETA: 0:00:02\u001b[39m"
     ]
    },
    {
     "name": "stdout",
     "output_type": "stream",
     "text": [
      "\n",
      "Posterior means at iteration: 5000\n",
      "Residual variance: 3.911529\n",
      "π: 0.815\n"
     ]
    },
    {
     "name": "stderr",
     "output_type": "stream",
     "text": [
      "\u001b[32mrunning MCMC for BayesB... 86%|██████████████████████   |  ETA: 0:00:01\u001b[39m"
     ]
    },
    {
     "name": "stdout",
     "output_type": "stream",
     "text": [
      "\n",
      "Posterior means at iteration: 10000\n",
      "Residual variance: 3.777614\n",
      "π: 0.808\n"
     ]
    },
    {
     "name": "stderr",
     "output_type": "stream",
     "text": [
      "\u001b[32mrunning MCMC for BayesB...100%|█████████████████████████| Time: 0:00:04\u001b[39m\n"
     ]
    },
    {
     "name": "stdout",
     "output_type": "stream",
     "text": [
      "1000 markers on 100 individuals were added.\n",
      "\n",
      "The prior for marker effects variance is calculated from the genetic variance and π. The mean of the prior for the marker effects variance is: 0.080404\n",
      "\n",
      "\n"
     ]
    },
    {
     "name": "stderr",
     "output_type": "stream",
     "text": [
      "\u001b[32mrunning MCMC for BayesC... 38%|██████████               |  ETA: 0:00:01\u001b[39m"
     ]
    },
    {
     "name": "stdout",
     "output_type": "stream",
     "text": [
      "\n",
      "Posterior means at iteration: 5000\n",
      "Residual variance: 4.633433\n",
      "Marker effects variance: 0.042032\n",
      "π: 0.679\n"
     ]
    },
    {
     "name": "stderr",
     "output_type": "stream",
     "text": [
      "\u001b[32mrunning MCMC for BayesC... 84%|█████████████████████    |  ETA: 0:00:00\u001b[39m"
     ]
    },
    {
     "name": "stdout",
     "output_type": "stream",
     "text": [
      "\n",
      "Posterior means at iteration: 10000\n",
      "Residual variance: 4.500994\n",
      "Marker effects variance: 0.049418\n",
      "π: 0.679\n"
     ]
    },
    {
     "name": "stderr",
     "output_type": "stream",
     "text": [
      "\u001b[32mrunning MCMC for BayesC...100%|█████████████████████████| Time: 0:00:02\u001b[39m\n"
     ]
    },
    {
     "name": "stdout",
     "output_type": "stream",
     "text": [
      "1000 markers on 100 individuals were added.\n",
      "\n",
      "The prior for marker effects variance is calculated from the genetic variance and π. The mean of the prior for the marker effects variance is: 0.040202\n",
      "\n",
      "\n"
     ]
    },
    {
     "name": "stderr",
     "output_type": "stream",
     "text": [
      "\u001b[32mrunning MCMC for BayesB... 41%|██████████               |  ETA: 0:00:02\u001b[39m"
     ]
    },
    {
     "name": "stdout",
     "output_type": "stream",
     "text": [
      "\n",
      "Posterior means at iteration: 5000\n",
      "Residual variance: 3.262301\n"
     ]
    },
    {
     "name": "stderr",
     "output_type": "stream",
     "text": [
      "\u001b[32mrunning MCMC for BayesB... 86%|██████████████████████   |  ETA: 0:00:00\u001b[39m"
     ]
    },
    {
     "name": "stdout",
     "output_type": "stream",
     "text": [
      "\n",
      "Posterior means at iteration: 10000\n",
      "Residual variance: 3.180912\n"
     ]
    },
    {
     "name": "stderr",
     "output_type": "stream",
     "text": [
      "\u001b[32mrunning MCMC for BayesB...100%|█████████████████████████| Time: 0:00:03\u001b[39m\n"
     ]
    },
    {
     "name": "stdout",
     "output_type": "stream",
     "text": [
      "1000 markers on 100 individuals were added.\n",
      "\n",
      "The prior for marker effects variance is calculated from the genetic variance and π. The mean of the prior for the marker effects variance is: 0.080404\n",
      "\n",
      "\n"
     ]
    },
    {
     "name": "stderr",
     "output_type": "stream",
     "text": [
      "\u001b[32mrunning MCMC for BayesB... 40%|██████████               |  ETA: 0:00:02\u001b[39m"
     ]
    },
    {
     "name": "stdout",
     "output_type": "stream",
     "text": [
      "\n",
      "Posterior means at iteration: 5000\n",
      "Residual variance: 4.504903\n",
      "π: 0.577\n"
     ]
    },
    {
     "name": "stderr",
     "output_type": "stream",
     "text": [
      "\u001b[32mrunning MCMC for BayesB... 88%|██████████████████████   |  ETA: 0:00:00\u001b[39m"
     ]
    },
    {
     "name": "stdout",
     "output_type": "stream",
     "text": [
      "\n",
      "Posterior means at iteration: 10000\n",
      "Residual variance: 5.593845\n",
      "π: 0.641\n"
     ]
    },
    {
     "name": "stderr",
     "output_type": "stream",
     "text": [
      "\u001b[32mrunning MCMC for BayesB... 96%|████████████████████████ |  ETA: 0:00:00\u001b[39m"
     ]
    },
    {
     "name": "stdout",
     "output_type": "stream",
     "text": [
      "1000 markers on 100 individuals were added.\n",
      "\n",
      "The prior for marker effects variance is calculated from the genetic variance and π. The mean of the prior for the marker effects variance is: 0.080404\n",
      "\n",
      "\n"
     ]
    },
    {
     "name": "stderr",
     "output_type": "stream",
     "text": [
      "\u001b[32mrunning MCMC for BayesB...100%|█████████████████████████| Time: 0:00:04\u001b[39m\n",
      "\u001b[32mrunning MCMC for BayesC... 33%|████████                 |  ETA: 0:00:01\u001b[39m"
     ]
    },
    {
     "name": "stdout",
     "output_type": "stream",
     "text": [
      "\n",
      "Posterior means at iteration: 5000\n",
      "Residual variance: 9.544605\n",
      "Marker effects variance: 0.053896\n",
      "π: 0.744\n"
     ]
    },
    {
     "name": "stderr",
     "output_type": "stream",
     "text": [
      "\u001b[32mrunning MCMC for BayesC... 83%|█████████████████████    |  ETA: 0:00:00\u001b[39m"
     ]
    },
    {
     "name": "stdout",
     "output_type": "stream",
     "text": [
      "\n",
      "Posterior means at iteration: 10000\n",
      "Residual variance: 9.093039\n",
      "Marker effects variance: 0.044205\n",
      "π: 0.654\n"
     ]
    },
    {
     "name": "stderr",
     "output_type": "stream",
     "text": [
      "\u001b[32mrunning MCMC for BayesC...100%|█████████████████████████| Time: 0:00:02\u001b[39m\n"
     ]
    },
    {
     "name": "stdout",
     "output_type": "stream",
     "text": [
      "1000 markers on 100 individuals were added.\n",
      "\n",
      "The prior for marker effects variance is calculated from the genetic variance and π. The mean of the prior for the marker effects variance is: 0.040202\n",
      "\n",
      "\n"
     ]
    },
    {
     "name": "stderr",
     "output_type": "stream",
     "text": [
      "\u001b[32mrunning MCMC for BayesB... 43%|███████████              |  ETA: 0:00:02\u001b[39m"
     ]
    },
    {
     "name": "stdout",
     "output_type": "stream",
     "text": [
      "\n",
      "Posterior means at iteration: 5000\n",
      "Residual variance: 2.275099\n"
     ]
    },
    {
     "name": "stderr",
     "output_type": "stream",
     "text": [
      "\u001b[32mrunning MCMC for BayesB... 87%|██████████████████████   |  ETA: 0:00:00\u001b[39m"
     ]
    },
    {
     "name": "stdout",
     "output_type": "stream",
     "text": [
      "\n",
      "Posterior means at iteration: 10000\n",
      "Residual variance: 2.336682\n"
     ]
    },
    {
     "name": "stderr",
     "output_type": "stream",
     "text": [
      "\u001b[32mrunning MCMC for BayesB... 97%|████████████████████████ |  ETA: 0:00:00\u001b[39m"
     ]
    },
    {
     "name": "stdout",
     "output_type": "stream",
     "text": [
      "1000 markers on 100 individuals were added.\n",
      "\n",
      "The prior for marker effects variance is calculated from the genetic variance and π. The mean of the prior for the marker effects variance is: 0.080404\n",
      "\n",
      "\n"
     ]
    },
    {
     "name": "stderr",
     "output_type": "stream",
     "text": [
      "\u001b[32mrunning MCMC for BayesB...100%|█████████████████████████| Time: 0:00:04\u001b[39m\n",
      "\u001b[32mrunning MCMC for BayesB... 41%|██████████               |  ETA: 0:00:02\u001b[39m"
     ]
    },
    {
     "name": "stdout",
     "output_type": "stream",
     "text": [
      "\n",
      "Posterior means at iteration: 5000\n",
      "Residual variance: 5.594985\n",
      "π: 0.874\n"
     ]
    },
    {
     "name": "stderr",
     "output_type": "stream",
     "text": [
      "\u001b[32mrunning MCMC for BayesB... 86%|█████████████████████    |  ETA: 0:00:00\u001b[39m"
     ]
    },
    {
     "name": "stdout",
     "output_type": "stream",
     "text": [
      "\n",
      "Posterior means at iteration: 10000\n",
      "Residual variance: 5.439435\n",
      "π: 0.864\n"
     ]
    },
    {
     "name": "stderr",
     "output_type": "stream",
     "text": [
      "\u001b[32mrunning MCMC for BayesB...100%|█████████████████████████| Time: 0:00:03\u001b[39m\n"
     ]
    },
    {
     "name": "stdout",
     "output_type": "stream",
     "text": [
      "1000 markers on 100 individuals were added.\n",
      "\n",
      "The prior for marker effects variance is calculated from the genetic variance and π. The mean of the prior for the marker effects variance is: 0.080404\n",
      "\n",
      "\n"
     ]
    },
    {
     "name": "stderr",
     "output_type": "stream",
     "text": [
      "\u001b[32mrunning MCMC for BayesC... 35%|█████████                |  ETA: 0:00:01\u001b[39m"
     ]
    },
    {
     "name": "stdout",
     "output_type": "stream",
     "text": [
      "\n",
      "Posterior means at iteration: 5000\n",
      "Residual variance: 6.250554\n",
      "Marker effects variance: 0.042182\n",
      "π: 0.825\n"
     ]
    },
    {
     "name": "stderr",
     "output_type": "stream",
     "text": [
      "\u001b[32mrunning MCMC for BayesC... 80%|████████████████████     |  ETA: 0:00:00\u001b[39m"
     ]
    },
    {
     "name": "stdout",
     "output_type": "stream",
     "text": [
      "\n",
      "Posterior means at iteration: 10000\n",
      "Residual variance: 5.534382\n",
      "Marker effects variance: 0.03464\n",
      "π: 0.682\n"
     ]
    },
    {
     "name": "stderr",
     "output_type": "stream",
     "text": [
      "\u001b[32mrunning MCMC for BayesC...100%|█████████████████████████| Time: 0:00:02\u001b[39m\n"
     ]
    },
    {
     "name": "stdout",
     "output_type": "stream",
     "text": [
      "1000 markers on 100 individuals were added.\n",
      "\n",
      "The prior for marker effects variance is calculated from the genetic variance and π. The mean of the prior for the marker effects variance is: 0.040202\n",
      "\n",
      "\n"
     ]
    },
    {
     "name": "stderr",
     "output_type": "stream",
     "text": [
      "\u001b[32mrunning MCMC for BayesB... 41%|██████████               |  ETA: 0:00:02\u001b[39m"
     ]
    },
    {
     "name": "stdout",
     "output_type": "stream",
     "text": [
      "\n",
      "Posterior means at iteration: 5000\n",
      "Residual variance: 2.40648\n"
     ]
    },
    {
     "name": "stderr",
     "output_type": "stream",
     "text": [
      "\u001b[32mrunning MCMC for BayesB... 88%|██████████████████████   |  ETA: 0:00:00\u001b[39m"
     ]
    },
    {
     "name": "stdout",
     "output_type": "stream",
     "text": [
      "\n",
      "Posterior means at iteration: 10000\n",
      "Residual variance: 2.415625\n"
     ]
    },
    {
     "name": "stderr",
     "output_type": "stream",
     "text": [
      "\u001b[32mrunning MCMC for BayesB... 96%|████████████████████████ |  ETA: 0:00:00\u001b[39m"
     ]
    },
    {
     "name": "stdout",
     "output_type": "stream",
     "text": [
      "1000 markers on 100 individuals were added.\n",
      "\n",
      "The prior for marker effects variance is calculated from the genetic variance and π. The mean of the prior for the marker effects variance is: 0.080404\n",
      "\n",
      "\n"
     ]
    },
    {
     "name": "stderr",
     "output_type": "stream",
     "text": [
      "\u001b[32mrunning MCMC for BayesB...100%|█████████████████████████| Time: 0:00:03\u001b[39m\n",
      "\u001b[32mrunning MCMC for BayesB... 43%|███████████              |  ETA: 0:00:02\u001b[39m"
     ]
    },
    {
     "name": "stdout",
     "output_type": "stream",
     "text": [
      "\n",
      "Posterior means at iteration: 5000\n",
      "Residual variance: 4.701448\n",
      "π: 0.735\n"
     ]
    },
    {
     "name": "stderr",
     "output_type": "stream",
     "text": [
      "\u001b[32mrunning MCMC for BayesB... 86%|█████████████████████    |  ETA: 0:00:01\u001b[39m"
     ]
    },
    {
     "name": "stdout",
     "output_type": "stream",
     "text": [
      "\n",
      "Posterior means at iteration: 10000\n",
      "Residual variance: 5.037546\n",
      "π: 0.755\n"
     ]
    },
    {
     "name": "stderr",
     "output_type": "stream",
     "text": [
      "\u001b[32mrunning MCMC for BayesB...100%|█████████████████████████| Time: 0:00:04\u001b[39m\n"
     ]
    },
    {
     "name": "stdout",
     "output_type": "stream",
     "text": [
      "1000 markers on 100 individuals were added.\n",
      "\n",
      "The prior for marker effects variance is calculated from the genetic variance and π. The mean of the prior for the marker effects variance is: 0.080404\n",
      "\n",
      "\n"
     ]
    },
    {
     "name": "stderr",
     "output_type": "stream",
     "text": [
      "\u001b[32mrunning MCMC for BayesC... 37%|█████████                |  ETA: 0:00:01\u001b[39m"
     ]
    },
    {
     "name": "stdout",
     "output_type": "stream",
     "text": [
      "\n",
      "Posterior means at iteration: 5000\n",
      "Residual variance: 5.480291\n",
      "Marker effects variance: 0.037153\n",
      "π: 0.616\n"
     ]
    },
    {
     "name": "stderr",
     "output_type": "stream",
     "text": [
      "\u001b[32mrunning MCMC for BayesC... 82%|████████████████████     |  ETA: 0:00:00\u001b[39m"
     ]
    },
    {
     "name": "stdout",
     "output_type": "stream",
     "text": [
      "\n",
      "Posterior means at iteration: 10000\n",
      "Residual variance: 5.462142\n",
      "Marker effects variance: 0.035054\n",
      "π: 0.561\n"
     ]
    },
    {
     "name": "stderr",
     "output_type": "stream",
     "text": [
      "\u001b[32mrunning MCMC for BayesC...100%|█████████████████████████| Time: 0:00:02\u001b[39m\n"
     ]
    },
    {
     "name": "stdout",
     "output_type": "stream",
     "text": [
      "1000 markers on 100 individuals were added.\n",
      "\n",
      "The prior for marker effects variance is calculated from the genetic variance and π. The mean of the prior for the marker effects variance is: 0.040202\n",
      "\n",
      "\n"
     ]
    },
    {
     "name": "stderr",
     "output_type": "stream",
     "text": [
      "\u001b[32mrunning MCMC for BayesB... 42%|███████████              |  ETA: 0:00:03\u001b[39m"
     ]
    },
    {
     "name": "stdout",
     "output_type": "stream",
     "text": [
      "\n",
      "Posterior means at iteration: 5000\n",
      "Residual variance: 2.38379\n"
     ]
    },
    {
     "name": "stderr",
     "output_type": "stream",
     "text": [
      "\u001b[32mrunning MCMC for BayesB... 89%|██████████████████████   |  ETA: 0:00:00\u001b[39m"
     ]
    },
    {
     "name": "stdout",
     "output_type": "stream",
     "text": [
      "\n",
      "Posterior means at iteration: 10000\n",
      "Residual variance: 2.418021\n"
     ]
    },
    {
     "name": "stderr",
     "output_type": "stream",
     "text": [
      "\u001b[32mrunning MCMC for BayesB...100%|█████████████████████████| Time: 0:00:04\u001b[39m\n"
     ]
    },
    {
     "name": "stdout",
     "output_type": "stream",
     "text": [
      "1000 markers on 100 individuals were added.\n",
      "\n",
      "The prior for marker effects variance is calculated from the genetic variance and π. The mean of the prior for the marker effects variance is: 0.080404\n",
      "\n",
      "\n"
     ]
    },
    {
     "name": "stderr",
     "output_type": "stream",
     "text": [
      "\u001b[32mrunning MCMC for BayesB... 43%|███████████              |  ETA: 0:00:03\u001b[39m"
     ]
    },
    {
     "name": "stdout",
     "output_type": "stream",
     "text": [
      "\n",
      "Posterior means at iteration: 5000\n",
      "Residual variance: 3.25488\n",
      "π: 0.659\n"
     ]
    },
    {
     "name": "stderr",
     "output_type": "stream",
     "text": [
      "\u001b[32mrunning MCMC for BayesB... 86%|██████████████████████   |  ETA: 0:00:01\u001b[39m"
     ]
    },
    {
     "name": "stdout",
     "output_type": "stream",
     "text": [
      "\n",
      "Posterior means at iteration: 10000\n",
      "Residual variance: 3.875515\n",
      "π: 0.692\n"
     ]
    },
    {
     "name": "stderr",
     "output_type": "stream",
     "text": [
      "\u001b[32mrunning MCMC for BayesB...100%|█████████████████████████| Time: 0:00:04\u001b[39m\n"
     ]
    },
    {
     "name": "stdout",
     "output_type": "stream",
     "text": [
      "1000 markers on 100 individuals were added.\n",
      "\n",
      "The prior for marker effects variance is calculated from the genetic variance and π. The mean of the prior for the marker effects variance is: 0.080404\n",
      "\n",
      "\n"
     ]
    },
    {
     "name": "stderr",
     "output_type": "stream",
     "text": [
      "\u001b[32mrunning MCMC for BayesC... 35%|█████████                |  ETA: 0:00:01\u001b[39m"
     ]
    },
    {
     "name": "stdout",
     "output_type": "stream",
     "text": [
      "\n",
      "Posterior means at iteration: 5000\n",
      "Residual variance: 4.84137\n",
      "Marker effects variance: 0.037756\n",
      "π: 0.447\n"
     ]
    },
    {
     "name": "stderr",
     "output_type": "stream",
     "text": [
      "\u001b[32mrunning MCMC for BayesC... 82%|████████████████████     |  ETA: 0:00:00\u001b[39m"
     ]
    },
    {
     "name": "stdout",
     "output_type": "stream",
     "text": [
      "\n",
      "Posterior means at iteration: 10000\n",
      "Residual variance: 4.700624\n",
      "Marker effects variance: 0.036107\n",
      "π: 0.436\n"
     ]
    },
    {
     "name": "stderr",
     "output_type": "stream",
     "text": [
      "\u001b[32mrunning MCMC for BayesC...100%|█████████████████████████| Time: 0:00:02\u001b[39m\n"
     ]
    },
    {
     "name": "stdout",
     "output_type": "stream",
     "text": [
      "1000 markers on 100 individuals were added.\n",
      "\n",
      "The prior for marker effects variance is calculated from the genetic variance and π. The mean of the prior for the marker effects variance is: 0.040202\n",
      "\n",
      "\n"
     ]
    },
    {
     "name": "stderr",
     "output_type": "stream",
     "text": [
      "\u001b[32mrunning MCMC for BayesB... 40%|██████████               |  ETA: 0:00:02\u001b[39m"
     ]
    },
    {
     "name": "stdout",
     "output_type": "stream",
     "text": [
      "\n",
      "Posterior means at iteration: 5000\n",
      "Residual variance: 2.633507\n"
     ]
    },
    {
     "name": "stderr",
     "output_type": "stream",
     "text": [
      "\u001b[32mrunning MCMC for BayesB... 85%|█████████████████████    |  ETA: 0:00:01\u001b[39m"
     ]
    },
    {
     "name": "stdout",
     "output_type": "stream",
     "text": [
      "\n",
      "Posterior means at iteration: 10000\n",
      "Residual variance: 2.664301\n"
     ]
    },
    {
     "name": "stderr",
     "output_type": "stream",
     "text": [
      "\u001b[32mrunning MCMC for BayesB... 97%|████████████████████████ |  ETA: 0:00:00\u001b[39m"
     ]
    },
    {
     "name": "stdout",
     "output_type": "stream",
     "text": [
      "1000 markers on 100 individuals were added.\n",
      "\n",
      "The prior for marker effects variance is calculated from the genetic variance and π. The mean of the prior for the marker effects variance is: 0.080404\n",
      "\n",
      "\n"
     ]
    },
    {
     "name": "stderr",
     "output_type": "stream",
     "text": [
      "\u001b[32mrunning MCMC for BayesB...100%|█████████████████████████| Time: 0:00:04\u001b[39m\n",
      "\u001b[32mrunning MCMC for BayesB... 41%|██████████               |  ETA: 0:00:02\u001b[39m"
     ]
    },
    {
     "name": "stdout",
     "output_type": "stream",
     "text": [
      "\n",
      "Posterior means at iteration: 5000\n",
      "Residual variance: 6.247417\n",
      "π: 0.767\n"
     ]
    },
    {
     "name": "stderr",
     "output_type": "stream",
     "text": [
      "\u001b[32mrunning MCMC for BayesB... 85%|█████████████████████    |  ETA: 0:00:01\u001b[39m"
     ]
    },
    {
     "name": "stdout",
     "output_type": "stream",
     "text": [
      "\n",
      "Posterior means at iteration: 10000\n",
      "Residual variance: 6.0108\n",
      "π: 0.754\n"
     ]
    },
    {
     "name": "stderr",
     "output_type": "stream",
     "text": [
      "\u001b[32mrunning MCMC for BayesB...100%|█████████████████████████| Time: 0:00:04\u001b[39m\n"
     ]
    },
    {
     "name": "stdout",
     "output_type": "stream",
     "text": [
      "1000 markers on 100 individuals were added.\n",
      "\n",
      "The prior for marker effects variance is calculated from the genetic variance and π. The mean of the prior for the marker effects variance is: 0.080404\n",
      "\n",
      "\n"
     ]
    },
    {
     "name": "stderr",
     "output_type": "stream",
     "text": [
      "\u001b[32mrunning MCMC for BayesC... 35%|█████████                |  ETA: 0:00:01\u001b[39m"
     ]
    },
    {
     "name": "stdout",
     "output_type": "stream",
     "text": [
      "\n",
      "Posterior means at iteration: 5000\n",
      "Residual variance: 7.68976\n",
      "Marker effects variance: 0.048984\n",
      "π: 0.748\n"
     ]
    },
    {
     "name": "stderr",
     "output_type": "stream",
     "text": [
      "\u001b[32mrunning MCMC for BayesC... 81%|████████████████████     |  ETA: 0:00:00\u001b[39m"
     ]
    },
    {
     "name": "stdout",
     "output_type": "stream",
     "text": [
      "\n",
      "Posterior means at iteration: 10000\n",
      "Residual variance: 7.936424\n",
      "Marker effects variance: 0.04917\n",
      "π: 0.777\n"
     ]
    },
    {
     "name": "stderr",
     "output_type": "stream",
     "text": [
      "\u001b[32mrunning MCMC for BayesC...100%|█████████████████████████| Time: 0:00:02\u001b[39m\n"
     ]
    },
    {
     "name": "stdout",
     "output_type": "stream",
     "text": [
      "1000 markers on 100 individuals were added.\n",
      "\n",
      "The prior for marker effects variance is calculated from the genetic variance and π. The mean of the prior for the marker effects variance is: 0.040202\n",
      "\n",
      "\n"
     ]
    },
    {
     "name": "stderr",
     "output_type": "stream",
     "text": [
      "\u001b[32mrunning MCMC for BayesB... 42%|███████████              |  ETA: 0:00:03\u001b[39m"
     ]
    },
    {
     "name": "stdout",
     "output_type": "stream",
     "text": [
      "\n",
      "Posterior means at iteration: 5000\n",
      "Residual variance: 2.534538\n"
     ]
    },
    {
     "name": "stderr",
     "output_type": "stream",
     "text": [
      "\u001b[32mrunning MCMC for BayesB... 86%|█████████████████████    |  ETA: 0:00:01\u001b[39m"
     ]
    },
    {
     "name": "stdout",
     "output_type": "stream",
     "text": [
      "\n",
      "Posterior means at iteration: 10000\n",
      "Residual variance: 2.566834\n"
     ]
    },
    {
     "name": "stderr",
     "output_type": "stream",
     "text": [
      "\u001b[32mrunning MCMC for BayesB...100%|█████████████████████████| Time: 0:00:04\u001b[39m\n"
     ]
    },
    {
     "name": "stdout",
     "output_type": "stream",
     "text": [
      "1000 markers on 100 individuals were added.\n",
      "\n",
      "The prior for marker effects variance is calculated from the genetic variance and π. The mean of the prior for the marker effects variance is: 0.080404\n",
      "\n",
      "\n"
     ]
    },
    {
     "name": "stderr",
     "output_type": "stream",
     "text": [
      "\u001b[32mrunning MCMC for BayesB... 43%|███████████              |  ETA: 0:00:03\u001b[39m"
     ]
    },
    {
     "name": "stdout",
     "output_type": "stream",
     "text": [
      "\n",
      "Posterior means at iteration: 5000\n",
      "Residual variance: 7.247765\n",
      "π: 0.861\n"
     ]
    },
    {
     "name": "stderr",
     "output_type": "stream",
     "text": [
      "\u001b[32mrunning MCMC for BayesB... 88%|██████████████████████   |  ETA: 0:00:00\u001b[39m"
     ]
    },
    {
     "name": "stdout",
     "output_type": "stream",
     "text": [
      "\n",
      "Posterior means at iteration: 10000\n",
      "Residual variance: 7.313255\n",
      "π: 0.863\n"
     ]
    },
    {
     "name": "stderr",
     "output_type": "stream",
     "text": [
      "\u001b[32mrunning MCMC for BayesB...100%|█████████████████████████| Time: 0:00:04\u001b[39m\n"
     ]
    },
    {
     "name": "stdout",
     "output_type": "stream",
     "text": [
      "1000 markers on 100 individuals were added.\n",
      "\n",
      "The prior for marker effects variance is calculated from the genetic variance and π. The mean of the prior for the marker effects variance is: 0.080404\n",
      "\n",
      "\n"
     ]
    },
    {
     "name": "stderr",
     "output_type": "stream",
     "text": [
      "\u001b[32mrunning MCMC for BayesC... 35%|█████████                |  ETA: 0:00:01\u001b[39m"
     ]
    },
    {
     "name": "stdout",
     "output_type": "stream",
     "text": [
      "\n",
      "Posterior means at iteration: 5000\n",
      "Residual variance: 6.087152\n",
      "Marker effects variance: 0.028861\n",
      "π: 0.56\n"
     ]
    },
    {
     "name": "stderr",
     "output_type": "stream",
     "text": [
      "\u001b[32mrunning MCMC for BayesC... 82%|█████████████████████    |  ETA: 0:00:00\u001b[39m"
     ]
    },
    {
     "name": "stdout",
     "output_type": "stream",
     "text": [
      "\n",
      "Posterior means at iteration: 10000\n",
      "Residual variance: 6.50609\n",
      "Marker effects variance: 0.032657\n",
      "π: 0.613\n"
     ]
    },
    {
     "name": "stderr",
     "output_type": "stream",
     "text": [
      "\u001b[32mrunning MCMC for BayesC...100%|█████████████████████████| Time: 0:00:02\u001b[39m\n"
     ]
    },
    {
     "name": "stdout",
     "output_type": "stream",
     "text": [
      "1000 markers on 100 individuals were added.\n",
      "\n",
      "The prior for marker effects variance is calculated from the genetic variance and π. The mean of the prior for the marker effects variance is: 0.040202\n",
      "\n",
      "\n"
     ]
    },
    {
     "name": "stderr",
     "output_type": "stream",
     "text": [
      "\u001b[32mrunning MCMC for BayesB... 42%|███████████              |  ETA: 0:00:03\u001b[39m"
     ]
    },
    {
     "name": "stdout",
     "output_type": "stream",
     "text": [
      "\n",
      "Posterior means at iteration: 5000\n",
      "Residual variance: 2.902228\n"
     ]
    },
    {
     "name": "stderr",
     "output_type": "stream",
     "text": [
      "\u001b[32mrunning MCMC for BayesB... 86%|██████████████████████   |  ETA: 0:00:01\u001b[39m"
     ]
    },
    {
     "name": "stdout",
     "output_type": "stream",
     "text": [
      "\n",
      "Posterior means at iteration: 10000\n",
      "Residual variance: 2.899768\n"
     ]
    },
    {
     "name": "stderr",
     "output_type": "stream",
     "text": [
      "\u001b[32mrunning MCMC for BayesB...100%|█████████████████████████| Time: 0:00:04\u001b[39m\n"
     ]
    },
    {
     "name": "stdout",
     "output_type": "stream",
     "text": [
      "1000 markers on 100 individuals were added.\n",
      "\n",
      "The prior for marker effects variance is calculated from the genetic variance and π. The mean of the prior for the marker effects variance is: 0.080404\n",
      "\n",
      "\n"
     ]
    },
    {
     "name": "stderr",
     "output_type": "stream",
     "text": [
      "\u001b[32mrunning MCMC for BayesB... 41%|██████████               |  ETA: 0:00:02\u001b[39m"
     ]
    },
    {
     "name": "stdout",
     "output_type": "stream",
     "text": [
      "\n",
      "Posterior means at iteration: 5000\n",
      "Residual variance: 8.854808\n",
      "π: 0.831\n"
     ]
    },
    {
     "name": "stderr",
     "output_type": "stream",
     "text": [
      "\u001b[32mrunning MCMC for BayesB... 86%|██████████████████████   |  ETA: 0:00:01\u001b[39m"
     ]
    },
    {
     "name": "stdout",
     "output_type": "stream",
     "text": [
      "\n",
      "Posterior means at iteration: 10000\n",
      "Residual variance: 8.078662\n",
      "π: 0.796\n"
     ]
    },
    {
     "name": "stderr",
     "output_type": "stream",
     "text": [
      "\u001b[32mrunning MCMC for BayesB...100%|█████████████████████████| Time: 0:00:04\u001b[39m\n"
     ]
    },
    {
     "name": "stdout",
     "output_type": "stream",
     "text": [
      "1000 markers on 100 individuals were added.\n",
      "\n",
      "The prior for marker effects variance is calculated from the genetic variance and π. The mean of the prior for the marker effects variance is: 0.080404\n",
      "\n",
      "\n"
     ]
    },
    {
     "name": "stderr",
     "output_type": "stream",
     "text": [
      "\u001b[32mrunning MCMC for BayesC... 37%|█████████                |  ETA: 0:00:01\u001b[39m"
     ]
    },
    {
     "name": "stdout",
     "output_type": "stream",
     "text": [
      "\n",
      "Posterior means at iteration: 5000\n",
      "Residual variance: 9.135258\n",
      "Marker effects variance: 0.041141\n",
      "π: 0.692\n"
     ]
    },
    {
     "name": "stderr",
     "output_type": "stream",
     "text": [
      "\u001b[32mrunning MCMC for BayesC... 81%|████████████████████     |  ETA: 0:00:00\u001b[39m"
     ]
    },
    {
     "name": "stdout",
     "output_type": "stream",
     "text": [
      "\n",
      "Posterior means at iteration: 10000\n",
      "Residual variance: 8.536286\n",
      "Marker effects variance: 0.040882\n",
      "π: 0.668\n"
     ]
    },
    {
     "name": "stderr",
     "output_type": "stream",
     "text": [
      "\u001b[32mrunning MCMC for BayesC...100%|█████████████████████████| Time: 0:00:02\u001b[39m\n"
     ]
    },
    {
     "name": "stdout",
     "output_type": "stream",
     "text": [
      "1000 markers on 100 individuals were added.\n",
      "\n",
      "The prior for marker effects variance is calculated from the genetic variance and π. The mean of the prior for the marker effects variance is: 0.040202\n",
      "\n",
      "\n"
     ]
    },
    {
     "name": "stderr",
     "output_type": "stream",
     "text": [
      "\u001b[32mrunning MCMC for BayesB... 41%|██████████               |  ETA: 0:00:02\u001b[39m"
     ]
    },
    {
     "name": "stdout",
     "output_type": "stream",
     "text": [
      "\n",
      "Posterior means at iteration: 5000\n",
      "Residual variance: 2.564162\n"
     ]
    },
    {
     "name": "stderr",
     "output_type": "stream",
     "text": [
      "\u001b[32mrunning MCMC for BayesB... 85%|█████████████████████    |  ETA: 0:00:01\u001b[39m"
     ]
    },
    {
     "name": "stdout",
     "output_type": "stream",
     "text": [
      "\n",
      "Posterior means at iteration: 10000\n",
      "Residual variance: 2.517393\n"
     ]
    },
    {
     "name": "stderr",
     "output_type": "stream",
     "text": [
      "\u001b[32mrunning MCMC for BayesB...100%|█████████████████████████| Time: 0:00:04\u001b[39m\n"
     ]
    },
    {
     "name": "stdout",
     "output_type": "stream",
     "text": [
      "1000 markers on 100 individuals were added.\n",
      "\n",
      "The prior for marker effects variance is calculated from the genetic variance and π. The mean of the prior for the marker effects variance is: 0.080404\n",
      "\n",
      "\n"
     ]
    },
    {
     "name": "stderr",
     "output_type": "stream",
     "text": [
      "\u001b[32mrunning MCMC for BayesB... 41%|██████████               |  ETA: 0:00:02\u001b[39m"
     ]
    },
    {
     "name": "stdout",
     "output_type": "stream",
     "text": [
      "\n",
      "Posterior means at iteration: 5000\n",
      "Residual variance: 3.952203\n",
      "π: 0.678\n"
     ]
    },
    {
     "name": "stderr",
     "output_type": "stream",
     "text": [
      "\u001b[32mrunning MCMC for BayesB... 88%|██████████████████████   |  ETA: 0:00:01\u001b[39m"
     ]
    },
    {
     "name": "stdout",
     "output_type": "stream",
     "text": [
      "\n",
      "Posterior means at iteration: 10000\n",
      "Residual variance: 3.914427\n",
      "π: 0.672\n"
     ]
    },
    {
     "name": "stderr",
     "output_type": "stream",
     "text": [
      "\u001b[32mrunning MCMC for BayesB...100%|█████████████████████████| Time: 0:00:05\u001b[39m\n"
     ]
    },
    {
     "name": "stdout",
     "output_type": "stream",
     "text": [
      "1000 markers on 100 individuals were added.\n",
      "\n",
      "The prior for marker effects variance is calculated from the genetic variance and π. The mean of the prior for the marker effects variance is: 0.080404\n",
      "\n",
      "\n"
     ]
    },
    {
     "name": "stderr",
     "output_type": "stream",
     "text": [
      "\u001b[32mrunning MCMC for BayesC... 38%|█████████                |  ETA: 0:00:01\u001b[39m"
     ]
    },
    {
     "name": "stdout",
     "output_type": "stream",
     "text": [
      "\n",
      "Posterior means at iteration: 5000\n",
      "Residual variance: 4.924818\n",
      "Marker effects variance: 0.036161\n",
      "π: 0.436\n"
     ]
    },
    {
     "name": "stderr",
     "output_type": "stream",
     "text": [
      "\u001b[32mrunning MCMC for BayesC... 84%|█████████████████████    |  ETA: 0:00:00\u001b[39m"
     ]
    },
    {
     "name": "stdout",
     "output_type": "stream",
     "text": [
      "\n",
      "Posterior means at iteration: 10000\n",
      "Residual variance: 4.773106\n",
      "Marker effects variance: 0.040072\n",
      "π: 0.463\n"
     ]
    },
    {
     "name": "stderr",
     "output_type": "stream",
     "text": [
      "\u001b[32mrunning MCMC for BayesC...100%|█████████████████████████| Time: 0:00:02\u001b[39m\n"
     ]
    }
   ],
   "source": [
    "n  = 100\n",
    "p  = 1000\n",
    "probNull = 0.95\n",
    "\n",
    "N  = 25\n",
    "Vg = 20\n",
    "Ve = 10\n",
    "\n",
    "Random.seed!(4321)\n",
    "\n",
    "Valpha = Vg/p*2\n",
    "λ = Ve/Valpha\n",
    "X = rand(Binomial(2,0.5), n,p)\n",
    "mme = float(X'X + Identity(p)*λ)\n",
    "mmei = inv(mme)\n",
    "xpxi = inv(X'X + Identity(p)*.001)\n",
    "CSV.write(\"genotypes\",DataFrame([string.(1:n) X]), writeheader=false)\n",
    "\n",
    "resSim = [getEstimates(X,mmei,xpxi,probNull,Vg, Ve) for i=1:N]\n",
    "resMat = [row[i] for row in resSim, i=1:6]\n",
    "\n",
    "resMeans = mean(resMat,dims=1)\n",
    "resStd = std(resMat,dims=1)./N;"
   ]
  },
  {
   "cell_type": "code",
   "execution_count": 16,
   "metadata": {},
   "outputs": [
    {
     "name": "stdout",
     "output_type": "stream",
     "text": [
      "     True   BayesA BayesB BayesC RR-BLUP  OLS\n",
      "     16.28  65.95  35.71  31.16  50.01  78.94\n",
      "+/-   0.08   0.16   0.35   0.34   0.14   0.23\n"
     ]
    }
   ],
   "source": [
    "println(\"     True   BayesA BayesB BayesC RR-BLUP  OLS\")\n",
    "@printf(\"    %6.2f %6.2f %6.2f %6.2f %6.2f %6.2f\\n\", resMeans[1],resMeans[2],resMeans[3],resMeans[4],resMeans[5],resMeans[6] )\n",
    "@printf(\"+/- %6.2f %6.2f %6.2f %6.2f %6.2f %6.2f\\n\", resStd[1],resStd[2],resStd[3],resStd[4],resStd[5],resStd[6] )"
   ]
  },
  {
   "cell_type": "markdown",
   "metadata": {},
   "source": [
    "### Comparison of BayesA, BayesB, BayesCPi, RR-BLUP and OLS with Sample size n = 300 and number p = 1000 of markers and $\\pi = 0.95$"
   ]
  },
  {
   "cell_type": "code",
   "execution_count": 17,
   "metadata": {
    "jupyter": {
     "outputs_hidden": true,
     "source_hidden": true
    },
    "scrolled": true
   },
   "outputs": [
    {
     "name": "stdout",
     "output_type": "stream",
     "text": [
      "1000 markers on 300 individuals were added.\n",
      "\n",
      "The prior for marker effects variance is calculated from the genetic variance and π. The mean of the prior for the marker effects variance is: 0.040065\n",
      "\n",
      "\n"
     ]
    },
    {
     "name": "stderr",
     "output_type": "stream",
     "text": [
      "\u001b[32mrunning MCMC for BayesB... 43%|███████████              |  ETA: 0:00:03\u001b[39m"
     ]
    },
    {
     "name": "stdout",
     "output_type": "stream",
     "text": [
      "\n",
      "Posterior means at iteration: 5000\n",
      "Residual variance: 2.427125\n"
     ]
    },
    {
     "name": "stderr",
     "output_type": "stream",
     "text": [
      "\u001b[32mrunning MCMC for BayesB... 87%|██████████████████████   |  ETA: 0:00:01\u001b[39m"
     ]
    },
    {
     "name": "stdout",
     "output_type": "stream",
     "text": [
      "\n",
      "Posterior means at iteration: 10000\n",
      "Residual variance: 2.410644\n"
     ]
    },
    {
     "name": "stderr",
     "output_type": "stream",
     "text": [
      "\u001b[32mrunning MCMC for BayesB...100%|█████████████████████████| Time: 0:00:05\u001b[39m\n"
     ]
    },
    {
     "name": "stdout",
     "output_type": "stream",
     "text": [
      "1000 markers on 300 individuals were added.\n",
      "\n",
      "The prior for marker effects variance is calculated from the genetic variance and π. The mean of the prior for the marker effects variance is: 0.080129\n",
      "\n",
      "\n"
     ]
    },
    {
     "name": "stderr",
     "output_type": "stream",
     "text": [
      "\u001b[32mrunning MCMC for BayesB... 42%|███████████              |  ETA: 0:00:03\u001b[39m"
     ]
    },
    {
     "name": "stdout",
     "output_type": "stream",
     "text": [
      "\n",
      "Posterior means at iteration: 5000\n",
      "Residual variance: 9.649419\n",
      "π: 0.966\n"
     ]
    },
    {
     "name": "stderr",
     "output_type": "stream",
     "text": [
      "\u001b[32mrunning MCMC for BayesB... 88%|██████████████████████   |  ETA: 0:00:01\u001b[39m"
     ]
    },
    {
     "name": "stdout",
     "output_type": "stream",
     "text": [
      "\n",
      "Posterior means at iteration: 10000\n",
      "Residual variance: 9.594513\n",
      "π: 0.964\n"
     ]
    },
    {
     "name": "stderr",
     "output_type": "stream",
     "text": [
      "\u001b[32mrunning MCMC for BayesB...100%|█████████████████████████| Time: 0:00:05\u001b[39m\n"
     ]
    },
    {
     "name": "stdout",
     "output_type": "stream",
     "text": [
      "1000 markers on 300 individuals were added.\n",
      "\n",
      "The prior for marker effects variance is calculated from the genetic variance and π. The mean of the prior for the marker effects variance is: 0.080129\n",
      "\n",
      "\n"
     ]
    },
    {
     "name": "stderr",
     "output_type": "stream",
     "text": [
      "\u001b[32mrunning MCMC for BayesC... 37%|█████████                |  ETA: 0:00:02\u001b[39m"
     ]
    },
    {
     "name": "stdout",
     "output_type": "stream",
     "text": [
      "\n",
      "Posterior means at iteration: 5000\n",
      "Residual variance: 9.593143\n",
      "Marker effects variance: 0.039046\n",
      "π: 0.945\n"
     ]
    },
    {
     "name": "stderr",
     "output_type": "stream",
     "text": [
      "\u001b[32mrunning MCMC for BayesC... 84%|█████████████████████    |  ETA: 0:00:00\u001b[39m"
     ]
    },
    {
     "name": "stdout",
     "output_type": "stream",
     "text": [
      "\n",
      "Posterior means at iteration: 10000\n",
      "Residual variance: 9.352025\n",
      "Marker effects variance: 0.035433\n",
      "π: 0.907\n"
     ]
    },
    {
     "name": "stderr",
     "output_type": "stream",
     "text": [
      "\u001b[32mrunning MCMC for BayesC...100%|█████████████████████████| Time: 0:00:03\u001b[39m\n"
     ]
    },
    {
     "name": "stdout",
     "output_type": "stream",
     "text": [
      "1000 markers on 300 individuals were added.\n",
      "\n",
      "The prior for marker effects variance is calculated from the genetic variance and π. The mean of the prior for the marker effects variance is: 0.040065\n",
      "\n",
      "\n"
     ]
    },
    {
     "name": "stderr",
     "output_type": "stream",
     "text": [
      "\u001b[32mrunning MCMC for BayesB... 43%|███████████              |  ETA: 0:00:03\u001b[39m"
     ]
    },
    {
     "name": "stdout",
     "output_type": "stream",
     "text": [
      "\n",
      "Posterior means at iteration: 5000\n",
      "Residual variance: 1.739585\n"
     ]
    },
    {
     "name": "stderr",
     "output_type": "stream",
     "text": [
      "\u001b[32mrunning MCMC for BayesB... 88%|██████████████████████   |  ETA: 0:00:01\u001b[39m"
     ]
    },
    {
     "name": "stdout",
     "output_type": "stream",
     "text": [
      "\n",
      "Posterior means at iteration: 10000\n",
      "Residual variance: 1.741113\n"
     ]
    },
    {
     "name": "stderr",
     "output_type": "stream",
     "text": [
      "\u001b[32mrunning MCMC for BayesB...100%|█████████████████████████| Time: 0:00:05\u001b[39m\n"
     ]
    },
    {
     "name": "stdout",
     "output_type": "stream",
     "text": [
      "1000 markers on 300 individuals were added.\n",
      "\n",
      "The prior for marker effects variance is calculated from the genetic variance and π. The mean of the prior for the marker effects variance is: 0.080129\n",
      "\n",
      "\n"
     ]
    },
    {
     "name": "stderr",
     "output_type": "stream",
     "text": [
      "\u001b[32mrunning MCMC for BayesB... 42%|███████████              |  ETA: 0:00:03\u001b[39m"
     ]
    },
    {
     "name": "stdout",
     "output_type": "stream",
     "text": [
      "\n",
      "Posterior means at iteration: 5000\n",
      "Residual variance: 7.236479\n",
      "π: 0.887\n"
     ]
    },
    {
     "name": "stderr",
     "output_type": "stream",
     "text": [
      "\u001b[32mrunning MCMC for BayesB... 87%|██████████████████████   |  ETA: 0:00:01\u001b[39m"
     ]
    },
    {
     "name": "stdout",
     "output_type": "stream",
     "text": [
      "\n",
      "Posterior means at iteration: 10000\n",
      "Residual variance: 7.258908\n",
      "π: 0.888\n"
     ]
    },
    {
     "name": "stderr",
     "output_type": "stream",
     "text": [
      "\u001b[32mrunning MCMC for BayesB...100%|█████████████████████████| Time: 0:00:05\u001b[39m\n"
     ]
    },
    {
     "name": "stdout",
     "output_type": "stream",
     "text": [
      "1000 markers on 300 individuals were added.\n",
      "\n",
      "The prior for marker effects variance is calculated from the genetic variance and π. The mean of the prior for the marker effects variance is: 0.080129\n",
      "\n",
      "\n"
     ]
    },
    {
     "name": "stderr",
     "output_type": "stream",
     "text": [
      "\u001b[32mrunning MCMC for BayesC... 41%|██████████               |  ETA: 0:00:02\u001b[39m"
     ]
    },
    {
     "name": "stdout",
     "output_type": "stream",
     "text": [
      "\n",
      "Posterior means at iteration: 5000\n",
      "Residual variance: 7.875127\n",
      "Marker effects variance: 0.050093\n",
      "π: 0.865\n"
     ]
    },
    {
     "name": "stderr",
     "output_type": "stream",
     "text": [
      "\u001b[32mrunning MCMC for BayesC... 84%|█████████████████████    |  ETA: 0:00:00\u001b[39m"
     ]
    },
    {
     "name": "stdout",
     "output_type": "stream",
     "text": [
      "\n",
      "Posterior means at iteration: 10000\n",
      "Residual variance: 7.69396\n",
      "Marker effects variance: 0.045141\n",
      "π: 0.848\n"
     ]
    },
    {
     "name": "stderr",
     "output_type": "stream",
     "text": [
      "\u001b[32mrunning MCMC for BayesC...100%|█████████████████████████| Time: 0:00:03\u001b[39m\n"
     ]
    },
    {
     "name": "stdout",
     "output_type": "stream",
     "text": [
      "1000 markers on 300 individuals were added.\n",
      "\n",
      "The prior for marker effects variance is calculated from the genetic variance and π. The mean of the prior for the marker effects variance is: 0.040065\n",
      "\n",
      "\n"
     ]
    },
    {
     "name": "stderr",
     "output_type": "stream",
     "text": [
      "\u001b[32mrunning MCMC for BayesB... 43%|███████████              |  ETA: 0:00:03\u001b[39m"
     ]
    },
    {
     "name": "stdout",
     "output_type": "stream",
     "text": [
      "\n",
      "Posterior means at iteration: 5000\n",
      "Residual variance: 2.781503\n"
     ]
    },
    {
     "name": "stderr",
     "output_type": "stream",
     "text": [
      "\u001b[32mrunning MCMC for BayesB... 88%|██████████████████████   |  ETA: 0:00:01\u001b[39m"
     ]
    },
    {
     "name": "stdout",
     "output_type": "stream",
     "text": [
      "\n",
      "Posterior means at iteration: 10000\n",
      "Residual variance: 2.677251\n"
     ]
    },
    {
     "name": "stderr",
     "output_type": "stream",
     "text": [
      "\u001b[32mrunning MCMC for BayesB...100%|█████████████████████████| Time: 0:00:05\u001b[39m\n"
     ]
    },
    {
     "name": "stdout",
     "output_type": "stream",
     "text": [
      "1000 markers on 300 individuals were added.\n",
      "\n",
      "The prior for marker effects variance is calculated from the genetic variance and π. The mean of the prior for the marker effects variance is: 0.080129\n",
      "\n",
      "\n"
     ]
    },
    {
     "name": "stderr",
     "output_type": "stream",
     "text": [
      "\u001b[32mrunning MCMC for BayesB... 41%|██████████               |  ETA: 0:00:03\u001b[39m"
     ]
    },
    {
     "name": "stdout",
     "output_type": "stream",
     "text": [
      "\n",
      "Posterior means at iteration: 5000\n",
      "Residual variance: 9.868385\n",
      "π: 0.898\n"
     ]
    },
    {
     "name": "stderr",
     "output_type": "stream",
     "text": [
      "\u001b[32mrunning MCMC for BayesB... 88%|██████████████████████   |  ETA: 0:00:01\u001b[39m"
     ]
    },
    {
     "name": "stdout",
     "output_type": "stream",
     "text": [
      "\n",
      "Posterior means at iteration: 10000\n",
      "Residual variance: 9.988792\n",
      "π: 0.905\n"
     ]
    },
    {
     "name": "stderr",
     "output_type": "stream",
     "text": [
      "\u001b[32mrunning MCMC for BayesB...100%|█████████████████████████| Time: 0:00:05\u001b[39m\n"
     ]
    },
    {
     "name": "stdout",
     "output_type": "stream",
     "text": [
      "1000 markers on 300 individuals were added.\n",
      "\n",
      "The prior for marker effects variance is calculated from the genetic variance and π. The mean of the prior for the marker effects variance is: 0.080129\n",
      "\n",
      "\n"
     ]
    },
    {
     "name": "stderr",
     "output_type": "stream",
     "text": [
      "\u001b[32mrunning MCMC for BayesC... 40%|██████████               |  ETA: 0:00:02\u001b[39m"
     ]
    },
    {
     "name": "stdout",
     "output_type": "stream",
     "text": [
      "\n",
      "Posterior means at iteration: 5000\n",
      "Residual variance: 9.282969\n",
      "Marker effects variance: 0.028365\n",
      "π: 0.71\n"
     ]
    },
    {
     "name": "stderr",
     "output_type": "stream",
     "text": [
      "\u001b[32mrunning MCMC for BayesC... 85%|█████████████████████    |  ETA: 0:00:00\u001b[39m"
     ]
    },
    {
     "name": "stdout",
     "output_type": "stream",
     "text": [
      "\n",
      "Posterior means at iteration: 10000\n",
      "Residual variance: 9.421298\n",
      "Marker effects variance: 0.029595\n",
      "π: 0.742\n"
     ]
    },
    {
     "name": "stderr",
     "output_type": "stream",
     "text": [
      "\u001b[32mrunning MCMC for BayesC...100%|█████████████████████████| Time: 0:00:03\u001b[39m\n"
     ]
    },
    {
     "name": "stdout",
     "output_type": "stream",
     "text": [
      "1000 markers on 300 individuals were added.\n",
      "\n",
      "The prior for marker effects variance is calculated from the genetic variance and π. The mean of the prior for the marker effects variance is: 0.040065\n",
      "\n",
      "\n"
     ]
    },
    {
     "name": "stderr",
     "output_type": "stream",
     "text": [
      "\u001b[32mrunning MCMC for BayesB... 43%|███████████              |  ETA: 0:00:03\u001b[39m"
     ]
    },
    {
     "name": "stdout",
     "output_type": "stream",
     "text": [
      "\n",
      "Posterior means at iteration: 5000\n",
      "Residual variance: 2.454671\n"
     ]
    },
    {
     "name": "stderr",
     "output_type": "stream",
     "text": [
      "\u001b[32mrunning MCMC for BayesB... 88%|██████████████████████   |  ETA: 0:00:01\u001b[39m"
     ]
    },
    {
     "name": "stdout",
     "output_type": "stream",
     "text": [
      "\n",
      "Posterior means at iteration: 10000\n",
      "Residual variance: 2.479462\n"
     ]
    },
    {
     "name": "stderr",
     "output_type": "stream",
     "text": [
      "\u001b[32mrunning MCMC for BayesB...100%|█████████████████████████| Time: 0:00:05\u001b[39m\n"
     ]
    },
    {
     "name": "stdout",
     "output_type": "stream",
     "text": [
      "1000 markers on 300 individuals were added.\n",
      "\n",
      "The prior for marker effects variance is calculated from the genetic variance and π. The mean of the prior for the marker effects variance is: 0.080129\n",
      "\n",
      "\n"
     ]
    },
    {
     "name": "stderr",
     "output_type": "stream",
     "text": [
      "\u001b[32mrunning MCMC for BayesB... 43%|███████████              |  ETA: 0:00:03\u001b[39m"
     ]
    },
    {
     "name": "stdout",
     "output_type": "stream",
     "text": [
      "\n",
      "Posterior means at iteration: 5000\n",
      "Residual variance: 9.297244\n",
      "π: 0.957\n"
     ]
    },
    {
     "name": "stderr",
     "output_type": "stream",
     "text": [
      "\u001b[32mrunning MCMC for BayesB... 88%|██████████████████████   |  ETA: 0:00:01\u001b[39m"
     ]
    },
    {
     "name": "stdout",
     "output_type": "stream",
     "text": [
      "\n",
      "Posterior means at iteration: 10000\n",
      "Residual variance: 9.241614\n",
      "π: 0.954\n"
     ]
    },
    {
     "name": "stderr",
     "output_type": "stream",
     "text": [
      "\u001b[32mrunning MCMC for BayesB...100%|█████████████████████████| Time: 0:00:05\u001b[39m\n"
     ]
    },
    {
     "name": "stdout",
     "output_type": "stream",
     "text": [
      "1000 markers on 300 individuals were added.\n",
      "\n",
      "The prior for marker effects variance is calculated from the genetic variance and π. The mean of the prior for the marker effects variance is: 0.080129\n",
      "\n",
      "\n"
     ]
    },
    {
     "name": "stderr",
     "output_type": "stream",
     "text": [
      "\u001b[32mrunning MCMC for BayesC... 37%|█████████                |  ETA: 0:00:01\u001b[39m"
     ]
    },
    {
     "name": "stdout",
     "output_type": "stream",
     "text": [
      "\n",
      "Posterior means at iteration: 5000\n",
      "Residual variance: 9.342781\n",
      "Marker effects variance: 0.048706\n",
      "π: 0.939\n"
     ]
    },
    {
     "name": "stderr",
     "output_type": "stream",
     "text": [
      "\u001b[32mrunning MCMC for BayesC... 85%|█████████████████████    |  ETA: 0:00:00\u001b[39m"
     ]
    },
    {
     "name": "stdout",
     "output_type": "stream",
     "text": [
      "\n",
      "Posterior means at iteration: 10000\n",
      "Residual variance: 9.109656\n",
      "Marker effects variance: 0.040245\n",
      "π: 0.902\n"
     ]
    },
    {
     "name": "stderr",
     "output_type": "stream",
     "text": [
      "\u001b[32mrunning MCMC for BayesC...100%|█████████████████████████| Time: 0:00:02\u001b[39m\n"
     ]
    },
    {
     "name": "stdout",
     "output_type": "stream",
     "text": [
      "1000 markers on 300 individuals were added.\n",
      "\n",
      "The prior for marker effects variance is calculated from the genetic variance and π. The mean of the prior for the marker effects variance is: 0.040065\n",
      "\n",
      "\n"
     ]
    },
    {
     "name": "stderr",
     "output_type": "stream",
     "text": [
      "\u001b[32mrunning MCMC for BayesB... 42%|███████████              |  ETA: 0:00:03\u001b[39m"
     ]
    },
    {
     "name": "stdout",
     "output_type": "stream",
     "text": [
      "\n",
      "Posterior means at iteration: 5000\n",
      "Residual variance: 2.520482\n"
     ]
    },
    {
     "name": "stderr",
     "output_type": "stream",
     "text": [
      "\u001b[32mrunning MCMC for BayesB... 88%|██████████████████████   |  ETA: 0:00:01\u001b[39m"
     ]
    },
    {
     "name": "stdout",
     "output_type": "stream",
     "text": [
      "\n",
      "Posterior means at iteration: 10000\n",
      "Residual variance: 2.494757\n"
     ]
    },
    {
     "name": "stderr",
     "output_type": "stream",
     "text": [
      "\u001b[32mrunning MCMC for BayesB...100%|█████████████████████████| Time: 0:00:05\u001b[39m\n"
     ]
    },
    {
     "name": "stdout",
     "output_type": "stream",
     "text": [
      "1000 markers on 300 individuals were added.\n",
      "\n",
      "The prior for marker effects variance is calculated from the genetic variance and π. The mean of the prior for the marker effects variance is: 0.080129\n",
      "\n",
      "\n"
     ]
    },
    {
     "name": "stderr",
     "output_type": "stream",
     "text": [
      "\u001b[32mrunning MCMC for BayesB... 42%|███████████              |  ETA: 0:00:03\u001b[39m"
     ]
    },
    {
     "name": "stdout",
     "output_type": "stream",
     "text": [
      "\n",
      "Posterior means at iteration: 5000\n",
      "Residual variance: 10.431584\n",
      "π: 0.961\n"
     ]
    },
    {
     "name": "stderr",
     "output_type": "stream",
     "text": [
      "\u001b[32mrunning MCMC for BayesB... 88%|██████████████████████   |  ETA: 0:00:01\u001b[39m"
     ]
    },
    {
     "name": "stdout",
     "output_type": "stream",
     "text": [
      "\n",
      "Posterior means at iteration: 10000\n",
      "Residual variance: 10.392069\n",
      "π: 0.958\n"
     ]
    },
    {
     "name": "stderr",
     "output_type": "stream",
     "text": [
      "\u001b[32mrunning MCMC for BayesB...100%|█████████████████████████| Time: 0:00:05\u001b[39m\n"
     ]
    },
    {
     "name": "stdout",
     "output_type": "stream",
     "text": [
      "1000 markers on 300 individuals were added.\n",
      "\n",
      "The prior for marker effects variance is calculated from the genetic variance and π. The mean of the prior for the marker effects variance is: 0.080129\n",
      "\n",
      "\n"
     ]
    },
    {
     "name": "stderr",
     "output_type": "stream",
     "text": [
      "\u001b[32mrunning MCMC for BayesC... 40%|██████████               |  ETA: 0:00:02\u001b[39m"
     ]
    },
    {
     "name": "stdout",
     "output_type": "stream",
     "text": [
      "\n",
      "Posterior means at iteration: 5000\n",
      "Residual variance: 10.131903\n",
      "Marker effects variance: 0.032881\n",
      "π: 0.895\n"
     ]
    },
    {
     "name": "stderr",
     "output_type": "stream",
     "text": [
      "\u001b[32mrunning MCMC for BayesC... 87%|██████████████████████   |  ETA: 0:00:00\u001b[39m"
     ]
    },
    {
     "name": "stdout",
     "output_type": "stream",
     "text": [
      "\n",
      "Posterior means at iteration: 10000\n",
      "Residual variance: 10.28748\n",
      "Marker effects variance: 0.037319\n",
      "π: 0.914\n"
     ]
    },
    {
     "name": "stderr",
     "output_type": "stream",
     "text": [
      "\u001b[32mrunning MCMC for BayesC...100%|█████████████████████████| Time: 0:00:03\u001b[39m\n"
     ]
    },
    {
     "name": "stdout",
     "output_type": "stream",
     "text": [
      "1000 markers on 300 individuals were added.\n",
      "\n",
      "The prior for marker effects variance is calculated from the genetic variance and π. The mean of the prior for the marker effects variance is: 0.040065\n",
      "\n",
      "\n"
     ]
    },
    {
     "name": "stderr",
     "output_type": "stream",
     "text": [
      "\u001b[32mrunning MCMC for BayesB... 43%|███████████              |  ETA: 0:00:04\u001b[39m"
     ]
    },
    {
     "name": "stdout",
     "output_type": "stream",
     "text": [
      "\n",
      "Posterior means at iteration: 5000\n",
      "Residual variance: 2.412015\n"
     ]
    },
    {
     "name": "stderr",
     "output_type": "stream",
     "text": [
      "\u001b[32mrunning MCMC for BayesB... 89%|██████████████████████   |  ETA: 0:00:01\u001b[39m"
     ]
    },
    {
     "name": "stdout",
     "output_type": "stream",
     "text": [
      "\n",
      "Posterior means at iteration: 10000\n",
      "Residual variance: 2.439033\n"
     ]
    },
    {
     "name": "stderr",
     "output_type": "stream",
     "text": [
      "\u001b[32mrunning MCMC for BayesB...100%|█████████████████████████| Time: 0:00:06\u001b[39m\n"
     ]
    },
    {
     "name": "stdout",
     "output_type": "stream",
     "text": [
      "1000 markers on 300 individuals were added.\n",
      "\n",
      "The prior for marker effects variance is calculated from the genetic variance and π. The mean of the prior for the marker effects variance is: 0.080129\n",
      "\n",
      "\n"
     ]
    },
    {
     "name": "stderr",
     "output_type": "stream",
     "text": [
      "\u001b[32mrunning MCMC for BayesB... 43%|███████████              |  ETA: 0:00:03\u001b[39m"
     ]
    },
    {
     "name": "stdout",
     "output_type": "stream",
     "text": [
      "\n",
      "Posterior means at iteration: 5000\n",
      "Residual variance: 7.896796\n",
      "π: 0.809\n"
     ]
    },
    {
     "name": "stderr",
     "output_type": "stream",
     "text": [
      "\u001b[32mrunning MCMC for BayesB... 88%|██████████████████████   |  ETA: 0:00:01\u001b[39m"
     ]
    },
    {
     "name": "stdout",
     "output_type": "stream",
     "text": [
      "\n",
      "Posterior means at iteration: 10000\n",
      "Residual variance: 7.336512\n",
      "π: 0.784\n"
     ]
    },
    {
     "name": "stderr",
     "output_type": "stream",
     "text": [
      "\u001b[32mrunning MCMC for BayesB...100%|█████████████████████████| Time: 0:00:06\u001b[39m\n"
     ]
    },
    {
     "name": "stdout",
     "output_type": "stream",
     "text": [
      "1000 markers on 300 individuals were added.\n",
      "\n",
      "The prior for marker effects variance is calculated from the genetic variance and π. The mean of the prior for the marker effects variance is: 0.080129\n",
      "\n",
      "\n"
     ]
    },
    {
     "name": "stderr",
     "output_type": "stream",
     "text": [
      "\u001b[32mrunning MCMC for BayesC... 41%|██████████               |  ETA: 0:00:02\u001b[39m"
     ]
    },
    {
     "name": "stdout",
     "output_type": "stream",
     "text": [
      "\n",
      "Posterior means at iteration: 5000\n",
      "Residual variance: 9.030976\n",
      "Marker effects variance: 0.04348\n",
      "π: 0.687\n"
     ]
    },
    {
     "name": "stderr",
     "output_type": "stream",
     "text": [
      "\u001b[32mrunning MCMC for BayesC... 88%|██████████████████████   |  ETA: 0:00:00\u001b[39m"
     ]
    },
    {
     "name": "stdout",
     "output_type": "stream",
     "text": [
      "\n",
      "Posterior means at iteration: 10000\n",
      "Residual variance: 9.31901\n",
      "Marker effects variance: 0.051171\n",
      "π: 0.775\n"
     ]
    },
    {
     "name": "stderr",
     "output_type": "stream",
     "text": [
      "\u001b[32mrunning MCMC for BayesC...100%|█████████████████████████| Time: 0:00:03\u001b[39m\n"
     ]
    },
    {
     "name": "stdout",
     "output_type": "stream",
     "text": [
      "1000 markers on 300 individuals were added.\n",
      "\n",
      "The prior for marker effects variance is calculated from the genetic variance and π. The mean of the prior for the marker effects variance is: 0.040065\n",
      "\n",
      "\n"
     ]
    },
    {
     "name": "stderr",
     "output_type": "stream",
     "text": [
      "\u001b[32mrunning MCMC for BayesB... 43%|███████████              |  ETA: 0:00:03\u001b[39m"
     ]
    },
    {
     "name": "stdout",
     "output_type": "stream",
     "text": [
      "\n",
      "Posterior means at iteration: 5000\n",
      "Residual variance: 3.289003\n"
     ]
    },
    {
     "name": "stderr",
     "output_type": "stream",
     "text": [
      "\u001b[32mrunning MCMC for BayesB... 89%|██████████████████████   |  ETA: 0:00:01\u001b[39m"
     ]
    },
    {
     "name": "stdout",
     "output_type": "stream",
     "text": [
      "\n",
      "Posterior means at iteration: 10000\n",
      "Residual variance: 3.359996\n"
     ]
    },
    {
     "name": "stderr",
     "output_type": "stream",
     "text": [
      "\u001b[32mrunning MCMC for BayesB...100%|█████████████████████████| Time: 0:00:06\u001b[39m\n"
     ]
    },
    {
     "name": "stdout",
     "output_type": "stream",
     "text": [
      "1000 markers on 300 individuals were added.\n",
      "\n",
      "The prior for marker effects variance is calculated from the genetic variance and π. The mean of the prior for the marker effects variance is: 0.080129\n",
      "\n",
      "\n"
     ]
    },
    {
     "name": "stderr",
     "output_type": "stream",
     "text": [
      "\u001b[32mrunning MCMC for BayesB... 43%|███████████              |  ETA: 0:00:03\u001b[39m"
     ]
    },
    {
     "name": "stdout",
     "output_type": "stream",
     "text": [
      "\n",
      "Posterior means at iteration: 5000\n",
      "Residual variance: 10.842901\n",
      "π: 0.956\n"
     ]
    },
    {
     "name": "stderr",
     "output_type": "stream",
     "text": [
      "\u001b[32mrunning MCMC for BayesB... 87%|██████████████████████   |  ETA: 0:00:01\u001b[39m"
     ]
    },
    {
     "name": "stdout",
     "output_type": "stream",
     "text": [
      "\n",
      "Posterior means at iteration: 10000\n",
      "Residual variance: 10.746454\n",
      "π: 0.952\n"
     ]
    },
    {
     "name": "stderr",
     "output_type": "stream",
     "text": [
      "\u001b[32mrunning MCMC for BayesB...100%|█████████████████████████| Time: 0:00:05\u001b[39m\n"
     ]
    },
    {
     "name": "stdout",
     "output_type": "stream",
     "text": [
      "1000 markers on 300 individuals were added.\n",
      "\n",
      "The prior for marker effects variance is calculated from the genetic variance and π. The mean of the prior for the marker effects variance is: 0.080129\n",
      "\n",
      "\n"
     ]
    },
    {
     "name": "stderr",
     "output_type": "stream",
     "text": [
      "\u001b[32mrunning MCMC for BayesC... 38%|█████████                |  ETA: 0:00:02\u001b[39m"
     ]
    },
    {
     "name": "stdout",
     "output_type": "stream",
     "text": [
      "\n",
      "Posterior means at iteration: 5000\n",
      "Residual variance: 10.800576\n",
      "Marker effects variance: 0.040745\n",
      "π: 0.926\n"
     ]
    },
    {
     "name": "stderr",
     "output_type": "stream",
     "text": [
      "\u001b[32mrunning MCMC for BayesC... 84%|█████████████████████    |  ETA: 0:00:00\u001b[39m"
     ]
    },
    {
     "name": "stdout",
     "output_type": "stream",
     "text": [
      "\n",
      "Posterior means at iteration: 10000\n",
      "Residual variance: 10.774599\n",
      "Marker effects variance: 0.038923\n",
      "π: 0.925\n"
     ]
    },
    {
     "name": "stderr",
     "output_type": "stream",
     "text": [
      "\u001b[32mrunning MCMC for BayesC...100%|█████████████████████████| Time: 0:00:03\u001b[39m\n"
     ]
    },
    {
     "name": "stdout",
     "output_type": "stream",
     "text": [
      "1000 markers on 300 individuals were added.\n",
      "\n",
      "The prior for marker effects variance is calculated from the genetic variance and π. The mean of the prior for the marker effects variance is: 0.040065\n",
      "\n",
      "\n"
     ]
    },
    {
     "name": "stderr",
     "output_type": "stream",
     "text": [
      "\u001b[32mrunning MCMC for BayesB... 42%|███████████              |  ETA: 0:00:03\u001b[39m"
     ]
    },
    {
     "name": "stdout",
     "output_type": "stream",
     "text": [
      "\n",
      "Posterior means at iteration: 5000\n",
      "Residual variance: 2.601904\n"
     ]
    },
    {
     "name": "stderr",
     "output_type": "stream",
     "text": [
      "\u001b[32mrunning MCMC for BayesB... 88%|██████████████████████   |  ETA: 0:00:01\u001b[39m"
     ]
    },
    {
     "name": "stdout",
     "output_type": "stream",
     "text": [
      "\n",
      "Posterior means at iteration: 10000\n",
      "Residual variance: 2.578695\n"
     ]
    },
    {
     "name": "stderr",
     "output_type": "stream",
     "text": [
      "\u001b[32mrunning MCMC for BayesB...100%|█████████████████████████| Time: 0:00:05\u001b[39m\n"
     ]
    },
    {
     "name": "stdout",
     "output_type": "stream",
     "text": [
      "1000 markers on 300 individuals were added.\n",
      "\n",
      "The prior for marker effects variance is calculated from the genetic variance and π. The mean of the prior for the marker effects variance is: 0.080129\n",
      "\n",
      "\n"
     ]
    },
    {
     "name": "stderr",
     "output_type": "stream",
     "text": [
      "\u001b[32mrunning MCMC for BayesB... 42%|███████████              |  ETA: 0:00:03\u001b[39m"
     ]
    },
    {
     "name": "stdout",
     "output_type": "stream",
     "text": [
      "\n",
      "Posterior means at iteration: 5000\n",
      "Residual variance: 9.107987\n",
      "π: 0.885\n"
     ]
    },
    {
     "name": "stderr",
     "output_type": "stream",
     "text": [
      "\u001b[32mrunning MCMC for BayesB... 89%|██████████████████████   |  ETA: 0:00:01\u001b[39m"
     ]
    },
    {
     "name": "stdout",
     "output_type": "stream",
     "text": [
      "\n",
      "Posterior means at iteration: 10000\n",
      "Residual variance: 9.411385\n",
      "π: 0.9\n"
     ]
    },
    {
     "name": "stderr",
     "output_type": "stream",
     "text": [
      "\u001b[32mrunning MCMC for BayesB...100%|█████████████████████████| Time: 0:00:05\u001b[39m\n"
     ]
    },
    {
     "name": "stdout",
     "output_type": "stream",
     "text": [
      "1000 markers on 300 individuals were added.\n",
      "\n",
      "The prior for marker effects variance is calculated from the genetic variance and π. The mean of the prior for the marker effects variance is: 0.080129\n",
      "\n",
      "\n"
     ]
    },
    {
     "name": "stderr",
     "output_type": "stream",
     "text": [
      "\u001b[32mrunning MCMC for BayesC... 40%|██████████               |  ETA: 0:00:02\u001b[39m"
     ]
    },
    {
     "name": "stdout",
     "output_type": "stream",
     "text": [
      "\n",
      "Posterior means at iteration: 5000\n",
      "Residual variance: 9.47002\n",
      "Marker effects variance: 0.035914\n",
      "π: 0.796\n"
     ]
    },
    {
     "name": "stderr",
     "output_type": "stream",
     "text": [
      "\u001b[32mrunning MCMC for BayesC... 84%|█████████████████████    |  ETA: 0:00:00\u001b[39m"
     ]
    },
    {
     "name": "stdout",
     "output_type": "stream",
     "text": [
      "\n",
      "Posterior means at iteration: 10000\n",
      "Residual variance: 9.420105\n",
      "Marker effects variance: 0.035486\n",
      "π: 0.806\n"
     ]
    },
    {
     "name": "stderr",
     "output_type": "stream",
     "text": [
      "\u001b[32mrunning MCMC for BayesC...100%|█████████████████████████| Time: 0:00:03\u001b[39m\n"
     ]
    },
    {
     "name": "stdout",
     "output_type": "stream",
     "text": [
      "1000 markers on 300 individuals were added.\n",
      "\n",
      "The prior for marker effects variance is calculated from the genetic variance and π. The mean of the prior for the marker effects variance is: 0.040065\n",
      "\n",
      "\n"
     ]
    },
    {
     "name": "stderr",
     "output_type": "stream",
     "text": [
      "\u001b[32mrunning MCMC for BayesB... 42%|██████████               |  ETA: 0:00:03\u001b[39m"
     ]
    },
    {
     "name": "stdout",
     "output_type": "stream",
     "text": [
      "\n",
      "Posterior means at iteration: 5000\n",
      "Residual variance: 1.610391\n"
     ]
    },
    {
     "name": "stderr",
     "output_type": "stream",
     "text": [
      "\u001b[32mrunning MCMC for BayesB... 88%|██████████████████████   |  ETA: 0:00:01\u001b[39m"
     ]
    },
    {
     "name": "stdout",
     "output_type": "stream",
     "text": [
      "\n",
      "Posterior means at iteration: 10000\n",
      "Residual variance: 1.634047\n"
     ]
    },
    {
     "name": "stderr",
     "output_type": "stream",
     "text": [
      "\u001b[32mrunning MCMC for BayesB...100%|█████████████████████████| Time: 0:00:05\u001b[39m\n"
     ]
    },
    {
     "name": "stdout",
     "output_type": "stream",
     "text": [
      "1000 markers on 300 individuals were added.\n",
      "\n",
      "The prior for marker effects variance is calculated from the genetic variance and π. The mean of the prior for the marker effects variance is: 0.080129\n",
      "\n",
      "\n"
     ]
    },
    {
     "name": "stderr",
     "output_type": "stream",
     "text": [
      "\u001b[32mrunning MCMC for BayesB... 42%|███████████              |  ETA: 0:00:03\u001b[39m"
     ]
    },
    {
     "name": "stdout",
     "output_type": "stream",
     "text": [
      "\n",
      "Posterior means at iteration: 5000\n",
      "Residual variance: 6.532697\n",
      "π: 0.868\n"
     ]
    },
    {
     "name": "stderr",
     "output_type": "stream",
     "text": [
      "\u001b[32mrunning MCMC for BayesB... 87%|██████████████████████   |  ETA: 0:00:01\u001b[39m"
     ]
    },
    {
     "name": "stdout",
     "output_type": "stream",
     "text": [
      "\n",
      "Posterior means at iteration: 10000\n",
      "Residual variance: 6.51269\n",
      "π: 0.867\n"
     ]
    },
    {
     "name": "stderr",
     "output_type": "stream",
     "text": [
      "\u001b[32mrunning MCMC for BayesB...100%|█████████████████████████| Time: 0:00:05\u001b[39m\n"
     ]
    },
    {
     "name": "stdout",
     "output_type": "stream",
     "text": [
      "1000 markers on 300 individuals were added.\n",
      "\n",
      "The prior for marker effects variance is calculated from the genetic variance and π. The mean of the prior for the marker effects variance is: 0.080129\n",
      "\n",
      "\n"
     ]
    },
    {
     "name": "stderr",
     "output_type": "stream",
     "text": [
      "\u001b[32mrunning MCMC for BayesC... 40%|██████████               |  ETA: 0:00:02\u001b[39m"
     ]
    },
    {
     "name": "stdout",
     "output_type": "stream",
     "text": [
      "\n",
      "Posterior means at iteration: 5000\n",
      "Residual variance: 6.347204\n",
      "Marker effects variance: 0.030493\n",
      "π: 0.749\n"
     ]
    },
    {
     "name": "stderr",
     "output_type": "stream",
     "text": [
      "\u001b[32mrunning MCMC for BayesC... 87%|██████████████████████   |  ETA: 0:00:00\u001b[39m"
     ]
    },
    {
     "name": "stdout",
     "output_type": "stream",
     "text": [
      "\n",
      "Posterior means at iteration: 10000\n",
      "Residual variance: 5.978568\n",
      "Marker effects variance: 0.026096\n",
      "π: 0.661\n"
     ]
    },
    {
     "name": "stderr",
     "output_type": "stream",
     "text": [
      "\u001b[32mrunning MCMC for BayesC...100%|█████████████████████████| Time: 0:00:03\u001b[39m\n"
     ]
    },
    {
     "name": "stdout",
     "output_type": "stream",
     "text": [
      "1000 markers on 300 individuals were added.\n",
      "\n",
      "The prior for marker effects variance is calculated from the genetic variance and π. The mean of the prior for the marker effects variance is: 0.040065\n",
      "\n",
      "\n"
     ]
    },
    {
     "name": "stderr",
     "output_type": "stream",
     "text": [
      "\u001b[32mrunning MCMC for BayesB... 42%|███████████              |  ETA: 0:00:03\u001b[39m"
     ]
    },
    {
     "name": "stdout",
     "output_type": "stream",
     "text": [
      "\n",
      "Posterior means at iteration: 5000\n",
      "Residual variance: 3.055837\n"
     ]
    },
    {
     "name": "stderr",
     "output_type": "stream",
     "text": [
      "\u001b[32mrunning MCMC for BayesB... 88%|██████████████████████   |  ETA: 0:00:01\u001b[39m"
     ]
    },
    {
     "name": "stdout",
     "output_type": "stream",
     "text": [
      "\n",
      "Posterior means at iteration: 10000\n",
      "Residual variance: 3.010846\n"
     ]
    },
    {
     "name": "stderr",
     "output_type": "stream",
     "text": [
      "\u001b[32mrunning MCMC for BayesB...100%|█████████████████████████| Time: 0:00:06\u001b[39m\n"
     ]
    },
    {
     "name": "stdout",
     "output_type": "stream",
     "text": [
      "1000 markers on 300 individuals were added.\n",
      "\n",
      "The prior for marker effects variance is calculated from the genetic variance and π. The mean of the prior for the marker effects variance is: 0.080129\n",
      "\n",
      "\n"
     ]
    },
    {
     "name": "stderr",
     "output_type": "stream",
     "text": [
      "\u001b[32mrunning MCMC for BayesB... 42%|███████████              |  ETA: 0:00:03\u001b[39m"
     ]
    },
    {
     "name": "stdout",
     "output_type": "stream",
     "text": [
      "\n",
      "Posterior means at iteration: 5000\n",
      "Residual variance: 10.491623\n",
      "π: 0.948\n"
     ]
    },
    {
     "name": "stderr",
     "output_type": "stream",
     "text": [
      "\u001b[32mrunning MCMC for BayesB... 88%|██████████████████████   |  ETA: 0:00:01\u001b[39m"
     ]
    },
    {
     "name": "stdout",
     "output_type": "stream",
     "text": [
      "\n",
      "Posterior means at iteration: 10000\n",
      "Residual variance: 10.476\n",
      "π: 0.947\n"
     ]
    },
    {
     "name": "stderr",
     "output_type": "stream",
     "text": [
      "\u001b[32mrunning MCMC for BayesB...100%|█████████████████████████| Time: 0:00:06\u001b[39m\n"
     ]
    },
    {
     "name": "stdout",
     "output_type": "stream",
     "text": [
      "1000 markers on 300 individuals were added.\n",
      "\n",
      "The prior for marker effects variance is calculated from the genetic variance and π. The mean of the prior for the marker effects variance is: 0.080129\n",
      "\n",
      "\n"
     ]
    },
    {
     "name": "stderr",
     "output_type": "stream",
     "text": [
      "\u001b[32mrunning MCMC for BayesC... 40%|██████████               |  ETA: 0:00:02\u001b[39m"
     ]
    },
    {
     "name": "stdout",
     "output_type": "stream",
     "text": [
      "\n",
      "Posterior means at iteration: 5000\n",
      "Residual variance: 9.774748\n",
      "Marker effects variance: 0.030312\n",
      "π: 0.774\n"
     ]
    },
    {
     "name": "stderr",
     "output_type": "stream",
     "text": [
      "\u001b[32mrunning MCMC for BayesC... 87%|██████████████████████   |  ETA: 0:00:00\u001b[39m"
     ]
    },
    {
     "name": "stdout",
     "output_type": "stream",
     "text": [
      "\n",
      "Posterior means at iteration: 10000\n",
      "Residual variance: 9.823162\n",
      "Marker effects variance: 0.030782\n",
      "π: 0.809\n"
     ]
    },
    {
     "name": "stderr",
     "output_type": "stream",
     "text": [
      "\u001b[32mrunning MCMC for BayesC...100%|█████████████████████████| Time: 0:00:03\u001b[39m\n"
     ]
    },
    {
     "name": "stdout",
     "output_type": "stream",
     "text": [
      "1000 markers on 300 individuals were added.\n",
      "\n",
      "The prior for marker effects variance is calculated from the genetic variance and π. The mean of the prior for the marker effects variance is: 0.040065\n",
      "\n",
      "\n"
     ]
    },
    {
     "name": "stderr",
     "output_type": "stream",
     "text": [
      "\u001b[32mrunning MCMC for BayesB... 43%|███████████              |  ETA: 0:00:04\u001b[39m"
     ]
    },
    {
     "name": "stdout",
     "output_type": "stream",
     "text": [
      "\n",
      "Posterior means at iteration: 5000\n",
      "Residual variance: 2.267208\n"
     ]
    },
    {
     "name": "stderr",
     "output_type": "stream",
     "text": [
      "\u001b[32mrunning MCMC for BayesB... 89%|██████████████████████   |  ETA: 0:00:01\u001b[39m"
     ]
    },
    {
     "name": "stdout",
     "output_type": "stream",
     "text": [
      "\n",
      "Posterior means at iteration: 10000\n",
      "Residual variance: 2.231033\n"
     ]
    },
    {
     "name": "stderr",
     "output_type": "stream",
     "text": [
      "\u001b[32mrunning MCMC for BayesB...100%|█████████████████████████| Time: 0:00:09\u001b[39m\n"
     ]
    },
    {
     "name": "stdout",
     "output_type": "stream",
     "text": [
      "1000 markers on 300 individuals were added.\n",
      "\n",
      "The prior for marker effects variance is calculated from the genetic variance and π. The mean of the prior for the marker effects variance is: 0.080129\n",
      "\n",
      "\n"
     ]
    },
    {
     "name": "stderr",
     "output_type": "stream",
     "text": [
      "\u001b[32mrunning MCMC for BayesB... 42%|███████████              |  ETA: 0:00:05\u001b[39m"
     ]
    },
    {
     "name": "stdout",
     "output_type": "stream",
     "text": [
      "\n",
      "Posterior means at iteration: 5000\n",
      "Residual variance: 8.495473\n",
      "π: 0.895\n"
     ]
    },
    {
     "name": "stderr",
     "output_type": "stream",
     "text": [
      "\u001b[32mrunning MCMC for BayesB... 90%|███████████████████████  |  ETA: 0:00:01\u001b[39m"
     ]
    },
    {
     "name": "stdout",
     "output_type": "stream",
     "text": [
      "\n",
      "Posterior means at iteration: 10000\n",
      "Residual variance: 8.259677\n",
      "π: 0.883\n"
     ]
    },
    {
     "name": "stderr",
     "output_type": "stream",
     "text": [
      "\u001b[32mrunning MCMC for BayesB...100%|█████████████████████████| Time: 0:00:09\u001b[39m\n"
     ]
    },
    {
     "name": "stdout",
     "output_type": "stream",
     "text": [
      "1000 markers on 300 individuals were added.\n",
      "\n",
      "The prior for marker effects variance is calculated from the genetic variance and π. The mean of the prior for the marker effects variance is: 0.080129\n",
      "\n",
      "\n"
     ]
    },
    {
     "name": "stderr",
     "output_type": "stream",
     "text": [
      "\u001b[32mrunning MCMC for BayesC... 42%|██████████               |  ETA: 0:00:03\u001b[39m"
     ]
    },
    {
     "name": "stdout",
     "output_type": "stream",
     "text": [
      "\n",
      "Posterior means at iteration: 5000\n",
      "Residual variance: 8.286585\n",
      "Marker effects variance: 0.033834\n",
      "π: 0.78\n"
     ]
    },
    {
     "name": "stderr",
     "output_type": "stream",
     "text": [
      "\u001b[32mrunning MCMC for BayesC... 86%|██████████████████████   |  ETA: 0:00:01\u001b[39m"
     ]
    },
    {
     "name": "stdout",
     "output_type": "stream",
     "text": [
      "\n",
      "Posterior means at iteration: 10000\n",
      "Residual variance: 8.31119\n",
      "Marker effects variance: 0.036475\n",
      "π: 0.799\n"
     ]
    },
    {
     "name": "stderr",
     "output_type": "stream",
     "text": [
      "\u001b[32mrunning MCMC for BayesC...100%|█████████████████████████| Time: 0:00:04\u001b[39m\n"
     ]
    },
    {
     "name": "stdout",
     "output_type": "stream",
     "text": [
      "1000 markers on 300 individuals were added.\n",
      "\n",
      "The prior for marker effects variance is calculated from the genetic variance and π. The mean of the prior for the marker effects variance is: 0.040065\n",
      "\n",
      "\n"
     ]
    },
    {
     "name": "stderr",
     "output_type": "stream",
     "text": [
      "\u001b[32mrunning MCMC for BayesB... 43%|███████████              |  ETA: 0:00:03\u001b[39m"
     ]
    },
    {
     "name": "stdout",
     "output_type": "stream",
     "text": [
      "\n",
      "Posterior means at iteration: 5000\n",
      "Residual variance: 2.279295\n"
     ]
    },
    {
     "name": "stderr",
     "output_type": "stream",
     "text": [
      "\u001b[32mrunning MCMC for BayesB... 87%|██████████████████████   |  ETA: 0:00:01\u001b[39m"
     ]
    },
    {
     "name": "stdout",
     "output_type": "stream",
     "text": [
      "\n",
      "Posterior means at iteration: 10000\n",
      "Residual variance: 2.290475\n"
     ]
    },
    {
     "name": "stderr",
     "output_type": "stream",
     "text": [
      "\u001b[32mrunning MCMC for BayesB...100%|█████████████████████████| Time: 0:00:06\u001b[39m\n"
     ]
    },
    {
     "name": "stdout",
     "output_type": "stream",
     "text": [
      "1000 markers on 300 individuals were added.\n",
      "\n",
      "The prior for marker effects variance is calculated from the genetic variance and π. The mean of the prior for the marker effects variance is: 0.080129\n",
      "\n",
      "\n"
     ]
    },
    {
     "name": "stderr",
     "output_type": "stream",
     "text": [
      "\u001b[32mrunning MCMC for BayesB... 42%|███████████              |  ETA: 0:00:03\u001b[39m"
     ]
    },
    {
     "name": "stdout",
     "output_type": "stream",
     "text": [
      "\n",
      "Posterior means at iteration: 5000\n",
      "Residual variance: 8.875515\n",
      "π: 0.915\n"
     ]
    },
    {
     "name": "stderr",
     "output_type": "stream",
     "text": [
      "\u001b[32mrunning MCMC for BayesB... 88%|██████████████████████   |  ETA: 0:00:01\u001b[39m"
     ]
    },
    {
     "name": "stdout",
     "output_type": "stream",
     "text": [
      "\n",
      "Posterior means at iteration: 10000\n",
      "Residual variance: 8.928706\n",
      "π: 0.918\n"
     ]
    },
    {
     "name": "stderr",
     "output_type": "stream",
     "text": [
      "\u001b[32mrunning MCMC for BayesB...100%|█████████████████████████| Time: 0:00:06\u001b[39m\n"
     ]
    },
    {
     "name": "stdout",
     "output_type": "stream",
     "text": [
      "1000 markers on 300 individuals were added.\n",
      "\n",
      "The prior for marker effects variance is calculated from the genetic variance and π. The mean of the prior for the marker effects variance is: 0.080129\n",
      "\n",
      "\n"
     ]
    },
    {
     "name": "stderr",
     "output_type": "stream",
     "text": [
      "\u001b[32mrunning MCMC for BayesC... 42%|██████████               |  ETA: 0:00:02\u001b[39m"
     ]
    },
    {
     "name": "stdout",
     "output_type": "stream",
     "text": [
      "\n",
      "Posterior means at iteration: 5000\n",
      "Residual variance: 8.767237\n",
      "Marker effects variance: 0.034724\n",
      "π: 0.863\n"
     ]
    },
    {
     "name": "stderr",
     "output_type": "stream",
     "text": [
      "\u001b[32mrunning MCMC for BayesC... 85%|█████████████████████    |  ETA: 0:00:00\u001b[39m"
     ]
    },
    {
     "name": "stdout",
     "output_type": "stream",
     "text": [
      "\n",
      "Posterior means at iteration: 10000\n",
      "Residual variance: 8.836702\n",
      "Marker effects variance: 0.037011\n",
      "π: 0.861\n"
     ]
    },
    {
     "name": "stderr",
     "output_type": "stream",
     "text": [
      "\u001b[32mrunning MCMC for BayesC...100%|█████████████████████████| Time: 0:00:03\u001b[39m\n"
     ]
    },
    {
     "name": "stdout",
     "output_type": "stream",
     "text": [
      "1000 markers on 300 individuals were added.\n",
      "\n",
      "The prior for marker effects variance is calculated from the genetic variance and π. The mean of the prior for the marker effects variance is: 0.040065\n",
      "\n",
      "\n"
     ]
    },
    {
     "name": "stderr",
     "output_type": "stream",
     "text": [
      "\u001b[32mrunning MCMC for BayesB... 44%|███████████              |  ETA: 0:00:03\u001b[39m"
     ]
    },
    {
     "name": "stdout",
     "output_type": "stream",
     "text": [
      "\n",
      "Posterior means at iteration: 5000\n",
      "Residual variance: 2.079483\n"
     ]
    },
    {
     "name": "stderr",
     "output_type": "stream",
     "text": [
      "\u001b[32mrunning MCMC for BayesB... 89%|██████████████████████   |  ETA: 0:00:01\u001b[39m"
     ]
    },
    {
     "name": "stdout",
     "output_type": "stream",
     "text": [
      "\n",
      "Posterior means at iteration: 10000\n",
      "Residual variance: 2.130906\n"
     ]
    },
    {
     "name": "stderr",
     "output_type": "stream",
     "text": [
      "\u001b[32mrunning MCMC for BayesB...100%|█████████████████████████| Time: 0:00:06\u001b[39m\n"
     ]
    },
    {
     "name": "stdout",
     "output_type": "stream",
     "text": [
      "1000 markers on 300 individuals were added.\n",
      "\n",
      "The prior for marker effects variance is calculated from the genetic variance and π. The mean of the prior for the marker effects variance is: 0.080129\n",
      "\n",
      "\n"
     ]
    },
    {
     "name": "stderr",
     "output_type": "stream",
     "text": [
      "\u001b[32mrunning MCMC for BayesB... 42%|███████████              |  ETA: 0:00:03\u001b[39m"
     ]
    },
    {
     "name": "stdout",
     "output_type": "stream",
     "text": [
      "\n",
      "Posterior means at iteration: 5000\n",
      "Residual variance: 6.78174\n",
      "π: 0.813\n"
     ]
    },
    {
     "name": "stderr",
     "output_type": "stream",
     "text": [
      "\u001b[32mrunning MCMC for BayesB... 87%|██████████████████████   |  ETA: 0:00:01\u001b[39m"
     ]
    },
    {
     "name": "stdout",
     "output_type": "stream",
     "text": [
      "\n",
      "Posterior means at iteration: 10000\n",
      "Residual variance: 6.923191\n",
      "π: 0.82\n"
     ]
    },
    {
     "name": "stderr",
     "output_type": "stream",
     "text": [
      "\u001b[32mrunning MCMC for BayesB...100%|█████████████████████████| Time: 0:00:05\u001b[39m\n"
     ]
    },
    {
     "name": "stdout",
     "output_type": "stream",
     "text": [
      "1000 markers on 300 individuals were added.\n",
      "\n",
      "The prior for marker effects variance is calculated from the genetic variance and π. The mean of the prior for the marker effects variance is: 0.080129\n",
      "\n",
      "\n"
     ]
    },
    {
     "name": "stderr",
     "output_type": "stream",
     "text": [
      "\u001b[32mrunning MCMC for BayesC... 42%|██████████               |  ETA: 0:00:02\u001b[39m"
     ]
    },
    {
     "name": "stdout",
     "output_type": "stream",
     "text": [
      "\n",
      "Posterior means at iteration: 5000\n",
      "Residual variance: 7.360809\n",
      "Marker effects variance: 0.038474\n",
      "π: 0.773\n"
     ]
    },
    {
     "name": "stderr",
     "output_type": "stream",
     "text": [
      "\u001b[32mrunning MCMC for BayesC... 86%|██████████████████████   |  ETA: 0:00:00\u001b[39m"
     ]
    },
    {
     "name": "stdout",
     "output_type": "stream",
     "text": [
      "\n",
      "Posterior means at iteration: 10000\n",
      "Residual variance: 7.280856\n",
      "Marker effects variance: 0.03825\n",
      "π: 0.754\n"
     ]
    },
    {
     "name": "stderr",
     "output_type": "stream",
     "text": [
      "\u001b[32mrunning MCMC for BayesC...100%|█████████████████████████| Time: 0:00:03\u001b[39m\n"
     ]
    },
    {
     "name": "stdout",
     "output_type": "stream",
     "text": [
      "1000 markers on 300 individuals were added.\n",
      "\n",
      "The prior for marker effects variance is calculated from the genetic variance and π. The mean of the prior for the marker effects variance is: 0.040065\n",
      "\n",
      "\n"
     ]
    },
    {
     "name": "stderr",
     "output_type": "stream",
     "text": [
      "\u001b[32mrunning MCMC for BayesB... 45%|███████████              |  ETA: 0:00:04\u001b[39m"
     ]
    },
    {
     "name": "stdout",
     "output_type": "stream",
     "text": [
      "\n",
      "Posterior means at iteration: 5000\n",
      "Residual variance: 2.721787\n"
     ]
    },
    {
     "name": "stderr",
     "output_type": "stream",
     "text": [
      "\u001b[32mrunning MCMC for BayesB... 89%|██████████████████████   |  ETA: 0:00:01\u001b[39m"
     ]
    },
    {
     "name": "stdout",
     "output_type": "stream",
     "text": [
      "\n",
      "Posterior means at iteration: 10000\n",
      "Residual variance: 2.7052\n"
     ]
    },
    {
     "name": "stderr",
     "output_type": "stream",
     "text": [
      "\u001b[32mrunning MCMC for BayesB...100%|█████████████████████████| Time: 0:00:07\u001b[39m\n"
     ]
    },
    {
     "name": "stdout",
     "output_type": "stream",
     "text": [
      "1000 markers on 300 individuals were added.\n",
      "\n",
      "The prior for marker effects variance is calculated from the genetic variance and π. The mean of the prior for the marker effects variance is: 0.080129\n",
      "\n",
      "\n"
     ]
    },
    {
     "name": "stderr",
     "output_type": "stream",
     "text": [
      "\u001b[32mrunning MCMC for BayesB... 43%|███████████              |  ETA: 0:00:04\u001b[39m"
     ]
    },
    {
     "name": "stdout",
     "output_type": "stream",
     "text": [
      "\n",
      "Posterior means at iteration: 5000\n",
      "Residual variance: 9.644614\n",
      "π: 0.944\n"
     ]
    },
    {
     "name": "stderr",
     "output_type": "stream",
     "text": [
      "\u001b[32mrunning MCMC for BayesB... 88%|██████████████████████   |  ETA: 0:00:01\u001b[39m"
     ]
    },
    {
     "name": "stdout",
     "output_type": "stream",
     "text": [
      "\n",
      "Posterior means at iteration: 10000\n",
      "Residual variance: 9.810486\n",
      "π: 0.952\n"
     ]
    },
    {
     "name": "stderr",
     "output_type": "stream",
     "text": [
      "\u001b[32mrunning MCMC for BayesB...100%|█████████████████████████| Time: 0:00:08\u001b[39m\n"
     ]
    },
    {
     "name": "stdout",
     "output_type": "stream",
     "text": [
      "1000 markers on 300 individuals were added.\n",
      "\n",
      "The prior for marker effects variance is calculated from the genetic variance and π. The mean of the prior for the marker effects variance is: 0.080129\n",
      "\n",
      "\n"
     ]
    },
    {
     "name": "stderr",
     "output_type": "stream",
     "text": [
      "\u001b[32mrunning MCMC for BayesC... 40%|██████████               |  ETA: 0:00:02\u001b[39m"
     ]
    },
    {
     "name": "stdout",
     "output_type": "stream",
     "text": [
      "\n",
      "Posterior means at iteration: 5000\n",
      "Residual variance: 9.751859\n",
      "Marker effects variance: 0.035344\n",
      "π: 0.908\n"
     ]
    },
    {
     "name": "stderr",
     "output_type": "stream",
     "text": [
      "\u001b[32mrunning MCMC for BayesC... 85%|█████████████████████    |  ETA: 0:00:00\u001b[39m"
     ]
    },
    {
     "name": "stdout",
     "output_type": "stream",
     "text": [
      "\n",
      "Posterior means at iteration: 10000\n",
      "Residual variance: 9.761221\n",
      "Marker effects variance: 0.037424\n",
      "π: 0.907\n"
     ]
    },
    {
     "name": "stderr",
     "output_type": "stream",
     "text": [
      "\u001b[32mrunning MCMC for BayesC...100%|█████████████████████████| Time: 0:00:03\u001b[39m\n"
     ]
    },
    {
     "name": "stdout",
     "output_type": "stream",
     "text": [
      "1000 markers on 300 individuals were added.\n",
      "\n",
      "The prior for marker effects variance is calculated from the genetic variance and π. The mean of the prior for the marker effects variance is: 0.040065\n",
      "\n",
      "\n"
     ]
    },
    {
     "name": "stderr",
     "output_type": "stream",
     "text": [
      "\u001b[32mrunning MCMC for BayesB... 44%|███████████              |  ETA: 0:00:04\u001b[39m"
     ]
    },
    {
     "name": "stdout",
     "output_type": "stream",
     "text": [
      "\n",
      "Posterior means at iteration: 5000\n",
      "Residual variance: 3.228658\n"
     ]
    },
    {
     "name": "stderr",
     "output_type": "stream",
     "text": [
      "\u001b[32mrunning MCMC for BayesB... 89%|██████████████████████   |  ETA: 0:00:01\u001b[39m"
     ]
    },
    {
     "name": "stdout",
     "output_type": "stream",
     "text": [
      "\n",
      "Posterior means at iteration: 10000\n",
      "Residual variance: 3.221697\n"
     ]
    },
    {
     "name": "stderr",
     "output_type": "stream",
     "text": [
      "\u001b[32mrunning MCMC for BayesB...100%|█████████████████████████| Time: 0:00:07\u001b[39m\n"
     ]
    },
    {
     "name": "stdout",
     "output_type": "stream",
     "text": [
      "1000 markers on 300 individuals were added.\n",
      "\n",
      "The prior for marker effects variance is calculated from the genetic variance and π. The mean of the prior for the marker effects variance is: 0.080129\n",
      "\n",
      "\n"
     ]
    },
    {
     "name": "stderr",
     "output_type": "stream",
     "text": [
      "\u001b[32mrunning MCMC for BayesB... 43%|███████████              |  ETA: 0:00:04\u001b[39m"
     ]
    },
    {
     "name": "stdout",
     "output_type": "stream",
     "text": [
      "\n",
      "Posterior means at iteration: 5000\n",
      "Residual variance: 10.965373\n",
      "π: 0.956\n"
     ]
    },
    {
     "name": "stderr",
     "output_type": "stream",
     "text": [
      "\u001b[32mrunning MCMC for BayesB... 89%|██████████████████████   |  ETA: 0:00:01\u001b[39m"
     ]
    },
    {
     "name": "stdout",
     "output_type": "stream",
     "text": [
      "\n",
      "Posterior means at iteration: 10000\n",
      "Residual variance: 10.869559\n",
      "π: 0.95\n"
     ]
    },
    {
     "name": "stderr",
     "output_type": "stream",
     "text": [
      "\u001b[32mrunning MCMC for BayesB...100%|█████████████████████████| Time: 0:00:07\u001b[39m\n"
     ]
    },
    {
     "name": "stdout",
     "output_type": "stream",
     "text": [
      "1000 markers on 300 individuals were added.\n",
      "\n",
      "The prior for marker effects variance is calculated from the genetic variance and π. The mean of the prior for the marker effects variance is: 0.080129\n",
      "\n",
      "\n"
     ]
    },
    {
     "name": "stderr",
     "output_type": "stream",
     "text": [
      "\u001b[32mrunning MCMC for BayesC... 42%|███████████              |  ETA: 0:00:02\u001b[39m"
     ]
    },
    {
     "name": "stdout",
     "output_type": "stream",
     "text": [
      "\n",
      "Posterior means at iteration: 5000\n",
      "Residual variance: 10.553517\n",
      "Marker effects variance: 0.033227\n",
      "π: 0.879\n"
     ]
    },
    {
     "name": "stderr",
     "output_type": "stream",
     "text": [
      "\u001b[32mrunning MCMC for BayesC... 86%|█████████████████████    |  ETA: 0:00:01\u001b[39m"
     ]
    },
    {
     "name": "stdout",
     "output_type": "stream",
     "text": [
      "\n",
      "Posterior means at iteration: 10000\n",
      "Residual variance: 10.573211\n",
      "Marker effects variance: 0.03232\n",
      "π: 0.882\n"
     ]
    },
    {
     "name": "stderr",
     "output_type": "stream",
     "text": [
      "\u001b[32mrunning MCMC for BayesC...100%|█████████████████████████| Time: 0:00:04\u001b[39m\n"
     ]
    },
    {
     "name": "stdout",
     "output_type": "stream",
     "text": [
      "1000 markers on 300 individuals were added.\n",
      "\n",
      "The prior for marker effects variance is calculated from the genetic variance and π. The mean of the prior for the marker effects variance is: 0.040065\n",
      "\n",
      "\n"
     ]
    },
    {
     "name": "stderr",
     "output_type": "stream",
     "text": [
      "\u001b[32mrunning MCMC for BayesB... 43%|███████████              |  ETA: 0:00:04\u001b[39m"
     ]
    },
    {
     "name": "stdout",
     "output_type": "stream",
     "text": [
      "\n",
      "Posterior means at iteration: 5000\n",
      "Residual variance: 2.893117\n"
     ]
    },
    {
     "name": "stderr",
     "output_type": "stream",
     "text": [
      "\u001b[32mrunning MCMC for BayesB... 89%|██████████████████████   |  ETA: 0:00:01\u001b[39m"
     ]
    },
    {
     "name": "stdout",
     "output_type": "stream",
     "text": [
      "\n",
      "Posterior means at iteration: 10000\n",
      "Residual variance: 2.896377\n"
     ]
    },
    {
     "name": "stderr",
     "output_type": "stream",
     "text": [
      "\u001b[32mrunning MCMC for BayesB...100%|█████████████████████████| Time: 0:00:08\u001b[39m\n"
     ]
    },
    {
     "name": "stdout",
     "output_type": "stream",
     "text": [
      "1000 markers on 300 individuals were added.\n",
      "\n",
      "The prior for marker effects variance is calculated from the genetic variance and π. The mean of the prior for the marker effects variance is: 0.080129\n",
      "\n",
      "\n"
     ]
    },
    {
     "name": "stderr",
     "output_type": "stream",
     "text": [
      "\u001b[32mrunning MCMC for BayesB... 42%|███████████              |  ETA: 0:00:03\u001b[39m"
     ]
    },
    {
     "name": "stdout",
     "output_type": "stream",
     "text": [
      "\n",
      "Posterior means at iteration: 5000\n",
      "Residual variance: 9.259787\n",
      "π: 0.942\n"
     ]
    },
    {
     "name": "stderr",
     "output_type": "stream",
     "text": [
      "\u001b[32mrunning MCMC for BayesB... 89%|██████████████████████   |  ETA: 0:00:01\u001b[39m"
     ]
    },
    {
     "name": "stdout",
     "output_type": "stream",
     "text": [
      "\n",
      "Posterior means at iteration: 10000\n",
      "Residual variance: 9.155561\n",
      "π: 0.935\n"
     ]
    },
    {
     "name": "stderr",
     "output_type": "stream",
     "text": [
      "\u001b[32mrunning MCMC for BayesB...100%|█████████████████████████| Time: 0:00:06\u001b[39m\n"
     ]
    },
    {
     "name": "stdout",
     "output_type": "stream",
     "text": [
      "1000 markers on 300 individuals were added.\n",
      "\n",
      "The prior for marker effects variance is calculated from the genetic variance and π. The mean of the prior for the marker effects variance is: 0.080129\n",
      "\n",
      "\n"
     ]
    },
    {
     "name": "stderr",
     "output_type": "stream",
     "text": [
      "\u001b[32mrunning MCMC for BayesC... 40%|██████████               |  ETA: 0:00:02\u001b[39m"
     ]
    },
    {
     "name": "stdout",
     "output_type": "stream",
     "text": [
      "\n",
      "Posterior means at iteration: 5000\n",
      "Residual variance: 9.412406\n",
      "Marker effects variance: 0.052838\n",
      "π: 0.902\n"
     ]
    },
    {
     "name": "stderr",
     "output_type": "stream",
     "text": [
      "\u001b[32mrunning MCMC for BayesC... 87%|██████████████████████   |  ETA: 0:00:00\u001b[39m"
     ]
    },
    {
     "name": "stdout",
     "output_type": "stream",
     "text": [
      "\n",
      "Posterior means at iteration: 10000\n",
      "Residual variance: 9.403823\n",
      "Marker effects variance: 0.052838\n",
      "π: 0.912\n"
     ]
    },
    {
     "name": "stderr",
     "output_type": "stream",
     "text": [
      "\u001b[32mrunning MCMC for BayesC...100%|█████████████████████████| Time: 0:00:03\u001b[39m\n"
     ]
    },
    {
     "name": "stdout",
     "output_type": "stream",
     "text": [
      "1000 markers on 300 individuals were added.\n",
      "\n",
      "The prior for marker effects variance is calculated from the genetic variance and π. The mean of the prior for the marker effects variance is: 0.040065\n",
      "\n",
      "\n"
     ]
    },
    {
     "name": "stderr",
     "output_type": "stream",
     "text": [
      "\u001b[32mrunning MCMC for BayesB... 44%|███████████              |  ETA: 0:00:03\u001b[39m"
     ]
    },
    {
     "name": "stdout",
     "output_type": "stream",
     "text": [
      "\n",
      "Posterior means at iteration: 5000\n",
      "Residual variance: 2.974992\n"
     ]
    },
    {
     "name": "stderr",
     "output_type": "stream",
     "text": [
      "\u001b[32mrunning MCMC for BayesB... 89%|██████████████████████   |  ETA: 0:00:01\u001b[39m"
     ]
    },
    {
     "name": "stdout",
     "output_type": "stream",
     "text": [
      "\n",
      "Posterior means at iteration: 10000\n",
      "Residual variance: 2.97793\n"
     ]
    },
    {
     "name": "stderr",
     "output_type": "stream",
     "text": [
      "\u001b[32mrunning MCMC for BayesB...100%|█████████████████████████| Time: 0:00:06\u001b[39m\n"
     ]
    },
    {
     "name": "stdout",
     "output_type": "stream",
     "text": [
      "1000 markers on 300 individuals were added.\n",
      "\n",
      "The prior for marker effects variance is calculated from the genetic variance and π. The mean of the prior for the marker effects variance is: 0.080129\n",
      "\n",
      "\n"
     ]
    },
    {
     "name": "stderr",
     "output_type": "stream",
     "text": [
      "\u001b[32mrunning MCMC for BayesB... 43%|███████████              |  ETA: 0:00:03\u001b[39m"
     ]
    },
    {
     "name": "stdout",
     "output_type": "stream",
     "text": [
      "\n",
      "Posterior means at iteration: 5000\n",
      "Residual variance: 9.432834\n",
      "π: 0.941\n"
     ]
    },
    {
     "name": "stderr",
     "output_type": "stream",
     "text": [
      "\u001b[32mrunning MCMC for BayesB... 90%|██████████████████████   |  ETA: 0:00:01\u001b[39m"
     ]
    },
    {
     "name": "stdout",
     "output_type": "stream",
     "text": [
      "\n",
      "Posterior means at iteration: 10000\n",
      "Residual variance: 9.464795\n",
      "π: 0.943\n"
     ]
    },
    {
     "name": "stderr",
     "output_type": "stream",
     "text": [
      "\u001b[32mrunning MCMC for BayesB...100%|█████████████████████████| Time: 0:00:07\u001b[39m\n"
     ]
    },
    {
     "name": "stdout",
     "output_type": "stream",
     "text": [
      "1000 markers on 300 individuals were added.\n",
      "\n",
      "The prior for marker effects variance is calculated from the genetic variance and π. The mean of the prior for the marker effects variance is: 0.080129\n",
      "\n",
      "\n"
     ]
    },
    {
     "name": "stderr",
     "output_type": "stream",
     "text": [
      "\u001b[32mrunning MCMC for BayesC... 39%|██████████               |  ETA: 0:00:02\u001b[39m"
     ]
    },
    {
     "name": "stdout",
     "output_type": "stream",
     "text": [
      "\n",
      "Posterior means at iteration: 5000\n",
      "Residual variance: 9.722689\n",
      "Marker effects variance: 0.041654\n",
      "π: 0.941\n"
     ]
    },
    {
     "name": "stderr",
     "output_type": "stream",
     "text": [
      "\u001b[32mrunning MCMC for BayesC... 87%|██████████████████████   |  ETA: 0:00:00\u001b[39m"
     ]
    },
    {
     "name": "stdout",
     "output_type": "stream",
     "text": [
      "\n",
      "Posterior means at iteration: 10000\n",
      "Residual variance: 9.465301\n",
      "Marker effects variance: 0.038096\n",
      "π: 0.908\n"
     ]
    },
    {
     "name": "stderr",
     "output_type": "stream",
     "text": [
      "\u001b[32mrunning MCMC for BayesC...100%|█████████████████████████| Time: 0:00:03\u001b[39m\n"
     ]
    },
    {
     "name": "stdout",
     "output_type": "stream",
     "text": [
      "1000 markers on 300 individuals were added.\n",
      "\n",
      "The prior for marker effects variance is calculated from the genetic variance and π. The mean of the prior for the marker effects variance is: 0.040065\n",
      "\n",
      "\n"
     ]
    },
    {
     "name": "stderr",
     "output_type": "stream",
     "text": [
      "\u001b[32mrunning MCMC for BayesB... 44%|███████████              |  ETA: 0:00:04\u001b[39m"
     ]
    },
    {
     "name": "stdout",
     "output_type": "stream",
     "text": [
      "\n",
      "Posterior means at iteration: 5000\n",
      "Residual variance: 2.748506\n"
     ]
    },
    {
     "name": "stderr",
     "output_type": "stream",
     "text": [
      "\u001b[32mrunning MCMC for BayesB... 88%|██████████████████████   |  ETA: 0:00:01\u001b[39m"
     ]
    },
    {
     "name": "stdout",
     "output_type": "stream",
     "text": [
      "\n",
      "Posterior means at iteration: 10000\n",
      "Residual variance: 2.778177\n"
     ]
    },
    {
     "name": "stderr",
     "output_type": "stream",
     "text": [
      "\u001b[32mrunning MCMC for BayesB...100%|█████████████████████████| Time: 0:00:07\u001b[39m\n"
     ]
    },
    {
     "name": "stdout",
     "output_type": "stream",
     "text": [
      "1000 markers on 300 individuals were added.\n",
      "\n",
      "The prior for marker effects variance is calculated from the genetic variance and π. The mean of the prior for the marker effects variance is: 0.080129\n",
      "\n",
      "\n"
     ]
    },
    {
     "name": "stderr",
     "output_type": "stream",
     "text": [
      "\u001b[32mrunning MCMC for BayesB... 42%|███████████              |  ETA: 0:00:05\u001b[39m"
     ]
    },
    {
     "name": "stdout",
     "output_type": "stream",
     "text": [
      "\n",
      "Posterior means at iteration: 5000\n",
      "Residual variance: 10.760714\n",
      "π: 0.938\n"
     ]
    },
    {
     "name": "stderr",
     "output_type": "stream",
     "text": [
      "\u001b[32mrunning MCMC for BayesB... 88%|██████████████████████   |  ETA: 0:00:01\u001b[39m"
     ]
    },
    {
     "name": "stdout",
     "output_type": "stream",
     "text": [
      "\n",
      "Posterior means at iteration: 10000\n",
      "Residual variance: 10.623389\n",
      "π: 0.931\n"
     ]
    },
    {
     "name": "stderr",
     "output_type": "stream",
     "text": [
      "\u001b[32mrunning MCMC for BayesB...100%|█████████████████████████| Time: 0:00:06\u001b[39m\n"
     ]
    },
    {
     "name": "stdout",
     "output_type": "stream",
     "text": [
      "1000 markers on 300 individuals were added.\n",
      "\n",
      "The prior for marker effects variance is calculated from the genetic variance and π. The mean of the prior for the marker effects variance is: 0.080129\n",
      "\n",
      "\n"
     ]
    },
    {
     "name": "stderr",
     "output_type": "stream",
     "text": [
      "\u001b[32mrunning MCMC for BayesC... 39%|██████████               |  ETA: 0:00:02\u001b[39m"
     ]
    },
    {
     "name": "stdout",
     "output_type": "stream",
     "text": [
      "\n",
      "Posterior means at iteration: 5000\n",
      "Residual variance: 9.720018\n",
      "Marker effects variance: 0.025676\n",
      "π: 0.746\n"
     ]
    },
    {
     "name": "stderr",
     "output_type": "stream",
     "text": [
      "\u001b[32mrunning MCMC for BayesC... 84%|█████████████████████    |  ETA: 0:00:00\u001b[39m"
     ]
    },
    {
     "name": "stdout",
     "output_type": "stream",
     "text": [
      "\n",
      "Posterior means at iteration: 10000\n",
      "Residual variance: 9.932131\n",
      "Marker effects variance: 0.029362\n",
      "π: 0.793\n"
     ]
    },
    {
     "name": "stderr",
     "output_type": "stream",
     "text": [
      "\u001b[32mrunning MCMC for BayesC...100%|█████████████████████████| Time: 0:00:03\u001b[39m\n"
     ]
    },
    {
     "name": "stdout",
     "output_type": "stream",
     "text": [
      "1000 markers on 300 individuals were added.\n",
      "\n",
      "The prior for marker effects variance is calculated from the genetic variance and π. The mean of the prior for the marker effects variance is: 0.040065\n",
      "\n",
      "\n"
     ]
    },
    {
     "name": "stderr",
     "output_type": "stream",
     "text": [
      "\u001b[32mrunning MCMC for BayesB... 42%|██████████               |  ETA: 0:00:03\u001b[39m"
     ]
    },
    {
     "name": "stdout",
     "output_type": "stream",
     "text": [
      "\n",
      "Posterior means at iteration: 5000\n",
      "Residual variance: 2.560273\n"
     ]
    },
    {
     "name": "stderr",
     "output_type": "stream",
     "text": [
      "\u001b[32mrunning MCMC for BayesB... 88%|██████████████████████   |  ETA: 0:00:01\u001b[39m"
     ]
    },
    {
     "name": "stdout",
     "output_type": "stream",
     "text": [
      "\n",
      "Posterior means at iteration: 10000\n",
      "Residual variance: 2.669516\n"
     ]
    },
    {
     "name": "stderr",
     "output_type": "stream",
     "text": [
      "\u001b[32mrunning MCMC for BayesB...100%|█████████████████████████| Time: 0:00:05\u001b[39m\n"
     ]
    },
    {
     "name": "stdout",
     "output_type": "stream",
     "text": [
      "1000 markers on 300 individuals were added.\n",
      "\n",
      "The prior for marker effects variance is calculated from the genetic variance and π. The mean of the prior for the marker effects variance is: 0.080129\n",
      "\n",
      "\n"
     ]
    },
    {
     "name": "stderr",
     "output_type": "stream",
     "text": [
      "\u001b[32mrunning MCMC for BayesB... 43%|███████████              |  ETA: 0:00:03\u001b[39m"
     ]
    },
    {
     "name": "stdout",
     "output_type": "stream",
     "text": [
      "\n",
      "Posterior means at iteration: 5000\n",
      "Residual variance: 9.307374\n",
      "π: 0.897\n"
     ]
    },
    {
     "name": "stderr",
     "output_type": "stream",
     "text": [
      "\u001b[32mrunning MCMC for BayesB... 88%|██████████████████████   |  ETA: 0:00:01\u001b[39m"
     ]
    },
    {
     "name": "stdout",
     "output_type": "stream",
     "text": [
      "\n",
      "Posterior means at iteration: 10000\n",
      "Residual variance: 9.251297\n",
      "π: 0.893\n"
     ]
    },
    {
     "name": "stderr",
     "output_type": "stream",
     "text": [
      "\u001b[32mrunning MCMC for BayesB...100%|█████████████████████████| Time: 0:00:05\u001b[39m\n"
     ]
    },
    {
     "name": "stdout",
     "output_type": "stream",
     "text": [
      "1000 markers on 300 individuals were added.\n",
      "\n",
      "The prior for marker effects variance is calculated from the genetic variance and π. The mean of the prior for the marker effects variance is: 0.080129\n",
      "\n",
      "\n"
     ]
    },
    {
     "name": "stderr",
     "output_type": "stream",
     "text": [
      "\u001b[32mrunning MCMC for BayesC... 41%|██████████               |  ETA: 0:00:01\u001b[39m"
     ]
    },
    {
     "name": "stdout",
     "output_type": "stream",
     "text": [
      "\n",
      "Posterior means at iteration: 5000\n",
      "Residual variance: 10.279428\n",
      "Marker effects variance: 0.056068\n",
      "π: 0.929\n"
     ]
    },
    {
     "name": "stderr",
     "output_type": "stream",
     "text": [
      "\u001b[32mrunning MCMC for BayesC... 87%|██████████████████████   |  ETA: 0:00:00\u001b[39m"
     ]
    },
    {
     "name": "stdout",
     "output_type": "stream",
     "text": [
      "\n",
      "Posterior means at iteration: 10000\n",
      "Residual variance: 10.235104\n",
      "Marker effects variance: 0.052454\n",
      "π: 0.919\n"
     ]
    },
    {
     "name": "stderr",
     "output_type": "stream",
     "text": [
      "\u001b[32mrunning MCMC for BayesC...100%|█████████████████████████| Time: 0:00:02\u001b[39m\n"
     ]
    },
    {
     "name": "stdout",
     "output_type": "stream",
     "text": [
      "1000 markers on 300 individuals were added.\n",
      "\n",
      "The prior for marker effects variance is calculated from the genetic variance and π. The mean of the prior for the marker effects variance is: 0.040065\n",
      "\n",
      "\n"
     ]
    },
    {
     "name": "stderr",
     "output_type": "stream",
     "text": [
      "\u001b[32mrunning MCMC for BayesB... 42%|███████████              |  ETA: 0:00:03\u001b[39m"
     ]
    },
    {
     "name": "stdout",
     "output_type": "stream",
     "text": [
      "\n",
      "Posterior means at iteration: 5000\n",
      "Residual variance: 2.507459\n"
     ]
    },
    {
     "name": "stderr",
     "output_type": "stream",
     "text": [
      "\u001b[32mrunning MCMC for BayesB... 88%|██████████████████████   |  ETA: 0:00:01\u001b[39m"
     ]
    },
    {
     "name": "stdout",
     "output_type": "stream",
     "text": [
      "\n",
      "Posterior means at iteration: 10000\n",
      "Residual variance: 2.430346\n"
     ]
    },
    {
     "name": "stderr",
     "output_type": "stream",
     "text": [
      "\u001b[32mrunning MCMC for BayesB...100%|█████████████████████████| Time: 0:00:05\u001b[39m\n"
     ]
    },
    {
     "name": "stdout",
     "output_type": "stream",
     "text": [
      "1000 markers on 300 individuals were added.\n",
      "\n",
      "The prior for marker effects variance is calculated from the genetic variance and π. The mean of the prior for the marker effects variance is: 0.080129\n",
      "\n",
      "\n"
     ]
    },
    {
     "name": "stderr",
     "output_type": "stream",
     "text": [
      "\u001b[32mrunning MCMC for BayesB... 42%|███████████              |  ETA: 0:00:03\u001b[39m"
     ]
    },
    {
     "name": "stdout",
     "output_type": "stream",
     "text": [
      "\n",
      "Posterior means at iteration: 5000\n",
      "Residual variance: 9.876717\n",
      "π: 0.922\n"
     ]
    },
    {
     "name": "stderr",
     "output_type": "stream",
     "text": [
      "\u001b[32mrunning MCMC for BayesB... 89%|██████████████████████   |  ETA: 0:00:01\u001b[39m"
     ]
    },
    {
     "name": "stdout",
     "output_type": "stream",
     "text": [
      "\n",
      "Posterior means at iteration: 10000\n",
      "Residual variance: 9.858822\n",
      "π: 0.922\n"
     ]
    },
    {
     "name": "stderr",
     "output_type": "stream",
     "text": [
      "\u001b[32mrunning MCMC for BayesB...100%|█████████████████████████| Time: 0:00:05\u001b[39m\n"
     ]
    },
    {
     "name": "stdout",
     "output_type": "stream",
     "text": [
      "1000 markers on 300 individuals were added.\n",
      "\n",
      "The prior for marker effects variance is calculated from the genetic variance and π. The mean of the prior for the marker effects variance is: 0.080129\n",
      "\n",
      "\n"
     ]
    },
    {
     "name": "stderr",
     "output_type": "stream",
     "text": [
      "\u001b[32mrunning MCMC for BayesC... 38%|██████████               |  ETA: 0:00:02\u001b[39m"
     ]
    },
    {
     "name": "stdout",
     "output_type": "stream",
     "text": [
      "\n",
      "Posterior means at iteration: 5000\n",
      "Residual variance: 9.58979\n",
      "Marker effects variance: 0.030473\n",
      "π: 0.834\n"
     ]
    },
    {
     "name": "stderr",
     "output_type": "stream",
     "text": [
      "\u001b[32mrunning MCMC for BayesC... 85%|█████████████████████    |  ETA: 0:00:00\u001b[39m"
     ]
    },
    {
     "name": "stdout",
     "output_type": "stream",
     "text": [
      "\n",
      "Posterior means at iteration: 10000\n",
      "Residual variance: 9.495282\n",
      "Marker effects variance: 0.032781\n",
      "π: 0.822\n"
     ]
    },
    {
     "name": "stderr",
     "output_type": "stream",
     "text": [
      "\u001b[32mrunning MCMC for BayesC...100%|█████████████████████████| Time: 0:00:03\u001b[39m\n"
     ]
    },
    {
     "name": "stdout",
     "output_type": "stream",
     "text": [
      "1000 markers on 300 individuals were added.\n",
      "\n",
      "The prior for marker effects variance is calculated from the genetic variance and π. The mean of the prior for the marker effects variance is: 0.040065\n",
      "\n",
      "\n"
     ]
    },
    {
     "name": "stderr",
     "output_type": "stream",
     "text": [
      "\u001b[32mrunning MCMC for BayesB... 43%|███████████              |  ETA: 0:00:03\u001b[39m"
     ]
    },
    {
     "name": "stdout",
     "output_type": "stream",
     "text": [
      "\n",
      "Posterior means at iteration: 5000\n",
      "Residual variance: 2.91769\n"
     ]
    },
    {
     "name": "stderr",
     "output_type": "stream",
     "text": [
      "\u001b[32mrunning MCMC for BayesB... 87%|██████████████████████   |  ETA: 0:00:01\u001b[39m"
     ]
    },
    {
     "name": "stdout",
     "output_type": "stream",
     "text": [
      "\n",
      "Posterior means at iteration: 10000\n",
      "Residual variance: 2.930172\n"
     ]
    },
    {
     "name": "stderr",
     "output_type": "stream",
     "text": [
      "\u001b[32mrunning MCMC for BayesB...100%|█████████████████████████| Time: 0:00:05\u001b[39m\n"
     ]
    },
    {
     "name": "stdout",
     "output_type": "stream",
     "text": [
      "1000 markers on 300 individuals were added.\n",
      "\n",
      "The prior for marker effects variance is calculated from the genetic variance and π. The mean of the prior for the marker effects variance is: 0.080129\n",
      "\n",
      "\n"
     ]
    },
    {
     "name": "stderr",
     "output_type": "stream",
     "text": [
      "\u001b[32mrunning MCMC for BayesB... 43%|███████████              |  ETA: 0:00:03\u001b[39m"
     ]
    },
    {
     "name": "stdout",
     "output_type": "stream",
     "text": [
      "\n",
      "Posterior means at iteration: 5000\n",
      "Residual variance: 8.824958\n",
      "π: 0.825\n"
     ]
    },
    {
     "name": "stderr",
     "output_type": "stream",
     "text": [
      "\u001b[32mrunning MCMC for BayesB... 87%|██████████████████████   |  ETA: 0:00:01\u001b[39m"
     ]
    },
    {
     "name": "stdout",
     "output_type": "stream",
     "text": [
      "\n",
      "Posterior means at iteration: 10000\n",
      "Residual variance: 9.056547\n",
      "π: 0.837\n"
     ]
    },
    {
     "name": "stderr",
     "output_type": "stream",
     "text": [
      "\u001b[32mrunning MCMC for BayesB...100%|█████████████████████████| Time: 0:00:05\u001b[39m\n"
     ]
    },
    {
     "name": "stdout",
     "output_type": "stream",
     "text": [
      "1000 markers on 300 individuals were added.\n",
      "\n",
      "The prior for marker effects variance is calculated from the genetic variance and π. The mean of the prior for the marker effects variance is: 0.080129\n",
      "\n",
      "\n"
     ]
    },
    {
     "name": "stderr",
     "output_type": "stream",
     "text": [
      "\u001b[32mrunning MCMC for BayesC... 39%|██████████               |  ETA: 0:00:02\u001b[39m"
     ]
    },
    {
     "name": "stdout",
     "output_type": "stream",
     "text": [
      "\n",
      "Posterior means at iteration: 5000\n",
      "Residual variance: 8.65597\n",
      "Marker effects variance: 0.02851\n",
      "π: 0.617\n"
     ]
    },
    {
     "name": "stderr",
     "output_type": "stream",
     "text": [
      "\u001b[32mrunning MCMC for BayesC... 85%|█████████████████████    |  ETA: 0:00:00\u001b[39m"
     ]
    },
    {
     "name": "stdout",
     "output_type": "stream",
     "text": [
      "\n",
      "Posterior means at iteration: 10000\n",
      "Residual variance: 8.718711\n",
      "Marker effects variance: 0.030067\n",
      "π: 0.639\n"
     ]
    },
    {
     "name": "stderr",
     "output_type": "stream",
     "text": [
      "\u001b[32mrunning MCMC for BayesC...100%|█████████████████████████| Time: 0:00:03\u001b[39m\n"
     ]
    },
    {
     "name": "stdout",
     "output_type": "stream",
     "text": [
      "1000 markers on 300 individuals were added.\n",
      "\n",
      "The prior for marker effects variance is calculated from the genetic variance and π. The mean of the prior for the marker effects variance is: 0.040065\n",
      "\n",
      "\n"
     ]
    },
    {
     "name": "stderr",
     "output_type": "stream",
     "text": [
      "\u001b[32mrunning MCMC for BayesB... 42%|███████████              |  ETA: 0:00:03\u001b[39m"
     ]
    },
    {
     "name": "stdout",
     "output_type": "stream",
     "text": [
      "\n",
      "Posterior means at iteration: 5000\n",
      "Residual variance: 2.493944\n"
     ]
    },
    {
     "name": "stderr",
     "output_type": "stream",
     "text": [
      "\u001b[32mrunning MCMC for BayesB... 89%|██████████████████████   |  ETA: 0:00:01\u001b[39m"
     ]
    },
    {
     "name": "stdout",
     "output_type": "stream",
     "text": [
      "\n",
      "Posterior means at iteration: 10000\n",
      "Residual variance: 2.506184\n"
     ]
    },
    {
     "name": "stderr",
     "output_type": "stream",
     "text": [
      "\u001b[32mrunning MCMC for BayesB...100%|█████████████████████████| Time: 0:00:05\u001b[39m\n"
     ]
    },
    {
     "name": "stdout",
     "output_type": "stream",
     "text": [
      "1000 markers on 300 individuals were added.\n",
      "\n",
      "The prior for marker effects variance is calculated from the genetic variance and π. The mean of the prior for the marker effects variance is: 0.080129\n",
      "\n",
      "\n"
     ]
    },
    {
     "name": "stderr",
     "output_type": "stream",
     "text": [
      "\u001b[32mrunning MCMC for BayesB... 42%|███████████              |  ETA: 0:00:03\u001b[39m"
     ]
    },
    {
     "name": "stdout",
     "output_type": "stream",
     "text": [
      "\n",
      "Posterior means at iteration: 5000\n",
      "Residual variance: 8.284263\n",
      "π: 0.884\n"
     ]
    },
    {
     "name": "stderr",
     "output_type": "stream",
     "text": [
      "\u001b[32mrunning MCMC for BayesB... 88%|██████████████████████   |  ETA: 0:00:01\u001b[39m"
     ]
    },
    {
     "name": "stdout",
     "output_type": "stream",
     "text": [
      "\n",
      "Posterior means at iteration: 10000\n",
      "Residual variance: 8.438782\n",
      "π: 0.89\n"
     ]
    },
    {
     "name": "stderr",
     "output_type": "stream",
     "text": [
      "\u001b[32mrunning MCMC for BayesB...100%|█████████████████████████| Time: 0:00:05\u001b[39m\n"
     ]
    },
    {
     "name": "stdout",
     "output_type": "stream",
     "text": [
      "1000 markers on 300 individuals were added.\n",
      "\n",
      "The prior for marker effects variance is calculated from the genetic variance and π. The mean of the prior for the marker effects variance is: 0.080129\n",
      "\n",
      "\n"
     ]
    },
    {
     "name": "stderr",
     "output_type": "stream",
     "text": [
      "\u001b[32mrunning MCMC for BayesC... 39%|██████████               |  ETA: 0:00:02\u001b[39m"
     ]
    },
    {
     "name": "stdout",
     "output_type": "stream",
     "text": [
      "\n",
      "Posterior means at iteration: 5000\n",
      "Residual variance: 8.41229\n",
      "Marker effects variance: 0.039256\n",
      "π: 0.808\n"
     ]
    },
    {
     "name": "stderr",
     "output_type": "stream",
     "text": [
      "\u001b[32mrunning MCMC for BayesC... 85%|█████████████████████    |  ETA: 0:00:00\u001b[39m"
     ]
    },
    {
     "name": "stdout",
     "output_type": "stream",
     "text": [
      "\n",
      "Posterior means at iteration: 10000\n",
      "Residual variance: 8.4989\n",
      "Marker effects variance: 0.039248\n",
      "π: 0.805\n"
     ]
    },
    {
     "name": "stderr",
     "output_type": "stream",
     "text": [
      "\u001b[32mrunning MCMC for BayesC...100%|█████████████████████████| Time: 0:00:03\u001b[39m\n"
     ]
    },
    {
     "name": "stdout",
     "output_type": "stream",
     "text": [
      "1000 markers on 300 individuals were added.\n",
      "\n",
      "The prior for marker effects variance is calculated from the genetic variance and π. The mean of the prior for the marker effects variance is: 0.040065\n",
      "\n",
      "\n"
     ]
    },
    {
     "name": "stderr",
     "output_type": "stream",
     "text": [
      "\u001b[32mrunning MCMC for BayesB... 43%|███████████              |  ETA: 0:00:03\u001b[39m"
     ]
    },
    {
     "name": "stdout",
     "output_type": "stream",
     "text": [
      "\n",
      "Posterior means at iteration: 5000\n",
      "Residual variance: 2.289661\n"
     ]
    },
    {
     "name": "stderr",
     "output_type": "stream",
     "text": [
      "\u001b[32mrunning MCMC for BayesB... 87%|██████████████████████   |  ETA: 0:00:01\u001b[39m"
     ]
    },
    {
     "name": "stdout",
     "output_type": "stream",
     "text": [
      "\n",
      "Posterior means at iteration: 10000\n",
      "Residual variance: 2.266797\n"
     ]
    },
    {
     "name": "stderr",
     "output_type": "stream",
     "text": [
      "\u001b[32mrunning MCMC for BayesB...100%|█████████████████████████| Time: 0:00:05\u001b[39m\n"
     ]
    },
    {
     "name": "stdout",
     "output_type": "stream",
     "text": [
      "1000 markers on 300 individuals were added.\n",
      "\n",
      "The prior for marker effects variance is calculated from the genetic variance and π. The mean of the prior for the marker effects variance is: 0.080129\n",
      "\n",
      "\n"
     ]
    },
    {
     "name": "stderr",
     "output_type": "stream",
     "text": [
      "\u001b[32mrunning MCMC for BayesB... 43%|███████████              |  ETA: 0:00:03\u001b[39m"
     ]
    },
    {
     "name": "stdout",
     "output_type": "stream",
     "text": [
      "\n",
      "Posterior means at iteration: 5000\n",
      "Residual variance: 6.671293\n",
      "π: 0.765\n"
     ]
    },
    {
     "name": "stderr",
     "output_type": "stream",
     "text": [
      "\u001b[32mrunning MCMC for BayesB... 88%|██████████████████████   |  ETA: 0:00:01\u001b[39m"
     ]
    },
    {
     "name": "stdout",
     "output_type": "stream",
     "text": [
      "\n",
      "Posterior means at iteration: 10000\n",
      "Residual variance: 6.99043\n",
      "π: 0.78\n"
     ]
    },
    {
     "name": "stderr",
     "output_type": "stream",
     "text": [
      "\u001b[32mrunning MCMC for BayesB...100%|█████████████████████████| Time: 0:00:05\u001b[39m\n"
     ]
    },
    {
     "name": "stdout",
     "output_type": "stream",
     "text": [
      "1000 markers on 300 individuals were added.\n",
      "\n",
      "The prior for marker effects variance is calculated from the genetic variance and π. The mean of the prior for the marker effects variance is: 0.080129\n",
      "\n",
      "\n"
     ]
    },
    {
     "name": "stderr",
     "output_type": "stream",
     "text": [
      "\u001b[32mrunning MCMC for BayesC... 41%|██████████               |  ETA: 0:00:02\u001b[39m"
     ]
    },
    {
     "name": "stdout",
     "output_type": "stream",
     "text": [
      "\n",
      "Posterior means at iteration: 5000\n",
      "Residual variance: 8.667123\n",
      "Marker effects variance: 0.039413\n",
      "π: 0.794\n"
     ]
    },
    {
     "name": "stderr",
     "output_type": "stream",
     "text": [
      "\u001b[32mrunning MCMC for BayesC... 87%|██████████████████████   |  ETA: 0:00:00\u001b[39m"
     ]
    },
    {
     "name": "stdout",
     "output_type": "stream",
     "text": [
      "\n",
      "Posterior means at iteration: 10000\n",
      "Residual variance: 7.996675\n",
      "Marker effects variance: 0.032422\n",
      "π: 0.651\n"
     ]
    },
    {
     "name": "stderr",
     "output_type": "stream",
     "text": [
      "\u001b[32mrunning MCMC for BayesC...100%|█████████████████████████| Time: 0:00:03\u001b[39m\n"
     ]
    },
    {
     "name": "stdout",
     "output_type": "stream",
     "text": [
      "1000 markers on 300 individuals were added.\n",
      "\n",
      "The prior for marker effects variance is calculated from the genetic variance and π. The mean of the prior for the marker effects variance is: 0.040065\n",
      "\n",
      "\n"
     ]
    },
    {
     "name": "stderr",
     "output_type": "stream",
     "text": [
      "\u001b[32mrunning MCMC for BayesB... 43%|███████████              |  ETA: 0:00:03\u001b[39m"
     ]
    },
    {
     "name": "stdout",
     "output_type": "stream",
     "text": [
      "\n",
      "Posterior means at iteration: 5000\n",
      "Residual variance: 2.72546\n"
     ]
    },
    {
     "name": "stderr",
     "output_type": "stream",
     "text": [
      "\u001b[32mrunning MCMC for BayesB... 88%|██████████████████████   |  ETA: 0:00:01\u001b[39m"
     ]
    },
    {
     "name": "stdout",
     "output_type": "stream",
     "text": [
      "\n",
      "Posterior means at iteration: 10000\n",
      "Residual variance: 2.608988\n"
     ]
    },
    {
     "name": "stderr",
     "output_type": "stream",
     "text": [
      "\u001b[32mrunning MCMC for BayesB...100%|█████████████████████████| Time: 0:00:05\u001b[39m\n"
     ]
    },
    {
     "name": "stdout",
     "output_type": "stream",
     "text": [
      "1000 markers on 300 individuals were added.\n",
      "\n",
      "The prior for marker effects variance is calculated from the genetic variance and π. The mean of the prior for the marker effects variance is: 0.080129\n",
      "\n",
      "\n"
     ]
    },
    {
     "name": "stderr",
     "output_type": "stream",
     "text": [
      "\u001b[32mrunning MCMC for BayesB... 41%|██████████               |  ETA: 0:00:03\u001b[39m"
     ]
    },
    {
     "name": "stdout",
     "output_type": "stream",
     "text": [
      "\n",
      "Posterior means at iteration: 5000\n",
      "Residual variance: 9.130281\n",
      "π: 0.924\n"
     ]
    },
    {
     "name": "stderr",
     "output_type": "stream",
     "text": [
      "\u001b[32mrunning MCMC for BayesB... 88%|██████████████████████   |  ETA: 0:00:01\u001b[39m"
     ]
    },
    {
     "name": "stdout",
     "output_type": "stream",
     "text": [
      "\n",
      "Posterior means at iteration: 10000\n",
      "Residual variance: 9.187845\n",
      "π: 0.927\n"
     ]
    },
    {
     "name": "stderr",
     "output_type": "stream",
     "text": [
      "\u001b[32mrunning MCMC for BayesB...100%|█████████████████████████| Time: 0:00:05\u001b[39m\n"
     ]
    },
    {
     "name": "stdout",
     "output_type": "stream",
     "text": [
      "1000 markers on 300 individuals were added.\n",
      "\n",
      "The prior for marker effects variance is calculated from the genetic variance and π. The mean of the prior for the marker effects variance is: 0.080129\n",
      "\n",
      "\n"
     ]
    },
    {
     "name": "stderr",
     "output_type": "stream",
     "text": [
      "\u001b[32mrunning MCMC for BayesC... 39%|██████████               |  ETA: 0:00:02\u001b[39m"
     ]
    },
    {
     "name": "stdout",
     "output_type": "stream",
     "text": [
      "\n",
      "Posterior means at iteration: 5000\n",
      "Residual variance: 9.602076\n",
      "Marker effects variance: 0.040711\n",
      "π: 0.911\n"
     ]
    },
    {
     "name": "stderr",
     "output_type": "stream",
     "text": [
      "\u001b[32mrunning MCMC for BayesC... 85%|█████████████████████    |  ETA: 0:00:00\u001b[39m"
     ]
    },
    {
     "name": "stdout",
     "output_type": "stream",
     "text": [
      "\n",
      "Posterior means at iteration: 10000\n",
      "Residual variance: 9.574978\n",
      "Marker effects variance: 0.042617\n",
      "π: 0.915\n"
     ]
    },
    {
     "name": "stderr",
     "output_type": "stream",
     "text": [
      "\u001b[32mrunning MCMC for BayesC...100%|█████████████████████████| Time: 0:00:03\u001b[39m\n"
     ]
    },
    {
     "name": "stdout",
     "output_type": "stream",
     "text": [
      "1000 markers on 300 individuals were added.\n",
      "\n",
      "The prior for marker effects variance is calculated from the genetic variance and π. The mean of the prior for the marker effects variance is: 0.040065\n",
      "\n",
      "\n"
     ]
    },
    {
     "name": "stderr",
     "output_type": "stream",
     "text": [
      "\u001b[32mrunning MCMC for BayesB... 42%|██████████               |  ETA: 0:00:03\u001b[39m"
     ]
    },
    {
     "name": "stdout",
     "output_type": "stream",
     "text": [
      "\n",
      "Posterior means at iteration: 5000\n",
      "Residual variance: 2.340338\n"
     ]
    },
    {
     "name": "stderr",
     "output_type": "stream",
     "text": [
      "\u001b[32mrunning MCMC for BayesB... 88%|██████████████████████   |  ETA: 0:00:01\u001b[39m"
     ]
    },
    {
     "name": "stdout",
     "output_type": "stream",
     "text": [
      "\n",
      "Posterior means at iteration: 10000\n",
      "Residual variance: 2.243395\n"
     ]
    },
    {
     "name": "stderr",
     "output_type": "stream",
     "text": [
      "\u001b[32mrunning MCMC for BayesB...100%|█████████████████████████| Time: 0:00:05\u001b[39m\n"
     ]
    },
    {
     "name": "stdout",
     "output_type": "stream",
     "text": [
      "1000 markers on 300 individuals were added.\n",
      "\n",
      "The prior for marker effects variance is calculated from the genetic variance and π. The mean of the prior for the marker effects variance is: 0.080129\n",
      "\n",
      "\n"
     ]
    },
    {
     "name": "stderr",
     "output_type": "stream",
     "text": [
      "\u001b[32mrunning MCMC for BayesB... 43%|███████████              |  ETA: 0:00:03\u001b[39m"
     ]
    },
    {
     "name": "stdout",
     "output_type": "stream",
     "text": [
      "\n",
      "Posterior means at iteration: 5000\n",
      "Residual variance: 8.491431\n",
      "π: 0.874\n"
     ]
    },
    {
     "name": "stderr",
     "output_type": "stream",
     "text": [
      "\u001b[32mrunning MCMC for BayesB... 88%|██████████████████████   |  ETA: 0:00:01\u001b[39m"
     ]
    },
    {
     "name": "stdout",
     "output_type": "stream",
     "text": [
      "\n",
      "Posterior means at iteration: 10000\n",
      "Residual variance: 8.931423\n",
      "π: 0.897\n"
     ]
    },
    {
     "name": "stderr",
     "output_type": "stream",
     "text": [
      "\u001b[32mrunning MCMC for BayesB...100%|█████████████████████████| Time: 0:00:05\u001b[39m\n"
     ]
    },
    {
     "name": "stdout",
     "output_type": "stream",
     "text": [
      "1000 markers on 300 individuals were added.\n",
      "\n",
      "The prior for marker effects variance is calculated from the genetic variance and π. The mean of the prior for the marker effects variance is: 0.080129\n",
      "\n",
      "\n"
     ]
    },
    {
     "name": "stderr",
     "output_type": "stream",
     "text": [
      "\u001b[32mrunning MCMC for BayesC... 41%|██████████               |  ETA: 0:00:02\u001b[39m"
     ]
    },
    {
     "name": "stdout",
     "output_type": "stream",
     "text": [
      "\n",
      "Posterior means at iteration: 5000\n",
      "Residual variance: 8.709031\n",
      "Marker effects variance: 0.030461\n",
      "π: 0.751\n"
     ]
    },
    {
     "name": "stderr",
     "output_type": "stream",
     "text": [
      "\u001b[32mrunning MCMC for BayesC... 85%|█████████████████████    |  ETA: 0:00:00\u001b[39m"
     ]
    },
    {
     "name": "stdout",
     "output_type": "stream",
     "text": [
      "\n",
      "Posterior means at iteration: 10000\n",
      "Residual variance: 8.893261\n",
      "Marker effects variance: 0.03333\n",
      "π: 0.792\n"
     ]
    },
    {
     "name": "stderr",
     "output_type": "stream",
     "text": [
      "\u001b[32mrunning MCMC for BayesC...100%|█████████████████████████| Time: 0:00:03\u001b[39m\n"
     ]
    }
   ],
   "source": [
    "n  = 300\n",
    "p  = 1000\n",
    "probNull = 0.95\n",
    "\n",
    "N  = 25\n",
    "Vg = 20\n",
    "Ve = 10\n",
    "\n",
    "Random.seed!(4321)\n",
    "\n",
    "Valpha = Vg/p*2\n",
    "λ = Ve/Valpha\n",
    "X = rand(Binomial(2,0.5), n,p)\n",
    "mme = float(X'X + Identity(p)*λ)\n",
    "mmei = inv(mme)\n",
    "xpxi = inv(X'X)\n",
    "CSV.write(\"genotypes\",DataFrame([string.(1:n) X]), writeheader=false)\n",
    "\n",
    "resSim = [getEstimates(X,mmei,xpxi,probNull,Vg, Ve) for i=1:N]\n",
    "resMat = [row[i] for row in resSim, i=1:6]\n",
    "\n",
    "resMeans = mean(resMat,dims=1)\n",
    "resStd = std(resMat,dims=1)./N;"
   ]
  },
  {
   "cell_type": "code",
   "execution_count": 18,
   "metadata": {},
   "outputs": [
    {
     "name": "stdout",
     "output_type": "stream",
     "text": [
      "     True   BayesA BayesB BayesC RR-BLUP  OLS\n",
      "     15.10 115.51  20.16  21.64  85.46 3478.54\n",
      "+/-   0.07   0.11   0.47   0.41   0.13  41.92\n"
     ]
    }
   ],
   "source": [
    "println(\"     True   BayesA BayesB BayesC RR-BLUP  OLS\")\n",
    "@printf(\"    %6.2f %6.2f %6.2f %6.2f %6.2f %6.2f\\n\", resMeans[1],resMeans[2],resMeans[3],resMeans[4],resMeans[5],resMeans[6] )\n",
    "@printf(\"+/- %6.2f %6.2f %6.2f %6.2f %6.2f %6.2f\\n\", resStd[1],resStd[2],resStd[3],resStd[4],resStd[5],resStd[6] )"
   ]
  },
  {
   "cell_type": "markdown",
   "metadata": {},
   "source": [
    "### Comparison of BayesA, BayesB, BayesCPi, RR-BLUP and OLS with Sample size n = 500 and number p = 1000 of markers and $\\pi=0.95$"
   ]
  },
  {
   "cell_type": "code",
   "execution_count": 19,
   "metadata": {
    "jupyter": {
     "outputs_hidden": true,
     "source_hidden": true
    }
   },
   "outputs": [
    {
     "name": "stdout",
     "output_type": "stream",
     "text": [
      "1000 markers on 500 individuals were added.\n",
      "\n",
      "The prior for marker effects variance is calculated from the genetic variance and π. The mean of the prior for the marker effects variance is: 0.04004\n",
      "\n",
      "\n"
     ]
    },
    {
     "name": "stderr",
     "output_type": "stream",
     "text": [
      "\u001b[32mrunning MCMC for BayesB... 43%|███████████              |  ETA: 0:00:05\u001b[39m"
     ]
    },
    {
     "name": "stdout",
     "output_type": "stream",
     "text": [
      "\n",
      "Posterior means at iteration: 5000\n",
      "Residual variance: 5.791029\n"
     ]
    },
    {
     "name": "stderr",
     "output_type": "stream",
     "text": [
      "\u001b[32mrunning MCMC for BayesB... 89%|██████████████████████   |  ETA: 0:00:01\u001b[39m"
     ]
    },
    {
     "name": "stdout",
     "output_type": "stream",
     "text": [
      "\n",
      "Posterior means at iteration: 10000\n",
      "Residual variance: 5.733718\n"
     ]
    },
    {
     "name": "stderr",
     "output_type": "stream",
     "text": [
      "\u001b[32mrunning MCMC for BayesB...100%|█████████████████████████| Time: 0:00:08\u001b[39m\n"
     ]
    },
    {
     "name": "stdout",
     "output_type": "stream",
     "text": [
      "1000 markers on 500 individuals were added.\n",
      "\n",
      "The prior for marker effects variance is calculated from the genetic variance and π. The mean of the prior for the marker effects variance is: 0.080081\n",
      "\n",
      "\n"
     ]
    },
    {
     "name": "stderr",
     "output_type": "stream",
     "text": [
      "\u001b[32mrunning MCMC for BayesB... 42%|███████████              |  ETA: 0:00:04\u001b[39m"
     ]
    },
    {
     "name": "stdout",
     "output_type": "stream",
     "text": [
      "\n",
      "Posterior means at iteration: 5000\n",
      "Residual variance: 11.56284\n",
      "π: 0.956\n"
     ]
    },
    {
     "name": "stderr",
     "output_type": "stream",
     "text": [
      "\u001b[32mrunning MCMC for BayesB... 88%|██████████████████████   |  ETA: 0:00:01\u001b[39m"
     ]
    },
    {
     "name": "stdout",
     "output_type": "stream",
     "text": [
      "\n",
      "Posterior means at iteration: 10000\n",
      "Residual variance: 11.500438\n",
      "π: 0.953\n"
     ]
    },
    {
     "name": "stderr",
     "output_type": "stream",
     "text": [
      "\u001b[32mrunning MCMC for BayesB...100%|█████████████████████████| Time: 0:00:06\u001b[39m\n"
     ]
    },
    {
     "name": "stdout",
     "output_type": "stream",
     "text": [
      "1000 markers on 500 individuals were added.\n",
      "\n",
      "The prior for marker effects variance is calculated from the genetic variance and π. The mean of the prior for the marker effects variance is: 0.080081\n",
      "\n",
      "\n"
     ]
    },
    {
     "name": "stderr",
     "output_type": "stream",
     "text": [
      "\u001b[32mrunning MCMC for BayesC... 40%|██████████               |  ETA: 0:00:02\u001b[39m"
     ]
    },
    {
     "name": "stdout",
     "output_type": "stream",
     "text": [
      "\n",
      "Posterior means at iteration: 5000\n",
      "Residual variance: 11.162925\n",
      "Marker effects variance: 0.031849\n",
      "π: 0.878\n"
     ]
    },
    {
     "name": "stderr",
     "output_type": "stream",
     "text": [
      "\u001b[32mrunning MCMC for BayesC... 88%|██████████████████████   |  ETA: 0:00:00\u001b[39m"
     ]
    },
    {
     "name": "stdout",
     "output_type": "stream",
     "text": [
      "\n",
      "Posterior means at iteration: 10000\n",
      "Residual variance: 11.270861\n",
      "Marker effects variance: 0.035064\n",
      "π: 0.9\n"
     ]
    },
    {
     "name": "stderr",
     "output_type": "stream",
     "text": [
      "\u001b[32mrunning MCMC for BayesC...100%|█████████████████████████| Time: 0:00:04\u001b[39m\n"
     ]
    },
    {
     "name": "stdout",
     "output_type": "stream",
     "text": [
      "1000 markers on 500 individuals were added.\n",
      "\n",
      "The prior for marker effects variance is calculated from the genetic variance and π. The mean of the prior for the marker effects variance is: 0.04004\n",
      "\n",
      "\n"
     ]
    },
    {
     "name": "stderr",
     "output_type": "stream",
     "text": [
      "\u001b[32mrunning MCMC for BayesB... 44%|███████████              |  ETA: 0:00:04\u001b[39m"
     ]
    },
    {
     "name": "stdout",
     "output_type": "stream",
     "text": [
      "\n",
      "Posterior means at iteration: 5000\n",
      "Residual variance: 3.836892\n"
     ]
    },
    {
     "name": "stderr",
     "output_type": "stream",
     "text": [
      "\u001b[32mrunning MCMC for BayesB... 89%|██████████████████████   |  ETA: 0:00:01\u001b[39m"
     ]
    },
    {
     "name": "stdout",
     "output_type": "stream",
     "text": [
      "\n",
      "Posterior means at iteration: 10000\n",
      "Residual variance: 3.845935\n"
     ]
    },
    {
     "name": "stderr",
     "output_type": "stream",
     "text": [
      "\u001b[32mrunning MCMC for BayesB...100%|█████████████████████████| Time: 0:00:07\u001b[39m\n"
     ]
    },
    {
     "name": "stdout",
     "output_type": "stream",
     "text": [
      "1000 markers on 500 individuals were added.\n",
      "\n",
      "The prior for marker effects variance is calculated from the genetic variance and π. The mean of the prior for the marker effects variance is: 0.080081\n",
      "\n",
      "\n"
     ]
    },
    {
     "name": "stderr",
     "output_type": "stream",
     "text": [
      "\u001b[32mrunning MCMC for BayesB... 44%|███████████              |  ETA: 0:00:03\u001b[39m"
     ]
    },
    {
     "name": "stdout",
     "output_type": "stream",
     "text": [
      "\n",
      "Posterior means at iteration: 5000\n",
      "Residual variance: 9.290521\n",
      "π: 0.964\n"
     ]
    },
    {
     "name": "stderr",
     "output_type": "stream",
     "text": [
      "\u001b[32mrunning MCMC for BayesB... 89%|██████████████████████   |  ETA: 0:00:01\u001b[39m"
     ]
    },
    {
     "name": "stdout",
     "output_type": "stream",
     "text": [
      "\n",
      "Posterior means at iteration: 10000\n",
      "Residual variance: 9.299996\n",
      "π: 0.964\n"
     ]
    },
    {
     "name": "stderr",
     "output_type": "stream",
     "text": [
      "\u001b[32mrunning MCMC for BayesB...100%|█████████████████████████| Time: 0:00:06\u001b[39m\n"
     ]
    },
    {
     "name": "stdout",
     "output_type": "stream",
     "text": [
      "1000 markers on 500 individuals were added.\n",
      "\n",
      "The prior for marker effects variance is calculated from the genetic variance and π. The mean of the prior for the marker effects variance is: 0.080081\n",
      "\n",
      "\n"
     ]
    },
    {
     "name": "stderr",
     "output_type": "stream",
     "text": [
      "\u001b[32mrunning MCMC for BayesC... 42%|███████████              |  ETA: 0:00:02\u001b[39m"
     ]
    },
    {
     "name": "stdout",
     "output_type": "stream",
     "text": [
      "\n",
      "Posterior means at iteration: 5000\n",
      "Residual variance: 9.390098\n",
      "Marker effects variance: 0.040881\n",
      "π: 0.952\n"
     ]
    },
    {
     "name": "stderr",
     "output_type": "stream",
     "text": [
      "\u001b[32mrunning MCMC for BayesC... 86%|█████████████████████    |  ETA: 0:00:01\u001b[39m"
     ]
    },
    {
     "name": "stdout",
     "output_type": "stream",
     "text": [
      "\n",
      "Posterior means at iteration: 10000\n",
      "Residual variance: 9.342607\n",
      "Marker effects variance: 0.041146\n",
      "π: 0.95\n"
     ]
    },
    {
     "name": "stderr",
     "output_type": "stream",
     "text": [
      "\u001b[32mrunning MCMC for BayesC...100%|█████████████████████████| Time: 0:00:04\u001b[39m\n"
     ]
    },
    {
     "name": "stdout",
     "output_type": "stream",
     "text": [
      "1000 markers on 500 individuals were added.\n",
      "\n",
      "The prior for marker effects variance is calculated from the genetic variance and π. The mean of the prior for the marker effects variance is: 0.04004\n",
      "\n",
      "\n"
     ]
    },
    {
     "name": "stderr",
     "output_type": "stream",
     "text": [
      "\u001b[32mrunning MCMC for BayesB... 43%|███████████              |  ETA: 0:00:04\u001b[39m"
     ]
    },
    {
     "name": "stdout",
     "output_type": "stream",
     "text": [
      "\n",
      "Posterior means at iteration: 5000\n",
      "Residual variance: 4.233884\n"
     ]
    },
    {
     "name": "stderr",
     "output_type": "stream",
     "text": [
      "\u001b[32mrunning MCMC for BayesB... 90%|██████████████████████   |  ETA: 0:00:01\u001b[39m"
     ]
    },
    {
     "name": "stdout",
     "output_type": "stream",
     "text": [
      "\n",
      "Posterior means at iteration: 10000\n",
      "Residual variance: 4.214327\n"
     ]
    },
    {
     "name": "stderr",
     "output_type": "stream",
     "text": [
      "\u001b[32mrunning MCMC for BayesB...100%|█████████████████████████| Time: 0:00:07\u001b[39m\n"
     ]
    },
    {
     "name": "stdout",
     "output_type": "stream",
     "text": [
      "1000 markers on 500 individuals were added.\n",
      "\n",
      "The prior for marker effects variance is calculated from the genetic variance and π. The mean of the prior for the marker effects variance is: 0.080081\n",
      "\n",
      "\n"
     ]
    },
    {
     "name": "stderr",
     "output_type": "stream",
     "text": [
      "\u001b[32mrunning MCMC for BayesB... 43%|███████████              |  ETA: 0:00:04\u001b[39m"
     ]
    },
    {
     "name": "stdout",
     "output_type": "stream",
     "text": [
      "\n",
      "Posterior means at iteration: 5000\n",
      "Residual variance: 9.382811\n",
      "π: 0.935\n"
     ]
    },
    {
     "name": "stderr",
     "output_type": "stream",
     "text": [
      "\u001b[32mrunning MCMC for BayesB... 89%|██████████████████████   |  ETA: 0:00:01\u001b[39m"
     ]
    },
    {
     "name": "stdout",
     "output_type": "stream",
     "text": [
      "\n",
      "Posterior means at iteration: 10000\n",
      "Residual variance: 9.42618\n",
      "π: 0.936\n"
     ]
    },
    {
     "name": "stderr",
     "output_type": "stream",
     "text": [
      "\u001b[32mrunning MCMC for BayesB...100%|█████████████████████████| Time: 0:00:06\u001b[39m\n"
     ]
    },
    {
     "name": "stdout",
     "output_type": "stream",
     "text": [
      "1000 markers on 500 individuals were added.\n",
      "\n",
      "The prior for marker effects variance is calculated from the genetic variance and π. The mean of the prior for the marker effects variance is: 0.080081\n",
      "\n",
      "\n"
     ]
    },
    {
     "name": "stderr",
     "output_type": "stream",
     "text": [
      "\u001b[32mrunning MCMC for BayesC... 41%|██████████               |  ETA: 0:00:02\u001b[39m"
     ]
    },
    {
     "name": "stdout",
     "output_type": "stream",
     "text": [
      "\n",
      "Posterior means at iteration: 5000\n",
      "Residual variance: 9.441344\n",
      "Marker effects variance: 0.040582\n",
      "π: 0.898\n"
     ]
    },
    {
     "name": "stderr",
     "output_type": "stream",
     "text": [
      "\u001b[32mrunning MCMC for BayesC... 86%|██████████████████████   |  ETA: 0:00:01\u001b[39m"
     ]
    },
    {
     "name": "stdout",
     "output_type": "stream",
     "text": [
      "\n",
      "Posterior means at iteration: 10000\n",
      "Residual variance: 9.383571\n",
      "Marker effects variance: 0.037726\n",
      "π: 0.889\n"
     ]
    },
    {
     "name": "stderr",
     "output_type": "stream",
     "text": [
      "\u001b[32mrunning MCMC for BayesC...100%|█████████████████████████| Time: 0:00:04\u001b[39m\n"
     ]
    },
    {
     "name": "stdout",
     "output_type": "stream",
     "text": [
      "1000 markers on 500 individuals were added.\n",
      "\n",
      "The prior for marker effects variance is calculated from the genetic variance and π. The mean of the prior for the marker effects variance is: 0.04004\n",
      "\n",
      "\n"
     ]
    },
    {
     "name": "stderr",
     "output_type": "stream",
     "text": [
      "\u001b[32mrunning MCMC for BayesB... 43%|███████████              |  ETA: 0:00:04\u001b[39m"
     ]
    },
    {
     "name": "stdout",
     "output_type": "stream",
     "text": [
      "\n",
      "Posterior means at iteration: 5000\n",
      "Residual variance: 3.935641\n"
     ]
    },
    {
     "name": "stderr",
     "output_type": "stream",
     "text": [
      "\u001b[32mrunning MCMC for BayesB... 89%|██████████████████████   |  ETA: 0:00:01\u001b[39m"
     ]
    },
    {
     "name": "stdout",
     "output_type": "stream",
     "text": [
      "\n",
      "Posterior means at iteration: 10000\n",
      "Residual variance: 3.973628\n"
     ]
    },
    {
     "name": "stderr",
     "output_type": "stream",
     "text": [
      "\u001b[32mrunning MCMC for BayesB...100%|█████████████████████████| Time: 0:00:07\u001b[39m\n"
     ]
    },
    {
     "name": "stdout",
     "output_type": "stream",
     "text": [
      "1000 markers on 500 individuals were added.\n",
      "\n",
      "The prior for marker effects variance is calculated from the genetic variance and π. The mean of the prior for the marker effects variance is: 0.080081\n",
      "\n",
      "\n"
     ]
    },
    {
     "name": "stderr",
     "output_type": "stream",
     "text": [
      "\u001b[32mrunning MCMC for BayesB... 43%|███████████              |  ETA: 0:00:03\u001b[39m"
     ]
    },
    {
     "name": "stdout",
     "output_type": "stream",
     "text": [
      "\n",
      "Posterior means at iteration: 5000\n",
      "Residual variance: 9.884363\n",
      "π: 0.971\n"
     ]
    },
    {
     "name": "stderr",
     "output_type": "stream",
     "text": [
      "\u001b[32mrunning MCMC for BayesB... 89%|██████████████████████   |  ETA: 0:00:01\u001b[39m"
     ]
    },
    {
     "name": "stdout",
     "output_type": "stream",
     "text": [
      "\n",
      "Posterior means at iteration: 10000\n",
      "Residual variance: 9.849688\n",
      "π: 0.968\n"
     ]
    },
    {
     "name": "stderr",
     "output_type": "stream",
     "text": [
      "\u001b[32mrunning MCMC for BayesB...100%|█████████████████████████| Time: 0:00:06\u001b[39m\n"
     ]
    },
    {
     "name": "stdout",
     "output_type": "stream",
     "text": [
      "1000 markers on 500 individuals were added.\n",
      "\n",
      "The prior for marker effects variance is calculated from the genetic variance and π. The mean of the prior for the marker effects variance is: 0.080081\n",
      "\n",
      "\n"
     ]
    },
    {
     "name": "stderr",
     "output_type": "stream",
     "text": [
      "\u001b[32mrunning MCMC for BayesC... 41%|██████████               |  ETA: 0:00:02\u001b[39m"
     ]
    },
    {
     "name": "stdout",
     "output_type": "stream",
     "text": [
      "\n",
      "Posterior means at iteration: 5000\n",
      "Residual variance: 9.779777\n",
      "Marker effects variance: 0.036053\n",
      "π: 0.94\n"
     ]
    },
    {
     "name": "stderr",
     "output_type": "stream",
     "text": [
      "\u001b[32mrunning MCMC for BayesC... 87%|██████████████████████   |  ETA: 0:00:00\u001b[39m"
     ]
    },
    {
     "name": "stdout",
     "output_type": "stream",
     "text": [
      "\n",
      "Posterior means at iteration: 10000\n",
      "Residual variance: 9.679229\n",
      "Marker effects variance: 0.034864\n",
      "π: 0.926\n"
     ]
    },
    {
     "name": "stderr",
     "output_type": "stream",
     "text": [
      "\u001b[32mrunning MCMC for BayesC...100%|█████████████████████████| Time: 0:00:04\u001b[39m\n"
     ]
    },
    {
     "name": "stdout",
     "output_type": "stream",
     "text": [
      "1000 markers on 500 individuals were added.\n",
      "\n",
      "The prior for marker effects variance is calculated from the genetic variance and π. The mean of the prior for the marker effects variance is: 0.04004\n",
      "\n",
      "\n"
     ]
    },
    {
     "name": "stderr",
     "output_type": "stream",
     "text": [
      "\u001b[32mrunning MCMC for BayesB... 43%|███████████              |  ETA: 0:00:04\u001b[39m"
     ]
    },
    {
     "name": "stdout",
     "output_type": "stream",
     "text": [
      "\n",
      "Posterior means at iteration: 5000\n",
      "Residual variance: 2.855055\n"
     ]
    },
    {
     "name": "stderr",
     "output_type": "stream",
     "text": [
      "\u001b[32mrunning MCMC for BayesB... 88%|██████████████████████   |  ETA: 0:00:01\u001b[39m"
     ]
    },
    {
     "name": "stdout",
     "output_type": "stream",
     "text": [
      "\n",
      "Posterior means at iteration: 10000\n",
      "Residual variance: 2.873193\n"
     ]
    },
    {
     "name": "stderr",
     "output_type": "stream",
     "text": [
      "\u001b[32mrunning MCMC for BayesB...100%|█████████████████████████| Time: 0:00:07\u001b[39m\n"
     ]
    },
    {
     "name": "stdout",
     "output_type": "stream",
     "text": [
      "1000 markers on 500 individuals were added.\n",
      "\n",
      "The prior for marker effects variance is calculated from the genetic variance and π. The mean of the prior for the marker effects variance is: 0.080081\n",
      "\n",
      "\n"
     ]
    },
    {
     "name": "stderr",
     "output_type": "stream",
     "text": [
      "\u001b[32mrunning MCMC for BayesB... 42%|███████████              |  ETA: 0:00:04\u001b[39m"
     ]
    },
    {
     "name": "stdout",
     "output_type": "stream",
     "text": [
      "\n",
      "Posterior means at iteration: 5000\n",
      "Residual variance: 8.262908\n",
      "π: 0.916\n"
     ]
    },
    {
     "name": "stderr",
     "output_type": "stream",
     "text": [
      "\u001b[32mrunning MCMC for BayesB... 88%|██████████████████████   |  ETA: 0:00:01\u001b[39m"
     ]
    },
    {
     "name": "stdout",
     "output_type": "stream",
     "text": [
      "\n",
      "Posterior means at iteration: 10000\n",
      "Residual variance: 8.282952\n",
      "π: 0.917\n"
     ]
    },
    {
     "name": "stderr",
     "output_type": "stream",
     "text": [
      "\u001b[32mrunning MCMC for BayesB...100%|█████████████████████████| Time: 0:00:06\u001b[39m\n"
     ]
    },
    {
     "name": "stdout",
     "output_type": "stream",
     "text": [
      "1000 markers on 500 individuals were added.\n",
      "\n",
      "The prior for marker effects variance is calculated from the genetic variance and π. The mean of the prior for the marker effects variance is: 0.080081\n",
      "\n",
      "\n"
     ]
    },
    {
     "name": "stderr",
     "output_type": "stream",
     "text": [
      "\u001b[32mrunning MCMC for BayesC... 43%|███████████              |  ETA: 0:00:02\u001b[39m"
     ]
    },
    {
     "name": "stdout",
     "output_type": "stream",
     "text": [
      "\n",
      "Posterior means at iteration: 5000\n",
      "Residual variance: 7.787566\n",
      "Marker effects variance: 0.025712\n",
      "π: 0.784\n"
     ]
    },
    {
     "name": "stderr",
     "output_type": "stream",
     "text": [
      "\u001b[32mrunning MCMC for BayesC... 88%|██████████████████████   |  ETA: 0:00:00\u001b[39m"
     ]
    },
    {
     "name": "stdout",
     "output_type": "stream",
     "text": [
      "\n",
      "Posterior means at iteration: 10000\n",
      "Residual variance: 7.857299\n",
      "Marker effects variance: 0.028191\n",
      "π: 0.798\n"
     ]
    },
    {
     "name": "stderr",
     "output_type": "stream",
     "text": [
      "\u001b[32mrunning MCMC for BayesC...100%|█████████████████████████| Time: 0:00:04\u001b[39m\n"
     ]
    },
    {
     "name": "stdout",
     "output_type": "stream",
     "text": [
      "1000 markers on 500 individuals were added.\n",
      "\n",
      "The prior for marker effects variance is calculated from the genetic variance and π. The mean of the prior for the marker effects variance is: 0.04004\n",
      "\n",
      "\n"
     ]
    },
    {
     "name": "stderr",
     "output_type": "stream",
     "text": [
      "\u001b[32mrunning MCMC for BayesB... 43%|███████████              |  ETA: 0:00:04\u001b[39m"
     ]
    },
    {
     "name": "stdout",
     "output_type": "stream",
     "text": [
      "\n",
      "Posterior means at iteration: 5000\n",
      "Residual variance: 5.22334\n"
     ]
    },
    {
     "name": "stderr",
     "output_type": "stream",
     "text": [
      "\u001b[32mrunning MCMC for BayesB... 89%|██████████████████████   |  ETA: 0:00:01\u001b[39m"
     ]
    },
    {
     "name": "stdout",
     "output_type": "stream",
     "text": [
      "\n",
      "Posterior means at iteration: 10000\n",
      "Residual variance: 5.207037\n"
     ]
    },
    {
     "name": "stderr",
     "output_type": "stream",
     "text": [
      "\u001b[32mrunning MCMC for BayesB...100%|█████████████████████████| Time: 0:00:07\u001b[39m\n"
     ]
    },
    {
     "name": "stdout",
     "output_type": "stream",
     "text": [
      "1000 markers on 500 individuals were added.\n",
      "\n",
      "The prior for marker effects variance is calculated from the genetic variance and π. The mean of the prior for the marker effects variance is: 0.080081\n",
      "\n",
      "\n"
     ]
    },
    {
     "name": "stderr",
     "output_type": "stream",
     "text": [
      "\u001b[32mrunning MCMC for BayesB... 42%|██████████               |  ETA: 0:00:03\u001b[39m"
     ]
    },
    {
     "name": "stdout",
     "output_type": "stream",
     "text": [
      "\n",
      "Posterior means at iteration: 5000\n",
      "Residual variance: 11.404666\n",
      "π: 0.944\n"
     ]
    },
    {
     "name": "stderr",
     "output_type": "stream",
     "text": [
      "\u001b[32mrunning MCMC for BayesB... 89%|██████████████████████   |  ETA: 0:00:01\u001b[39m"
     ]
    },
    {
     "name": "stdout",
     "output_type": "stream",
     "text": [
      "\n",
      "Posterior means at iteration: 10000\n",
      "Residual variance: 11.382199\n",
      "π: 0.944\n"
     ]
    },
    {
     "name": "stderr",
     "output_type": "stream",
     "text": [
      "\u001b[32mrunning MCMC for BayesB...100%|█████████████████████████| Time: 0:00:06\u001b[39m\n"
     ]
    },
    {
     "name": "stdout",
     "output_type": "stream",
     "text": [
      "1000 markers on 500 individuals were added.\n",
      "\n",
      "The prior for marker effects variance is calculated from the genetic variance and π. The mean of the prior for the marker effects variance is: 0.080081\n",
      "\n",
      "\n"
     ]
    },
    {
     "name": "stderr",
     "output_type": "stream",
     "text": [
      "\u001b[32mrunning MCMC for BayesC... 42%|███████████              |  ETA: 0:00:02\u001b[39m"
     ]
    },
    {
     "name": "stdout",
     "output_type": "stream",
     "text": [
      "\n",
      "Posterior means at iteration: 5000\n",
      "Residual variance: 11.069315\n",
      "Marker effects variance: 0.032865\n",
      "π: 0.873\n"
     ]
    },
    {
     "name": "stderr",
     "output_type": "stream",
     "text": [
      "\u001b[32mrunning MCMC for BayesC... 88%|██████████████████████   |  ETA: 0:00:00\u001b[39m"
     ]
    },
    {
     "name": "stdout",
     "output_type": "stream",
     "text": [
      "\n",
      "Posterior means at iteration: 10000\n",
      "Residual variance: 11.143735\n",
      "Marker effects variance: 0.034765\n",
      "π: 0.882\n"
     ]
    },
    {
     "name": "stderr",
     "output_type": "stream",
     "text": [
      "\u001b[32mrunning MCMC for BayesC...100%|█████████████████████████| Time: 0:00:04\u001b[39m\n"
     ]
    },
    {
     "name": "stdout",
     "output_type": "stream",
     "text": [
      "1000 markers on 500 individuals were added.\n",
      "\n",
      "The prior for marker effects variance is calculated from the genetic variance and π. The mean of the prior for the marker effects variance is: 0.04004\n",
      "\n",
      "\n"
     ]
    },
    {
     "name": "stderr",
     "output_type": "stream",
     "text": [
      "\u001b[32mrunning MCMC for BayesB... 43%|███████████              |  ETA: 0:00:04\u001b[39m"
     ]
    },
    {
     "name": "stdout",
     "output_type": "stream",
     "text": [
      "\n",
      "Posterior means at iteration: 5000\n",
      "Residual variance: 4.376715\n"
     ]
    },
    {
     "name": "stderr",
     "output_type": "stream",
     "text": [
      "\u001b[32mrunning MCMC for BayesB... 89%|██████████████████████   |  ETA: 0:00:01\u001b[39m"
     ]
    },
    {
     "name": "stdout",
     "output_type": "stream",
     "text": [
      "\n",
      "Posterior means at iteration: 10000\n",
      "Residual variance: 4.391742\n"
     ]
    },
    {
     "name": "stderr",
     "output_type": "stream",
     "text": [
      "\u001b[32mrunning MCMC for BayesB...100%|█████████████████████████| Time: 0:00:07\u001b[39m\n"
     ]
    },
    {
     "name": "stdout",
     "output_type": "stream",
     "text": [
      "1000 markers on 500 individuals were added.\n",
      "\n",
      "The prior for marker effects variance is calculated from the genetic variance and π. The mean of the prior for the marker effects variance is: 0.080081\n",
      "\n",
      "\n"
     ]
    },
    {
     "name": "stderr",
     "output_type": "stream",
     "text": [
      "\u001b[32mrunning MCMC for BayesB... 43%|███████████              |  ETA: 0:00:04\u001b[39m"
     ]
    },
    {
     "name": "stdout",
     "output_type": "stream",
     "text": [
      "\n",
      "Posterior means at iteration: 5000\n",
      "Residual variance: 9.63261\n",
      "π: 0.919\n"
     ]
    },
    {
     "name": "stderr",
     "output_type": "stream",
     "text": [
      "\u001b[32mrunning MCMC for BayesB... 89%|██████████████████████   |  ETA: 0:00:01\u001b[39m"
     ]
    },
    {
     "name": "stdout",
     "output_type": "stream",
     "text": [
      "\n",
      "Posterior means at iteration: 10000\n",
      "Residual variance: 9.611013\n",
      "π: 0.919\n"
     ]
    },
    {
     "name": "stderr",
     "output_type": "stream",
     "text": [
      "\u001b[32mrunning MCMC for BayesB...100%|█████████████████████████| Time: 0:00:06\u001b[39m\n"
     ]
    },
    {
     "name": "stdout",
     "output_type": "stream",
     "text": [
      "1000 markers on 500 individuals were added.\n",
      "\n",
      "The prior for marker effects variance is calculated from the genetic variance and π. The mean of the prior for the marker effects variance is: 0.080081\n",
      "\n",
      "\n"
     ]
    },
    {
     "name": "stderr",
     "output_type": "stream",
     "text": [
      "\u001b[32mrunning MCMC for BayesC... 40%|██████████               |  ETA: 0:00:03\u001b[39m"
     ]
    },
    {
     "name": "stdout",
     "output_type": "stream",
     "text": [
      "\n",
      "Posterior means at iteration: 5000\n",
      "Residual variance: 9.867656\n",
      "Marker effects variance: 0.038475\n",
      "π: 0.87\n"
     ]
    },
    {
     "name": "stderr",
     "output_type": "stream",
     "text": [
      "\u001b[32mrunning MCMC for BayesC... 87%|██████████████████████   |  ETA: 0:00:01\u001b[39m"
     ]
    },
    {
     "name": "stdout",
     "output_type": "stream",
     "text": [
      "\n",
      "Posterior means at iteration: 10000\n",
      "Residual variance: 9.945234\n",
      "Marker effects variance: 0.04046\n",
      "π: 0.887\n"
     ]
    },
    {
     "name": "stderr",
     "output_type": "stream",
     "text": [
      "\u001b[32mrunning MCMC for BayesC...100%|█████████████████████████| Time: 0:00:04\u001b[39m\n"
     ]
    },
    {
     "name": "stdout",
     "output_type": "stream",
     "text": [
      "1000 markers on 500 individuals were added.\n",
      "\n",
      "The prior for marker effects variance is calculated from the genetic variance and π. The mean of the prior for the marker effects variance is: 0.04004\n",
      "\n",
      "\n"
     ]
    },
    {
     "name": "stderr",
     "output_type": "stream",
     "text": [
      "\u001b[32mrunning MCMC for BayesB... 43%|███████████              |  ETA: 0:00:04\u001b[39m"
     ]
    },
    {
     "name": "stdout",
     "output_type": "stream",
     "text": [
      "\n",
      "Posterior means at iteration: 5000\n",
      "Residual variance: 3.719094\n"
     ]
    },
    {
     "name": "stderr",
     "output_type": "stream",
     "text": [
      "\u001b[32mrunning MCMC for BayesB... 88%|██████████████████████   |  ETA: 0:00:01\u001b[39m"
     ]
    },
    {
     "name": "stdout",
     "output_type": "stream",
     "text": [
      "\n",
      "Posterior means at iteration: 10000\n",
      "Residual variance: 3.704344\n"
     ]
    },
    {
     "name": "stderr",
     "output_type": "stream",
     "text": [
      "\u001b[32mrunning MCMC for BayesB...100%|█████████████████████████| Time: 0:00:07\u001b[39m\n"
     ]
    },
    {
     "name": "stdout",
     "output_type": "stream",
     "text": [
      "1000 markers on 500 individuals were added.\n",
      "\n",
      "The prior for marker effects variance is calculated from the genetic variance and π. The mean of the prior for the marker effects variance is: 0.080081\n",
      "\n",
      "\n"
     ]
    },
    {
     "name": "stderr",
     "output_type": "stream",
     "text": [
      "\u001b[32mrunning MCMC for BayesB... 44%|███████████              |  ETA: 0:00:04\u001b[39m"
     ]
    },
    {
     "name": "stdout",
     "output_type": "stream",
     "text": [
      "\n",
      "Posterior means at iteration: 5000\n",
      "Residual variance: 8.190024\n",
      "π: 0.892\n"
     ]
    },
    {
     "name": "stderr",
     "output_type": "stream",
     "text": [
      "\u001b[32mrunning MCMC for BayesB... 88%|██████████████████████   |  ETA: 0:00:01\u001b[39m"
     ]
    },
    {
     "name": "stdout",
     "output_type": "stream",
     "text": [
      "\n",
      "Posterior means at iteration: 10000\n",
      "Residual variance: 8.237681\n",
      "π: 0.894\n"
     ]
    },
    {
     "name": "stderr",
     "output_type": "stream",
     "text": [
      "\u001b[32mrunning MCMC for BayesB...100%|█████████████████████████| Time: 0:00:06\u001b[39m\n"
     ]
    },
    {
     "name": "stdout",
     "output_type": "stream",
     "text": [
      "1000 markers on 500 individuals were added.\n",
      "\n",
      "The prior for marker effects variance is calculated from the genetic variance and π. The mean of the prior for the marker effects variance is: 0.080081\n",
      "\n",
      "\n"
     ]
    },
    {
     "name": "stderr",
     "output_type": "stream",
     "text": [
      "\u001b[32mrunning MCMC for BayesC... 40%|██████████               |  ETA: 0:00:02\u001b[39m"
     ]
    },
    {
     "name": "stdout",
     "output_type": "stream",
     "text": [
      "\n",
      "Posterior means at iteration: 5000\n",
      "Residual variance: 8.525566\n",
      "Marker effects variance: 0.078121\n",
      "π: 0.914\n"
     ]
    },
    {
     "name": "stderr",
     "output_type": "stream",
     "text": [
      "\u001b[32mrunning MCMC for BayesC... 87%|██████████████████████   |  ETA: 0:00:00\u001b[39m"
     ]
    },
    {
     "name": "stdout",
     "output_type": "stream",
     "text": [
      "\n",
      "Posterior means at iteration: 10000\n",
      "Residual variance: 8.541275\n",
      "Marker effects variance: 0.079955\n",
      "π: 0.919\n"
     ]
    },
    {
     "name": "stderr",
     "output_type": "stream",
     "text": [
      "\u001b[32mrunning MCMC for BayesC...100%|█████████████████████████| Time: 0:00:03\u001b[39m\n"
     ]
    },
    {
     "name": "stdout",
     "output_type": "stream",
     "text": [
      "1000 markers on 500 individuals were added.\n",
      "\n",
      "The prior for marker effects variance is calculated from the genetic variance and π. The mean of the prior for the marker effects variance is: 0.04004\n",
      "\n",
      "\n"
     ]
    },
    {
     "name": "stderr",
     "output_type": "stream",
     "text": [
      "\u001b[32mrunning MCMC for BayesB... 44%|███████████              |  ETA: 0:00:04\u001b[39m"
     ]
    },
    {
     "name": "stdout",
     "output_type": "stream",
     "text": [
      "\n",
      "Posterior means at iteration: 5000\n",
      "Residual variance: 4.756112\n"
     ]
    },
    {
     "name": "stderr",
     "output_type": "stream",
     "text": [
      "\u001b[32mrunning MCMC for BayesB... 89%|██████████████████████   |  ETA: 0:00:01\u001b[39m"
     ]
    },
    {
     "name": "stdout",
     "output_type": "stream",
     "text": [
      "\n",
      "Posterior means at iteration: 10000\n",
      "Residual variance: 4.738358\n"
     ]
    },
    {
     "name": "stderr",
     "output_type": "stream",
     "text": [
      "\u001b[32mrunning MCMC for BayesB...100%|█████████████████████████| Time: 0:00:07\u001b[39m\n"
     ]
    },
    {
     "name": "stdout",
     "output_type": "stream",
     "text": [
      "1000 markers on 500 individuals were added.\n",
      "\n",
      "The prior for marker effects variance is calculated from the genetic variance and π. The mean of the prior for the marker effects variance is: 0.080081\n",
      "\n",
      "\n"
     ]
    },
    {
     "name": "stderr",
     "output_type": "stream",
     "text": [
      "\u001b[32mrunning MCMC for BayesB... 43%|███████████              |  ETA: 0:00:04\u001b[39m"
     ]
    },
    {
     "name": "stdout",
     "output_type": "stream",
     "text": [
      "\n",
      "Posterior means at iteration: 5000\n",
      "Residual variance: 9.89062\n",
      "π: 0.922\n"
     ]
    },
    {
     "name": "stderr",
     "output_type": "stream",
     "text": [
      "\u001b[32mrunning MCMC for BayesB... 88%|██████████████████████   |  ETA: 0:00:01\u001b[39m"
     ]
    },
    {
     "name": "stdout",
     "output_type": "stream",
     "text": [
      "\n",
      "Posterior means at iteration: 10000\n",
      "Residual variance: 9.897839\n",
      "π: 0.922\n"
     ]
    },
    {
     "name": "stderr",
     "output_type": "stream",
     "text": [
      "\u001b[32mrunning MCMC for BayesB...100%|█████████████████████████| Time: 0:00:06\u001b[39m\n"
     ]
    },
    {
     "name": "stdout",
     "output_type": "stream",
     "text": [
      "1000 markers on 500 individuals were added.\n",
      "\n",
      "The prior for marker effects variance is calculated from the genetic variance and π. The mean of the prior for the marker effects variance is: 0.080081\n",
      "\n",
      "\n"
     ]
    },
    {
     "name": "stderr",
     "output_type": "stream",
     "text": [
      "\u001b[32mrunning MCMC for BayesC... 40%|██████████               |  ETA: 0:00:02\u001b[39m"
     ]
    },
    {
     "name": "stdout",
     "output_type": "stream",
     "text": [
      "\n",
      "Posterior means at iteration: 5000\n",
      "Residual variance: 10.188708\n",
      "Marker effects variance: 0.042655\n",
      "π: 0.908\n"
     ]
    },
    {
     "name": "stderr",
     "output_type": "stream",
     "text": [
      "\u001b[32mrunning MCMC for BayesC... 88%|██████████████████████   |  ETA: 0:00:00\u001b[39m"
     ]
    },
    {
     "name": "stdout",
     "output_type": "stream",
     "text": [
      "\n",
      "Posterior means at iteration: 10000\n",
      "Residual variance: 10.116154\n",
      "Marker effects variance: 0.039844\n",
      "π: 0.892\n"
     ]
    },
    {
     "name": "stderr",
     "output_type": "stream",
     "text": [
      "\u001b[32mrunning MCMC for BayesC...100%|█████████████████████████| Time: 0:00:04\u001b[39m\n"
     ]
    },
    {
     "name": "stdout",
     "output_type": "stream",
     "text": [
      "1000 markers on 500 individuals were added.\n",
      "\n",
      "The prior for marker effects variance is calculated from the genetic variance and π. The mean of the prior for the marker effects variance is: 0.04004\n",
      "\n",
      "\n"
     ]
    },
    {
     "name": "stderr",
     "output_type": "stream",
     "text": [
      "\u001b[32mrunning MCMC for BayesB... 44%|███████████              |  ETA: 0:00:04\u001b[39m"
     ]
    },
    {
     "name": "stdout",
     "output_type": "stream",
     "text": [
      "\n",
      "Posterior means at iteration: 5000\n",
      "Residual variance: 3.886879\n"
     ]
    },
    {
     "name": "stderr",
     "output_type": "stream",
     "text": [
      "\u001b[32mrunning MCMC for BayesB... 89%|██████████████████████   |  ETA: 0:00:01\u001b[39m"
     ]
    },
    {
     "name": "stdout",
     "output_type": "stream",
     "text": [
      "\n",
      "Posterior means at iteration: 10000\n",
      "Residual variance: 3.896529\n"
     ]
    },
    {
     "name": "stderr",
     "output_type": "stream",
     "text": [
      "\u001b[32mrunning MCMC for BayesB...100%|█████████████████████████| Time: 0:00:07\u001b[39m\n"
     ]
    },
    {
     "name": "stdout",
     "output_type": "stream",
     "text": [
      "1000 markers on 500 individuals were added.\n",
      "\n",
      "The prior for marker effects variance is calculated from the genetic variance and π. The mean of the prior for the marker effects variance is: 0.080081\n",
      "\n",
      "\n"
     ]
    },
    {
     "name": "stderr",
     "output_type": "stream",
     "text": [
      "\u001b[32mrunning MCMC for BayesB... 42%|███████████              |  ETA: 0:00:04\u001b[39m"
     ]
    },
    {
     "name": "stdout",
     "output_type": "stream",
     "text": [
      "\n",
      "Posterior means at iteration: 5000\n",
      "Residual variance: 9.97519\n",
      "π: 0.971\n"
     ]
    },
    {
     "name": "stderr",
     "output_type": "stream",
     "text": [
      "\u001b[32mrunning MCMC for BayesB... 88%|██████████████████████   |  ETA: 0:00:01\u001b[39m"
     ]
    },
    {
     "name": "stdout",
     "output_type": "stream",
     "text": [
      "\n",
      "Posterior means at iteration: 10000\n",
      "Residual variance: 9.997659\n",
      "π: 0.972\n"
     ]
    },
    {
     "name": "stderr",
     "output_type": "stream",
     "text": [
      "\u001b[32mrunning MCMC for BayesB...100%|█████████████████████████| Time: 0:00:06\u001b[39m\n"
     ]
    },
    {
     "name": "stdout",
     "output_type": "stream",
     "text": [
      "1000 markers on 500 individuals were added.\n",
      "\n",
      "The prior for marker effects variance is calculated from the genetic variance and π. The mean of the prior for the marker effects variance is: 0.080081\n",
      "\n",
      "\n"
     ]
    },
    {
     "name": "stderr",
     "output_type": "stream",
     "text": [
      "\u001b[32mrunning MCMC for BayesC... 41%|██████████               |  ETA: 0:00:02\u001b[39m"
     ]
    },
    {
     "name": "stdout",
     "output_type": "stream",
     "text": [
      "\n",
      "Posterior means at iteration: 5000\n",
      "Residual variance: 9.909766\n",
      "Marker effects variance: 0.038747\n",
      "π: 0.952\n"
     ]
    },
    {
     "name": "stderr",
     "output_type": "stream",
     "text": [
      "\u001b[32mrunning MCMC for BayesC... 86%|██████████████████████   |  ETA: 0:00:01\u001b[39m"
     ]
    },
    {
     "name": "stdout",
     "output_type": "stream",
     "text": [
      "\n",
      "Posterior means at iteration: 10000\n",
      "Residual variance: 9.772905\n",
      "Marker effects variance: 0.034648\n",
      "π: 0.927\n"
     ]
    },
    {
     "name": "stderr",
     "output_type": "stream",
     "text": [
      "\u001b[32mrunning MCMC for BayesC...100%|█████████████████████████| Time: 0:00:04\u001b[39m\n"
     ]
    },
    {
     "name": "stdout",
     "output_type": "stream",
     "text": [
      "1000 markers on 500 individuals were added.\n",
      "\n",
      "The prior for marker effects variance is calculated from the genetic variance and π. The mean of the prior for the marker effects variance is: 0.04004\n",
      "\n",
      "\n"
     ]
    },
    {
     "name": "stderr",
     "output_type": "stream",
     "text": [
      "\u001b[32mrunning MCMC for BayesB... 43%|███████████              |  ETA: 0:00:04\u001b[39m"
     ]
    },
    {
     "name": "stdout",
     "output_type": "stream",
     "text": [
      "\n",
      "Posterior means at iteration: 5000\n",
      "Residual variance: 3.894196\n"
     ]
    },
    {
     "name": "stderr",
     "output_type": "stream",
     "text": [
      "\u001b[32mrunning MCMC for BayesB... 89%|██████████████████████   |  ETA: 0:00:01\u001b[39m"
     ]
    },
    {
     "name": "stdout",
     "output_type": "stream",
     "text": [
      "\n",
      "Posterior means at iteration: 10000\n",
      "Residual variance: 3.871799\n"
     ]
    },
    {
     "name": "stderr",
     "output_type": "stream",
     "text": [
      "\u001b[32mrunning MCMC for BayesB...100%|█████████████████████████| Time: 0:00:07\u001b[39m\n"
     ]
    },
    {
     "name": "stdout",
     "output_type": "stream",
     "text": [
      "1000 markers on 500 individuals were added.\n",
      "\n",
      "The prior for marker effects variance is calculated from the genetic variance and π. The mean of the prior for the marker effects variance is: 0.080081\n",
      "\n",
      "\n"
     ]
    },
    {
     "name": "stderr",
     "output_type": "stream",
     "text": [
      "\u001b[32mrunning MCMC for BayesB... 44%|███████████              |  ETA: 0:00:03\u001b[39m"
     ]
    },
    {
     "name": "stdout",
     "output_type": "stream",
     "text": [
      "\n",
      "Posterior means at iteration: 5000\n",
      "Residual variance: 8.937613\n",
      "π: 0.945\n"
     ]
    },
    {
     "name": "stderr",
     "output_type": "stream",
     "text": [
      "\u001b[32mrunning MCMC for BayesB... 88%|██████████████████████   |  ETA: 0:00:01\u001b[39m"
     ]
    },
    {
     "name": "stdout",
     "output_type": "stream",
     "text": [
      "\n",
      "Posterior means at iteration: 10000\n",
      "Residual variance: 8.932839\n",
      "π: 0.945\n"
     ]
    },
    {
     "name": "stderr",
     "output_type": "stream",
     "text": [
      "\u001b[32mrunning MCMC for BayesB...100%|█████████████████████████| Time: 0:00:06\u001b[39m\n"
     ]
    },
    {
     "name": "stdout",
     "output_type": "stream",
     "text": [
      "1000 markers on 500 individuals were added.\n",
      "\n",
      "The prior for marker effects variance is calculated from the genetic variance and π. The mean of the prior for the marker effects variance is: 0.080081\n",
      "\n",
      "\n"
     ]
    },
    {
     "name": "stderr",
     "output_type": "stream",
     "text": [
      "\u001b[32mrunning MCMC for BayesC... 42%|██████████               |  ETA: 0:00:02\u001b[39m"
     ]
    },
    {
     "name": "stdout",
     "output_type": "stream",
     "text": [
      "\n",
      "Posterior means at iteration: 5000\n",
      "Residual variance: 8.934897\n",
      "Marker effects variance: 0.038846\n",
      "π: 0.906\n"
     ]
    },
    {
     "name": "stderr",
     "output_type": "stream",
     "text": [
      "\u001b[32mrunning MCMC for BayesC... 87%|██████████████████████   |  ETA: 0:00:00\u001b[39m"
     ]
    },
    {
     "name": "stdout",
     "output_type": "stream",
     "text": [
      "\n",
      "Posterior means at iteration: 10000\n",
      "Residual variance: 8.867009\n",
      "Marker effects variance: 0.038087\n",
      "π: 0.9\n"
     ]
    },
    {
     "name": "stderr",
     "output_type": "stream",
     "text": [
      "\u001b[32mrunning MCMC for BayesC...100%|█████████████████████████| Time: 0:00:03\u001b[39m\n"
     ]
    },
    {
     "name": "stdout",
     "output_type": "stream",
     "text": [
      "1000 markers on 500 individuals were added.\n",
      "\n",
      "The prior for marker effects variance is calculated from the genetic variance and π. The mean of the prior for the marker effects variance is: 0.04004\n",
      "\n",
      "\n"
     ]
    },
    {
     "name": "stderr",
     "output_type": "stream",
     "text": [
      "\u001b[32mrunning MCMC for BayesB... 43%|███████████              |  ETA: 0:00:04\u001b[39m"
     ]
    },
    {
     "name": "stdout",
     "output_type": "stream",
     "text": [
      "\n",
      "Posterior means at iteration: 5000\n",
      "Residual variance: 4.89746\n"
     ]
    },
    {
     "name": "stderr",
     "output_type": "stream",
     "text": [
      "\u001b[32mrunning MCMC for BayesB... 89%|██████████████████████   |  ETA: 0:00:01\u001b[39m"
     ]
    },
    {
     "name": "stdout",
     "output_type": "stream",
     "text": [
      "\n",
      "Posterior means at iteration: 10000\n",
      "Residual variance: 4.921863\n"
     ]
    },
    {
     "name": "stderr",
     "output_type": "stream",
     "text": [
      "\u001b[32mrunning MCMC for BayesB...100%|█████████████████████████| Time: 0:00:06\u001b[39m\n"
     ]
    },
    {
     "name": "stdout",
     "output_type": "stream",
     "text": [
      "1000 markers on 500 individuals were added.\n",
      "\n",
      "The prior for marker effects variance is calculated from the genetic variance and π. The mean of the prior for the marker effects variance is: 0.080081\n",
      "\n",
      "\n"
     ]
    },
    {
     "name": "stderr",
     "output_type": "stream",
     "text": [
      "\u001b[32mrunning MCMC for BayesB... 42%|███████████              |  ETA: 0:00:03\u001b[39m"
     ]
    },
    {
     "name": "stdout",
     "output_type": "stream",
     "text": [
      "\n",
      "Posterior means at iteration: 5000\n",
      "Residual variance: 10.369506\n",
      "π: 0.933\n"
     ]
    },
    {
     "name": "stderr",
     "output_type": "stream",
     "text": [
      "\u001b[32mrunning MCMC for BayesB... 89%|██████████████████████   |  ETA: 0:00:01\u001b[39m"
     ]
    },
    {
     "name": "stdout",
     "output_type": "stream",
     "text": [
      "\n",
      "Posterior means at iteration: 10000\n",
      "Residual variance: 10.314345\n",
      "π: 0.93\n"
     ]
    },
    {
     "name": "stderr",
     "output_type": "stream",
     "text": [
      "\u001b[32mrunning MCMC for BayesB...100%|█████████████████████████| Time: 0:00:06\u001b[39m\n"
     ]
    },
    {
     "name": "stdout",
     "output_type": "stream",
     "text": [
      "1000 markers on 500 individuals were added.\n",
      "\n",
      "The prior for marker effects variance is calculated from the genetic variance and π. The mean of the prior for the marker effects variance is: 0.080081\n",
      "\n",
      "\n"
     ]
    },
    {
     "name": "stderr",
     "output_type": "stream",
     "text": [
      "\u001b[32mrunning MCMC for BayesC... 42%|██████████               |  ETA: 0:00:02\u001b[39m"
     ]
    },
    {
     "name": "stdout",
     "output_type": "stream",
     "text": [
      "\n",
      "Posterior means at iteration: 5000\n",
      "Residual variance: 10.100256\n",
      "Marker effects variance: 0.034627\n",
      "π: 0.81\n"
     ]
    },
    {
     "name": "stderr",
     "output_type": "stream",
     "text": [
      "\u001b[32mrunning MCMC for BayesC... 86%|██████████████████████   |  ETA: 0:00:00\u001b[39m"
     ]
    },
    {
     "name": "stdout",
     "output_type": "stream",
     "text": [
      "\n",
      "Posterior means at iteration: 10000\n",
      "Residual variance: 10.022086\n",
      "Marker effects variance: 0.033256\n",
      "π: 0.824\n"
     ]
    },
    {
     "name": "stderr",
     "output_type": "stream",
     "text": [
      "\u001b[32mrunning MCMC for BayesC...100%|█████████████████████████| Time: 0:00:03\u001b[39m\n"
     ]
    },
    {
     "name": "stdout",
     "output_type": "stream",
     "text": [
      "1000 markers on 500 individuals were added.\n",
      "\n",
      "The prior for marker effects variance is calculated from the genetic variance and π. The mean of the prior for the marker effects variance is: 0.04004\n",
      "\n",
      "\n"
     ]
    },
    {
     "name": "stderr",
     "output_type": "stream",
     "text": [
      "\u001b[32mrunning MCMC for BayesB... 44%|███████████              |  ETA: 0:00:04\u001b[39m"
     ]
    },
    {
     "name": "stdout",
     "output_type": "stream",
     "text": [
      "\n",
      "Posterior means at iteration: 5000\n",
      "Residual variance: 3.645783\n"
     ]
    },
    {
     "name": "stderr",
     "output_type": "stream",
     "text": [
      "\u001b[32mrunning MCMC for BayesB... 88%|██████████████████████   |  ETA: 0:00:01\u001b[39m"
     ]
    },
    {
     "name": "stdout",
     "output_type": "stream",
     "text": [
      "\n",
      "Posterior means at iteration: 10000\n",
      "Residual variance: 3.62641\n"
     ]
    },
    {
     "name": "stderr",
     "output_type": "stream",
     "text": [
      "\u001b[32mrunning MCMC for BayesB...100%|█████████████████████████| Time: 0:00:07\u001b[39m\n"
     ]
    },
    {
     "name": "stdout",
     "output_type": "stream",
     "text": [
      "1000 markers on 500 individuals were added.\n",
      "\n",
      "The prior for marker effects variance is calculated from the genetic variance and π. The mean of the prior for the marker effects variance is: 0.080081\n",
      "\n",
      "\n"
     ]
    },
    {
     "name": "stderr",
     "output_type": "stream",
     "text": [
      "\u001b[32mrunning MCMC for BayesB... 44%|███████████              |  ETA: 0:00:03\u001b[39m"
     ]
    },
    {
     "name": "stdout",
     "output_type": "stream",
     "text": [
      "\n",
      "Posterior means at iteration: 5000\n",
      "Residual variance: 9.873122\n",
      "π: 0.922\n"
     ]
    },
    {
     "name": "stderr",
     "output_type": "stream",
     "text": [
      "\u001b[32mrunning MCMC for BayesB... 89%|██████████████████████   |  ETA: 0:00:01\u001b[39m"
     ]
    },
    {
     "name": "stdout",
     "output_type": "stream",
     "text": [
      "\n",
      "Posterior means at iteration: 10000\n",
      "Residual variance: 9.834989\n",
      "π: 0.921\n"
     ]
    },
    {
     "name": "stderr",
     "output_type": "stream",
     "text": [
      "\u001b[32mrunning MCMC for BayesB...100%|█████████████████████████| Time: 0:00:06\u001b[39m\n"
     ]
    },
    {
     "name": "stdout",
     "output_type": "stream",
     "text": [
      "1000 markers on 500 individuals were added.\n",
      "\n",
      "The prior for marker effects variance is calculated from the genetic variance and π. The mean of the prior for the marker effects variance is: 0.080081\n",
      "\n",
      "\n"
     ]
    },
    {
     "name": "stderr",
     "output_type": "stream",
     "text": [
      "\u001b[32mrunning MCMC for BayesC... 43%|███████████              |  ETA: 0:00:02\u001b[39m"
     ]
    },
    {
     "name": "stdout",
     "output_type": "stream",
     "text": [
      "\n",
      "Posterior means at iteration: 5000\n",
      "Residual variance: 9.705889\n",
      "Marker effects variance: 0.03523\n",
      "π: 0.863\n"
     ]
    },
    {
     "name": "stderr",
     "output_type": "stream",
     "text": [
      "\u001b[32mrunning MCMC for BayesC... 86%|██████████████████████   |  ETA: 0:00:01\u001b[39m"
     ]
    },
    {
     "name": "stdout",
     "output_type": "stream",
     "text": [
      "\n",
      "Posterior means at iteration: 10000\n",
      "Residual variance: 9.660156\n",
      "Marker effects variance: 0.033899\n",
      "π: 0.848\n"
     ]
    },
    {
     "name": "stderr",
     "output_type": "stream",
     "text": [
      "\u001b[32mrunning MCMC for BayesC...100%|█████████████████████████| Time: 0:00:04\u001b[39m\n"
     ]
    },
    {
     "name": "stdout",
     "output_type": "stream",
     "text": [
      "1000 markers on 500 individuals were added.\n",
      "\n",
      "The prior for marker effects variance is calculated from the genetic variance and π. The mean of the prior for the marker effects variance is: 0.04004\n",
      "\n",
      "\n"
     ]
    },
    {
     "name": "stderr",
     "output_type": "stream",
     "text": [
      "\u001b[32mrunning MCMC for BayesB... 43%|███████████              |  ETA: 0:00:04\u001b[39m"
     ]
    },
    {
     "name": "stdout",
     "output_type": "stream",
     "text": [
      "\n",
      "Posterior means at iteration: 5000\n",
      "Residual variance: 4.508975\n"
     ]
    },
    {
     "name": "stderr",
     "output_type": "stream",
     "text": [
      "\u001b[32mrunning MCMC for BayesB... 88%|██████████████████████   |  ETA: 0:00:01\u001b[39m"
     ]
    },
    {
     "name": "stdout",
     "output_type": "stream",
     "text": [
      "\n",
      "Posterior means at iteration: 10000\n",
      "Residual variance: 4.499223\n"
     ]
    },
    {
     "name": "stderr",
     "output_type": "stream",
     "text": [
      "\u001b[32mrunning MCMC for BayesB...100%|█████████████████████████| Time: 0:00:07\u001b[39m\n"
     ]
    },
    {
     "name": "stdout",
     "output_type": "stream",
     "text": [
      "1000 markers on 500 individuals were added.\n",
      "\n",
      "The prior for marker effects variance is calculated from the genetic variance and π. The mean of the prior for the marker effects variance is: 0.080081\n",
      "\n",
      "\n"
     ]
    },
    {
     "name": "stderr",
     "output_type": "stream",
     "text": [
      "\u001b[32mrunning MCMC for BayesB... 43%|███████████              |  ETA: 0:00:04\u001b[39m"
     ]
    },
    {
     "name": "stdout",
     "output_type": "stream",
     "text": [
      "\n",
      "Posterior means at iteration: 5000\n",
      "Residual variance: 9.739118\n",
      "π: 0.955\n"
     ]
    },
    {
     "name": "stderr",
     "output_type": "stream",
     "text": [
      "\u001b[32mrunning MCMC for BayesB... 88%|██████████████████████   |  ETA: 0:00:01\u001b[39m"
     ]
    },
    {
     "name": "stdout",
     "output_type": "stream",
     "text": [
      "\n",
      "Posterior means at iteration: 10000\n",
      "Residual variance: 9.78973\n",
      "π: 0.956\n"
     ]
    },
    {
     "name": "stderr",
     "output_type": "stream",
     "text": [
      "\u001b[32mrunning MCMC for BayesB...100%|█████████████████████████| Time: 0:00:06\u001b[39m\n"
     ]
    },
    {
     "name": "stdout",
     "output_type": "stream",
     "text": [
      "1000 markers on 500 individuals were added.\n",
      "\n",
      "The prior for marker effects variance is calculated from the genetic variance and π. The mean of the prior for the marker effects variance is: 0.080081\n",
      "\n",
      "\n"
     ]
    },
    {
     "name": "stderr",
     "output_type": "stream",
     "text": [
      "\u001b[32mrunning MCMC for BayesC... 42%|██████████               |  ETA: 0:00:02\u001b[39m"
     ]
    },
    {
     "name": "stdout",
     "output_type": "stream",
     "text": [
      "\n",
      "Posterior means at iteration: 5000\n",
      "Residual variance: 9.948533\n",
      "Marker effects variance: 0.059602\n",
      "π: 0.952\n"
     ]
    },
    {
     "name": "stderr",
     "output_type": "stream",
     "text": [
      "\u001b[32mrunning MCMC for BayesC... 86%|██████████████████████   |  ETA: 0:00:01\u001b[39m"
     ]
    },
    {
     "name": "stdout",
     "output_type": "stream",
     "text": [
      "\n",
      "Posterior means at iteration: 10000\n",
      "Residual variance: 9.944136\n",
      "Marker effects variance: 0.055242\n",
      "π: 0.946\n"
     ]
    },
    {
     "name": "stderr",
     "output_type": "stream",
     "text": [
      "\u001b[32mrunning MCMC for BayesC...100%|█████████████████████████| Time: 0:00:04\u001b[39m\n"
     ]
    },
    {
     "name": "stdout",
     "output_type": "stream",
     "text": [
      "1000 markers on 500 individuals were added.\n",
      "\n",
      "The prior for marker effects variance is calculated from the genetic variance and π. The mean of the prior for the marker effects variance is: 0.04004\n",
      "\n",
      "\n"
     ]
    },
    {
     "name": "stderr",
     "output_type": "stream",
     "text": [
      "\u001b[32mrunning MCMC for BayesB... 43%|███████████              |  ETA: 0:00:04\u001b[39m"
     ]
    },
    {
     "name": "stdout",
     "output_type": "stream",
     "text": [
      "\n",
      "Posterior means at iteration: 5000\n",
      "Residual variance: 4.386674\n"
     ]
    },
    {
     "name": "stderr",
     "output_type": "stream",
     "text": [
      "\u001b[32mrunning MCMC for BayesB... 88%|██████████████████████   |  ETA: 0:00:01\u001b[39m"
     ]
    },
    {
     "name": "stdout",
     "output_type": "stream",
     "text": [
      "\n",
      "Posterior means at iteration: 10000\n",
      "Residual variance: 4.388614\n"
     ]
    },
    {
     "name": "stderr",
     "output_type": "stream",
     "text": [
      "\u001b[32mrunning MCMC for BayesB...100%|█████████████████████████| Time: 0:00:07\u001b[39m\n"
     ]
    },
    {
     "name": "stdout",
     "output_type": "stream",
     "text": [
      "1000 markers on 500 individuals were added.\n",
      "\n",
      "The prior for marker effects variance is calculated from the genetic variance and π. The mean of the prior for the marker effects variance is: 0.080081\n",
      "\n",
      "\n"
     ]
    },
    {
     "name": "stderr",
     "output_type": "stream",
     "text": [
      "\u001b[32mrunning MCMC for BayesB... 44%|███████████              |  ETA: 0:00:04\u001b[39m"
     ]
    },
    {
     "name": "stdout",
     "output_type": "stream",
     "text": [
      "\n",
      "Posterior means at iteration: 5000\n",
      "Residual variance: 10.16407\n",
      "π: 0.952\n"
     ]
    },
    {
     "name": "stderr",
     "output_type": "stream",
     "text": [
      "\u001b[32mrunning MCMC for BayesB... 89%|██████████████████████   |  ETA: 0:00:01\u001b[39m"
     ]
    },
    {
     "name": "stdout",
     "output_type": "stream",
     "text": [
      "\n",
      "Posterior means at iteration: 10000\n",
      "Residual variance: 10.116327\n",
      "π: 0.95\n"
     ]
    },
    {
     "name": "stderr",
     "output_type": "stream",
     "text": [
      "\u001b[32mrunning MCMC for BayesB...100%|█████████████████████████| Time: 0:00:06\u001b[39m\n"
     ]
    },
    {
     "name": "stdout",
     "output_type": "stream",
     "text": [
      "1000 markers on 500 individuals were added.\n",
      "\n",
      "The prior for marker effects variance is calculated from the genetic variance and π. The mean of the prior for the marker effects variance is: 0.080081\n",
      "\n",
      "\n"
     ]
    },
    {
     "name": "stderr",
     "output_type": "stream",
     "text": [
      "\u001b[32mrunning MCMC for BayesC... 42%|███████████              |  ETA: 0:00:02\u001b[39m"
     ]
    },
    {
     "name": "stdout",
     "output_type": "stream",
     "text": [
      "\n",
      "Posterior means at iteration: 5000\n",
      "Residual variance: 10.2068\n",
      "Marker effects variance: 0.042049\n",
      "π: 0.917\n"
     ]
    },
    {
     "name": "stderr",
     "output_type": "stream",
     "text": [
      "\u001b[32mrunning MCMC for BayesC... 87%|██████████████████████   |  ETA: 0:00:00\u001b[39m"
     ]
    },
    {
     "name": "stdout",
     "output_type": "stream",
     "text": [
      "\n",
      "Posterior means at iteration: 10000\n",
      "Residual variance: 10.213806\n",
      "Marker effects variance: 0.042285\n",
      "π: 0.926\n"
     ]
    },
    {
     "name": "stderr",
     "output_type": "stream",
     "text": [
      "\u001b[32mrunning MCMC for BayesC...100%|█████████████████████████| Time: 0:00:04\u001b[39m\n"
     ]
    },
    {
     "name": "stdout",
     "output_type": "stream",
     "text": [
      "1000 markers on 500 individuals were added.\n",
      "\n",
      "The prior for marker effects variance is calculated from the genetic variance and π. The mean of the prior for the marker effects variance is: 0.04004\n",
      "\n",
      "\n"
     ]
    },
    {
     "name": "stderr",
     "output_type": "stream",
     "text": [
      "\u001b[32mrunning MCMC for BayesB... 43%|███████████              |  ETA: 0:00:04\u001b[39m"
     ]
    },
    {
     "name": "stdout",
     "output_type": "stream",
     "text": [
      "\n",
      "Posterior means at iteration: 5000\n",
      "Residual variance: 4.026878\n"
     ]
    },
    {
     "name": "stderr",
     "output_type": "stream",
     "text": [
      "\u001b[32mrunning MCMC for BayesB... 88%|██████████████████████   |  ETA: 0:00:01\u001b[39m"
     ]
    },
    {
     "name": "stdout",
     "output_type": "stream",
     "text": [
      "\n",
      "Posterior means at iteration: 10000\n",
      "Residual variance: 3.988293\n"
     ]
    },
    {
     "name": "stderr",
     "output_type": "stream",
     "text": [
      "\u001b[32mrunning MCMC for BayesB...100%|█████████████████████████| Time: 0:00:07\u001b[39m\n"
     ]
    },
    {
     "name": "stdout",
     "output_type": "stream",
     "text": [
      "1000 markers on 500 individuals were added.\n",
      "\n",
      "The prior for marker effects variance is calculated from the genetic variance and π. The mean of the prior for the marker effects variance is: 0.080081\n",
      "\n",
      "\n"
     ]
    },
    {
     "name": "stderr",
     "output_type": "stream",
     "text": [
      "\u001b[32mrunning MCMC for BayesB... 44%|███████████              |  ETA: 0:00:03\u001b[39m"
     ]
    },
    {
     "name": "stdout",
     "output_type": "stream",
     "text": [
      "\n",
      "Posterior means at iteration: 5000\n",
      "Residual variance: 10.455329\n",
      "π: 0.962\n"
     ]
    },
    {
     "name": "stderr",
     "output_type": "stream",
     "text": [
      "\u001b[32mrunning MCMC for BayesB... 89%|██████████████████████   |  ETA: 0:00:01\u001b[39m"
     ]
    },
    {
     "name": "stdout",
     "output_type": "stream",
     "text": [
      "\n",
      "Posterior means at iteration: 10000\n",
      "Residual variance: 10.406604\n",
      "π: 0.959\n"
     ]
    },
    {
     "name": "stderr",
     "output_type": "stream",
     "text": [
      "\u001b[32mrunning MCMC for BayesB...100%|█████████████████████████| Time: 0:00:06\u001b[39m\n"
     ]
    },
    {
     "name": "stdout",
     "output_type": "stream",
     "text": [
      "1000 markers on 500 individuals were added.\n",
      "\n",
      "The prior for marker effects variance is calculated from the genetic variance and π. The mean of the prior for the marker effects variance is: 0.080081\n",
      "\n",
      "\n"
     ]
    },
    {
     "name": "stderr",
     "output_type": "stream",
     "text": [
      "\u001b[32mrunning MCMC for BayesC... 41%|██████████               |  ETA: 0:00:02\u001b[39m"
     ]
    },
    {
     "name": "stdout",
     "output_type": "stream",
     "text": [
      "\n",
      "Posterior means at iteration: 5000\n",
      "Residual variance: 10.40785\n",
      "Marker effects variance: 0.03832\n",
      "π: 0.933\n"
     ]
    },
    {
     "name": "stderr",
     "output_type": "stream",
     "text": [
      "\u001b[32mrunning MCMC for BayesC... 88%|██████████████████████   |  ETA: 0:00:00\u001b[39m"
     ]
    },
    {
     "name": "stdout",
     "output_type": "stream",
     "text": [
      "\n",
      "Posterior means at iteration: 10000\n",
      "Residual variance: 10.438512\n",
      "Marker effects variance: 0.039641\n",
      "π: 0.935\n"
     ]
    },
    {
     "name": "stderr",
     "output_type": "stream",
     "text": [
      "\u001b[32mrunning MCMC for BayesC...100%|█████████████████████████| Time: 0:00:04\u001b[39m\n"
     ]
    },
    {
     "name": "stdout",
     "output_type": "stream",
     "text": [
      "1000 markers on 500 individuals were added.\n",
      "\n",
      "The prior for marker effects variance is calculated from the genetic variance and π. The mean of the prior for the marker effects variance is: 0.04004\n",
      "\n",
      "\n"
     ]
    },
    {
     "name": "stderr",
     "output_type": "stream",
     "text": [
      "\u001b[32mrunning MCMC for BayesB... 42%|███████████              |  ETA: 0:00:04\u001b[39m"
     ]
    },
    {
     "name": "stdout",
     "output_type": "stream",
     "text": [
      "\n",
      "Posterior means at iteration: 5000\n",
      "Residual variance: 3.447475\n"
     ]
    },
    {
     "name": "stderr",
     "output_type": "stream",
     "text": [
      "\u001b[32mrunning MCMC for BayesB... 89%|██████████████████████   |  ETA: 0:00:01\u001b[39m"
     ]
    },
    {
     "name": "stdout",
     "output_type": "stream",
     "text": [
      "\n",
      "Posterior means at iteration: 10000\n",
      "Residual variance: 3.496721\n"
     ]
    },
    {
     "name": "stderr",
     "output_type": "stream",
     "text": [
      "\u001b[32mrunning MCMC for BayesB...100%|█████████████████████████| Time: 0:00:07\u001b[39m\n"
     ]
    },
    {
     "name": "stdout",
     "output_type": "stream",
     "text": [
      "1000 markers on 500 individuals were added.\n",
      "\n",
      "The prior for marker effects variance is calculated from the genetic variance and π. The mean of the prior for the marker effects variance is: 0.080081\n",
      "\n",
      "\n"
     ]
    },
    {
     "name": "stderr",
     "output_type": "stream",
     "text": [
      "\u001b[32mrunning MCMC for BayesB... 43%|███████████              |  ETA: 0:00:04\u001b[39m"
     ]
    },
    {
     "name": "stdout",
     "output_type": "stream",
     "text": [
      "\n",
      "Posterior means at iteration: 5000\n",
      "Residual variance: 8.436208\n",
      "π: 0.946\n"
     ]
    },
    {
     "name": "stderr",
     "output_type": "stream",
     "text": [
      "\u001b[32mrunning MCMC for BayesB... 88%|██████████████████████   |  ETA: 0:00:01\u001b[39m"
     ]
    },
    {
     "name": "stdout",
     "output_type": "stream",
     "text": [
      "\n",
      "Posterior means at iteration: 10000\n",
      "Residual variance: 8.476878\n",
      "π: 0.948\n"
     ]
    },
    {
     "name": "stderr",
     "output_type": "stream",
     "text": [
      "\u001b[32mrunning MCMC for BayesB...100%|█████████████████████████| Time: 0:00:06\u001b[39m\n"
     ]
    },
    {
     "name": "stdout",
     "output_type": "stream",
     "text": [
      "1000 markers on 500 individuals were added.\n",
      "\n",
      "The prior for marker effects variance is calculated from the genetic variance and π. The mean of the prior for the marker effects variance is: 0.080081\n",
      "\n",
      "\n"
     ]
    },
    {
     "name": "stderr",
     "output_type": "stream",
     "text": [
      "\u001b[32mrunning MCMC for BayesC... 42%|██████████               |  ETA: 0:00:02\u001b[39m"
     ]
    },
    {
     "name": "stdout",
     "output_type": "stream",
     "text": [
      "\n",
      "Posterior means at iteration: 5000\n",
      "Residual variance: 8.709385\n",
      "Marker effects variance: 0.05143\n",
      "π: 0.948\n"
     ]
    },
    {
     "name": "stderr",
     "output_type": "stream",
     "text": [
      "\u001b[32mrunning MCMC for BayesC... 86%|██████████████████████   |  ETA: 0:00:00\u001b[39m"
     ]
    },
    {
     "name": "stdout",
     "output_type": "stream",
     "text": [
      "\n",
      "Posterior means at iteration: 10000\n",
      "Residual variance: 8.68873\n",
      "Marker effects variance: 0.051203\n",
      "π: 0.946\n"
     ]
    },
    {
     "name": "stderr",
     "output_type": "stream",
     "text": [
      "\u001b[32mrunning MCMC for BayesC...100%|█████████████████████████| Time: 0:00:04\u001b[39m\n"
     ]
    },
    {
     "name": "stdout",
     "output_type": "stream",
     "text": [
      "1000 markers on 500 individuals were added.\n",
      "\n",
      "The prior for marker effects variance is calculated from the genetic variance and π. The mean of the prior for the marker effects variance is: 0.04004\n",
      "\n",
      "\n"
     ]
    },
    {
     "name": "stderr",
     "output_type": "stream",
     "text": [
      "\u001b[32mrunning MCMC for BayesB... 43%|███████████              |  ETA: 0:00:04\u001b[39m"
     ]
    },
    {
     "name": "stdout",
     "output_type": "stream",
     "text": [
      "\n",
      "Posterior means at iteration: 5000\n",
      "Residual variance: 3.357148\n"
     ]
    },
    {
     "name": "stderr",
     "output_type": "stream",
     "text": [
      "\u001b[32mrunning MCMC for BayesB... 89%|██████████████████████   |  ETA: 0:00:01\u001b[39m"
     ]
    },
    {
     "name": "stdout",
     "output_type": "stream",
     "text": [
      "\n",
      "Posterior means at iteration: 10000\n",
      "Residual variance: 3.336455\n"
     ]
    },
    {
     "name": "stderr",
     "output_type": "stream",
     "text": [
      "\u001b[32mrunning MCMC for BayesB...100%|█████████████████████████| Time: 0:00:07\u001b[39m\n"
     ]
    },
    {
     "name": "stdout",
     "output_type": "stream",
     "text": [
      "1000 markers on 500 individuals were added.\n",
      "\n",
      "The prior for marker effects variance is calculated from the genetic variance and π. The mean of the prior for the marker effects variance is: 0.080081\n",
      "\n",
      "\n"
     ]
    },
    {
     "name": "stderr",
     "output_type": "stream",
     "text": [
      "\u001b[32mrunning MCMC for BayesB... 44%|███████████              |  ETA: 0:00:04\u001b[39m"
     ]
    },
    {
     "name": "stdout",
     "output_type": "stream",
     "text": [
      "\n",
      "Posterior means at iteration: 5000\n",
      "Residual variance: 9.292123\n",
      "π: 0.971\n"
     ]
    },
    {
     "name": "stderr",
     "output_type": "stream",
     "text": [
      "\u001b[32mrunning MCMC for BayesB... 89%|██████████████████████   |  ETA: 0:00:01\u001b[39m"
     ]
    },
    {
     "name": "stdout",
     "output_type": "stream",
     "text": [
      "\n",
      "Posterior means at iteration: 10000\n",
      "Residual variance: 9.306212\n",
      "π: 0.972\n"
     ]
    },
    {
     "name": "stderr",
     "output_type": "stream",
     "text": [
      "\u001b[32mrunning MCMC for BayesB...100%|█████████████████████████| Time: 0:00:06\u001b[39m\n"
     ]
    },
    {
     "name": "stdout",
     "output_type": "stream",
     "text": [
      "1000 markers on 500 individuals were added.\n",
      "\n",
      "The prior for marker effects variance is calculated from the genetic variance and π. The mean of the prior for the marker effects variance is: 0.080081\n",
      "\n",
      "\n"
     ]
    },
    {
     "name": "stderr",
     "output_type": "stream",
     "text": [
      "\u001b[32mrunning MCMC for BayesC... 41%|██████████               |  ETA: 0:00:02\u001b[39m"
     ]
    },
    {
     "name": "stdout",
     "output_type": "stream",
     "text": [
      "\n",
      "Posterior means at iteration: 5000\n",
      "Residual variance: 9.02481\n",
      "Marker effects variance: 0.032464\n",
      "π: 0.927\n"
     ]
    },
    {
     "name": "stderr",
     "output_type": "stream",
     "text": [
      "\u001b[32mrunning MCMC for BayesC... 87%|██████████████████████   |  ETA: 0:00:00\u001b[39m"
     ]
    },
    {
     "name": "stdout",
     "output_type": "stream",
     "text": [
      "\n",
      "Posterior means at iteration: 10000\n",
      "Residual variance: 9.007224\n",
      "Marker effects variance: 0.031959\n",
      "π: 0.926\n"
     ]
    },
    {
     "name": "stderr",
     "output_type": "stream",
     "text": [
      "\u001b[32mrunning MCMC for BayesC...100%|█████████████████████████| Time: 0:00:04\u001b[39m\n"
     ]
    },
    {
     "name": "stdout",
     "output_type": "stream",
     "text": [
      "1000 markers on 500 individuals were added.\n",
      "\n",
      "The prior for marker effects variance is calculated from the genetic variance and π. The mean of the prior for the marker effects variance is: 0.04004\n",
      "\n",
      "\n"
     ]
    },
    {
     "name": "stderr",
     "output_type": "stream",
     "text": [
      "\u001b[32mrunning MCMC for BayesB... 43%|███████████              |  ETA: 0:00:04\u001b[39m"
     ]
    },
    {
     "name": "stdout",
     "output_type": "stream",
     "text": [
      "\n",
      "Posterior means at iteration: 5000\n",
      "Residual variance: 4.360652\n"
     ]
    },
    {
     "name": "stderr",
     "output_type": "stream",
     "text": [
      "\u001b[32mrunning MCMC for BayesB... 88%|██████████████████████   |  ETA: 0:00:01\u001b[39m"
     ]
    },
    {
     "name": "stdout",
     "output_type": "stream",
     "text": [
      "\n",
      "Posterior means at iteration: 10000\n",
      "Residual variance: 4.372839\n"
     ]
    },
    {
     "name": "stderr",
     "output_type": "stream",
     "text": [
      "\u001b[32mrunning MCMC for BayesB...100%|█████████████████████████| Time: 0:00:07\u001b[39m\n"
     ]
    },
    {
     "name": "stdout",
     "output_type": "stream",
     "text": [
      "1000 markers on 500 individuals were added.\n",
      "\n",
      "The prior for marker effects variance is calculated from the genetic variance and π. The mean of the prior for the marker effects variance is: 0.080081\n",
      "\n",
      "\n"
     ]
    },
    {
     "name": "stderr",
     "output_type": "stream",
     "text": [
      "\u001b[32mrunning MCMC for BayesB... 43%|███████████              |  ETA: 0:00:04\u001b[39m"
     ]
    },
    {
     "name": "stdout",
     "output_type": "stream",
     "text": [
      "\n",
      "Posterior means at iteration: 5000\n",
      "Residual variance: 10.164543\n",
      "π: 0.914\n"
     ]
    },
    {
     "name": "stderr",
     "output_type": "stream",
     "text": [
      "\u001b[32mrunning MCMC for BayesB... 89%|██████████████████████   |  ETA: 0:00:01\u001b[39m"
     ]
    },
    {
     "name": "stdout",
     "output_type": "stream",
     "text": [
      "\n",
      "Posterior means at iteration: 10000\n",
      "Residual variance: 10.124802\n",
      "π: 0.911\n"
     ]
    },
    {
     "name": "stderr",
     "output_type": "stream",
     "text": [
      "\u001b[32mrunning MCMC for BayesB...100%|█████████████████████████| Time: 0:00:07\u001b[39m\n"
     ]
    },
    {
     "name": "stdout",
     "output_type": "stream",
     "text": [
      "1000 markers on 500 individuals were added.\n",
      "\n",
      "The prior for marker effects variance is calculated from the genetic variance and π. The mean of the prior for the marker effects variance is: 0.080081\n",
      "\n",
      "\n"
     ]
    },
    {
     "name": "stderr",
     "output_type": "stream",
     "text": [
      "\u001b[32mrunning MCMC for BayesC... 41%|██████████               |  ETA: 0:00:02\u001b[39m"
     ]
    },
    {
     "name": "stdout",
     "output_type": "stream",
     "text": [
      "\n",
      "Posterior means at iteration: 5000\n",
      "Residual variance: 9.942523\n",
      "Marker effects variance: 0.029845\n",
      "π: 0.803\n"
     ]
    },
    {
     "name": "stderr",
     "output_type": "stream",
     "text": [
      "\u001b[32mrunning MCMC for BayesC... 87%|██████████████████████   |  ETA: 0:00:01\u001b[39m"
     ]
    },
    {
     "name": "stdout",
     "output_type": "stream",
     "text": [
      "\n",
      "Posterior means at iteration: 10000\n",
      "Residual variance: 9.850576\n",
      "Marker effects variance: 0.029987\n",
      "π: 0.776\n"
     ]
    },
    {
     "name": "stderr",
     "output_type": "stream",
     "text": [
      "\u001b[32mrunning MCMC for BayesC...100%|█████████████████████████| Time: 0:00:04\u001b[39m\n"
     ]
    },
    {
     "name": "stdout",
     "output_type": "stream",
     "text": [
      "1000 markers on 500 individuals were added.\n",
      "\n",
      "The prior for marker effects variance is calculated from the genetic variance and π. The mean of the prior for the marker effects variance is: 0.04004\n",
      "\n",
      "\n"
     ]
    },
    {
     "name": "stderr",
     "output_type": "stream",
     "text": [
      "\u001b[32mrunning MCMC for BayesB... 43%|███████████              |  ETA: 0:00:04\u001b[39m"
     ]
    },
    {
     "name": "stdout",
     "output_type": "stream",
     "text": [
      "\n",
      "Posterior means at iteration: 5000\n",
      "Residual variance: 5.004746\n"
     ]
    },
    {
     "name": "stderr",
     "output_type": "stream",
     "text": [
      "\u001b[32mrunning MCMC for BayesB... 89%|██████████████████████   |  ETA: 0:00:01\u001b[39m"
     ]
    },
    {
     "name": "stdout",
     "output_type": "stream",
     "text": [
      "\n",
      "Posterior means at iteration: 10000\n",
      "Residual variance: 4.978611\n"
     ]
    },
    {
     "name": "stderr",
     "output_type": "stream",
     "text": [
      "\u001b[32mrunning MCMC for BayesB...100%|█████████████████████████| Time: 0:00:07\u001b[39m\n"
     ]
    },
    {
     "name": "stdout",
     "output_type": "stream",
     "text": [
      "1000 markers on 500 individuals were added.\n",
      "\n",
      "The prior for marker effects variance is calculated from the genetic variance and π. The mean of the prior for the marker effects variance is: 0.080081\n",
      "\n",
      "\n"
     ]
    },
    {
     "name": "stderr",
     "output_type": "stream",
     "text": [
      "\u001b[32mrunning MCMC for BayesB... 42%|███████████              |  ETA: 0:00:04\u001b[39m"
     ]
    },
    {
     "name": "stdout",
     "output_type": "stream",
     "text": [
      "\n",
      "Posterior means at iteration: 5000\n",
      "Residual variance: 9.444115\n",
      "π: 0.923\n"
     ]
    },
    {
     "name": "stderr",
     "output_type": "stream",
     "text": [
      "\u001b[32mrunning MCMC for BayesB... 89%|██████████████████████   |  ETA: 0:00:01\u001b[39m"
     ]
    },
    {
     "name": "stdout",
     "output_type": "stream",
     "text": [
      "\n",
      "Posterior means at iteration: 10000\n",
      "Residual variance: 9.44321\n",
      "π: 0.923\n"
     ]
    },
    {
     "name": "stderr",
     "output_type": "stream",
     "text": [
      "\u001b[32mrunning MCMC for BayesB...100%|█████████████████████████| Time: 0:00:07\u001b[39m\n"
     ]
    },
    {
     "name": "stdout",
     "output_type": "stream",
     "text": [
      "1000 markers on 500 individuals were added.\n",
      "\n",
      "The prior for marker effects variance is calculated from the genetic variance and π. The mean of the prior for the marker effects variance is: 0.080081\n",
      "\n",
      "\n"
     ]
    },
    {
     "name": "stderr",
     "output_type": "stream",
     "text": [
      "\u001b[32mrunning MCMC for BayesC... 41%|██████████               |  ETA: 0:00:02\u001b[39m"
     ]
    },
    {
     "name": "stdout",
     "output_type": "stream",
     "text": [
      "\n",
      "Posterior means at iteration: 5000\n",
      "Residual variance: 9.710668\n",
      "Marker effects variance: 0.046771\n",
      "π: 0.9\n"
     ]
    },
    {
     "name": "stderr",
     "output_type": "stream",
     "text": [
      "\u001b[32mrunning MCMC for BayesC... 87%|██████████████████████   |  ETA: 0:00:01\u001b[39m"
     ]
    },
    {
     "name": "stdout",
     "output_type": "stream",
     "text": [
      "\n",
      "Posterior means at iteration: 10000\n",
      "Residual variance: 9.697939\n",
      "Marker effects variance: 0.046744\n",
      "π: 0.903\n"
     ]
    },
    {
     "name": "stderr",
     "output_type": "stream",
     "text": [
      "\u001b[32mrunning MCMC for BayesC...100%|█████████████████████████| Time: 0:00:04\u001b[39m\n"
     ]
    },
    {
     "name": "stdout",
     "output_type": "stream",
     "text": [
      "1000 markers on 500 individuals were added.\n",
      "\n",
      "The prior for marker effects variance is calculated from the genetic variance and π. The mean of the prior for the marker effects variance is: 0.04004\n",
      "\n",
      "\n"
     ]
    },
    {
     "name": "stderr",
     "output_type": "stream",
     "text": [
      "\u001b[32mrunning MCMC for BayesB... 43%|███████████              |  ETA: 0:00:04\u001b[39m"
     ]
    },
    {
     "name": "stdout",
     "output_type": "stream",
     "text": [
      "\n",
      "Posterior means at iteration: 5000\n",
      "Residual variance: 4.358562\n"
     ]
    },
    {
     "name": "stderr",
     "output_type": "stream",
     "text": [
      "\u001b[32mrunning MCMC for BayesB... 89%|██████████████████████   |  ETA: 0:00:01\u001b[39m"
     ]
    },
    {
     "name": "stdout",
     "output_type": "stream",
     "text": [
      "\n",
      "Posterior means at iteration: 10000\n",
      "Residual variance: 4.367179\n"
     ]
    },
    {
     "name": "stderr",
     "output_type": "stream",
     "text": [
      "\u001b[32mrunning MCMC for BayesB...100%|█████████████████████████| Time: 0:00:07\u001b[39m\n"
     ]
    },
    {
     "name": "stdout",
     "output_type": "stream",
     "text": [
      "1000 markers on 500 individuals were added.\n",
      "\n",
      "The prior for marker effects variance is calculated from the genetic variance and π. The mean of the prior for the marker effects variance is: 0.080081\n",
      "\n",
      "\n"
     ]
    },
    {
     "name": "stderr",
     "output_type": "stream",
     "text": [
      "\u001b[32mrunning MCMC for BayesB... 43%|███████████              |  ETA: 0:00:04\u001b[39m"
     ]
    },
    {
     "name": "stdout",
     "output_type": "stream",
     "text": [
      "\n",
      "Posterior means at iteration: 5000\n",
      "Residual variance: 9.962361\n",
      "π: 0.906\n"
     ]
    },
    {
     "name": "stderr",
     "output_type": "stream",
     "text": [
      "\u001b[32mrunning MCMC for BayesB... 89%|██████████████████████   |  ETA: 0:00:01\u001b[39m"
     ]
    },
    {
     "name": "stdout",
     "output_type": "stream",
     "text": [
      "\n",
      "Posterior means at iteration: 10000\n",
      "Residual variance: 9.94169\n",
      "π: 0.905\n"
     ]
    },
    {
     "name": "stderr",
     "output_type": "stream",
     "text": [
      "\u001b[32mrunning MCMC for BayesB...100%|█████████████████████████| Time: 0:00:06\u001b[39m\n"
     ]
    },
    {
     "name": "stdout",
     "output_type": "stream",
     "text": [
      "1000 markers on 500 individuals were added.\n",
      "\n",
      "The prior for marker effects variance is calculated from the genetic variance and π. The mean of the prior for the marker effects variance is: 0.080081\n",
      "\n",
      "\n"
     ]
    },
    {
     "name": "stderr",
     "output_type": "stream",
     "text": [
      "\u001b[32mrunning MCMC for BayesC... 42%|███████████              |  ETA: 0:00:03\u001b[39m"
     ]
    },
    {
     "name": "stdout",
     "output_type": "stream",
     "text": [
      "\n",
      "Posterior means at iteration: 5000\n",
      "Residual variance: 9.816021\n",
      "Marker effects variance: 0.032228\n",
      "π: 0.803\n"
     ]
    },
    {
     "name": "stderr",
     "output_type": "stream",
     "text": [
      "\u001b[32mrunning MCMC for BayesC... 87%|██████████████████████   |  ETA: 0:00:01\u001b[39m"
     ]
    },
    {
     "name": "stdout",
     "output_type": "stream",
     "text": [
      "\n",
      "Posterior means at iteration: 10000\n",
      "Residual variance: 9.67967\n",
      "Marker effects variance: 0.029096\n",
      "π: 0.779\n"
     ]
    },
    {
     "name": "stderr",
     "output_type": "stream",
     "text": [
      "\u001b[32mrunning MCMC for BayesC...100%|█████████████████████████| Time: 0:00:04\u001b[39m\n"
     ]
    },
    {
     "name": "stdout",
     "output_type": "stream",
     "text": [
      "1000 markers on 500 individuals were added.\n",
      "\n",
      "The prior for marker effects variance is calculated from the genetic variance and π. The mean of the prior for the marker effects variance is: 0.04004\n",
      "\n",
      "\n"
     ]
    },
    {
     "name": "stderr",
     "output_type": "stream",
     "text": [
      "\u001b[32mrunning MCMC for BayesB... 43%|███████████              |  ETA: 0:00:04\u001b[39m"
     ]
    },
    {
     "name": "stdout",
     "output_type": "stream",
     "text": [
      "\n",
      "Posterior means at iteration: 5000\n",
      "Residual variance: 4.13652\n"
     ]
    },
    {
     "name": "stderr",
     "output_type": "stream",
     "text": [
      "\u001b[32mrunning MCMC for BayesB... 89%|██████████████████████   |  ETA: 0:00:01\u001b[39m"
     ]
    },
    {
     "name": "stdout",
     "output_type": "stream",
     "text": [
      "\n",
      "Posterior means at iteration: 10000\n",
      "Residual variance: 4.153425\n"
     ]
    },
    {
     "name": "stderr",
     "output_type": "stream",
     "text": [
      "\u001b[32mrunning MCMC for BayesB...100%|█████████████████████████| Time: 0:00:07\u001b[39m\n"
     ]
    },
    {
     "name": "stdout",
     "output_type": "stream",
     "text": [
      "1000 markers on 500 individuals were added.\n",
      "\n",
      "The prior for marker effects variance is calculated from the genetic variance and π. The mean of the prior for the marker effects variance is: 0.080081\n",
      "\n",
      "\n"
     ]
    },
    {
     "name": "stderr",
     "output_type": "stream",
     "text": [
      "\u001b[32mrunning MCMC for BayesB... 44%|███████████              |  ETA: 0:00:04\u001b[39m"
     ]
    },
    {
     "name": "stdout",
     "output_type": "stream",
     "text": [
      "\n",
      "Posterior means at iteration: 5000\n",
      "Residual variance: 10.132827\n",
      "π: 0.959\n"
     ]
    },
    {
     "name": "stderr",
     "output_type": "stream",
     "text": [
      "\u001b[32mrunning MCMC for BayesB... 89%|██████████████████████   |  ETA: 0:00:01\u001b[39m"
     ]
    },
    {
     "name": "stdout",
     "output_type": "stream",
     "text": [
      "\n",
      "Posterior means at iteration: 10000\n",
      "Residual variance: 10.142745\n",
      "π: 0.958\n"
     ]
    },
    {
     "name": "stderr",
     "output_type": "stream",
     "text": [
      "\u001b[32mrunning MCMC for BayesB...100%|█████████████████████████| Time: 0:00:06\u001b[39m\n"
     ]
    },
    {
     "name": "stdout",
     "output_type": "stream",
     "text": [
      "1000 markers on 500 individuals were added.\n",
      "\n",
      "The prior for marker effects variance is calculated from the genetic variance and π. The mean of the prior for the marker effects variance is: 0.080081\n",
      "\n",
      "\n"
     ]
    },
    {
     "name": "stderr",
     "output_type": "stream",
     "text": [
      "\u001b[32mrunning MCMC for BayesC... 41%|██████████               |  ETA: 0:00:02\u001b[39m"
     ]
    },
    {
     "name": "stdout",
     "output_type": "stream",
     "text": [
      "\n",
      "Posterior means at iteration: 5000\n",
      "Residual variance: 9.635796\n",
      "Marker effects variance: 0.032352\n",
      "π: 0.858\n"
     ]
    },
    {
     "name": "stderr",
     "output_type": "stream",
     "text": [
      "\u001b[32mrunning MCMC for BayesC... 88%|██████████████████████   |  ETA: 0:00:00\u001b[39m"
     ]
    },
    {
     "name": "stdout",
     "output_type": "stream",
     "text": [
      "\n",
      "Posterior means at iteration: 10000\n",
      "Residual variance: 9.679286\n",
      "Marker effects variance: 0.031061\n",
      "π: 0.865\n"
     ]
    },
    {
     "name": "stderr",
     "output_type": "stream",
     "text": [
      "\u001b[32mrunning MCMC for BayesC...100%|█████████████████████████| Time: 0:00:04\u001b[39m\n"
     ]
    },
    {
     "name": "stdout",
     "output_type": "stream",
     "text": [
      "1000 markers on 500 individuals were added.\n",
      "\n",
      "The prior for marker effects variance is calculated from the genetic variance and π. The mean of the prior for the marker effects variance is: 0.04004\n",
      "\n",
      "\n"
     ]
    },
    {
     "name": "stderr",
     "output_type": "stream",
     "text": [
      "\u001b[32mrunning MCMC for BayesB... 43%|███████████              |  ETA: 0:00:04\u001b[39m"
     ]
    },
    {
     "name": "stdout",
     "output_type": "stream",
     "text": [
      "\n",
      "Posterior means at iteration: 5000\n",
      "Residual variance: 4.439118\n"
     ]
    },
    {
     "name": "stderr",
     "output_type": "stream",
     "text": [
      "\u001b[32mrunning MCMC for BayesB... 89%|██████████████████████   |  ETA: 0:00:01\u001b[39m"
     ]
    },
    {
     "name": "stdout",
     "output_type": "stream",
     "text": [
      "\n",
      "Posterior means at iteration: 10000\n",
      "Residual variance: 4.463582\n"
     ]
    },
    {
     "name": "stderr",
     "output_type": "stream",
     "text": [
      "\u001b[32mrunning MCMC for BayesB...100%|█████████████████████████| Time: 0:00:07\u001b[39m\n"
     ]
    },
    {
     "name": "stdout",
     "output_type": "stream",
     "text": [
      "1000 markers on 500 individuals were added.\n",
      "\n",
      "The prior for marker effects variance is calculated from the genetic variance and π. The mean of the prior for the marker effects variance is: 0.080081\n",
      "\n",
      "\n"
     ]
    },
    {
     "name": "stderr",
     "output_type": "stream",
     "text": [
      "\u001b[32mrunning MCMC for BayesB... 44%|███████████              |  ETA: 0:00:04\u001b[39m"
     ]
    },
    {
     "name": "stdout",
     "output_type": "stream",
     "text": [
      "\n",
      "Posterior means at iteration: 5000\n",
      "Residual variance: 10.127322\n",
      "π: 0.975\n"
     ]
    },
    {
     "name": "stderr",
     "output_type": "stream",
     "text": [
      "\u001b[32mrunning MCMC for BayesB... 89%|██████████████████████   |  ETA: 0:00:01\u001b[39m"
     ]
    },
    {
     "name": "stdout",
     "output_type": "stream",
     "text": [
      "\n",
      "Posterior means at iteration: 10000\n",
      "Residual variance: 10.065865\n",
      "π: 0.972\n"
     ]
    },
    {
     "name": "stderr",
     "output_type": "stream",
     "text": [
      "\u001b[32mrunning MCMC for BayesB...100%|█████████████████████████| Time: 0:00:06\u001b[39m\n"
     ]
    },
    {
     "name": "stdout",
     "output_type": "stream",
     "text": [
      "1000 markers on 500 individuals were added.\n",
      "\n",
      "The prior for marker effects variance is calculated from the genetic variance and π. The mean of the prior for the marker effects variance is: 0.080081\n",
      "\n",
      "\n"
     ]
    },
    {
     "name": "stderr",
     "output_type": "stream",
     "text": [
      "\u001b[32mrunning MCMC for BayesC... 41%|██████████               |  ETA: 0:00:02\u001b[39m"
     ]
    },
    {
     "name": "stdout",
     "output_type": "stream",
     "text": [
      "\n",
      "Posterior means at iteration: 5000\n",
      "Residual variance: 9.84359\n",
      "Marker effects variance: 0.033227\n",
      "π: 0.922\n"
     ]
    },
    {
     "name": "stderr",
     "output_type": "stream",
     "text": [
      "\u001b[32mrunning MCMC for BayesC... 86%|██████████████████████   |  ETA: 0:00:00\u001b[39m"
     ]
    },
    {
     "name": "stdout",
     "output_type": "stream",
     "text": [
      "\n",
      "Posterior means at iteration: 10000\n",
      "Residual variance: 9.926078\n",
      "Marker effects variance: 0.035597\n",
      "π: 0.935\n"
     ]
    },
    {
     "name": "stderr",
     "output_type": "stream",
     "text": [
      "\u001b[32mrunning MCMC for BayesC...100%|█████████████████████████| Time: 0:00:04\u001b[39m\n"
     ]
    },
    {
     "name": "stdout",
     "output_type": "stream",
     "text": [
      "1000 markers on 500 individuals were added.\n",
      "\n",
      "The prior for marker effects variance is calculated from the genetic variance and π. The mean of the prior for the marker effects variance is: 0.04004\n",
      "\n",
      "\n"
     ]
    },
    {
     "name": "stderr",
     "output_type": "stream",
     "text": [
      "\u001b[32mrunning MCMC for BayesB... 43%|███████████              |  ETA: 0:00:04\u001b[39m"
     ]
    },
    {
     "name": "stdout",
     "output_type": "stream",
     "text": [
      "\n",
      "Posterior means at iteration: 5000\n",
      "Residual variance: 3.364568\n"
     ]
    },
    {
     "name": "stderr",
     "output_type": "stream",
     "text": [
      "\u001b[32mrunning MCMC for BayesB... 89%|██████████████████████   |  ETA: 0:00:01\u001b[39m"
     ]
    },
    {
     "name": "stdout",
     "output_type": "stream",
     "text": [
      "\n",
      "Posterior means at iteration: 10000\n",
      "Residual variance: 3.411306\n"
     ]
    },
    {
     "name": "stderr",
     "output_type": "stream",
     "text": [
      "\u001b[32mrunning MCMC for BayesB...100%|█████████████████████████| Time: 0:00:07\u001b[39m\n"
     ]
    },
    {
     "name": "stdout",
     "output_type": "stream",
     "text": [
      "1000 markers on 500 individuals were added.\n",
      "\n",
      "The prior for marker effects variance is calculated from the genetic variance and π. The mean of the prior for the marker effects variance is: 0.080081\n",
      "\n",
      "\n"
     ]
    },
    {
     "name": "stderr",
     "output_type": "stream",
     "text": [
      "\u001b[32mrunning MCMC for BayesB... 42%|███████████              |  ETA: 0:00:04\u001b[39m"
     ]
    },
    {
     "name": "stdout",
     "output_type": "stream",
     "text": [
      "\n",
      "Posterior means at iteration: 5000\n",
      "Residual variance: 9.90758\n",
      "π: 0.941\n"
     ]
    },
    {
     "name": "stderr",
     "output_type": "stream",
     "text": [
      "\u001b[32mrunning MCMC for BayesB... 89%|██████████████████████   |  ETA: 0:00:01\u001b[39m"
     ]
    },
    {
     "name": "stdout",
     "output_type": "stream",
     "text": [
      "\n",
      "Posterior means at iteration: 10000\n",
      "Residual variance: 9.843926\n",
      "π: 0.937\n"
     ]
    },
    {
     "name": "stderr",
     "output_type": "stream",
     "text": [
      "\u001b[32mrunning MCMC for BayesB...100%|█████████████████████████| Time: 0:00:06\u001b[39m\n"
     ]
    },
    {
     "name": "stdout",
     "output_type": "stream",
     "text": [
      "1000 markers on 500 individuals were added.\n",
      "\n",
      "The prior for marker effects variance is calculated from the genetic variance and π. The mean of the prior for the marker effects variance is: 0.080081\n",
      "\n",
      "\n"
     ]
    },
    {
     "name": "stderr",
     "output_type": "stream",
     "text": [
      "\u001b[32mrunning MCMC for BayesC... 41%|██████████               |  ETA: 0:00:02\u001b[39m"
     ]
    },
    {
     "name": "stdout",
     "output_type": "stream",
     "text": [
      "\n",
      "Posterior means at iteration: 5000\n",
      "Residual variance: 9.280476\n",
      "Marker effects variance: 0.026589\n",
      "π: 0.815\n"
     ]
    },
    {
     "name": "stderr",
     "output_type": "stream",
     "text": [
      "\u001b[32mrunning MCMC for BayesC... 86%|██████████████████████   |  ETA: 0:00:01\u001b[39m"
     ]
    },
    {
     "name": "stdout",
     "output_type": "stream",
     "text": [
      "\n",
      "Posterior means at iteration: 10000\n",
      "Residual variance: 9.102524\n",
      "Marker effects variance: 0.025073\n",
      "π: 0.744\n"
     ]
    },
    {
     "name": "stderr",
     "output_type": "stream",
     "text": [
      "\u001b[32mrunning MCMC for BayesC...100%|█████████████████████████| Time: 0:00:04\u001b[39m\n"
     ]
    },
    {
     "name": "stdout",
     "output_type": "stream",
     "text": [
      "1000 markers on 500 individuals were added.\n",
      "\n",
      "The prior for marker effects variance is calculated from the genetic variance and π. The mean of the prior for the marker effects variance is: 0.04004\n",
      "\n",
      "\n"
     ]
    },
    {
     "name": "stderr",
     "output_type": "stream",
     "text": [
      "\u001b[32mrunning MCMC for BayesB... 42%|███████████              |  ETA: 0:00:04\u001b[39m"
     ]
    },
    {
     "name": "stdout",
     "output_type": "stream",
     "text": [
      "\n",
      "Posterior means at iteration: 5000\n",
      "Residual variance: 4.268816\n"
     ]
    },
    {
     "name": "stderr",
     "output_type": "stream",
     "text": [
      "\u001b[32mrunning MCMC for BayesB... 88%|██████████████████████   |  ETA: 0:00:01\u001b[39m"
     ]
    },
    {
     "name": "stdout",
     "output_type": "stream",
     "text": [
      "\n",
      "Posterior means at iteration: 10000\n",
      "Residual variance: 4.272186\n"
     ]
    },
    {
     "name": "stderr",
     "output_type": "stream",
     "text": [
      "\u001b[32mrunning MCMC for BayesB...100%|█████████████████████████| Time: 0:00:06\u001b[39m\n"
     ]
    },
    {
     "name": "stdout",
     "output_type": "stream",
     "text": [
      "1000 markers on 500 individuals were added.\n",
      "\n",
      "The prior for marker effects variance is calculated from the genetic variance and π. The mean of the prior for the marker effects variance is: 0.080081\n",
      "\n",
      "\n"
     ]
    },
    {
     "name": "stderr",
     "output_type": "stream",
     "text": [
      "\u001b[32mrunning MCMC for BayesB... 43%|███████████              |  ETA: 0:00:03\u001b[39m"
     ]
    },
    {
     "name": "stdout",
     "output_type": "stream",
     "text": [
      "\n",
      "Posterior means at iteration: 5000\n",
      "Residual variance: 9.704172\n",
      "π: 0.977\n"
     ]
    },
    {
     "name": "stderr",
     "output_type": "stream",
     "text": [
      "\u001b[32mrunning MCMC for BayesB... 88%|██████████████████████   |  ETA: 0:00:01\u001b[39m"
     ]
    },
    {
     "name": "stdout",
     "output_type": "stream",
     "text": [
      "\n",
      "Posterior means at iteration: 10000\n",
      "Residual variance: 9.673582\n",
      "π: 0.976\n"
     ]
    },
    {
     "name": "stderr",
     "output_type": "stream",
     "text": [
      "\u001b[32mrunning MCMC for BayesB...100%|█████████████████████████| Time: 0:00:06\u001b[39m\n"
     ]
    },
    {
     "name": "stdout",
     "output_type": "stream",
     "text": [
      "1000 markers on 500 individuals were added.\n",
      "\n",
      "The prior for marker effects variance is calculated from the genetic variance and π. The mean of the prior for the marker effects variance is: 0.080081\n",
      "\n",
      "\n"
     ]
    },
    {
     "name": "stderr",
     "output_type": "stream",
     "text": [
      "\u001b[32mrunning MCMC for BayesC... 41%|██████████               |  ETA: 0:00:02\u001b[39m"
     ]
    },
    {
     "name": "stdout",
     "output_type": "stream",
     "text": [
      "\n",
      "Posterior means at iteration: 5000\n",
      "Residual variance: 9.591743\n",
      "Marker effects variance: 0.03608\n",
      "π: 0.949\n"
     ]
    },
    {
     "name": "stderr",
     "output_type": "stream",
     "text": [
      "\u001b[32mrunning MCMC for BayesC... 86%|█████████████████████    |  ETA: 0:00:00\u001b[39m"
     ]
    },
    {
     "name": "stdout",
     "output_type": "stream",
     "text": [
      "\n",
      "Posterior means at iteration: 10000\n",
      "Residual variance: 9.56742\n",
      "Marker effects variance: 0.035557\n",
      "π: 0.942\n"
     ]
    },
    {
     "name": "stderr",
     "output_type": "stream",
     "text": [
      "\u001b[32mrunning MCMC for BayesC...100%|█████████████████████████| Time: 0:00:03\u001b[39m\n"
     ]
    }
   ],
   "source": [
    "n  = 500\n",
    "p  = 1000\n",
    "probNull = 0.95\n",
    "\n",
    "N  = 25\n",
    "Vg = 20\n",
    "Ve = 10\n",
    "\n",
    "Random.seed!(4321)\n",
    "\n",
    "Valpha = Vg/p*2\n",
    "λ = Ve/Valpha\n",
    "X = rand(Binomial(2,0.5), n,p)\n",
    "mme = float(X'X + Identity(p)*λ)\n",
    "mmei = inv(mme)\n",
    "xpxi = inv(X'X)\n",
    "CSV.write(\"genotypes\",DataFrame([string.(1:n) X]), writeheader=false)\n",
    "\n",
    "resSim = [getEstimates(X,mmei,xpxi,probNull,Vg, Ve) for i=1:N]\n",
    "resMat = [row[i] for row in resSim, i=1:6]\n",
    "\n",
    "resMeans = mean(resMat,dims=1)\n",
    "resStd = std(resMat,dims=1)./N;"
   ]
  },
  {
   "cell_type": "code",
   "execution_count": 20,
   "metadata": {
    "scrolled": true
   },
   "outputs": [
    {
     "name": "stdout",
     "output_type": "stream",
     "text": [
      "     True   BayesA BayesB BayesC RR-BLUP  OLS\n",
      "     16.23 129.01  13.46  16.28 106.62 2102067.82\n",
      "+/-   0.08   0.15   0.24   0.27   0.14 46690.09\n"
     ]
    }
   ],
   "source": [
    "println(\"     True   BayesA BayesB BayesC RR-BLUP  OLS\")\n",
    "@printf(\"    %6.2f %6.2f %6.2f %6.2f %6.2f %6.2f\\n\", resMeans[1],resMeans[2],resMeans[3],resMeans[4],resMeans[5],resMeans[6] )\n",
    "@printf(\"+/- %6.2f %6.2f %6.2f %6.2f %6.2f %6.2f\\n\", resStd[1],resStd[2],resStd[3],resStd[4],resStd[5],resStd[6] )"
   ]
  }
 ],
 "metadata": {
  "kernelspec": {
   "display_name": "Julia 1.0.0",
   "language": "julia",
   "name": "julia-1.0"
  },
  "language_info": {
   "file_extension": ".jl",
   "mimetype": "application/julia",
   "name": "julia",
   "version": "1.0.0"
  }
 },
 "nbformat": 4,
 "nbformat_minor": 2
}
