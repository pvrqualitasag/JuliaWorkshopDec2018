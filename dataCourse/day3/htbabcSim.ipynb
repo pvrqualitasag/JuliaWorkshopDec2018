{
 "cells": [
  {
   "cell_type": "markdown",
   "metadata": {},
   "source": [
    "# Simulation Of Marker Data For Hypothesis Testing Using XSim"
   ]
  },
  {
   "cell_type": "markdown",
   "metadata": {},
   "source": [
    "In `hypothesisTestBayesABC` different methods are compared for inferring the difference between the least favorable and the most favorable genotype. For more background and explanaition, please have a look at the notebook directly.\n",
    "\n",
    "The approach taken in here is based on the notebooks about `XSim` used on day2. Based on the content of the notebook `dataSimulation`, we can setup the following strategy."
   ]
  },
  {
   "cell_type": "markdown",
   "metadata": {},
   "source": [
    "## Initialize sampler"
   ]
  },
  {
   "cell_type": "markdown",
   "metadata": {},
   "source": [
    "The last dataset that is used in the comparision of the methods uses $n=500$ animals with $p = 1000$ markers. Hence we are aiming for a population of that size in our simulation."
   ]
  },
  {
   "cell_type": "code",
   "execution_count": 1,
   "metadata": {},
   "outputs": [],
   "source": [
    "using XSim\n",
    "chrLength = 1.0                                     ### # assume chromosome to be of length = 1M \n",
    "numChr    = 1                                       ### # assume 1 chromosome\n",
    "numLoci   = 1000                                    ### # number of loci in the genome\n",
    "mutRate   = 0.0                                     ### # mutation rate\n",
    "locusInt  = chrLength/numLoci                       ### # interval between loci\n",
    "mapPos   = collect(0:locusInt:(chrLength-0.0001))   ### # map-positions of loci on chromosome, evenly-spaced\n",
    "geneFreq = fill(0.5,numLoci)                        ### # gene-frequency, the same for all = .5\n",
    "XSim.build_genome(numChr,chrLength,numLoci,geneFreq,mapPos,mutRate) "
   ]
  },
  {
   "cell_type": "markdown",
   "metadata": {},
   "source": [
    "## Sampling Founders"
   ]
  },
  {
   "cell_type": "markdown",
   "metadata": {},
   "source": [
    "We are fixing the number of founders to be 500. "
   ]
  },
  {
   "cell_type": "code",
   "execution_count": 8,
   "metadata": {},
   "outputs": [
    {
     "name": "stdout",
     "output_type": "stream",
     "text": [
      "Sampling 500 animals into base population.\n",
      "Sampling 500 animals into base population.\n"
     ]
    }
   ],
   "source": [
    "nNrFounder = 500;\n",
    "sires = sampleFounders(nNrFounder);\n",
    "dams  = sampleFounders(nNrFounder);"
   ]
  },
  {
   "cell_type": "markdown",
   "metadata": {},
   "source": [
    "## Random Matings\n",
    "Over a given number of generations, the population is mated randomly."
   ]
  },
  {
   "cell_type": "code",
   "execution_count": 9,
   "metadata": {},
   "outputs": [
    {
     "name": "stdout",
     "output_type": "stream",
     "text": [
      "Generation     2: sampling   250 males and   250 females\n",
      "Generation     3: sampling   250 males and   250 females\n",
      "Generation     4: sampling   250 males and   250 females\n",
      "Generation     5: sampling   250 males and   250 females\n",
      "Generation     6: sampling   250 males and   250 females\n",
      "Generation     7: sampling   250 males and   250 females\n",
      "Generation     8: sampling   250 males and   250 females\n",
      "Generation     9: sampling   250 males and   250 females\n",
      "Generation    10: sampling   250 males and   250 females\n",
      "Generation    11: sampling   250 males and   250 females\n",
      "Generation    12: sampling   250 males and   250 females\n",
      "Generation    13: sampling   250 males and   250 females\n",
      "Generation    14: sampling   250 males and   250 females\n",
      "Generation    15: sampling   250 males and   250 females\n",
      "Generation    16: sampling   250 males and   250 females\n",
      "Generation    17: sampling   250 males and   250 females\n",
      "Generation    18: sampling   250 males and   250 females\n",
      "Generation    19: sampling   250 males and   250 females\n",
      "Generation    20: sampling   250 males and   250 females\n",
      "Generation    21: sampling   250 males and   250 females\n"
     ]
    }
   ],
   "source": [
    "ngen,popSize = 20,500\n",
    "sires1,dams1,gen1 = sampleRan(popSize, ngen, sires, dams);"
   ]
  },
  {
   "cell_type": "markdown",
   "metadata": {},
   "source": [
    "## Get Genotypes\n",
    "To get all genotypes, we start by combining the cohorts of males and females together into a single one."
   ]
  },
  {
   "cell_type": "code",
   "execution_count": 10,
   "metadata": {},
   "outputs": [
    {
     "data": {
      "text/plain": [
       "500×1000 Array{Int64,2}:\n",
       " 0  1  0  1  2  2  2  1  1  1  0  1  1  …  2  2  0  2  0  2  2  0  0  2  2  0\n",
       " 2  2  0  0  2  2  0  0  2  2  2  0  0     2  2  1  0  1  2  1  0  0  2  0  1\n",
       " 1  1  1  1  1  1  0  1  2  0  1  0  2     1  1  1  2  1  1  0  1  2  1  2  0\n",
       " 1  1  1  1  1  1  2  2  1  1  0  0  0     0  1  2  0  2  1  1  2  2  0  2  0\n",
       " 0  1  0  2  2  2  2  2  2  1  0  1  0     0  2  2  1  0  1  0  1  0  2  1  1\n",
       " 2  1  1  1  2  1  1  2  0  2  1  1  0  …  2  1  1  2  1  1  1  1  1  1  0  1\n",
       " 1  1  0  1  0  2  1  1  1  1  2  1  1     1  0  1  2  0  2  1  2  1  1  2  1\n",
       " 0  2  0  1  1  0  0  2  1  1  2  1  1     2  1  1  2  1  0  2  1  1  2  1  1\n",
       " 0  2  1  2  1  0  1  1  1  1  2  1  1     0  1  1  0  2  1  2  2  2  1  1  1\n",
       " 1  1  1  2  0  1  0  1  1  0  2  0  0     2  1  1  1  0  2  1  2  2  2  2  1\n",
       " 1  1  0  1  2  1  2  2  1  1  0  0  1  …  2  2  0  1  1  2  2  0  2  0  2  0\n",
       " 0  0  0  1  2  1  0  1  0  1  0  2  0     1  1  2  0  1  1  1  1  1  2  2  0\n",
       " 2  1  1  1  0  0  1  1  1  1  1  0  1     0  1  1  0  1  2  1  2  1  0  1  1\n",
       " ⋮              ⋮              ⋮        ⋱        ⋮              ⋮            \n",
       " 0  1  2  0  0  0  0  1  1  2  0  1  1     1  2  1  1  1  2  0  2  0  2  1  0\n",
       " 1  1  1  0  2  1  1  1  1  1  1  0  1     1  2  1  0  2  1  0  2  1  1  0  0\n",
       " 2  1  1  1  0  1  0  2  1  0  1  0  2  …  1  2  1  1  2  2  0  0  1  0  1  2\n",
       " 2  1  2  1  1  2  0  1  0  1  1  1  1     1  1  2  0  2  0  0  2  2  0  1  1\n",
       " 1  1  1  2  1  1  0  1  1  2  2  1  0     0  1  1  0  1  1  1  2  2  0  2  1\n",
       " 1  1  0  2  1  2  1  1  1  0  2  0  1     1  1  1  1  1  1  1  1  0  1  0  0\n",
       " 1  1  1  0  2  1  1  1  2  2  0  0  0     0  1  1  1  1  1  1  0  0  1  0  0\n",
       " 1  1  1  1  1  1  1  1  1  0  1  0  2  …  0  2  1  1  2  2  2  1  2  1  0  2\n",
       " 2  0  0  1  2  0  0  1  2  1  1  1  0     1  1  2  0  2  1  1  1  2  0  0  2\n",
       " 0  0  1  0  1  2  0  2  0  0  2  1  1     1  1  0  0  2  1  1  0  1  1  1  0\n",
       " 0  2  1  2  1  2  1  1  1  1  2  1  2     2  2  1  1  1  0  0  1  2  2  2  1\n",
       " 1  1  0  2  1  0  0  2  2  1  1  0  0     1  0  1  2  1  0  1  2  2  1  2  2"
      ]
     },
     "execution_count": 10,
     "metadata": {},
     "output_type": "execute_result"
    }
   ],
   "source": [
    "animals = concatCohorts(sires1,dams1)\n",
    "M = getOurGenotypes(animals)"
   ]
  },
  {
   "cell_type": "markdown",
   "metadata": {},
   "source": [
    "## Gene Frequencies"
   ]
  },
  {
   "cell_type": "code",
   "execution_count": 12,
   "metadata": {},
   "outputs": [
    {
     "data": {
      "text/plain": [
       "1×1000 Array{Float64,2}:\n",
       " 0.479  0.517  0.326  0.549  0.556  …  0.508  0.564  0.493  0.555  0.466"
      ]
     },
     "execution_count": 12,
     "metadata": {},
     "output_type": "execute_result"
    }
   ],
   "source": [
    "using Statistics\n",
    "freq=Statistics.mean(M,dims=1)/2"
   ]
  },
  {
   "cell_type": "markdown",
   "metadata": {},
   "source": [
    "Getting correlations and LD"
   ]
  },
  {
   "cell_type": "code",
   "execution_count": 13,
   "metadata": {},
   "outputs": [
    {
     "data": {
      "text/plain": [
       "500×1000 Array{Float64,2}:\n",
       " 0.0  1.0  0.0  1.0  2.0  2.0  2.0  1.0  …  2.0  2.0  0.0  0.0  2.0  2.0  0.0\n",
       " 2.0  2.0  0.0  0.0  2.0  2.0  0.0  0.0     2.0  1.0  0.0  0.0  2.0  0.0  1.0\n",
       " 1.0  1.0  1.0  1.0  1.0  1.0  0.0  1.0     1.0  0.0  1.0  2.0  1.0  2.0  0.0\n",
       " 1.0  1.0  1.0  1.0  1.0  1.0  2.0  2.0     1.0  1.0  2.0  2.0  0.0  2.0  0.0\n",
       " 0.0  1.0  0.0  2.0  2.0  2.0  2.0  2.0     1.0  0.0  1.0  0.0  2.0  1.0  1.0\n",
       " 2.0  1.0  1.0  1.0  2.0  1.0  1.0  2.0  …  1.0  1.0  1.0  1.0  1.0  0.0  1.0\n",
       " 1.0  1.0  0.0  1.0  0.0  2.0  1.0  1.0     2.0  1.0  2.0  1.0  1.0  2.0  1.0\n",
       " 0.0  2.0  0.0  1.0  1.0  0.0  0.0  2.0     0.0  2.0  1.0  1.0  2.0  1.0  1.0\n",
       " 0.0  2.0  1.0  2.0  1.0  0.0  1.0  1.0     1.0  2.0  2.0  2.0  1.0  1.0  1.0\n",
       " 1.0  1.0  1.0  2.0  0.0  1.0  0.0  1.0     2.0  1.0  2.0  2.0  2.0  2.0  1.0\n",
       " 1.0  1.0  0.0  1.0  2.0  1.0  2.0  2.0  …  2.0  2.0  0.0  2.0  0.0  2.0  0.0\n",
       " 0.0  0.0  0.0  1.0  2.0  1.0  0.0  1.0     1.0  1.0  1.0  1.0  2.0  2.0  0.0\n",
       " 2.0  1.0  1.0  1.0  0.0  0.0  1.0  1.0     2.0  1.0  2.0  1.0  0.0  1.0  1.0\n",
       " ⋮                        ⋮              ⋱            ⋮                      \n",
       " 0.0  1.0  2.0  0.0  0.0  0.0  0.0  1.0     2.0  0.0  2.0  0.0  2.0  1.0  0.0\n",
       " 1.0  1.0  1.0  0.0  2.0  1.0  1.0  1.0     1.0  0.0  2.0  1.0  1.0  0.0  0.0\n",
       " 2.0  1.0  1.0  1.0  0.0  1.0  0.0  2.0  …  2.0  0.0  0.0  1.0  0.0  1.0  2.0\n",
       " 2.0  1.0  2.0  1.0  1.0  2.0  0.0  1.0     0.0  0.0  2.0  2.0  0.0  1.0  1.0\n",
       " 1.0  1.0  1.0  2.0  1.0  1.0  0.0  1.0     1.0  1.0  2.0  2.0  0.0  2.0  1.0\n",
       " 1.0  1.0  0.0  2.0  1.0  2.0  1.0  1.0     1.0  1.0  1.0  0.0  1.0  0.0  0.0\n",
       " 1.0  1.0  1.0  0.0  2.0  1.0  1.0  1.0     1.0  1.0  0.0  0.0  1.0  0.0  0.0\n",
       " 1.0  1.0  1.0  1.0  1.0  1.0  1.0  1.0  …  2.0  2.0  1.0  2.0  1.0  0.0  2.0\n",
       " 2.0  0.0  0.0  1.0  2.0  0.0  0.0  1.0     1.0  1.0  1.0  2.0  0.0  0.0  2.0\n",
       " 0.0  0.0  1.0  0.0  1.0  2.0  0.0  2.0     1.0  1.0  0.0  1.0  1.0  1.0  0.0\n",
       " 0.0  2.0  1.0  2.0  1.0  2.0  1.0  1.0     0.0  0.0  1.0  2.0  2.0  2.0  1.0\n",
       " 1.0  1.0  0.0  2.0  1.0  0.0  0.0  2.0     0.0  1.0  2.0  2.0  1.0  2.0  2.0"
      ]
     },
     "execution_count": 13,
     "metadata": {},
     "output_type": "execute_result"
    }
   ],
   "source": [
    "M = float(M)"
   ]
  },
  {
   "cell_type": "code",
   "execution_count": 14,
   "metadata": {},
   "outputs": [
    {
     "data": {
      "text/plain": [
       "1000×1000 Array{Float64,2}:\n",
       "  1.0          -0.0717905    0.0820936    …   0.0465538    0.073344  \n",
       " -0.0717905     1.0          0.182229        -0.00755517  -0.0354066 \n",
       "  0.0820936     0.182229     1.0             -0.0551715    0.0219699 \n",
       " -0.164574      0.042311    -0.0649889        0.0655094   -0.0377836 \n",
       " -0.00615178    0.0761537   -0.315534         0.0608489   -0.0806681 \n",
       " -0.167526      0.0211645   -0.113425     …  -0.0398169    0.0752997 \n",
       " -0.231685     -0.145405    -0.0350174        0.028283    -0.00389995\n",
       " -0.0446621    -0.324354    -0.296228         0.145731     0.012219  \n",
       "  0.229736      0.00786328   0.0113362       -0.0159151   -0.0502303 \n",
       " -0.177658     -0.140454    -0.0555866       -0.0681038   -0.0942289 \n",
       " -0.111436      0.101058    -0.0978386    …  -0.0119036   -0.021501  \n",
       "  0.14857       0.0172316    0.0908203        0.0380715   -0.0534654 \n",
       "  0.109331     -0.0299815   -0.116013         0.087588    -0.0265401 \n",
       "  ⋮                                       ⋱                          \n",
       " -0.00813927   -0.012868    -0.0934165        0.113982    -0.0552414 \n",
       " -0.000247369   0.0599896    0.0671622       -0.0581257    0.0284202 \n",
       "  0.0231494    -0.0938529    0.0120346    …   0.0408778   -0.056003  \n",
       "  0.000715961  -0.0523163   -0.0319468        0.0331555   -0.0178833 \n",
       " -0.0368885    -0.00817313   0.0233726       -0.277892     0.0194648 \n",
       "  0.0261058     0.0566523    0.0348454        0.0941792    0.167022  \n",
       "  0.0890717     0.0381021   -0.000756894      0.129989     0.193998  \n",
       " -0.00654038   -0.00114215   0.110509     …   0.0813827   -0.0579408 \n",
       " -0.0012163    -0.0340512   -0.0562889        0.405032     0.148486  \n",
       " -0.103126     -0.0660432   -0.0686789       -0.0695426    0.0260923 \n",
       "  0.0465538    -0.00755517  -0.0551715        1.0         -0.0472797 \n",
       "  0.073344     -0.0354066    0.0219699       -0.0472797    1.0       "
      ]
     },
     "execution_count": 14,
     "metadata": {},
     "output_type": "execute_result"
    }
   ],
   "source": [
    "corMat = cor(M)"
   ]
  },
  {
   "cell_type": "code",
   "execution_count": 17,
   "metadata": {},
   "outputs": [],
   "source": [
    "LDMat = zeros(800,200)\n",
    "for i = 1:800\n",
    "    LDMat[i,:] = corMat[i,(i+1):(i+200)].^2\n",
    "end"
   ]
  },
  {
   "cell_type": "code",
   "execution_count": 18,
   "metadata": {},
   "outputs": [
    {
     "data": {
      "text/plain": [
       "1×200 Array{Float64,2}:\n",
       " 0.0216882  0.0201184  0.0218095  …  0.00476824  0.00484815  0.00441463"
      ]
     },
     "execution_count": 18,
     "metadata": {},
     "output_type": "execute_result"
    }
   ],
   "source": [
    "y = Statistics.mean(LDMat,dims=1)"
   ]
  },
  {
   "cell_type": "code",
   "execution_count": null,
   "metadata": {},
   "outputs": [],
   "source": []
  }
 ],
 "metadata": {
  "kernelspec": {
   "display_name": "Julia 1.0.0",
   "language": "julia",
   "name": "julia-1.0"
  },
  "language_info": {
   "file_extension": ".jl",
   "mimetype": "application/julia",
   "name": "julia",
   "version": "1.0.0"
  }
 },
 "nbformat": 4,
 "nbformat_minor": 2
}
