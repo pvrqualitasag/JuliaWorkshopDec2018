{
 "cells": [
  {
   "cell_type": "markdown",
   "metadata": {},
   "source": [
    "## This is a place for you to try things"
   ]
  },
  {
   "cell_type": "code",
   "execution_count": 8,
   "metadata": {},
   "outputs": [
    {
     "data": {
      "text/plain": [
       "\"Peter von Rohr\""
      ]
     },
     "execution_count": 8,
     "metadata": {},
     "output_type": "execute_result"
    }
   ],
   "source": [
    "#=let us first try go into edit mode, change the name to your name, switch to cmd mode \n",
    "and run this cell =#\n",
    "myName = \"Peter von Rohr\""
   ]
  },
  {
   "cell_type": "code",
   "execution_count": 9,
   "metadata": {},
   "outputs": [
    {
     "name": "stdout",
     "output_type": "stream",
     "text": [
      "My name is Peter von Rohr\n"
     ]
    }
   ],
   "source": [
    "println(\"My name is $myName\")"
   ]
  },
  {
   "cell_type": "markdown",
   "metadata": {},
   "source": [
    "## change this cell to markdown"
   ]
  },
  {
   "cell_type": "code",
   "execution_count": null,
   "metadata": {},
   "outputs": [],
   "source": [
    "# ops this is a duplicate cell, delete it\n",
    "change this cell to markdown\n"
   ]
  },
  {
   "cell_type": "code",
   "execution_count": null,
   "metadata": {},
   "outputs": [],
   "source": [
    "#now add a new cell above and below and delete them again"
   ]
  },
  {
   "cell_type": "code",
   "execution_count": 11,
   "metadata": {},
   "outputs": [
    {
     "name": "stdout",
     "output_type": "stream",
     "text": [
      "search: \u001b[0m\u001b[1mp\u001b[22m\u001b[0m\u001b[1mr\u001b[22m\u001b[0m\u001b[1mi\u001b[22m\u001b[0m\u001b[1mn\u001b[22m\u001b[0m\u001b[1mt\u001b[22m\u001b[0m\u001b[1ml\u001b[22m\u001b[0m\u001b[1mn\u001b[22m \u001b[0m\u001b[1mp\u001b[22m\u001b[0m\u001b[1mr\u001b[22m\u001b[0m\u001b[1mi\u001b[22m\u001b[0m\u001b[1mn\u001b[22m\u001b[0m\u001b[1mt\u001b[22msty\u001b[0m\u001b[1ml\u001b[22med \u001b[0m\u001b[1mp\u001b[22m\u001b[0m\u001b[1mr\u001b[22m\u001b[0m\u001b[1mi\u001b[22m\u001b[0m\u001b[1mn\u001b[22m\u001b[0m\u001b[1mt\u001b[22m s\u001b[0m\u001b[1mp\u001b[22m\u001b[0m\u001b[1mr\u001b[22m\u001b[0m\u001b[1mi\u001b[22m\u001b[0m\u001b[1mn\u001b[22m\u001b[0m\u001b[1mt\u001b[22m is\u001b[0m\u001b[1mp\u001b[22m\u001b[0m\u001b[1mr\u001b[22m\u001b[0m\u001b[1mi\u001b[22m\u001b[0m\u001b[1mn\u001b[22m\u001b[0m\u001b[1mt\u001b[22m\n",
      "\n"
     ]
    },
    {
     "data": {
      "text/latex": [
       "\\begin{verbatim}\n",
       "println([io::IO], xs...)\n",
       "\\end{verbatim}\n",
       "Print (using \\href{@ref}{\\texttt{print}}) \\texttt{xs} followed by a newline. If \\texttt{io} is not supplied, prints to \\href{@ref}{\\texttt{stdout}}.\n",
       "\n",
       "\\section{Examples}\n",
       "\\begin{verbatim}\n",
       "julia> println(\"Hello, world\")\n",
       "Hello, world\n",
       "\n",
       "julia> io = IOBuffer();\n",
       "\n",
       "julia> println(io, \"Hello, world\")\n",
       "\n",
       "julia> String(take!(io))\n",
       "\"Hello, world\\n\"\n",
       "\\end{verbatim}\n"
      ],
      "text/markdown": [
       "```\n",
       "println([io::IO], xs...)\n",
       "```\n",
       "\n",
       "Print (using [`print`](@ref)) `xs` followed by a newline. If `io` is not supplied, prints to [`stdout`](@ref).\n",
       "\n",
       "# Examples\n",
       "\n",
       "```jldoctest\n",
       "julia> println(\"Hello, world\")\n",
       "Hello, world\n",
       "\n",
       "julia> io = IOBuffer();\n",
       "\n",
       "julia> println(io, \"Hello, world\")\n",
       "\n",
       "julia> String(take!(io))\n",
       "\"Hello, world\\n\"\n",
       "```\n"
      ],
      "text/plain": [
       "\u001b[36m  println([io::IO], xs...)\u001b[39m\n",
       "\n",
       "  Print (using \u001b[36mprint\u001b[39m) \u001b[36mxs\u001b[39m followed by a newline. If \u001b[36mio\u001b[39m is not supplied, prints\n",
       "  to \u001b[36mstdout\u001b[39m.\n",
       "\n",
       "\u001b[1m  Examples\u001b[22m\n",
       "\u001b[1m  ≡≡≡≡≡≡≡≡≡≡\u001b[22m\n",
       "\n",
       "\u001b[36m  julia> println(\"Hello, world\")\u001b[39m\n",
       "\u001b[36m  Hello, world\u001b[39m\n",
       "\u001b[36m  \u001b[39m\n",
       "\u001b[36m  julia> io = IOBuffer();\u001b[39m\n",
       "\u001b[36m  \u001b[39m\n",
       "\u001b[36m  julia> println(io, \"Hello, world\")\u001b[39m\n",
       "\u001b[36m  \u001b[39m\n",
       "\u001b[36m  julia> String(take!(io))\u001b[39m\n",
       "\u001b[36m  \"Hello, world\\n\"\u001b[39m"
      ]
     },
     "execution_count": 11,
     "metadata": {},
     "output_type": "execute_result"
    }
   ],
   "source": [
    "?println"
   ]
  },
  {
   "cell_type": "code",
   "execution_count": 13,
   "metadata": {},
   "outputs": [
    {
     "data": {
      "text/plain": [
       "4.537515274494153"
      ]
     },
     "execution_count": 13,
     "metadata": {},
     "output_type": "execute_result"
    }
   ],
   "source": [
    "sum(rand(10))"
   ]
  },
  {
   "cell_type": "code",
   "execution_count": null,
   "metadata": {},
   "outputs": [],
   "source": [
    "# try to toggle the output of the cell above"
   ]
  },
  {
   "cell_type": "code",
   "execution_count": 9,
   "metadata": {},
   "outputs": [
    {
     "name": "stdout",
     "output_type": "stream",
     "text": [
      "search: \u001b[0m\u001b[1mw\u001b[22m\u001b[0m\u001b[1mr\u001b[22m\u001b[0m\u001b[1mi\u001b[22m\u001b[0m\u001b[1mt\u001b[22m\u001b[0m\u001b[1me\u001b[22m\u001b[0m\u001b[1mt\u001b[22m\u001b[0m\u001b[1ma\u001b[22m\u001b[0m\u001b[1mb\u001b[22m\u001b[0m\u001b[1ml\u001b[22m\u001b[0m\u001b[1me\u001b[22m\n",
      "\n"
     ]
    },
    {
     "data": {
      "text/latex": [
       "Write data to a tabular-file format (CSV, TSV, ...)\n",
       "\n",
       "\\begin{verbatim}\n",
       "writetable(filename, df, [keyword options])\n",
       "\\end{verbatim}\n",
       "\\subsubsection{Arguments}\n",
       "\\begin{itemize}\n",
       "\\item \\texttt{filename::AbstractString} : the filename to be created\n",
       "\n",
       "\n",
       "\\item \\texttt{df::AbstractDataFrame} : the AbstractDataFrame to be written\n",
       "\n",
       "\\end{itemize}\n",
       "\\subsubsection{Keyword Arguments}\n",
       "\\begin{itemize}\n",
       "\\item \\texttt{separator::Char} – The separator character that you would like to use. Defaults to the output of \\texttt{getseparator(filename)}, which uses commas for files that end in \\texttt{.csv}, tabs for files that end in \\texttt{.tsv} and a single space for files that end in \\texttt{.wsv}.\n",
       "\n",
       "\n",
       "\\item \\texttt{quotemark::Char} – The character used to delimit string fields. Defaults to \\texttt{'\"'}.\n",
       "\n",
       "\n",
       "\\item \\texttt{header::Bool} – Should the file contain a header that specifies the column names from \\texttt{df}. Defaults to \\texttt{true}.\n",
       "\n",
       "\n",
       "\\item \\texttt{nastring::AbstractString} – What to write in place of missing data. Defaults to \\texttt{\"NA\"}.\n",
       "\n",
       "\\end{itemize}\n",
       "\\subsubsection{Result}\n",
       "\\begin{itemize}\n",
       "\\item \\texttt{::DataFrame}\n",
       "\n",
       "\\end{itemize}\n",
       "\\subsubsection{Examples}\n",
       "\\begin{verbatim}\n",
       "df = DataFrame(A = 1:10)\n",
       "writetable(\"output.csv\", df)\n",
       "writetable(\"output.dat\", df, separator = ',', header = false)\n",
       "writetable(\"output.dat\", df, quotemark = ''', separator = ',')\n",
       "writetable(\"output.dat\", df, header = false)\n",
       "\\end{verbatim}\n"
      ],
      "text/markdown": [
       "Write data to a tabular-file format (CSV, TSV, ...)\n",
       "\n",
       "```julia\n",
       "writetable(filename, df, [keyword options])\n",
       "```\n",
       "\n",
       "### Arguments\n",
       "\n",
       "  * `filename::AbstractString` : the filename to be created\n",
       "  * `df::AbstractDataFrame` : the AbstractDataFrame to be written\n",
       "\n",
       "### Keyword Arguments\n",
       "\n",
       "  * `separator::Char` – The separator character that you would like to use. Defaults to the output of `getseparator(filename)`, which uses commas for files that end in `.csv`, tabs for files that end in `.tsv` and a single space for files that end in `.wsv`.\n",
       "  * `quotemark::Char` – The character used to delimit string fields. Defaults to `'\"'`.\n",
       "  * `header::Bool` – Should the file contain a header that specifies the column names from `df`. Defaults to `true`.\n",
       "  * `nastring::AbstractString` – What to write in place of missing data. Defaults to `\"NA\"`.\n",
       "\n",
       "### Result\n",
       "\n",
       "  * `::DataFrame`\n",
       "\n",
       "### Examples\n",
       "\n",
       "```julia\n",
       "df = DataFrame(A = 1:10)\n",
       "writetable(\"output.csv\", df)\n",
       "writetable(\"output.dat\", df, separator = ',', header = false)\n",
       "writetable(\"output.dat\", df, quotemark = ''', separator = ',')\n",
       "writetable(\"output.dat\", df, header = false)\n",
       "```\n"
      ],
      "text/plain": [
       "  Write data to a tabular-file format (CSV, TSV, ...)\n",
       "\n",
       "\u001b[36m  writetable(filename, df, [keyword options])\u001b[39m\n",
       "\n",
       "\u001b[1m  Arguments\u001b[22m\n",
       "\u001b[1m  –––––––––––\u001b[22m\n",
       "\n",
       "    •    \u001b[36mfilename::AbstractString\u001b[39m : the filename to be created\n",
       "\n",
       "    •    \u001b[36mdf::AbstractDataFrame\u001b[39m : the AbstractDataFrame to be written\n",
       "\n",
       "\u001b[1m  Keyword Arguments\u001b[22m\n",
       "\u001b[1m  –––––––––––––––––––\u001b[22m\n",
       "\n",
       "    •    \u001b[36mseparator::Char\u001b[39m – The separator character that you would like to\n",
       "        use. Defaults to the output of \u001b[36mgetseparator(filename)\u001b[39m, which uses\n",
       "        commas for files that end in \u001b[36m.csv\u001b[39m, tabs for files that end in \u001b[36m.tsv\u001b[39m\n",
       "        and a single space for files that end in \u001b[36m.wsv\u001b[39m.\n",
       "\n",
       "    •    \u001b[36mquotemark::Char\u001b[39m – The character used to delimit string fields.\n",
       "        Defaults to \u001b[36m'\"'\u001b[39m.\n",
       "\n",
       "    •    \u001b[36mheader::Bool\u001b[39m – Should the file contain a header that specifies the\n",
       "        column names from \u001b[36mdf\u001b[39m. Defaults to \u001b[36mtrue\u001b[39m.\n",
       "\n",
       "    •    \u001b[36mnastring::AbstractString\u001b[39m – What to write in place of missing data.\n",
       "        Defaults to \u001b[36m\"NA\"\u001b[39m.\n",
       "\n",
       "\u001b[1m  Result\u001b[22m\n",
       "\u001b[1m  ––––––––\u001b[22m\n",
       "\n",
       "    •    \u001b[36m::DataFrame\u001b[39m\n",
       "\n",
       "\u001b[1m  Examples\u001b[22m\n",
       "\u001b[1m  ––––––––––\u001b[22m\n",
       "\n",
       "\u001b[36m  df = DataFrame(A = 1:10)\u001b[39m\n",
       "\u001b[36m  writetable(\"output.csv\", df)\u001b[39m\n",
       "\u001b[36m  writetable(\"output.dat\", df, separator = ',', header = false)\u001b[39m\n",
       "\u001b[36m  writetable(\"output.dat\", df, quotemark = ''', separator = ',')\u001b[39m\n",
       "\u001b[36m  writetable(\"output.dat\", df, header = false)\u001b[39m"
      ]
     },
     "execution_count": 9,
     "metadata": {},
     "output_type": "execute_result"
    }
   ],
   "source": [
    "?writetable"
   ]
  },
  {
   "cell_type": "markdown",
   "metadata": {},
   "source": [
    "## Further material\n",
    "This is a short paragraph in an existing notebook that extends the given Material in trying to explain the above content. We also want to test a few markdown features. A ordinary list should be given with \n",
    "\n",
    "* Item \n",
    "* One more item\n",
    "* last item\n",
    "\n",
    "There is also the possibility to use numbered lists. \n",
    "\n",
    "1. first item\n",
    "2. second item\n",
    "3. third item \n",
    "\n"
   ]
  },
  {
   "cell_type": "code",
   "execution_count": null,
   "metadata": {},
   "outputs": [],
   "source": []
  }
 ],
 "metadata": {
  "@webio": {
   "lastCommId": "a0bed7a994704ca68b6d3a1e0fbeca1c",
   "lastKernelId": "64ea0e91-7a97-4dc1-a60f-c760e8c48ec5"
  },
  "kernelspec": {
   "display_name": "Julia 1.0.0",
   "language": "julia",
   "name": "julia-1.0"
  },
  "language_info": {
   "file_extension": ".jl",
   "mimetype": "application/julia",
   "name": "julia",
   "version": "1.0.0"
  }
 },
 "nbformat": 4,
 "nbformat_minor": 2
}
